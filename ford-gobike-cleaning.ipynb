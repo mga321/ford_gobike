{
 "cells": [
  {
   "cell_type": "markdown",
   "metadata": {},
   "source": [
    "# Ford GoBike Cleaning"
   ]
  },
  {
   "cell_type": "markdown",
   "metadata": {},
   "source": [
    "## Import Requirements:"
   ]
  },
  {
   "cell_type": "code",
   "execution_count": 1,
   "metadata": {},
   "outputs": [],
   "source": [
    "import numpy as np\n",
    "import pandas as pd\n",
    "import os\n",
    "import glob"
   ]
  },
  {
   "cell_type": "markdown",
   "metadata": {},
   "source": [
    "## Gather:"
   ]
  },
  {
   "cell_type": "code",
   "execution_count": 2,
   "metadata": {},
   "outputs": [
    {
     "name": "stdout",
     "output_type": "stream",
     "text": [
      "/Users/mattames/Desktop/ford_gobike\r\n"
     ]
    }
   ],
   "source": [
    "!pwd"
   ]
  },
  {
   "cell_type": "code",
   "execution_count": 3,
   "metadata": {
    "scrolled": false
   },
   "outputs": [
    {
     "data": {
      "text/plain": [
       "['201802-fordgobike-tripdata.csv',\n",
       " '201811-fordgobike-tripdata.csv',\n",
       " '201904-fordgobike-tripdata.csv',\n",
       " '201809-fordgobike-tripdata.csv',\n",
       " '.DS_Store',\n",
       " '2017-fordgobike-tripdata.csv',\n",
       " '201806-fordgobike-tripdata.csv',\n",
       " 'cleaned_datasets',\n",
       " '201903-fordgobike-tripdata.csv',\n",
       " '201805-fordgobike-tripdata.csv',\n",
       " '201812-fordgobike-tripdata.csv',\n",
       " '201801-fordgobike-tripdata.csv',\n",
       " '201905-baywheels-tripdata.csv',\n",
       " '201901-fordgobike-tripdata.csv',\n",
       " '201807-fordgobike-tripdata.csv',\n",
       " '201808-fordgobike-tripdata.csv',\n",
       " '201810-fordgobike-tripdata.csv',\n",
       " '201803-fordgobike-tripdata.csv',\n",
       " '201804-fordgobike-tripdata.csv',\n",
       " '201902-fordgobike-tripdata.csv']"
      ]
     },
     "execution_count": 3,
     "metadata": {},
     "output_type": "execute_result"
    }
   ],
   "source": [
    "# Confirm all files are in the correct directory\n",
    "# Absolute file path /Users/mattames/Desktop/ford_gobike/all_bikeshare_datasets\n",
    "os.listdir('all_bikeshare_datasets')"
   ]
  },
  {
   "cell_type": "code",
   "execution_count": 4,
   "metadata": {},
   "outputs": [
    {
     "name": "stderr",
     "output_type": "stream",
     "text": [
      "/Users/mattames/anaconda3/lib/python3.7/site-packages/ipykernel_launcher.py:12: FutureWarning: Sorting because non-concatenation axis is not aligned. A future version\n",
      "of pandas will change to not sort by default.\n",
      "\n",
      "To accept the future behavior, pass 'sort=False'.\n",
      "\n",
      "To retain the current behavior and silence the warning, pass 'sort=True'.\n",
      "\n",
      "  if sys.path[0] == '':\n"
     ]
    }
   ],
   "source": [
    "# Read and merge all datasets into one master dataset\n",
    "# Absolute file path /Users/mattames/Desktop/ford_gobike/all_bikeshare_datasets\n",
    "path = 'all_bikeshare_datasets'\n",
    "all_files = glob.glob(path + \"/*.csv\")\n",
    "\n",
    "li = []\n",
    "\n",
    "for filename in all_files:\n",
    "    df = pd.read_csv(filename, index_col=None, header=0)\n",
    "    li.append(df)\n",
    "\n",
    "df = pd.concat(li, axis=0, ignore_index=True)"
   ]
  },
  {
   "cell_type": "code",
   "execution_count": 5,
   "metadata": {},
   "outputs": [
    {
     "data": {
      "text/html": [
       "<div>\n",
       "<style scoped>\n",
       "    .dataframe tbody tr th:only-of-type {\n",
       "        vertical-align: middle;\n",
       "    }\n",
       "\n",
       "    .dataframe tbody tr th {\n",
       "        vertical-align: top;\n",
       "    }\n",
       "\n",
       "    .dataframe thead th {\n",
       "        text-align: right;\n",
       "    }\n",
       "</style>\n",
       "<table border=\"1\" class=\"dataframe\">\n",
       "  <thead>\n",
       "    <tr style=\"text-align: right;\">\n",
       "      <th></th>\n",
       "      <th>bike_id</th>\n",
       "      <th>bike_share_for_all_trip</th>\n",
       "      <th>duration_sec</th>\n",
       "      <th>end_station_id</th>\n",
       "      <th>end_station_latitude</th>\n",
       "      <th>end_station_longitude</th>\n",
       "      <th>end_station_name</th>\n",
       "      <th>end_time</th>\n",
       "      <th>member_birth_year</th>\n",
       "      <th>member_gender</th>\n",
       "      <th>start_station_id</th>\n",
       "      <th>start_station_latitude</th>\n",
       "      <th>start_station_longitude</th>\n",
       "      <th>start_station_name</th>\n",
       "      <th>start_time</th>\n",
       "      <th>user_type</th>\n",
       "    </tr>\n",
       "  </thead>\n",
       "  <tbody>\n",
       "    <tr>\n",
       "      <th>0</th>\n",
       "      <td>1035</td>\n",
       "      <td>No</td>\n",
       "      <td>598</td>\n",
       "      <td>114.0</td>\n",
       "      <td>37.764478</td>\n",
       "      <td>-122.402570</td>\n",
       "      <td>Rhode Island St at 17th St</td>\n",
       "      <td>2018-03-01 00:09:45.1870</td>\n",
       "      <td>1988.0</td>\n",
       "      <td>Male</td>\n",
       "      <td>284.0</td>\n",
       "      <td>37.784872</td>\n",
       "      <td>-122.400876</td>\n",
       "      <td>Yerba Buena Center for the Arts (Howard St at ...</td>\n",
       "      <td>2018-02-28 23:59:47.0970</td>\n",
       "      <td>Subscriber</td>\n",
       "    </tr>\n",
       "    <tr>\n",
       "      <th>1</th>\n",
       "      <td>1673</td>\n",
       "      <td>No</td>\n",
       "      <td>943</td>\n",
       "      <td>324.0</td>\n",
       "      <td>37.788300</td>\n",
       "      <td>-122.408531</td>\n",
       "      <td>Union Square (Powell St at Post St)</td>\n",
       "      <td>2018-02-28 23:36:59.9740</td>\n",
       "      <td>1987.0</td>\n",
       "      <td>Male</td>\n",
       "      <td>6.0</td>\n",
       "      <td>37.804770</td>\n",
       "      <td>-122.403234</td>\n",
       "      <td>The Embarcadero at Sansome St</td>\n",
       "      <td>2018-02-28 23:21:16.4950</td>\n",
       "      <td>Customer</td>\n",
       "    </tr>\n",
       "    <tr>\n",
       "      <th>2</th>\n",
       "      <td>3498</td>\n",
       "      <td>No</td>\n",
       "      <td>18587</td>\n",
       "      <td>15.0</td>\n",
       "      <td>37.795392</td>\n",
       "      <td>-122.394203</td>\n",
       "      <td>San Francisco Ferry Building (Harry Bridges Pl...</td>\n",
       "      <td>2018-02-28 23:30:42.9250</td>\n",
       "      <td>1986.0</td>\n",
       "      <td>Female</td>\n",
       "      <td>93.0</td>\n",
       "      <td>37.770407</td>\n",
       "      <td>-122.391198</td>\n",
       "      <td>4th St at Mission Bay Blvd S</td>\n",
       "      <td>2018-02-28 18:20:55.1900</td>\n",
       "      <td>Customer</td>\n",
       "    </tr>\n",
       "    <tr>\n",
       "      <th>3</th>\n",
       "      <td>3129</td>\n",
       "      <td>No</td>\n",
       "      <td>18558</td>\n",
       "      <td>15.0</td>\n",
       "      <td>37.795392</td>\n",
       "      <td>-122.394203</td>\n",
       "      <td>San Francisco Ferry Building (Harry Bridges Pl...</td>\n",
       "      <td>2018-02-28 23:30:12.4500</td>\n",
       "      <td>1981.0</td>\n",
       "      <td>Male</td>\n",
       "      <td>93.0</td>\n",
       "      <td>37.770407</td>\n",
       "      <td>-122.391198</td>\n",
       "      <td>4th St at Mission Bay Blvd S</td>\n",
       "      <td>2018-02-28 18:20:53.6210</td>\n",
       "      <td>Customer</td>\n",
       "    </tr>\n",
       "    <tr>\n",
       "      <th>4</th>\n",
       "      <td>1839</td>\n",
       "      <td>Yes</td>\n",
       "      <td>885</td>\n",
       "      <td>297.0</td>\n",
       "      <td>37.322980</td>\n",
       "      <td>-121.887931</td>\n",
       "      <td>Locust St at Grant St</td>\n",
       "      <td>2018-02-28 23:29:58.6080</td>\n",
       "      <td>1976.0</td>\n",
       "      <td>Female</td>\n",
       "      <td>308.0</td>\n",
       "      <td>37.336802</td>\n",
       "      <td>-121.894090</td>\n",
       "      <td>San Pedro Square</td>\n",
       "      <td>2018-02-28 23:15:12.8580</td>\n",
       "      <td>Subscriber</td>\n",
       "    </tr>\n",
       "  </tbody>\n",
       "</table>\n",
       "</div>"
      ],
      "text/plain": [
       "   bike_id bike_share_for_all_trip  duration_sec  end_station_id  \\\n",
       "0     1035                      No           598           114.0   \n",
       "1     1673                      No           943           324.0   \n",
       "2     3498                      No         18587            15.0   \n",
       "3     3129                      No         18558            15.0   \n",
       "4     1839                     Yes           885           297.0   \n",
       "\n",
       "   end_station_latitude  end_station_longitude  \\\n",
       "0             37.764478            -122.402570   \n",
       "1             37.788300            -122.408531   \n",
       "2             37.795392            -122.394203   \n",
       "3             37.795392            -122.394203   \n",
       "4             37.322980            -121.887931   \n",
       "\n",
       "                                    end_station_name  \\\n",
       "0                         Rhode Island St at 17th St   \n",
       "1                Union Square (Powell St at Post St)   \n",
       "2  San Francisco Ferry Building (Harry Bridges Pl...   \n",
       "3  San Francisco Ferry Building (Harry Bridges Pl...   \n",
       "4                              Locust St at Grant St   \n",
       "\n",
       "                   end_time  member_birth_year member_gender  \\\n",
       "0  2018-03-01 00:09:45.1870             1988.0          Male   \n",
       "1  2018-02-28 23:36:59.9740             1987.0          Male   \n",
       "2  2018-02-28 23:30:42.9250             1986.0        Female   \n",
       "3  2018-02-28 23:30:12.4500             1981.0          Male   \n",
       "4  2018-02-28 23:29:58.6080             1976.0        Female   \n",
       "\n",
       "   start_station_id  start_station_latitude  start_station_longitude  \\\n",
       "0             284.0               37.784872              -122.400876   \n",
       "1               6.0               37.804770              -122.403234   \n",
       "2              93.0               37.770407              -122.391198   \n",
       "3              93.0               37.770407              -122.391198   \n",
       "4             308.0               37.336802              -121.894090   \n",
       "\n",
       "                                  start_station_name  \\\n",
       "0  Yerba Buena Center for the Arts (Howard St at ...   \n",
       "1                      The Embarcadero at Sansome St   \n",
       "2                       4th St at Mission Bay Blvd S   \n",
       "3                       4th St at Mission Bay Blvd S   \n",
       "4                                   San Pedro Square   \n",
       "\n",
       "                 start_time   user_type  \n",
       "0  2018-02-28 23:59:47.0970  Subscriber  \n",
       "1  2018-02-28 23:21:16.4950    Customer  \n",
       "2  2018-02-28 18:20:55.1900    Customer  \n",
       "3  2018-02-28 18:20:53.6210    Customer  \n",
       "4  2018-02-28 23:15:12.8580  Subscriber  "
      ]
     },
     "execution_count": 5,
     "metadata": {},
     "output_type": "execute_result"
    }
   ],
   "source": [
    "# Print the head to confirm success\n",
    "df.head()"
   ]
  },
  {
   "cell_type": "code",
   "execution_count": 6,
   "metadata": {},
   "outputs": [],
   "source": [
    "# Make a copy of the DataFrame for analysis\n",
    "df_v1 = df.copy()"
   ]
  },
  {
   "cell_type": "code",
   "execution_count": 7,
   "metadata": {},
   "outputs": [],
   "source": [
    "# Save un-cleaned master dataset as .csv file\n",
    "# # Absolute file path /Users/mattames/Desktop/ford_gobike/all_bikeshare_datasets/cleaned_datasets/master-dataset-v1.csv\n",
    "df_v1.to_csv('all_bikeshare_datasets/cleaned_datasets/master-dataset-v1.csv', index=False)"
   ]
  },
  {
   "cell_type": "markdown",
   "metadata": {},
   "source": [
    "## Assess:"
   ]
  },
  {
   "cell_type": "markdown",
   "metadata": {},
   "source": [
    "#### 1) Unordered List of Initial Assessments\n",
    "##### df_v1\n",
    "\n",
    "##### Visual:\n",
    "1. order of columns\n",
    "\n",
    "Additional Notes:\n",
    "- None\n",
    "\n",
    "##### Programmatic:\n",
    "1. bike_share_for_all_trip NaNs because program wasn't offered in 2017\n",
    "2. end_station_id NaNs\n",
    "3. end_station_name NaNs\n",
    "4. member_birth_year NaNs\n",
    "5. member_gender NaNs\n",
    "6. start_station_id NaNs\n",
    "7. start_station_name NaNs\n",
    "8. bike_id dtype is int\n",
    "9. end_station_id dtype is float\n",
    "10. end_time dtype is str\n",
    "11. member_birth_year dtype is float\n",
    "12. start_station_id dtype is float\n",
    "13. start_time dtype is str\n",
    "14. multiple observational units in one table\n",
    "\n",
    "Additional Notes:\n",
    "- None"
   ]
  },
  {
   "cell_type": "markdown",
   "metadata": {},
   "source": [
    "#### 2) Categorize and Bunch\n",
    "\n",
    "##### Tidiness\n",
    "1. order of columns\n",
    "\n",
    "##### Quality\n",
    "1. bike_share_for_all_trip NaNs because program wasn't offered in 2017\n",
    "2. end_station_id NaNs\n",
    "3. end_station_name NaNs\n",
    "4. member_birth_year NaNs\n",
    "5. member_gender NaNs\n",
    "6. start_station_id NaNs\n",
    "7. start_station_name NaNs\n",
    "8. bike_id dtype is int\n",
    "9. end_station_id dtype is float\n",
    "10. end_time dtype is str\n",
    "11. member_birth_year dtype is float\n",
    "12. start_station_id dtype is float\n",
    "13. start_time dtype is str"
   ]
  },
  {
   "cell_type": "markdown",
   "metadata": {},
   "source": [
    "## Clean:\n",
    "### Part 1: Tidiness\n",
    "#### Define\n",
    "The tidiness issue of observational units per table will be ignored for this analysis, keeping all of this in one table will be beneficial for the following analysis.\n",
    "\n",
    "However, the columns will be re-ordered in a more logical way that conceptually separates these observational units while keeing them in the same table.\n",
    "\n",
    "#### Code"
   ]
  },
  {
   "cell_type": "code",
   "execution_count": 8,
   "metadata": {},
   "outputs": [
    {
     "data": {
      "text/plain": [
       "Index(['bike_id', 'bike_share_for_all_trip', 'duration_sec', 'end_station_id',\n",
       "       'end_station_latitude', 'end_station_longitude', 'end_station_name',\n",
       "       'end_time', 'member_birth_year', 'member_gender', 'start_station_id',\n",
       "       'start_station_latitude', 'start_station_longitude',\n",
       "       'start_station_name', 'start_time', 'user_type'],\n",
       "      dtype='object')"
      ]
     },
     "execution_count": 8,
     "metadata": {},
     "output_type": "execute_result"
    }
   ],
   "source": [
    "df_v1.columns"
   ]
  },
  {
   "cell_type": "code",
   "execution_count": 9,
   "metadata": {
    "scrolled": true
   },
   "outputs": [],
   "source": [
    "df_v1 = df_v1[['bike_id', 'duration_sec', 'start_time', 'end_time', 'start_station_id', 'start_station_name',\n",
    "               'start_station_latitude', 'start_station_longitude', 'end_station_id', 'end_station_name',\n",
    "               'end_station_latitude', 'end_station_longitude', 'user_type', 'bike_share_for_all_trip',\n",
    "               'member_gender', 'member_birth_year']]"
   ]
  },
  {
   "cell_type": "markdown",
   "metadata": {},
   "source": [
    "#### Test"
   ]
  },
  {
   "cell_type": "code",
   "execution_count": 10,
   "metadata": {
    "scrolled": false
   },
   "outputs": [
    {
     "data": {
      "text/html": [
       "<div>\n",
       "<style scoped>\n",
       "    .dataframe tbody tr th:only-of-type {\n",
       "        vertical-align: middle;\n",
       "    }\n",
       "\n",
       "    .dataframe tbody tr th {\n",
       "        vertical-align: top;\n",
       "    }\n",
       "\n",
       "    .dataframe thead th {\n",
       "        text-align: right;\n",
       "    }\n",
       "</style>\n",
       "<table border=\"1\" class=\"dataframe\">\n",
       "  <thead>\n",
       "    <tr style=\"text-align: right;\">\n",
       "      <th></th>\n",
       "      <th>bike_id</th>\n",
       "      <th>duration_sec</th>\n",
       "      <th>start_time</th>\n",
       "      <th>end_time</th>\n",
       "      <th>start_station_id</th>\n",
       "      <th>start_station_name</th>\n",
       "      <th>start_station_latitude</th>\n",
       "      <th>start_station_longitude</th>\n",
       "      <th>end_station_id</th>\n",
       "      <th>end_station_name</th>\n",
       "      <th>end_station_latitude</th>\n",
       "      <th>end_station_longitude</th>\n",
       "      <th>user_type</th>\n",
       "      <th>bike_share_for_all_trip</th>\n",
       "      <th>member_gender</th>\n",
       "      <th>member_birth_year</th>\n",
       "    </tr>\n",
       "  </thead>\n",
       "  <tbody>\n",
       "    <tr>\n",
       "      <th>0</th>\n",
       "      <td>1035</td>\n",
       "      <td>598</td>\n",
       "      <td>2018-02-28 23:59:47.0970</td>\n",
       "      <td>2018-03-01 00:09:45.1870</td>\n",
       "      <td>284.0</td>\n",
       "      <td>Yerba Buena Center for the Arts (Howard St at ...</td>\n",
       "      <td>37.784872</td>\n",
       "      <td>-122.400876</td>\n",
       "      <td>114.0</td>\n",
       "      <td>Rhode Island St at 17th St</td>\n",
       "      <td>37.764478</td>\n",
       "      <td>-122.40257</td>\n",
       "      <td>Subscriber</td>\n",
       "      <td>No</td>\n",
       "      <td>Male</td>\n",
       "      <td>1988.0</td>\n",
       "    </tr>\n",
       "  </tbody>\n",
       "</table>\n",
       "</div>"
      ],
      "text/plain": [
       "   bike_id  duration_sec                start_time                  end_time  \\\n",
       "0     1035           598  2018-02-28 23:59:47.0970  2018-03-01 00:09:45.1870   \n",
       "\n",
       "   start_station_id                                 start_station_name  \\\n",
       "0             284.0  Yerba Buena Center for the Arts (Howard St at ...   \n",
       "\n",
       "   start_station_latitude  start_station_longitude  end_station_id  \\\n",
       "0               37.784872              -122.400876           114.0   \n",
       "\n",
       "             end_station_name  end_station_latitude  end_station_longitude  \\\n",
       "0  Rhode Island St at 17th St             37.764478             -122.40257   \n",
       "\n",
       "    user_type bike_share_for_all_trip member_gender  member_birth_year  \n",
       "0  Subscriber                      No          Male             1988.0  "
      ]
     },
     "execution_count": 10,
     "metadata": {},
     "output_type": "execute_result"
    }
   ],
   "source": [
    "df_v1.head(1)"
   ]
  },
  {
   "cell_type": "markdown",
   "metadata": {},
   "source": [
    "### Part 2: Quality\n",
    "### Issue 1:\n",
    "#### Define\n",
    "Use .fillna() to replace all bike_share_for_all_trip NaNs with \"Not Offered\" since this membership type was not offered in 2017.\n",
    "\n",
    "#### Code"
   ]
  },
  {
   "cell_type": "code",
   "execution_count": 11,
   "metadata": {},
   "outputs": [],
   "source": [
    "df_v1['bike_share_for_all_trip'] = df_v1['bike_share_for_all_trip'].fillna(value='Not Offered')"
   ]
  },
  {
   "cell_type": "markdown",
   "metadata": {},
   "source": [
    "#### Test"
   ]
  },
  {
   "cell_type": "code",
   "execution_count": 12,
   "metadata": {
    "scrolled": true
   },
   "outputs": [
    {
     "data": {
      "text/plain": [
       "No             2661897\n",
       "Not Offered     519700\n",
       "Yes             254891\n",
       "Name: bike_share_for_all_trip, dtype: int64"
      ]
     },
     "execution_count": 12,
     "metadata": {},
     "output_type": "execute_result"
    }
   ],
   "source": [
    "df_v1.bike_share_for_all_trip.value_counts()"
   ]
  },
  {
   "cell_type": "code",
   "execution_count": 13,
   "metadata": {},
   "outputs": [
    {
     "name": "stdout",
     "output_type": "stream",
     "text": [
      "<class 'pandas.core.frame.DataFrame'>\n",
      "RangeIndex: 3436488 entries, 0 to 3436487\n",
      "Data columns (total 16 columns):\n",
      "bike_id                    3436488 non-null int64\n",
      "duration_sec               3436488 non-null int64\n",
      "start_time                 3436488 non-null object\n",
      "end_time                   3436488 non-null object\n",
      "start_station_id           3423972 non-null float64\n",
      "start_station_name         3423972 non-null object\n",
      "start_station_latitude     3436488 non-null float64\n",
      "start_station_longitude    3436488 non-null float64\n",
      "end_station_id             3423972 non-null float64\n",
      "end_station_name           3423972 non-null object\n",
      "end_station_latitude       3436488 non-null float64\n",
      "end_station_longitude      3436488 non-null float64\n",
      "user_type                  3436488 non-null object\n",
      "bike_share_for_all_trip    3436488 non-null object\n",
      "member_gender              3210289 non-null object\n",
      "member_birth_year          3209853 non-null float64\n",
      "dtypes: float64(7), int64(2), object(7)\n",
      "memory usage: 419.5+ MB\n"
     ]
    }
   ],
   "source": [
    "df_v1.info(null_counts=True)"
   ]
  },
  {
   "cell_type": "markdown",
   "metadata": {},
   "source": [
    "### Issues 2, 3, 6, 7:\n",
    "#### Define\n",
    "Use .drop() to drop all rows where end_station_id is NaN because these have inaccurate lat and long coordinates, these rows contain nulls in many other columns, they're located in an unimportant northern San Jose area (far outside the city of SF), the company does not include these specific stations on their own website, and its only approx. 12500 entries in a dataset with over 3.25 million entries. These entries are not only a less imortant area, but a very small fraction of the overall dataset.\n",
    "\n",
    "This will also remove the NaNs in end_station_name, start_station_id, and start_station_name.\n",
    "\n",
    "\n",
    "#### Code"
   ]
  },
  {
   "cell_type": "code",
   "execution_count": 14,
   "metadata": {},
   "outputs": [],
   "source": [
    "df_v1.dropna(subset=['end_station_id'], inplace=True)"
   ]
  },
  {
   "cell_type": "markdown",
   "metadata": {},
   "source": [
    "#### Test"
   ]
  },
  {
   "cell_type": "code",
   "execution_count": 15,
   "metadata": {
    "scrolled": false
   },
   "outputs": [
    {
     "name": "stdout",
     "output_type": "stream",
     "text": [
      "<class 'pandas.core.frame.DataFrame'>\n",
      "Int64Index: 3423972 entries, 0 to 3436487\n",
      "Data columns (total 16 columns):\n",
      "bike_id                    3423972 non-null int64\n",
      "duration_sec               3423972 non-null int64\n",
      "start_time                 3423972 non-null object\n",
      "end_time                   3423972 non-null object\n",
      "start_station_id           3423972 non-null float64\n",
      "start_station_name         3423972 non-null object\n",
      "start_station_latitude     3423972 non-null float64\n",
      "start_station_longitude    3423972 non-null float64\n",
      "end_station_id             3423972 non-null float64\n",
      "end_station_name           3423972 non-null object\n",
      "end_station_latitude       3423972 non-null float64\n",
      "end_station_longitude      3423972 non-null float64\n",
      "user_type                  3423972 non-null object\n",
      "bike_share_for_all_trip    3423972 non-null object\n",
      "member_gender              3198107 non-null object\n",
      "member_birth_year          3197671 non-null float64\n",
      "dtypes: float64(7), int64(2), object(7)\n",
      "memory usage: 444.1+ MB\n"
     ]
    }
   ],
   "source": [
    "df_v1.info(null_counts=True)"
   ]
  },
  {
   "cell_type": "markdown",
   "metadata": {},
   "source": [
    "### Issues 4, 5:\n",
    "#### Define\n",
    "\n",
    "Use .droppna() to drop all rows where member birth year is NaN. This also removes all rows with member_gender NaNs.\n",
    "\n",
    "#### Code"
   ]
  },
  {
   "cell_type": "code",
   "execution_count": 16,
   "metadata": {},
   "outputs": [],
   "source": [
    "df_v1.dropna(subset=['member_birth_year'], inplace=True)"
   ]
  },
  {
   "cell_type": "markdown",
   "metadata": {},
   "source": [
    "#### Test"
   ]
  },
  {
   "cell_type": "code",
   "execution_count": 17,
   "metadata": {},
   "outputs": [
    {
     "name": "stdout",
     "output_type": "stream",
     "text": [
      "<class 'pandas.core.frame.DataFrame'>\n",
      "Int64Index: 3197671 entries, 0 to 3436487\n",
      "Data columns (total 16 columns):\n",
      "bike_id                    3197671 non-null int64\n",
      "duration_sec               3197671 non-null int64\n",
      "start_time                 3197671 non-null object\n",
      "end_time                   3197671 non-null object\n",
      "start_station_id           3197671 non-null float64\n",
      "start_station_name         3197671 non-null object\n",
      "start_station_latitude     3197671 non-null float64\n",
      "start_station_longitude    3197671 non-null float64\n",
      "end_station_id             3197671 non-null float64\n",
      "end_station_name           3197671 non-null object\n",
      "end_station_latitude       3197671 non-null float64\n",
      "end_station_longitude      3197671 non-null float64\n",
      "user_type                  3197671 non-null object\n",
      "bike_share_for_all_trip    3197671 non-null object\n",
      "member_gender              3197671 non-null object\n",
      "member_birth_year          3197671 non-null float64\n",
      "dtypes: float64(7), int64(2), object(7)\n",
      "memory usage: 414.7+ MB\n"
     ]
    }
   ],
   "source": [
    "df_v1.info(null_counts=True)"
   ]
  },
  {
   "cell_type": "markdown",
   "metadata": {},
   "source": [
    "### Issues 8-13:\n",
    "#### Define\n",
    "Use .astype() and .to_datetime() to convert the following incorrect data types:\n",
    "- bike_id from int to str\n",
    "- start_station_id from float to str\n",
    "- end_station_id from float to str\n",
    "- member_birth_year from float to int\n",
    "\n",
    "and:\n",
    "\n",
    "- start_time from str to datetime\n",
    "- end_time from str to datetime\n",
    "\n",
    "#### Code"
   ]
  },
  {
   "cell_type": "code",
   "execution_count": 18,
   "metadata": {},
   "outputs": [],
   "source": [
    "# bike_id to string\n",
    "df_v1['bike_id'] = df_v1['bike_id'].astype(str)\n",
    "\n",
    "# start_station_id to int and then string (so our string doesn't contain .0 at the end)\n",
    "df_v1['start_station_id'] = df_v1['start_station_id'].astype(int)\n",
    "df_v1['start_station_id'] = df_v1['start_station_id'].astype(str)\n",
    "\n",
    "# end_station_id to int and then string (so our string doesn't contain .0 at the end)\n",
    "df_v1['end_station_id'] = df_v1['end_station_id'].astype(int)\n",
    "df_v1['end_station_id'] = df_v1['end_station_id'].astype(str)\n",
    "\n",
    "# member_birth_year to integer\n",
    "df_v1['member_birth_year'] = df_v1['member_birth_year'].astype(int)"
   ]
  },
  {
   "cell_type": "markdown",
   "metadata": {},
   "source": [
    "#### Test"
   ]
  },
  {
   "cell_type": "code",
   "execution_count": 19,
   "metadata": {
    "scrolled": true
   },
   "outputs": [
    {
     "data": {
      "text/plain": [
       "bike_id                     object\n",
       "duration_sec                 int64\n",
       "start_time                  object\n",
       "end_time                    object\n",
       "start_station_id            object\n",
       "start_station_name          object\n",
       "start_station_latitude     float64\n",
       "start_station_longitude    float64\n",
       "end_station_id              object\n",
       "end_station_name            object\n",
       "end_station_latitude       float64\n",
       "end_station_longitude      float64\n",
       "user_type                   object\n",
       "bike_share_for_all_trip     object\n",
       "member_gender               object\n",
       "member_birth_year            int64\n",
       "dtype: object"
      ]
     },
     "execution_count": 19,
     "metadata": {},
     "output_type": "execute_result"
    }
   ],
   "source": [
    "df_v1.dtypes"
   ]
  },
  {
   "cell_type": "markdown",
   "metadata": {},
   "source": [
    "#### Code"
   ]
  },
  {
   "cell_type": "code",
   "execution_count": 20,
   "metadata": {},
   "outputs": [],
   "source": [
    "# start_time to datetime\n",
    "df_v1['start_time'] = pd.to_datetime(df_v1['start_time'])\n",
    "\n",
    "# end_time to datetime\n",
    "df_v1['end_time'] = pd.to_datetime(df_v1['end_time'])"
   ]
  },
  {
   "cell_type": "markdown",
   "metadata": {},
   "source": [
    "#### Test"
   ]
  },
  {
   "cell_type": "code",
   "execution_count": 21,
   "metadata": {
    "scrolled": true
   },
   "outputs": [
    {
     "data": {
      "text/plain": [
       "bike_id                            object\n",
       "duration_sec                        int64\n",
       "start_time                 datetime64[ns]\n",
       "end_time                   datetime64[ns]\n",
       "start_station_id                   object\n",
       "start_station_name                 object\n",
       "start_station_latitude            float64\n",
       "start_station_longitude           float64\n",
       "end_station_id                     object\n",
       "end_station_name                   object\n",
       "end_station_latitude              float64\n",
       "end_station_longitude             float64\n",
       "user_type                          object\n",
       "bike_share_for_all_trip            object\n",
       "member_gender                      object\n",
       "member_birth_year                   int64\n",
       "dtype: object"
      ]
     },
     "execution_count": 21,
     "metadata": {},
     "output_type": "execute_result"
    }
   ],
   "source": [
    "df_v1.dtypes"
   ]
  },
  {
   "cell_type": "markdown",
   "metadata": {},
   "source": [
    "## Save cleaned dataset to csv file:"
   ]
  },
  {
   "cell_type": "code",
   "execution_count": 22,
   "metadata": {},
   "outputs": [],
   "source": [
    "# Save un-cleaned master dataset as .csv file\n",
    "# Absolute file path /Users/mattames/Desktop/ford_gobike/all_bikeshare_datasets/cleaned_datasets/master-dataset-v2.csv\n",
    "df_v2 = df_v1.copy()\n",
    "df_v2.to_csv('all_bikeshare_datasets/cleaned_datasets/master-dataset-v2.csv', index=False)"
   ]
  }
 ],
 "metadata": {
  "kernelspec": {
   "display_name": "Python 3",
   "language": "python",
   "name": "python3"
  },
  "language_info": {
   "codemirror_mode": {
    "name": "ipython",
    "version": 3
   },
   "file_extension": ".py",
   "mimetype": "text/x-python",
   "name": "python",
   "nbconvert_exporter": "python",
   "pygments_lexer": "ipython3",
   "version": "3.7.1"
  }
 },
 "nbformat": 4,
 "nbformat_minor": 2
}
