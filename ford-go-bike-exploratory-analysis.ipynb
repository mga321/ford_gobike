{
 "cells": [
  {
   "cell_type": "markdown",
   "metadata": {},
   "source": [
    "# Ford GoBike Exploratory Analysis"
   ]
  },
  {
   "cell_type": "markdown",
   "metadata": {},
   "source": [
    "## Import Requirements:"
   ]
  },
  {
   "cell_type": "code",
   "execution_count": 30,
   "metadata": {},
   "outputs": [],
   "source": [
    "import numpy as np\n",
    "import pandas as pd\n",
    "import matplotlib.pyplot as plt\n",
    "%matplotlib inline\n",
    "import seaborn as sns"
   ]
  },
  {
   "cell_type": "markdown",
   "metadata": {},
   "source": [
    "## Load the Master Dataset"
   ]
  },
  {
   "cell_type": "code",
   "execution_count": 31,
   "metadata": {},
   "outputs": [],
   "source": [
    "df = pd.read_csv('/Users/mattames/Desktop/ford_gobike/all_bikeshare_datasets/cleaned_datasets/master-dataset-v2.csv')"
   ]
  },
  {
   "cell_type": "code",
   "execution_count": 32,
   "metadata": {},
   "outputs": [
    {
     "data": {
      "text/html": [
       "<div>\n",
       "<style scoped>\n",
       "    .dataframe tbody tr th:only-of-type {\n",
       "        vertical-align: middle;\n",
       "    }\n",
       "\n",
       "    .dataframe tbody tr th {\n",
       "        vertical-align: top;\n",
       "    }\n",
       "\n",
       "    .dataframe thead th {\n",
       "        text-align: right;\n",
       "    }\n",
       "</style>\n",
       "<table border=\"1\" class=\"dataframe\">\n",
       "  <thead>\n",
       "    <tr style=\"text-align: right;\">\n",
       "      <th></th>\n",
       "      <th>bike_id</th>\n",
       "      <th>duration_sec</th>\n",
       "      <th>start_time</th>\n",
       "      <th>end_time</th>\n",
       "      <th>start_station_id</th>\n",
       "      <th>start_station_name</th>\n",
       "      <th>start_station_latitude</th>\n",
       "      <th>start_station_longitude</th>\n",
       "      <th>end_station_id</th>\n",
       "      <th>end_station_name</th>\n",
       "      <th>end_station_latitude</th>\n",
       "      <th>end_station_longitude</th>\n",
       "      <th>user_type</th>\n",
       "      <th>bike_share_for_all_trip</th>\n",
       "      <th>member_gender</th>\n",
       "      <th>member_birth_year</th>\n",
       "    </tr>\n",
       "  </thead>\n",
       "  <tbody>\n",
       "    <tr>\n",
       "      <th>0</th>\n",
       "      <td>1035</td>\n",
       "      <td>598</td>\n",
       "      <td>2018-02-28 23:59:47.097</td>\n",
       "      <td>2018-03-01 00:09:45.187</td>\n",
       "      <td>284</td>\n",
       "      <td>Yerba Buena Center for the Arts (Howard St at ...</td>\n",
       "      <td>37.784872</td>\n",
       "      <td>-122.400876</td>\n",
       "      <td>114</td>\n",
       "      <td>Rhode Island St at 17th St</td>\n",
       "      <td>37.764478</td>\n",
       "      <td>-122.402570</td>\n",
       "      <td>Subscriber</td>\n",
       "      <td>No</td>\n",
       "      <td>Male</td>\n",
       "      <td>1988</td>\n",
       "    </tr>\n",
       "    <tr>\n",
       "      <th>1</th>\n",
       "      <td>1673</td>\n",
       "      <td>943</td>\n",
       "      <td>2018-02-28 23:21:16.495</td>\n",
       "      <td>2018-02-28 23:36:59.974</td>\n",
       "      <td>6</td>\n",
       "      <td>The Embarcadero at Sansome St</td>\n",
       "      <td>37.804770</td>\n",
       "      <td>-122.403234</td>\n",
       "      <td>324</td>\n",
       "      <td>Union Square (Powell St at Post St)</td>\n",
       "      <td>37.788300</td>\n",
       "      <td>-122.408531</td>\n",
       "      <td>Customer</td>\n",
       "      <td>No</td>\n",
       "      <td>Male</td>\n",
       "      <td>1987</td>\n",
       "    </tr>\n",
       "    <tr>\n",
       "      <th>2</th>\n",
       "      <td>3498</td>\n",
       "      <td>18587</td>\n",
       "      <td>2018-02-28 18:20:55.190</td>\n",
       "      <td>2018-02-28 23:30:42.925</td>\n",
       "      <td>93</td>\n",
       "      <td>4th St at Mission Bay Blvd S</td>\n",
       "      <td>37.770407</td>\n",
       "      <td>-122.391198</td>\n",
       "      <td>15</td>\n",
       "      <td>San Francisco Ferry Building (Harry Bridges Pl...</td>\n",
       "      <td>37.795392</td>\n",
       "      <td>-122.394203</td>\n",
       "      <td>Customer</td>\n",
       "      <td>No</td>\n",
       "      <td>Female</td>\n",
       "      <td>1986</td>\n",
       "    </tr>\n",
       "    <tr>\n",
       "      <th>3</th>\n",
       "      <td>3129</td>\n",
       "      <td>18558</td>\n",
       "      <td>2018-02-28 18:20:53.621</td>\n",
       "      <td>2018-02-28 23:30:12.450</td>\n",
       "      <td>93</td>\n",
       "      <td>4th St at Mission Bay Blvd S</td>\n",
       "      <td>37.770407</td>\n",
       "      <td>-122.391198</td>\n",
       "      <td>15</td>\n",
       "      <td>San Francisco Ferry Building (Harry Bridges Pl...</td>\n",
       "      <td>37.795392</td>\n",
       "      <td>-122.394203</td>\n",
       "      <td>Customer</td>\n",
       "      <td>No</td>\n",
       "      <td>Male</td>\n",
       "      <td>1981</td>\n",
       "    </tr>\n",
       "    <tr>\n",
       "      <th>4</th>\n",
       "      <td>1839</td>\n",
       "      <td>885</td>\n",
       "      <td>2018-02-28 23:15:12.858</td>\n",
       "      <td>2018-02-28 23:29:58.608</td>\n",
       "      <td>308</td>\n",
       "      <td>San Pedro Square</td>\n",
       "      <td>37.336802</td>\n",
       "      <td>-121.894090</td>\n",
       "      <td>297</td>\n",
       "      <td>Locust St at Grant St</td>\n",
       "      <td>37.322980</td>\n",
       "      <td>-121.887931</td>\n",
       "      <td>Subscriber</td>\n",
       "      <td>Yes</td>\n",
       "      <td>Female</td>\n",
       "      <td>1976</td>\n",
       "    </tr>\n",
       "  </tbody>\n",
       "</table>\n",
       "</div>"
      ],
      "text/plain": [
       "   bike_id  duration_sec               start_time                 end_time  \\\n",
       "0     1035           598  2018-02-28 23:59:47.097  2018-03-01 00:09:45.187   \n",
       "1     1673           943  2018-02-28 23:21:16.495  2018-02-28 23:36:59.974   \n",
       "2     3498         18587  2018-02-28 18:20:55.190  2018-02-28 23:30:42.925   \n",
       "3     3129         18558  2018-02-28 18:20:53.621  2018-02-28 23:30:12.450   \n",
       "4     1839           885  2018-02-28 23:15:12.858  2018-02-28 23:29:58.608   \n",
       "\n",
       "   start_station_id                                 start_station_name  \\\n",
       "0               284  Yerba Buena Center for the Arts (Howard St at ...   \n",
       "1                 6                      The Embarcadero at Sansome St   \n",
       "2                93                       4th St at Mission Bay Blvd S   \n",
       "3                93                       4th St at Mission Bay Blvd S   \n",
       "4               308                                   San Pedro Square   \n",
       "\n",
       "   start_station_latitude  start_station_longitude  end_station_id  \\\n",
       "0               37.784872              -122.400876             114   \n",
       "1               37.804770              -122.403234             324   \n",
       "2               37.770407              -122.391198              15   \n",
       "3               37.770407              -122.391198              15   \n",
       "4               37.336802              -121.894090             297   \n",
       "\n",
       "                                    end_station_name  end_station_latitude  \\\n",
       "0                         Rhode Island St at 17th St             37.764478   \n",
       "1                Union Square (Powell St at Post St)             37.788300   \n",
       "2  San Francisco Ferry Building (Harry Bridges Pl...             37.795392   \n",
       "3  San Francisco Ferry Building (Harry Bridges Pl...             37.795392   \n",
       "4                              Locust St at Grant St             37.322980   \n",
       "\n",
       "   end_station_longitude   user_type bike_share_for_all_trip member_gender  \\\n",
       "0            -122.402570  Subscriber                      No          Male   \n",
       "1            -122.408531    Customer                      No          Male   \n",
       "2            -122.394203    Customer                      No        Female   \n",
       "3            -122.394203    Customer                      No          Male   \n",
       "4            -121.887931  Subscriber                     Yes        Female   \n",
       "\n",
       "   member_birth_year  \n",
       "0               1988  \n",
       "1               1987  \n",
       "2               1986  \n",
       "3               1981  \n",
       "4               1976  "
      ]
     },
     "execution_count": 32,
     "metadata": {},
     "output_type": "execute_result"
    }
   ],
   "source": [
    "df.head()"
   ]
  },
  {
   "cell_type": "code",
   "execution_count": 34,
   "metadata": {},
   "outputs": [
    {
     "name": "stdout",
     "output_type": "stream",
     "text": [
      "<class 'pandas.core.frame.DataFrame'>\n",
      "RangeIndex: 3197671 entries, 0 to 3197670\n",
      "Data columns (total 16 columns):\n",
      "bike_id                    3197671 non-null int64\n",
      "duration_sec               3197671 non-null int64\n",
      "start_time                 3197671 non-null object\n",
      "end_time                   3197671 non-null object\n",
      "start_station_id           3197671 non-null int64\n",
      "start_station_name         3197671 non-null object\n",
      "start_station_latitude     3197671 non-null float64\n",
      "start_station_longitude    3197671 non-null float64\n",
      "end_station_id             3197671 non-null int64\n",
      "end_station_name           3197671 non-null object\n",
      "end_station_latitude       3197671 non-null float64\n",
      "end_station_longitude      3197671 non-null float64\n",
      "user_type                  3197671 non-null object\n",
      "bike_share_for_all_trip    3197671 non-null object\n",
      "member_gender              3197671 non-null object\n",
      "member_birth_year          3197671 non-null int64\n",
      "dtypes: float64(4), int64(5), object(7)\n",
      "memory usage: 390.3+ MB\n"
     ]
    }
   ],
   "source": [
    "df.info(null_counts=True)"
   ]
  },
  {
   "cell_type": "code",
   "execution_count": 35,
   "metadata": {},
   "outputs": [],
   "source": [
    "# Re-convert datetime datatypes\n",
    "df['start_time'] = pd.to_datetime(df['start_time'])\n",
    "df['end_time'] = pd.to_datetime(df['end_time'])"
   ]
  },
  {
   "cell_type": "code",
   "execution_count": 36,
   "metadata": {},
   "outputs": [
    {
     "data": {
      "text/plain": [
       "bike_id                             int64\n",
       "duration_sec                        int64\n",
       "start_time                 datetime64[ns]\n",
       "end_time                   datetime64[ns]\n",
       "start_station_id                    int64\n",
       "start_station_name                 object\n",
       "start_station_latitude            float64\n",
       "start_station_longitude           float64\n",
       "end_station_id                      int64\n",
       "end_station_name                   object\n",
       "end_station_latitude              float64\n",
       "end_station_longitude             float64\n",
       "user_type                          object\n",
       "bike_share_for_all_trip            object\n",
       "member_gender                      object\n",
       "member_birth_year                   int64\n",
       "dtype: object"
      ]
     },
     "execution_count": 36,
     "metadata": {},
     "output_type": "execute_result"
    }
   ],
   "source": [
    "# Confirm change\n",
    "df.dtypes"
   ]
  },
  {
   "cell_type": "markdown",
   "metadata": {},
   "source": [
    "## Exploratory Analysis & Additional Cleaning"
   ]
  },
  {
   "cell_type": "code",
   "execution_count": 37,
   "metadata": {},
   "outputs": [
    {
     "data": {
      "text/html": [
       "<div>\n",
       "<style scoped>\n",
       "    .dataframe tbody tr th:only-of-type {\n",
       "        vertical-align: middle;\n",
       "    }\n",
       "\n",
       "    .dataframe tbody tr th {\n",
       "        vertical-align: top;\n",
       "    }\n",
       "\n",
       "    .dataframe thead th {\n",
       "        text-align: right;\n",
       "    }\n",
       "</style>\n",
       "<table border=\"1\" class=\"dataframe\">\n",
       "  <thead>\n",
       "    <tr style=\"text-align: right;\">\n",
       "      <th></th>\n",
       "      <th>bike_id</th>\n",
       "      <th>duration_sec</th>\n",
       "      <th>start_station_id</th>\n",
       "      <th>start_station_latitude</th>\n",
       "      <th>start_station_longitude</th>\n",
       "      <th>end_station_id</th>\n",
       "      <th>end_station_latitude</th>\n",
       "      <th>end_station_longitude</th>\n",
       "      <th>member_birth_year</th>\n",
       "    </tr>\n",
       "  </thead>\n",
       "  <tbody>\n",
       "    <tr>\n",
       "      <th>count</th>\n",
       "      <td>3.197671e+06</td>\n",
       "      <td>3.197671e+06</td>\n",
       "      <td>3.197671e+06</td>\n",
       "      <td>3.197671e+06</td>\n",
       "      <td>3.197671e+06</td>\n",
       "      <td>3.197671e+06</td>\n",
       "      <td>3.197671e+06</td>\n",
       "      <td>3.197671e+06</td>\n",
       "      <td>3.197671e+06</td>\n",
       "    </tr>\n",
       "    <tr>\n",
       "      <th>mean</th>\n",
       "      <td>2.709359e+03</td>\n",
       "      <td>7.734795e+02</td>\n",
       "      <td>1.229253e+02</td>\n",
       "      <td>3.776958e+01</td>\n",
       "      <td>-1.223534e+02</td>\n",
       "      <td>1.210837e+02</td>\n",
       "      <td>3.776950e+01</td>\n",
       "      <td>-1.223521e+02</td>\n",
       "      <td>1.983189e+03</td>\n",
       "    </tr>\n",
       "    <tr>\n",
       "      <th>std</th>\n",
       "      <td>1.716219e+03</td>\n",
       "      <td>1.971263e+03</td>\n",
       "      <td>1.037837e+02</td>\n",
       "      <td>1.015278e-01</td>\n",
       "      <td>1.357226e-01</td>\n",
       "      <td>1.036002e+02</td>\n",
       "      <td>1.336651e-01</td>\n",
       "      <td>3.128577e-01</td>\n",
       "      <td>1.043911e+01</td>\n",
       "    </tr>\n",
       "    <tr>\n",
       "      <th>min</th>\n",
       "      <td>1.000000e+01</td>\n",
       "      <td>6.100000e+01</td>\n",
       "      <td>3.000000e+00</td>\n",
       "      <td>0.000000e+00</td>\n",
       "      <td>-1.224737e+02</td>\n",
       "      <td>3.000000e+00</td>\n",
       "      <td>0.000000e+00</td>\n",
       "      <td>-1.224737e+02</td>\n",
       "      <td>1.878000e+03</td>\n",
       "    </tr>\n",
       "    <tr>\n",
       "      <th>25%</th>\n",
       "      <td>1.323000e+03</td>\n",
       "      <td>3.450000e+02</td>\n",
       "      <td>3.600000e+01</td>\n",
       "      <td>3.777106e+01</td>\n",
       "      <td>-1.224117e+02</td>\n",
       "      <td>3.000000e+01</td>\n",
       "      <td>3.777143e+01</td>\n",
       "      <td>-1.224108e+02</td>\n",
       "      <td>1.978000e+03</td>\n",
       "    </tr>\n",
       "    <tr>\n",
       "      <th>50%</th>\n",
       "      <td>2.561000e+03</td>\n",
       "      <td>5.430000e+02</td>\n",
       "      <td>9.000000e+01</td>\n",
       "      <td>3.778107e+01</td>\n",
       "      <td>-1.223974e+02</td>\n",
       "      <td>8.900000e+01</td>\n",
       "      <td>3.778127e+01</td>\n",
       "      <td>-1.223971e+02</td>\n",
       "      <td>1.986000e+03</td>\n",
       "    </tr>\n",
       "    <tr>\n",
       "      <th>75%</th>\n",
       "      <td>3.756000e+03</td>\n",
       "      <td>8.380000e+02</td>\n",
       "      <td>1.930000e+02</td>\n",
       "      <td>3.779581e+01</td>\n",
       "      <td>-1.222914e+02</td>\n",
       "      <td>1.890000e+02</td>\n",
       "      <td>3.779625e+01</td>\n",
       "      <td>-1.222914e+02</td>\n",
       "      <td>1.991000e+03</td>\n",
       "    </tr>\n",
       "    <tr>\n",
       "      <th>max</th>\n",
       "      <td>7.196000e+03</td>\n",
       "      <td>8.628100e+04</td>\n",
       "      <td>4.270000e+02</td>\n",
       "      <td>3.788022e+01</td>\n",
       "      <td>0.000000e+00</td>\n",
       "      <td>4.270000e+02</td>\n",
       "      <td>3.788022e+01</td>\n",
       "      <td>0.000000e+00</td>\n",
       "      <td>2.001000e+03</td>\n",
       "    </tr>\n",
       "  </tbody>\n",
       "</table>\n",
       "</div>"
      ],
      "text/plain": [
       "            bike_id  duration_sec  start_station_id  start_station_latitude  \\\n",
       "count  3.197671e+06  3.197671e+06      3.197671e+06            3.197671e+06   \n",
       "mean   2.709359e+03  7.734795e+02      1.229253e+02            3.776958e+01   \n",
       "std    1.716219e+03  1.971263e+03      1.037837e+02            1.015278e-01   \n",
       "min    1.000000e+01  6.100000e+01      3.000000e+00            0.000000e+00   \n",
       "25%    1.323000e+03  3.450000e+02      3.600000e+01            3.777106e+01   \n",
       "50%    2.561000e+03  5.430000e+02      9.000000e+01            3.778107e+01   \n",
       "75%    3.756000e+03  8.380000e+02      1.930000e+02            3.779581e+01   \n",
       "max    7.196000e+03  8.628100e+04      4.270000e+02            3.788022e+01   \n",
       "\n",
       "       start_station_longitude  end_station_id  end_station_latitude  \\\n",
       "count             3.197671e+06    3.197671e+06          3.197671e+06   \n",
       "mean             -1.223534e+02    1.210837e+02          3.776950e+01   \n",
       "std               1.357226e-01    1.036002e+02          1.336651e-01   \n",
       "min              -1.224737e+02    3.000000e+00          0.000000e+00   \n",
       "25%              -1.224117e+02    3.000000e+01          3.777143e+01   \n",
       "50%              -1.223974e+02    8.900000e+01          3.778127e+01   \n",
       "75%              -1.222914e+02    1.890000e+02          3.779625e+01   \n",
       "max               0.000000e+00    4.270000e+02          3.788022e+01   \n",
       "\n",
       "       end_station_longitude  member_birth_year  \n",
       "count           3.197671e+06       3.197671e+06  \n",
       "mean           -1.223521e+02       1.983189e+03  \n",
       "std             3.128577e-01       1.043911e+01  \n",
       "min            -1.224737e+02       1.878000e+03  \n",
       "25%            -1.224108e+02       1.978000e+03  \n",
       "50%            -1.223971e+02       1.986000e+03  \n",
       "75%            -1.222914e+02       1.991000e+03  \n",
       "max             0.000000e+00       2.001000e+03  "
      ]
     },
     "execution_count": 37,
     "metadata": {},
     "output_type": "execute_result"
    }
   ],
   "source": [
    "# Check statistics for numerical columns\n",
    "df.describe()"
   ]
  },
  {
   "cell_type": "markdown",
   "metadata": {},
   "source": [
    "1. Max duration in seconds appears way too high, a 23 hour bike rental cannot be a legitimate rental (could be someone incorrectly returning the bike? If there's multiple of these trips from the same bikes, do we have broken bikes?). I will need to plot the distribution of ride durations and select a reasonable range to focus on.\n",
    "2. Min birth year of 1983 would make the rider 141 years old. This must be an error and a reasonable age range will need to be selected and focused on.\n",
    "3. Station latitudes of 0 would place the stations on the equator. The Bay area coordinates should all be between 37 and 38 for latitude and -121 and -123 for longitude."
   ]
  },
  {
   "cell_type": "markdown",
   "metadata": {},
   "source": [
    "### Correct latitude and longitude issues\n",
    "\n",
    "#### Define\n",
    "The only station coordinates outside the expected range are for the test station data entry, so there is no filling or adjusting of values to be done. Use .drop() to drop all rows where start_station_name or end_station_name is \"SF Test Station\"."
   ]
  },
  {
   "cell_type": "markdown",
   "metadata": {},
   "source": [
    "#### Code"
   ]
  },
  {
   "cell_type": "code",
   "execution_count": 40,
   "metadata": {},
   "outputs": [
    {
     "data": {
      "text/html": [
       "<div>\n",
       "<style scoped>\n",
       "    .dataframe tbody tr th:only-of-type {\n",
       "        vertical-align: middle;\n",
       "    }\n",
       "\n",
       "    .dataframe tbody tr th {\n",
       "        vertical-align: top;\n",
       "    }\n",
       "\n",
       "    .dataframe thead th {\n",
       "        text-align: right;\n",
       "    }\n",
       "</style>\n",
       "<table border=\"1\" class=\"dataframe\">\n",
       "  <thead>\n",
       "    <tr style=\"text-align: right;\">\n",
       "      <th></th>\n",
       "      <th>bike_id</th>\n",
       "      <th>duration_sec</th>\n",
       "      <th>start_time</th>\n",
       "      <th>end_time</th>\n",
       "      <th>start_station_id</th>\n",
       "      <th>start_station_name</th>\n",
       "      <th>start_station_latitude</th>\n",
       "      <th>start_station_longitude</th>\n",
       "      <th>end_station_id</th>\n",
       "      <th>end_station_name</th>\n",
       "      <th>end_station_latitude</th>\n",
       "      <th>end_station_longitude</th>\n",
       "      <th>user_type</th>\n",
       "      <th>bike_share_for_all_trip</th>\n",
       "      <th>member_gender</th>\n",
       "      <th>member_birth_year</th>\n",
       "    </tr>\n",
       "  </thead>\n",
       "  <tbody>\n",
       "    <tr>\n",
       "      <th>265936</th>\n",
       "      <td>1161</td>\n",
       "      <td>175</td>\n",
       "      <td>2019-04-24 16:56:54.516</td>\n",
       "      <td>2019-04-24 16:59:50.429</td>\n",
       "      <td>420</td>\n",
       "      <td>SF Test Station</td>\n",
       "      <td>0.0</td>\n",
       "      <td>0.0</td>\n",
       "      <td>81</td>\n",
       "      <td>Berry St at 4th St</td>\n",
       "      <td>37.77588</td>\n",
       "      <td>-122.39317</td>\n",
       "      <td>Subscriber</td>\n",
       "      <td>No</td>\n",
       "      <td>Male</td>\n",
       "      <td>1983</td>\n",
       "    </tr>\n",
       "  </tbody>\n",
       "</table>\n",
       "</div>"
      ],
      "text/plain": [
       "        bike_id  duration_sec              start_time                end_time  \\\n",
       "265936     1161           175 2019-04-24 16:56:54.516 2019-04-24 16:59:50.429   \n",
       "\n",
       "        start_station_id start_station_name  start_station_latitude  \\\n",
       "265936               420    SF Test Station                     0.0   \n",
       "\n",
       "        start_station_longitude  end_station_id    end_station_name  \\\n",
       "265936                      0.0              81  Berry St at 4th St   \n",
       "\n",
       "        end_station_latitude  end_station_longitude   user_type  \\\n",
       "265936              37.77588             -122.39317  Subscriber   \n",
       "\n",
       "       bike_share_for_all_trip member_gender  member_birth_year  \n",
       "265936                      No          Male               1983  "
      ]
     },
     "execution_count": 40,
     "metadata": {},
     "output_type": "execute_result"
    }
   ],
   "source": [
    "# Start station latitude test lower limit\n",
    "df.query('start_station_latitude < 37')"
   ]
  },
  {
   "cell_type": "code",
   "execution_count": 39,
   "metadata": {},
   "outputs": [
    {
     "data": {
      "text/html": [
       "<div>\n",
       "<style scoped>\n",
       "    .dataframe tbody tr th:only-of-type {\n",
       "        vertical-align: middle;\n",
       "    }\n",
       "\n",
       "    .dataframe tbody tr th {\n",
       "        vertical-align: top;\n",
       "    }\n",
       "\n",
       "    .dataframe thead th {\n",
       "        text-align: right;\n",
       "    }\n",
       "</style>\n",
       "<table border=\"1\" class=\"dataframe\">\n",
       "  <thead>\n",
       "    <tr style=\"text-align: right;\">\n",
       "      <th></th>\n",
       "      <th>bike_id</th>\n",
       "      <th>duration_sec</th>\n",
       "      <th>start_time</th>\n",
       "      <th>end_time</th>\n",
       "      <th>start_station_id</th>\n",
       "      <th>start_station_name</th>\n",
       "      <th>start_station_latitude</th>\n",
       "      <th>start_station_longitude</th>\n",
       "      <th>end_station_id</th>\n",
       "      <th>end_station_name</th>\n",
       "      <th>end_station_latitude</th>\n",
       "      <th>end_station_longitude</th>\n",
       "      <th>user_type</th>\n",
       "      <th>bike_share_for_all_trip</th>\n",
       "      <th>member_gender</th>\n",
       "      <th>member_birth_year</th>\n",
       "    </tr>\n",
       "  </thead>\n",
       "  <tbody>\n",
       "  </tbody>\n",
       "</table>\n",
       "</div>"
      ],
      "text/plain": [
       "Empty DataFrame\n",
       "Columns: [bike_id, duration_sec, start_time, end_time, start_station_id, start_station_name, start_station_latitude, start_station_longitude, end_station_id, end_station_name, end_station_latitude, end_station_longitude, user_type, bike_share_for_all_trip, member_gender, member_birth_year]\n",
       "Index: []"
      ]
     },
     "execution_count": 39,
     "metadata": {},
     "output_type": "execute_result"
    }
   ],
   "source": [
    "# Start station latitude test upper limit\n",
    "df.query('start_station_latitude > 38')"
   ]
  },
  {
   "cell_type": "code",
   "execution_count": 46,
   "metadata": {},
   "outputs": [
    {
     "data": {
      "text/html": [
       "<div>\n",
       "<style scoped>\n",
       "    .dataframe tbody tr th:only-of-type {\n",
       "        vertical-align: middle;\n",
       "    }\n",
       "\n",
       "    .dataframe tbody tr th {\n",
       "        vertical-align: top;\n",
       "    }\n",
       "\n",
       "    .dataframe thead th {\n",
       "        text-align: right;\n",
       "    }\n",
       "</style>\n",
       "<table border=\"1\" class=\"dataframe\">\n",
       "  <thead>\n",
       "    <tr style=\"text-align: right;\">\n",
       "      <th></th>\n",
       "      <th>bike_id</th>\n",
       "      <th>duration_sec</th>\n",
       "      <th>start_time</th>\n",
       "      <th>end_time</th>\n",
       "      <th>start_station_id</th>\n",
       "      <th>start_station_name</th>\n",
       "      <th>start_station_latitude</th>\n",
       "      <th>start_station_longitude</th>\n",
       "      <th>end_station_id</th>\n",
       "      <th>end_station_name</th>\n",
       "      <th>end_station_latitude</th>\n",
       "      <th>end_station_longitude</th>\n",
       "      <th>user_type</th>\n",
       "      <th>bike_share_for_all_trip</th>\n",
       "      <th>member_gender</th>\n",
       "      <th>member_birth_year</th>\n",
       "    </tr>\n",
       "  </thead>\n",
       "  <tbody>\n",
       "    <tr>\n",
       "      <th>265936</th>\n",
       "      <td>1161</td>\n",
       "      <td>175</td>\n",
       "      <td>2019-04-24 16:56:54.516</td>\n",
       "      <td>2019-04-24 16:59:50.429</td>\n",
       "      <td>420</td>\n",
       "      <td>SF Test Station</td>\n",
       "      <td>0.0</td>\n",
       "      <td>0.0</td>\n",
       "      <td>81</td>\n",
       "      <td>Berry St at 4th St</td>\n",
       "      <td>37.77588</td>\n",
       "      <td>-122.39317</td>\n",
       "      <td>Subscriber</td>\n",
       "      <td>No</td>\n",
       "      <td>Male</td>\n",
       "      <td>1983</td>\n",
       "    </tr>\n",
       "  </tbody>\n",
       "</table>\n",
       "</div>"
      ],
      "text/plain": [
       "        bike_id  duration_sec              start_time                end_time  \\\n",
       "265936     1161           175 2019-04-24 16:56:54.516 2019-04-24 16:59:50.429   \n",
       "\n",
       "        start_station_id start_station_name  start_station_latitude  \\\n",
       "265936               420    SF Test Station                     0.0   \n",
       "\n",
       "        start_station_longitude  end_station_id    end_station_name  \\\n",
       "265936                      0.0              81  Berry St at 4th St   \n",
       "\n",
       "        end_station_latitude  end_station_longitude   user_type  \\\n",
       "265936              37.77588             -122.39317  Subscriber   \n",
       "\n",
       "       bike_share_for_all_trip member_gender  member_birth_year  \n",
       "265936                      No          Male               1983  "
      ]
     },
     "execution_count": 46,
     "metadata": {},
     "output_type": "execute_result"
    }
   ],
   "source": [
    "# Start station longitude test lower limit\n",
    "df.query('start_station_longitude > -121')"
   ]
  },
  {
   "cell_type": "code",
   "execution_count": 47,
   "metadata": {},
   "outputs": [
    {
     "data": {
      "text/html": [
       "<div>\n",
       "<style scoped>\n",
       "    .dataframe tbody tr th:only-of-type {\n",
       "        vertical-align: middle;\n",
       "    }\n",
       "\n",
       "    .dataframe tbody tr th {\n",
       "        vertical-align: top;\n",
       "    }\n",
       "\n",
       "    .dataframe thead th {\n",
       "        text-align: right;\n",
       "    }\n",
       "</style>\n",
       "<table border=\"1\" class=\"dataframe\">\n",
       "  <thead>\n",
       "    <tr style=\"text-align: right;\">\n",
       "      <th></th>\n",
       "      <th>bike_id</th>\n",
       "      <th>duration_sec</th>\n",
       "      <th>start_time</th>\n",
       "      <th>end_time</th>\n",
       "      <th>start_station_id</th>\n",
       "      <th>start_station_name</th>\n",
       "      <th>start_station_latitude</th>\n",
       "      <th>start_station_longitude</th>\n",
       "      <th>end_station_id</th>\n",
       "      <th>end_station_name</th>\n",
       "      <th>end_station_latitude</th>\n",
       "      <th>end_station_longitude</th>\n",
       "      <th>user_type</th>\n",
       "      <th>bike_share_for_all_trip</th>\n",
       "      <th>member_gender</th>\n",
       "      <th>member_birth_year</th>\n",
       "    </tr>\n",
       "  </thead>\n",
       "  <tbody>\n",
       "  </tbody>\n",
       "</table>\n",
       "</div>"
      ],
      "text/plain": [
       "Empty DataFrame\n",
       "Columns: [bike_id, duration_sec, start_time, end_time, start_station_id, start_station_name, start_station_latitude, start_station_longitude, end_station_id, end_station_name, end_station_latitude, end_station_longitude, user_type, bike_share_for_all_trip, member_gender, member_birth_year]\n",
       "Index: []"
      ]
     },
     "execution_count": 47,
     "metadata": {},
     "output_type": "execute_result"
    }
   ],
   "source": [
    "# Start station longitude test lower limit\n",
    "df.query('start_station_longitude < -123')"
   ]
  },
  {
   "cell_type": "code",
   "execution_count": 49,
   "metadata": {},
   "outputs": [
    {
     "data": {
      "text/html": [
       "<div>\n",
       "<style scoped>\n",
       "    .dataframe tbody tr th:only-of-type {\n",
       "        vertical-align: middle;\n",
       "    }\n",
       "\n",
       "    .dataframe tbody tr th {\n",
       "        vertical-align: top;\n",
       "    }\n",
       "\n",
       "    .dataframe thead th {\n",
       "        text-align: right;\n",
       "    }\n",
       "</style>\n",
       "<table border=\"1\" class=\"dataframe\">\n",
       "  <thead>\n",
       "    <tr style=\"text-align: right;\">\n",
       "      <th></th>\n",
       "      <th>bike_id</th>\n",
       "      <th>duration_sec</th>\n",
       "      <th>start_time</th>\n",
       "      <th>end_time</th>\n",
       "      <th>start_station_id</th>\n",
       "      <th>start_station_name</th>\n",
       "      <th>start_station_latitude</th>\n",
       "      <th>start_station_longitude</th>\n",
       "      <th>end_station_id</th>\n",
       "      <th>end_station_name</th>\n",
       "      <th>end_station_latitude</th>\n",
       "      <th>end_station_longitude</th>\n",
       "      <th>user_type</th>\n",
       "      <th>bike_share_for_all_trip</th>\n",
       "      <th>member_gender</th>\n",
       "      <th>member_birth_year</th>\n",
       "    </tr>\n",
       "  </thead>\n",
       "  <tbody>\n",
       "    <tr>\n",
       "      <th>228312</th>\n",
       "      <td>1612</td>\n",
       "      <td>2365</td>\n",
       "      <td>2019-04-30 18:21:42.610</td>\n",
       "      <td>2019-04-30 19:01:08.146</td>\n",
       "      <td>50</td>\n",
       "      <td>2nd St at Townsend St</td>\n",
       "      <td>37.780526</td>\n",
       "      <td>-122.390288</td>\n",
       "      <td>420</td>\n",
       "      <td>SF Test Station</td>\n",
       "      <td>0.0</td>\n",
       "      <td>0.0</td>\n",
       "      <td>Subscriber</td>\n",
       "      <td>No</td>\n",
       "      <td>Female</td>\n",
       "      <td>1995</td>\n",
       "    </tr>\n",
       "    <tr>\n",
       "      <th>229051</th>\n",
       "      <td>3507</td>\n",
       "      <td>1964</td>\n",
       "      <td>2019-04-30 17:31:19.646</td>\n",
       "      <td>2019-04-30 18:04:04.518</td>\n",
       "      <td>98</td>\n",
       "      <td>Valencia St at 16th St</td>\n",
       "      <td>37.765052</td>\n",
       "      <td>-122.421866</td>\n",
       "      <td>420</td>\n",
       "      <td>SF Test Station</td>\n",
       "      <td>0.0</td>\n",
       "      <td>0.0</td>\n",
       "      <td>Subscriber</td>\n",
       "      <td>No</td>\n",
       "      <td>Female</td>\n",
       "      <td>1981</td>\n",
       "    </tr>\n",
       "    <tr>\n",
       "      <th>229203</th>\n",
       "      <td>1142</td>\n",
       "      <td>546</td>\n",
       "      <td>2019-04-30 17:45:38.452</td>\n",
       "      <td>2019-04-30 17:54:45.258</td>\n",
       "      <td>370</td>\n",
       "      <td>Jones St at Post St</td>\n",
       "      <td>37.787327</td>\n",
       "      <td>-122.413278</td>\n",
       "      <td>420</td>\n",
       "      <td>SF Test Station</td>\n",
       "      <td>0.0</td>\n",
       "      <td>0.0</td>\n",
       "      <td>Subscriber</td>\n",
       "      <td>Yes</td>\n",
       "      <td>Female</td>\n",
       "      <td>1991</td>\n",
       "    </tr>\n",
       "    <tr>\n",
       "      <th>229277</th>\n",
       "      <td>3500</td>\n",
       "      <td>630</td>\n",
       "      <td>2019-04-30 17:39:33.507</td>\n",
       "      <td>2019-04-30 17:50:04.314</td>\n",
       "      <td>21</td>\n",
       "      <td>Montgomery St BART Station (Market St at 2nd St)</td>\n",
       "      <td>37.789625</td>\n",
       "      <td>-122.400811</td>\n",
       "      <td>420</td>\n",
       "      <td>SF Test Station</td>\n",
       "      <td>0.0</td>\n",
       "      <td>0.0</td>\n",
       "      <td>Subscriber</td>\n",
       "      <td>No</td>\n",
       "      <td>Male</td>\n",
       "      <td>1991</td>\n",
       "    </tr>\n",
       "    <tr>\n",
       "      <th>229713</th>\n",
       "      <td>1181</td>\n",
       "      <td>433</td>\n",
       "      <td>2019-04-30 17:17:10.486</td>\n",
       "      <td>2019-04-30 17:24:23.919</td>\n",
       "      <td>11</td>\n",
       "      <td>Davis St at Jackson St</td>\n",
       "      <td>37.797280</td>\n",
       "      <td>-122.398436</td>\n",
       "      <td>420</td>\n",
       "      <td>SF Test Station</td>\n",
       "      <td>0.0</td>\n",
       "      <td>0.0</td>\n",
       "      <td>Subscriber</td>\n",
       "      <td>No</td>\n",
       "      <td>Male</td>\n",
       "      <td>1995</td>\n",
       "    </tr>\n",
       "    <tr>\n",
       "      <th>229792</th>\n",
       "      <td>2535</td>\n",
       "      <td>1233</td>\n",
       "      <td>2019-04-30 16:58:41.209</td>\n",
       "      <td>2019-04-30 17:19:14.689</td>\n",
       "      <td>81</td>\n",
       "      <td>Berry St at 4th St</td>\n",
       "      <td>37.775880</td>\n",
       "      <td>-122.393170</td>\n",
       "      <td>420</td>\n",
       "      <td>SF Test Station</td>\n",
       "      <td>0.0</td>\n",
       "      <td>0.0</td>\n",
       "      <td>Subscriber</td>\n",
       "      <td>No</td>\n",
       "      <td>Male</td>\n",
       "      <td>1970</td>\n",
       "    </tr>\n",
       "    <tr>\n",
       "      <th>229823</th>\n",
       "      <td>462</td>\n",
       "      <td>1306</td>\n",
       "      <td>2019-04-30 16:55:35.924</td>\n",
       "      <td>2019-04-30 17:17:22.162</td>\n",
       "      <td>80</td>\n",
       "      <td>Townsend St at 5th St</td>\n",
       "      <td>37.775235</td>\n",
       "      <td>-122.397437</td>\n",
       "      <td>420</td>\n",
       "      <td>SF Test Station</td>\n",
       "      <td>0.0</td>\n",
       "      <td>0.0</td>\n",
       "      <td>Subscriber</td>\n",
       "      <td>No</td>\n",
       "      <td>Male</td>\n",
       "      <td>1992</td>\n",
       "    </tr>\n",
       "    <tr>\n",
       "      <th>230101</th>\n",
       "      <td>1880</td>\n",
       "      <td>764</td>\n",
       "      <td>2019-04-30 16:44:12.351</td>\n",
       "      <td>2019-04-30 16:56:56.539</td>\n",
       "      <td>16</td>\n",
       "      <td>Steuart St at Market St</td>\n",
       "      <td>37.794130</td>\n",
       "      <td>-122.394430</td>\n",
       "      <td>420</td>\n",
       "      <td>SF Test Station</td>\n",
       "      <td>0.0</td>\n",
       "      <td>0.0</td>\n",
       "      <td>Customer</td>\n",
       "      <td>No</td>\n",
       "      <td>Male</td>\n",
       "      <td>1976</td>\n",
       "    </tr>\n",
       "    <tr>\n",
       "      <th>241904</th>\n",
       "      <td>150</td>\n",
       "      <td>1491</td>\n",
       "      <td>2019-04-28 18:40:41.288</td>\n",
       "      <td>2019-04-28 19:05:33.063</td>\n",
       "      <td>377</td>\n",
       "      <td>Fell St at Stanyan St</td>\n",
       "      <td>37.771917</td>\n",
       "      <td>-122.453704</td>\n",
       "      <td>420</td>\n",
       "      <td>SF Test Station</td>\n",
       "      <td>0.0</td>\n",
       "      <td>0.0</td>\n",
       "      <td>Customer</td>\n",
       "      <td>No</td>\n",
       "      <td>Male</td>\n",
       "      <td>1981</td>\n",
       "    </tr>\n",
       "    <tr>\n",
       "      <th>241956</th>\n",
       "      <td>311</td>\n",
       "      <td>680</td>\n",
       "      <td>2019-04-28 18:40:08.324</td>\n",
       "      <td>2019-04-28 18:51:28.357</td>\n",
       "      <td>139</td>\n",
       "      <td>Garfield Square (25th St at Harrison St)</td>\n",
       "      <td>37.751017</td>\n",
       "      <td>-122.411901</td>\n",
       "      <td>420</td>\n",
       "      <td>SF Test Station</td>\n",
       "      <td>0.0</td>\n",
       "      <td>0.0</td>\n",
       "      <td>Subscriber</td>\n",
       "      <td>No</td>\n",
       "      <td>Female</td>\n",
       "      <td>1981</td>\n",
       "    </tr>\n",
       "    <tr>\n",
       "      <th>242061</th>\n",
       "      <td>333</td>\n",
       "      <td>764</td>\n",
       "      <td>2019-04-28 18:10:38.170</td>\n",
       "      <td>2019-04-28 18:23:22.476</td>\n",
       "      <td>412</td>\n",
       "      <td>Glen Park BART Station</td>\n",
       "      <td>37.732813</td>\n",
       "      <td>-122.434140</td>\n",
       "      <td>420</td>\n",
       "      <td>SF Test Station</td>\n",
       "      <td>0.0</td>\n",
       "      <td>0.0</td>\n",
       "      <td>Customer</td>\n",
       "      <td>No</td>\n",
       "      <td>Male</td>\n",
       "      <td>1989</td>\n",
       "    </tr>\n",
       "    <tr>\n",
       "      <th>242062</th>\n",
       "      <td>2760</td>\n",
       "      <td>904</td>\n",
       "      <td>2019-04-28 18:08:13.576</td>\n",
       "      <td>2019-04-28 18:23:18.367</td>\n",
       "      <td>412</td>\n",
       "      <td>Glen Park BART Station</td>\n",
       "      <td>37.732813</td>\n",
       "      <td>-122.434140</td>\n",
       "      <td>420</td>\n",
       "      <td>SF Test Station</td>\n",
       "      <td>0.0</td>\n",
       "      <td>0.0</td>\n",
       "      <td>Customer</td>\n",
       "      <td>No</td>\n",
       "      <td>Male</td>\n",
       "      <td>1989</td>\n",
       "    </tr>\n",
       "    <tr>\n",
       "      <th>242090</th>\n",
       "      <td>3632</td>\n",
       "      <td>1501</td>\n",
       "      <td>2019-04-28 17:52:27.345</td>\n",
       "      <td>2019-04-28 18:17:28.410</td>\n",
       "      <td>377</td>\n",
       "      <td>Fell St at Stanyan St</td>\n",
       "      <td>37.771917</td>\n",
       "      <td>-122.453704</td>\n",
       "      <td>420</td>\n",
       "      <td>SF Test Station</td>\n",
       "      <td>0.0</td>\n",
       "      <td>0.0</td>\n",
       "      <td>Subscriber</td>\n",
       "      <td>No</td>\n",
       "      <td>Male</td>\n",
       "      <td>1997</td>\n",
       "    </tr>\n",
       "    <tr>\n",
       "      <th>242091</th>\n",
       "      <td>901</td>\n",
       "      <td>1503</td>\n",
       "      <td>2019-04-28 17:52:22.210</td>\n",
       "      <td>2019-04-28 18:17:25.545</td>\n",
       "      <td>377</td>\n",
       "      <td>Fell St at Stanyan St</td>\n",
       "      <td>37.771917</td>\n",
       "      <td>-122.453704</td>\n",
       "      <td>420</td>\n",
       "      <td>SF Test Station</td>\n",
       "      <td>0.0</td>\n",
       "      <td>0.0</td>\n",
       "      <td>Subscriber</td>\n",
       "      <td>No</td>\n",
       "      <td>Male</td>\n",
       "      <td>1995</td>\n",
       "    </tr>\n",
       "    <tr>\n",
       "      <th>242108</th>\n",
       "      <td>536</td>\n",
       "      <td>840</td>\n",
       "      <td>2019-04-28 18:00:23.567</td>\n",
       "      <td>2019-04-28 18:14:23.599</td>\n",
       "      <td>88</td>\n",
       "      <td>11th St at Bryant St</td>\n",
       "      <td>37.770030</td>\n",
       "      <td>-122.411726</td>\n",
       "      <td>420</td>\n",
       "      <td>SF Test Station</td>\n",
       "      <td>0.0</td>\n",
       "      <td>0.0</td>\n",
       "      <td>Subscriber</td>\n",
       "      <td>No</td>\n",
       "      <td>Male</td>\n",
       "      <td>1981</td>\n",
       "    </tr>\n",
       "    <tr>\n",
       "      <th>265975</th>\n",
       "      <td>3498</td>\n",
       "      <td>195</td>\n",
       "      <td>2019-04-24 16:53:35.591</td>\n",
       "      <td>2019-04-24 16:56:51.006</td>\n",
       "      <td>104</td>\n",
       "      <td>4th St at 16th St</td>\n",
       "      <td>37.767045</td>\n",
       "      <td>-122.390833</td>\n",
       "      <td>420</td>\n",
       "      <td>SF Test Station</td>\n",
       "      <td>0.0</td>\n",
       "      <td>0.0</td>\n",
       "      <td>Subscriber</td>\n",
       "      <td>No</td>\n",
       "      <td>Female</td>\n",
       "      <td>1970</td>\n",
       "    </tr>\n",
       "    <tr>\n",
       "      <th>274511</th>\n",
       "      <td>1768</td>\n",
       "      <td>921</td>\n",
       "      <td>2019-04-23 13:14:09.492</td>\n",
       "      <td>2019-04-23 13:29:31.333</td>\n",
       "      <td>20</td>\n",
       "      <td>Mechanics Monument Plaza (Market St at Bush St)</td>\n",
       "      <td>37.791300</td>\n",
       "      <td>-122.399051</td>\n",
       "      <td>420</td>\n",
       "      <td>SF Test Station</td>\n",
       "      <td>0.0</td>\n",
       "      <td>0.0</td>\n",
       "      <td>Subscriber</td>\n",
       "      <td>No</td>\n",
       "      <td>Male</td>\n",
       "      <td>1967</td>\n",
       "    </tr>\n",
       "    <tr>\n",
       "      <th>310743</th>\n",
       "      <td>1939</td>\n",
       "      <td>912</td>\n",
       "      <td>2019-04-17 09:30:11.764</td>\n",
       "      <td>2019-04-17 09:45:24.263</td>\n",
       "      <td>399</td>\n",
       "      <td>Bay St at Fillmore St</td>\n",
       "      <td>37.802636</td>\n",
       "      <td>-122.436289</td>\n",
       "      <td>420</td>\n",
       "      <td>SF Test Station</td>\n",
       "      <td>0.0</td>\n",
       "      <td>0.0</td>\n",
       "      <td>Subscriber</td>\n",
       "      <td>No</td>\n",
       "      <td>Male</td>\n",
       "      <td>1982</td>\n",
       "    </tr>\n",
       "  </tbody>\n",
       "</table>\n",
       "</div>"
      ],
      "text/plain": [
       "        bike_id  duration_sec              start_time                end_time  \\\n",
       "228312     1612          2365 2019-04-30 18:21:42.610 2019-04-30 19:01:08.146   \n",
       "229051     3507          1964 2019-04-30 17:31:19.646 2019-04-30 18:04:04.518   \n",
       "229203     1142           546 2019-04-30 17:45:38.452 2019-04-30 17:54:45.258   \n",
       "229277     3500           630 2019-04-30 17:39:33.507 2019-04-30 17:50:04.314   \n",
       "229713     1181           433 2019-04-30 17:17:10.486 2019-04-30 17:24:23.919   \n",
       "229792     2535          1233 2019-04-30 16:58:41.209 2019-04-30 17:19:14.689   \n",
       "229823      462          1306 2019-04-30 16:55:35.924 2019-04-30 17:17:22.162   \n",
       "230101     1880           764 2019-04-30 16:44:12.351 2019-04-30 16:56:56.539   \n",
       "241904      150          1491 2019-04-28 18:40:41.288 2019-04-28 19:05:33.063   \n",
       "241956      311           680 2019-04-28 18:40:08.324 2019-04-28 18:51:28.357   \n",
       "242061      333           764 2019-04-28 18:10:38.170 2019-04-28 18:23:22.476   \n",
       "242062     2760           904 2019-04-28 18:08:13.576 2019-04-28 18:23:18.367   \n",
       "242090     3632          1501 2019-04-28 17:52:27.345 2019-04-28 18:17:28.410   \n",
       "242091      901          1503 2019-04-28 17:52:22.210 2019-04-28 18:17:25.545   \n",
       "242108      536           840 2019-04-28 18:00:23.567 2019-04-28 18:14:23.599   \n",
       "265975     3498           195 2019-04-24 16:53:35.591 2019-04-24 16:56:51.006   \n",
       "274511     1768           921 2019-04-23 13:14:09.492 2019-04-23 13:29:31.333   \n",
       "310743     1939           912 2019-04-17 09:30:11.764 2019-04-17 09:45:24.263   \n",
       "\n",
       "        start_station_id                                start_station_name  \\\n",
       "228312                50                             2nd St at Townsend St   \n",
       "229051                98                            Valencia St at 16th St   \n",
       "229203               370                               Jones St at Post St   \n",
       "229277                21  Montgomery St BART Station (Market St at 2nd St)   \n",
       "229713                11                            Davis St at Jackson St   \n",
       "229792                81                                Berry St at 4th St   \n",
       "229823                80                             Townsend St at 5th St   \n",
       "230101                16                           Steuart St at Market St   \n",
       "241904               377                             Fell St at Stanyan St   \n",
       "241956               139          Garfield Square (25th St at Harrison St)   \n",
       "242061               412                            Glen Park BART Station   \n",
       "242062               412                            Glen Park BART Station   \n",
       "242090               377                             Fell St at Stanyan St   \n",
       "242091               377                             Fell St at Stanyan St   \n",
       "242108                88                              11th St at Bryant St   \n",
       "265975               104                                 4th St at 16th St   \n",
       "274511                20   Mechanics Monument Plaza (Market St at Bush St)   \n",
       "310743               399                             Bay St at Fillmore St   \n",
       "\n",
       "        start_station_latitude  start_station_longitude  end_station_id  \\\n",
       "228312               37.780526              -122.390288             420   \n",
       "229051               37.765052              -122.421866             420   \n",
       "229203               37.787327              -122.413278             420   \n",
       "229277               37.789625              -122.400811             420   \n",
       "229713               37.797280              -122.398436             420   \n",
       "229792               37.775880              -122.393170             420   \n",
       "229823               37.775235              -122.397437             420   \n",
       "230101               37.794130              -122.394430             420   \n",
       "241904               37.771917              -122.453704             420   \n",
       "241956               37.751017              -122.411901             420   \n",
       "242061               37.732813              -122.434140             420   \n",
       "242062               37.732813              -122.434140             420   \n",
       "242090               37.771917              -122.453704             420   \n",
       "242091               37.771917              -122.453704             420   \n",
       "242108               37.770030              -122.411726             420   \n",
       "265975               37.767045              -122.390833             420   \n",
       "274511               37.791300              -122.399051             420   \n",
       "310743               37.802636              -122.436289             420   \n",
       "\n",
       "       end_station_name  end_station_latitude  end_station_longitude  \\\n",
       "228312  SF Test Station                   0.0                    0.0   \n",
       "229051  SF Test Station                   0.0                    0.0   \n",
       "229203  SF Test Station                   0.0                    0.0   \n",
       "229277  SF Test Station                   0.0                    0.0   \n",
       "229713  SF Test Station                   0.0                    0.0   \n",
       "229792  SF Test Station                   0.0                    0.0   \n",
       "229823  SF Test Station                   0.0                    0.0   \n",
       "230101  SF Test Station                   0.0                    0.0   \n",
       "241904  SF Test Station                   0.0                    0.0   \n",
       "241956  SF Test Station                   0.0                    0.0   \n",
       "242061  SF Test Station                   0.0                    0.0   \n",
       "242062  SF Test Station                   0.0                    0.0   \n",
       "242090  SF Test Station                   0.0                    0.0   \n",
       "242091  SF Test Station                   0.0                    0.0   \n",
       "242108  SF Test Station                   0.0                    0.0   \n",
       "265975  SF Test Station                   0.0                    0.0   \n",
       "274511  SF Test Station                   0.0                    0.0   \n",
       "310743  SF Test Station                   0.0                    0.0   \n",
       "\n",
       "         user_type bike_share_for_all_trip member_gender  member_birth_year  \n",
       "228312  Subscriber                      No        Female               1995  \n",
       "229051  Subscriber                      No        Female               1981  \n",
       "229203  Subscriber                     Yes        Female               1991  \n",
       "229277  Subscriber                      No          Male               1991  \n",
       "229713  Subscriber                      No          Male               1995  \n",
       "229792  Subscriber                      No          Male               1970  \n",
       "229823  Subscriber                      No          Male               1992  \n",
       "230101    Customer                      No          Male               1976  \n",
       "241904    Customer                      No          Male               1981  \n",
       "241956  Subscriber                      No        Female               1981  \n",
       "242061    Customer                      No          Male               1989  \n",
       "242062    Customer                      No          Male               1989  \n",
       "242090  Subscriber                      No          Male               1997  \n",
       "242091  Subscriber                      No          Male               1995  \n",
       "242108  Subscriber                      No          Male               1981  \n",
       "265975  Subscriber                      No        Female               1970  \n",
       "274511  Subscriber                      No          Male               1967  \n",
       "310743  Subscriber                      No          Male               1982  "
      ]
     },
     "execution_count": 49,
     "metadata": {},
     "output_type": "execute_result"
    }
   ],
   "source": [
    "# End station latitude test lower limit\n",
    "df.query('end_station_latitude < 37')"
   ]
  },
  {
   "cell_type": "code",
   "execution_count": 50,
   "metadata": {},
   "outputs": [
    {
     "data": {
      "text/html": [
       "<div>\n",
       "<style scoped>\n",
       "    .dataframe tbody tr th:only-of-type {\n",
       "        vertical-align: middle;\n",
       "    }\n",
       "\n",
       "    .dataframe tbody tr th {\n",
       "        vertical-align: top;\n",
       "    }\n",
       "\n",
       "    .dataframe thead th {\n",
       "        text-align: right;\n",
       "    }\n",
       "</style>\n",
       "<table border=\"1\" class=\"dataframe\">\n",
       "  <thead>\n",
       "    <tr style=\"text-align: right;\">\n",
       "      <th></th>\n",
       "      <th>bike_id</th>\n",
       "      <th>duration_sec</th>\n",
       "      <th>start_time</th>\n",
       "      <th>end_time</th>\n",
       "      <th>start_station_id</th>\n",
       "      <th>start_station_name</th>\n",
       "      <th>start_station_latitude</th>\n",
       "      <th>start_station_longitude</th>\n",
       "      <th>end_station_id</th>\n",
       "      <th>end_station_name</th>\n",
       "      <th>end_station_latitude</th>\n",
       "      <th>end_station_longitude</th>\n",
       "      <th>user_type</th>\n",
       "      <th>bike_share_for_all_trip</th>\n",
       "      <th>member_gender</th>\n",
       "      <th>member_birth_year</th>\n",
       "    </tr>\n",
       "  </thead>\n",
       "  <tbody>\n",
       "  </tbody>\n",
       "</table>\n",
       "</div>"
      ],
      "text/plain": [
       "Empty DataFrame\n",
       "Columns: [bike_id, duration_sec, start_time, end_time, start_station_id, start_station_name, start_station_latitude, start_station_longitude, end_station_id, end_station_name, end_station_latitude, end_station_longitude, user_type, bike_share_for_all_trip, member_gender, member_birth_year]\n",
       "Index: []"
      ]
     },
     "execution_count": 50,
     "metadata": {},
     "output_type": "execute_result"
    }
   ],
   "source": [
    "# End station latitude test upper limit\n",
    "df.query('end_station_latitude > 38')"
   ]
  },
  {
   "cell_type": "code",
   "execution_count": 51,
   "metadata": {},
   "outputs": [
    {
     "data": {
      "text/html": [
       "<div>\n",
       "<style scoped>\n",
       "    .dataframe tbody tr th:only-of-type {\n",
       "        vertical-align: middle;\n",
       "    }\n",
       "\n",
       "    .dataframe tbody tr th {\n",
       "        vertical-align: top;\n",
       "    }\n",
       "\n",
       "    .dataframe thead th {\n",
       "        text-align: right;\n",
       "    }\n",
       "</style>\n",
       "<table border=\"1\" class=\"dataframe\">\n",
       "  <thead>\n",
       "    <tr style=\"text-align: right;\">\n",
       "      <th></th>\n",
       "      <th>bike_id</th>\n",
       "      <th>duration_sec</th>\n",
       "      <th>start_time</th>\n",
       "      <th>end_time</th>\n",
       "      <th>start_station_id</th>\n",
       "      <th>start_station_name</th>\n",
       "      <th>start_station_latitude</th>\n",
       "      <th>start_station_longitude</th>\n",
       "      <th>end_station_id</th>\n",
       "      <th>end_station_name</th>\n",
       "      <th>end_station_latitude</th>\n",
       "      <th>end_station_longitude</th>\n",
       "      <th>user_type</th>\n",
       "      <th>bike_share_for_all_trip</th>\n",
       "      <th>member_gender</th>\n",
       "      <th>member_birth_year</th>\n",
       "    </tr>\n",
       "  </thead>\n",
       "  <tbody>\n",
       "    <tr>\n",
       "      <th>228312</th>\n",
       "      <td>1612</td>\n",
       "      <td>2365</td>\n",
       "      <td>2019-04-30 18:21:42.610</td>\n",
       "      <td>2019-04-30 19:01:08.146</td>\n",
       "      <td>50</td>\n",
       "      <td>2nd St at Townsend St</td>\n",
       "      <td>37.780526</td>\n",
       "      <td>-122.390288</td>\n",
       "      <td>420</td>\n",
       "      <td>SF Test Station</td>\n",
       "      <td>0.0</td>\n",
       "      <td>0.0</td>\n",
       "      <td>Subscriber</td>\n",
       "      <td>No</td>\n",
       "      <td>Female</td>\n",
       "      <td>1995</td>\n",
       "    </tr>\n",
       "    <tr>\n",
       "      <th>229051</th>\n",
       "      <td>3507</td>\n",
       "      <td>1964</td>\n",
       "      <td>2019-04-30 17:31:19.646</td>\n",
       "      <td>2019-04-30 18:04:04.518</td>\n",
       "      <td>98</td>\n",
       "      <td>Valencia St at 16th St</td>\n",
       "      <td>37.765052</td>\n",
       "      <td>-122.421866</td>\n",
       "      <td>420</td>\n",
       "      <td>SF Test Station</td>\n",
       "      <td>0.0</td>\n",
       "      <td>0.0</td>\n",
       "      <td>Subscriber</td>\n",
       "      <td>No</td>\n",
       "      <td>Female</td>\n",
       "      <td>1981</td>\n",
       "    </tr>\n",
       "    <tr>\n",
       "      <th>229203</th>\n",
       "      <td>1142</td>\n",
       "      <td>546</td>\n",
       "      <td>2019-04-30 17:45:38.452</td>\n",
       "      <td>2019-04-30 17:54:45.258</td>\n",
       "      <td>370</td>\n",
       "      <td>Jones St at Post St</td>\n",
       "      <td>37.787327</td>\n",
       "      <td>-122.413278</td>\n",
       "      <td>420</td>\n",
       "      <td>SF Test Station</td>\n",
       "      <td>0.0</td>\n",
       "      <td>0.0</td>\n",
       "      <td>Subscriber</td>\n",
       "      <td>Yes</td>\n",
       "      <td>Female</td>\n",
       "      <td>1991</td>\n",
       "    </tr>\n",
       "    <tr>\n",
       "      <th>229277</th>\n",
       "      <td>3500</td>\n",
       "      <td>630</td>\n",
       "      <td>2019-04-30 17:39:33.507</td>\n",
       "      <td>2019-04-30 17:50:04.314</td>\n",
       "      <td>21</td>\n",
       "      <td>Montgomery St BART Station (Market St at 2nd St)</td>\n",
       "      <td>37.789625</td>\n",
       "      <td>-122.400811</td>\n",
       "      <td>420</td>\n",
       "      <td>SF Test Station</td>\n",
       "      <td>0.0</td>\n",
       "      <td>0.0</td>\n",
       "      <td>Subscriber</td>\n",
       "      <td>No</td>\n",
       "      <td>Male</td>\n",
       "      <td>1991</td>\n",
       "    </tr>\n",
       "    <tr>\n",
       "      <th>229713</th>\n",
       "      <td>1181</td>\n",
       "      <td>433</td>\n",
       "      <td>2019-04-30 17:17:10.486</td>\n",
       "      <td>2019-04-30 17:24:23.919</td>\n",
       "      <td>11</td>\n",
       "      <td>Davis St at Jackson St</td>\n",
       "      <td>37.797280</td>\n",
       "      <td>-122.398436</td>\n",
       "      <td>420</td>\n",
       "      <td>SF Test Station</td>\n",
       "      <td>0.0</td>\n",
       "      <td>0.0</td>\n",
       "      <td>Subscriber</td>\n",
       "      <td>No</td>\n",
       "      <td>Male</td>\n",
       "      <td>1995</td>\n",
       "    </tr>\n",
       "    <tr>\n",
       "      <th>229792</th>\n",
       "      <td>2535</td>\n",
       "      <td>1233</td>\n",
       "      <td>2019-04-30 16:58:41.209</td>\n",
       "      <td>2019-04-30 17:19:14.689</td>\n",
       "      <td>81</td>\n",
       "      <td>Berry St at 4th St</td>\n",
       "      <td>37.775880</td>\n",
       "      <td>-122.393170</td>\n",
       "      <td>420</td>\n",
       "      <td>SF Test Station</td>\n",
       "      <td>0.0</td>\n",
       "      <td>0.0</td>\n",
       "      <td>Subscriber</td>\n",
       "      <td>No</td>\n",
       "      <td>Male</td>\n",
       "      <td>1970</td>\n",
       "    </tr>\n",
       "    <tr>\n",
       "      <th>229823</th>\n",
       "      <td>462</td>\n",
       "      <td>1306</td>\n",
       "      <td>2019-04-30 16:55:35.924</td>\n",
       "      <td>2019-04-30 17:17:22.162</td>\n",
       "      <td>80</td>\n",
       "      <td>Townsend St at 5th St</td>\n",
       "      <td>37.775235</td>\n",
       "      <td>-122.397437</td>\n",
       "      <td>420</td>\n",
       "      <td>SF Test Station</td>\n",
       "      <td>0.0</td>\n",
       "      <td>0.0</td>\n",
       "      <td>Subscriber</td>\n",
       "      <td>No</td>\n",
       "      <td>Male</td>\n",
       "      <td>1992</td>\n",
       "    </tr>\n",
       "    <tr>\n",
       "      <th>230101</th>\n",
       "      <td>1880</td>\n",
       "      <td>764</td>\n",
       "      <td>2019-04-30 16:44:12.351</td>\n",
       "      <td>2019-04-30 16:56:56.539</td>\n",
       "      <td>16</td>\n",
       "      <td>Steuart St at Market St</td>\n",
       "      <td>37.794130</td>\n",
       "      <td>-122.394430</td>\n",
       "      <td>420</td>\n",
       "      <td>SF Test Station</td>\n",
       "      <td>0.0</td>\n",
       "      <td>0.0</td>\n",
       "      <td>Customer</td>\n",
       "      <td>No</td>\n",
       "      <td>Male</td>\n",
       "      <td>1976</td>\n",
       "    </tr>\n",
       "    <tr>\n",
       "      <th>241904</th>\n",
       "      <td>150</td>\n",
       "      <td>1491</td>\n",
       "      <td>2019-04-28 18:40:41.288</td>\n",
       "      <td>2019-04-28 19:05:33.063</td>\n",
       "      <td>377</td>\n",
       "      <td>Fell St at Stanyan St</td>\n",
       "      <td>37.771917</td>\n",
       "      <td>-122.453704</td>\n",
       "      <td>420</td>\n",
       "      <td>SF Test Station</td>\n",
       "      <td>0.0</td>\n",
       "      <td>0.0</td>\n",
       "      <td>Customer</td>\n",
       "      <td>No</td>\n",
       "      <td>Male</td>\n",
       "      <td>1981</td>\n",
       "    </tr>\n",
       "    <tr>\n",
       "      <th>241956</th>\n",
       "      <td>311</td>\n",
       "      <td>680</td>\n",
       "      <td>2019-04-28 18:40:08.324</td>\n",
       "      <td>2019-04-28 18:51:28.357</td>\n",
       "      <td>139</td>\n",
       "      <td>Garfield Square (25th St at Harrison St)</td>\n",
       "      <td>37.751017</td>\n",
       "      <td>-122.411901</td>\n",
       "      <td>420</td>\n",
       "      <td>SF Test Station</td>\n",
       "      <td>0.0</td>\n",
       "      <td>0.0</td>\n",
       "      <td>Subscriber</td>\n",
       "      <td>No</td>\n",
       "      <td>Female</td>\n",
       "      <td>1981</td>\n",
       "    </tr>\n",
       "    <tr>\n",
       "      <th>242061</th>\n",
       "      <td>333</td>\n",
       "      <td>764</td>\n",
       "      <td>2019-04-28 18:10:38.170</td>\n",
       "      <td>2019-04-28 18:23:22.476</td>\n",
       "      <td>412</td>\n",
       "      <td>Glen Park BART Station</td>\n",
       "      <td>37.732813</td>\n",
       "      <td>-122.434140</td>\n",
       "      <td>420</td>\n",
       "      <td>SF Test Station</td>\n",
       "      <td>0.0</td>\n",
       "      <td>0.0</td>\n",
       "      <td>Customer</td>\n",
       "      <td>No</td>\n",
       "      <td>Male</td>\n",
       "      <td>1989</td>\n",
       "    </tr>\n",
       "    <tr>\n",
       "      <th>242062</th>\n",
       "      <td>2760</td>\n",
       "      <td>904</td>\n",
       "      <td>2019-04-28 18:08:13.576</td>\n",
       "      <td>2019-04-28 18:23:18.367</td>\n",
       "      <td>412</td>\n",
       "      <td>Glen Park BART Station</td>\n",
       "      <td>37.732813</td>\n",
       "      <td>-122.434140</td>\n",
       "      <td>420</td>\n",
       "      <td>SF Test Station</td>\n",
       "      <td>0.0</td>\n",
       "      <td>0.0</td>\n",
       "      <td>Customer</td>\n",
       "      <td>No</td>\n",
       "      <td>Male</td>\n",
       "      <td>1989</td>\n",
       "    </tr>\n",
       "    <tr>\n",
       "      <th>242090</th>\n",
       "      <td>3632</td>\n",
       "      <td>1501</td>\n",
       "      <td>2019-04-28 17:52:27.345</td>\n",
       "      <td>2019-04-28 18:17:28.410</td>\n",
       "      <td>377</td>\n",
       "      <td>Fell St at Stanyan St</td>\n",
       "      <td>37.771917</td>\n",
       "      <td>-122.453704</td>\n",
       "      <td>420</td>\n",
       "      <td>SF Test Station</td>\n",
       "      <td>0.0</td>\n",
       "      <td>0.0</td>\n",
       "      <td>Subscriber</td>\n",
       "      <td>No</td>\n",
       "      <td>Male</td>\n",
       "      <td>1997</td>\n",
       "    </tr>\n",
       "    <tr>\n",
       "      <th>242091</th>\n",
       "      <td>901</td>\n",
       "      <td>1503</td>\n",
       "      <td>2019-04-28 17:52:22.210</td>\n",
       "      <td>2019-04-28 18:17:25.545</td>\n",
       "      <td>377</td>\n",
       "      <td>Fell St at Stanyan St</td>\n",
       "      <td>37.771917</td>\n",
       "      <td>-122.453704</td>\n",
       "      <td>420</td>\n",
       "      <td>SF Test Station</td>\n",
       "      <td>0.0</td>\n",
       "      <td>0.0</td>\n",
       "      <td>Subscriber</td>\n",
       "      <td>No</td>\n",
       "      <td>Male</td>\n",
       "      <td>1995</td>\n",
       "    </tr>\n",
       "    <tr>\n",
       "      <th>242108</th>\n",
       "      <td>536</td>\n",
       "      <td>840</td>\n",
       "      <td>2019-04-28 18:00:23.567</td>\n",
       "      <td>2019-04-28 18:14:23.599</td>\n",
       "      <td>88</td>\n",
       "      <td>11th St at Bryant St</td>\n",
       "      <td>37.770030</td>\n",
       "      <td>-122.411726</td>\n",
       "      <td>420</td>\n",
       "      <td>SF Test Station</td>\n",
       "      <td>0.0</td>\n",
       "      <td>0.0</td>\n",
       "      <td>Subscriber</td>\n",
       "      <td>No</td>\n",
       "      <td>Male</td>\n",
       "      <td>1981</td>\n",
       "    </tr>\n",
       "    <tr>\n",
       "      <th>265975</th>\n",
       "      <td>3498</td>\n",
       "      <td>195</td>\n",
       "      <td>2019-04-24 16:53:35.591</td>\n",
       "      <td>2019-04-24 16:56:51.006</td>\n",
       "      <td>104</td>\n",
       "      <td>4th St at 16th St</td>\n",
       "      <td>37.767045</td>\n",
       "      <td>-122.390833</td>\n",
       "      <td>420</td>\n",
       "      <td>SF Test Station</td>\n",
       "      <td>0.0</td>\n",
       "      <td>0.0</td>\n",
       "      <td>Subscriber</td>\n",
       "      <td>No</td>\n",
       "      <td>Female</td>\n",
       "      <td>1970</td>\n",
       "    </tr>\n",
       "    <tr>\n",
       "      <th>274511</th>\n",
       "      <td>1768</td>\n",
       "      <td>921</td>\n",
       "      <td>2019-04-23 13:14:09.492</td>\n",
       "      <td>2019-04-23 13:29:31.333</td>\n",
       "      <td>20</td>\n",
       "      <td>Mechanics Monument Plaza (Market St at Bush St)</td>\n",
       "      <td>37.791300</td>\n",
       "      <td>-122.399051</td>\n",
       "      <td>420</td>\n",
       "      <td>SF Test Station</td>\n",
       "      <td>0.0</td>\n",
       "      <td>0.0</td>\n",
       "      <td>Subscriber</td>\n",
       "      <td>No</td>\n",
       "      <td>Male</td>\n",
       "      <td>1967</td>\n",
       "    </tr>\n",
       "    <tr>\n",
       "      <th>310743</th>\n",
       "      <td>1939</td>\n",
       "      <td>912</td>\n",
       "      <td>2019-04-17 09:30:11.764</td>\n",
       "      <td>2019-04-17 09:45:24.263</td>\n",
       "      <td>399</td>\n",
       "      <td>Bay St at Fillmore St</td>\n",
       "      <td>37.802636</td>\n",
       "      <td>-122.436289</td>\n",
       "      <td>420</td>\n",
       "      <td>SF Test Station</td>\n",
       "      <td>0.0</td>\n",
       "      <td>0.0</td>\n",
       "      <td>Subscriber</td>\n",
       "      <td>No</td>\n",
       "      <td>Male</td>\n",
       "      <td>1982</td>\n",
       "    </tr>\n",
       "  </tbody>\n",
       "</table>\n",
       "</div>"
      ],
      "text/plain": [
       "        bike_id  duration_sec              start_time                end_time  \\\n",
       "228312     1612          2365 2019-04-30 18:21:42.610 2019-04-30 19:01:08.146   \n",
       "229051     3507          1964 2019-04-30 17:31:19.646 2019-04-30 18:04:04.518   \n",
       "229203     1142           546 2019-04-30 17:45:38.452 2019-04-30 17:54:45.258   \n",
       "229277     3500           630 2019-04-30 17:39:33.507 2019-04-30 17:50:04.314   \n",
       "229713     1181           433 2019-04-30 17:17:10.486 2019-04-30 17:24:23.919   \n",
       "229792     2535          1233 2019-04-30 16:58:41.209 2019-04-30 17:19:14.689   \n",
       "229823      462          1306 2019-04-30 16:55:35.924 2019-04-30 17:17:22.162   \n",
       "230101     1880           764 2019-04-30 16:44:12.351 2019-04-30 16:56:56.539   \n",
       "241904      150          1491 2019-04-28 18:40:41.288 2019-04-28 19:05:33.063   \n",
       "241956      311           680 2019-04-28 18:40:08.324 2019-04-28 18:51:28.357   \n",
       "242061      333           764 2019-04-28 18:10:38.170 2019-04-28 18:23:22.476   \n",
       "242062     2760           904 2019-04-28 18:08:13.576 2019-04-28 18:23:18.367   \n",
       "242090     3632          1501 2019-04-28 17:52:27.345 2019-04-28 18:17:28.410   \n",
       "242091      901          1503 2019-04-28 17:52:22.210 2019-04-28 18:17:25.545   \n",
       "242108      536           840 2019-04-28 18:00:23.567 2019-04-28 18:14:23.599   \n",
       "265975     3498           195 2019-04-24 16:53:35.591 2019-04-24 16:56:51.006   \n",
       "274511     1768           921 2019-04-23 13:14:09.492 2019-04-23 13:29:31.333   \n",
       "310743     1939           912 2019-04-17 09:30:11.764 2019-04-17 09:45:24.263   \n",
       "\n",
       "        start_station_id                                start_station_name  \\\n",
       "228312                50                             2nd St at Townsend St   \n",
       "229051                98                            Valencia St at 16th St   \n",
       "229203               370                               Jones St at Post St   \n",
       "229277                21  Montgomery St BART Station (Market St at 2nd St)   \n",
       "229713                11                            Davis St at Jackson St   \n",
       "229792                81                                Berry St at 4th St   \n",
       "229823                80                             Townsend St at 5th St   \n",
       "230101                16                           Steuart St at Market St   \n",
       "241904               377                             Fell St at Stanyan St   \n",
       "241956               139          Garfield Square (25th St at Harrison St)   \n",
       "242061               412                            Glen Park BART Station   \n",
       "242062               412                            Glen Park BART Station   \n",
       "242090               377                             Fell St at Stanyan St   \n",
       "242091               377                             Fell St at Stanyan St   \n",
       "242108                88                              11th St at Bryant St   \n",
       "265975               104                                 4th St at 16th St   \n",
       "274511                20   Mechanics Monument Plaza (Market St at Bush St)   \n",
       "310743               399                             Bay St at Fillmore St   \n",
       "\n",
       "        start_station_latitude  start_station_longitude  end_station_id  \\\n",
       "228312               37.780526              -122.390288             420   \n",
       "229051               37.765052              -122.421866             420   \n",
       "229203               37.787327              -122.413278             420   \n",
       "229277               37.789625              -122.400811             420   \n",
       "229713               37.797280              -122.398436             420   \n",
       "229792               37.775880              -122.393170             420   \n",
       "229823               37.775235              -122.397437             420   \n",
       "230101               37.794130              -122.394430             420   \n",
       "241904               37.771917              -122.453704             420   \n",
       "241956               37.751017              -122.411901             420   \n",
       "242061               37.732813              -122.434140             420   \n",
       "242062               37.732813              -122.434140             420   \n",
       "242090               37.771917              -122.453704             420   \n",
       "242091               37.771917              -122.453704             420   \n",
       "242108               37.770030              -122.411726             420   \n",
       "265975               37.767045              -122.390833             420   \n",
       "274511               37.791300              -122.399051             420   \n",
       "310743               37.802636              -122.436289             420   \n",
       "\n",
       "       end_station_name  end_station_latitude  end_station_longitude  \\\n",
       "228312  SF Test Station                   0.0                    0.0   \n",
       "229051  SF Test Station                   0.0                    0.0   \n",
       "229203  SF Test Station                   0.0                    0.0   \n",
       "229277  SF Test Station                   0.0                    0.0   \n",
       "229713  SF Test Station                   0.0                    0.0   \n",
       "229792  SF Test Station                   0.0                    0.0   \n",
       "229823  SF Test Station                   0.0                    0.0   \n",
       "230101  SF Test Station                   0.0                    0.0   \n",
       "241904  SF Test Station                   0.0                    0.0   \n",
       "241956  SF Test Station                   0.0                    0.0   \n",
       "242061  SF Test Station                   0.0                    0.0   \n",
       "242062  SF Test Station                   0.0                    0.0   \n",
       "242090  SF Test Station                   0.0                    0.0   \n",
       "242091  SF Test Station                   0.0                    0.0   \n",
       "242108  SF Test Station                   0.0                    0.0   \n",
       "265975  SF Test Station                   0.0                    0.0   \n",
       "274511  SF Test Station                   0.0                    0.0   \n",
       "310743  SF Test Station                   0.0                    0.0   \n",
       "\n",
       "         user_type bike_share_for_all_trip member_gender  member_birth_year  \n",
       "228312  Subscriber                      No        Female               1995  \n",
       "229051  Subscriber                      No        Female               1981  \n",
       "229203  Subscriber                     Yes        Female               1991  \n",
       "229277  Subscriber                      No          Male               1991  \n",
       "229713  Subscriber                      No          Male               1995  \n",
       "229792  Subscriber                      No          Male               1970  \n",
       "229823  Subscriber                      No          Male               1992  \n",
       "230101    Customer                      No          Male               1976  \n",
       "241904    Customer                      No          Male               1981  \n",
       "241956  Subscriber                      No        Female               1981  \n",
       "242061    Customer                      No          Male               1989  \n",
       "242062    Customer                      No          Male               1989  \n",
       "242090  Subscriber                      No          Male               1997  \n",
       "242091  Subscriber                      No          Male               1995  \n",
       "242108  Subscriber                      No          Male               1981  \n",
       "265975  Subscriber                      No        Female               1970  \n",
       "274511  Subscriber                      No          Male               1967  \n",
       "310743  Subscriber                      No          Male               1982  "
      ]
     },
     "execution_count": 51,
     "metadata": {},
     "output_type": "execute_result"
    }
   ],
   "source": [
    "# End station longitude test lower limit\n",
    "df.query('end_station_longitude > -121')"
   ]
  },
  {
   "cell_type": "code",
   "execution_count": 54,
   "metadata": {},
   "outputs": [
    {
     "data": {
      "text/html": [
       "<div>\n",
       "<style scoped>\n",
       "    .dataframe tbody tr th:only-of-type {\n",
       "        vertical-align: middle;\n",
       "    }\n",
       "\n",
       "    .dataframe tbody tr th {\n",
       "        vertical-align: top;\n",
       "    }\n",
       "\n",
       "    .dataframe thead th {\n",
       "        text-align: right;\n",
       "    }\n",
       "</style>\n",
       "<table border=\"1\" class=\"dataframe\">\n",
       "  <thead>\n",
       "    <tr style=\"text-align: right;\">\n",
       "      <th></th>\n",
       "      <th>bike_id</th>\n",
       "      <th>duration_sec</th>\n",
       "      <th>start_time</th>\n",
       "      <th>end_time</th>\n",
       "      <th>start_station_id</th>\n",
       "      <th>start_station_name</th>\n",
       "      <th>start_station_latitude</th>\n",
       "      <th>start_station_longitude</th>\n",
       "      <th>end_station_id</th>\n",
       "      <th>end_station_name</th>\n",
       "      <th>end_station_latitude</th>\n",
       "      <th>end_station_longitude</th>\n",
       "      <th>user_type</th>\n",
       "      <th>bike_share_for_all_trip</th>\n",
       "      <th>member_gender</th>\n",
       "      <th>member_birth_year</th>\n",
       "    </tr>\n",
       "  </thead>\n",
       "  <tbody>\n",
       "  </tbody>\n",
       "</table>\n",
       "</div>"
      ],
      "text/plain": [
       "Empty DataFrame\n",
       "Columns: [bike_id, duration_sec, start_time, end_time, start_station_id, start_station_name, start_station_latitude, start_station_longitude, end_station_id, end_station_name, end_station_latitude, end_station_longitude, user_type, bike_share_for_all_trip, member_gender, member_birth_year]\n",
       "Index: []"
      ]
     },
     "execution_count": 54,
     "metadata": {},
     "output_type": "execute_result"
    }
   ],
   "source": [
    "# End station longitude test lower limit\n",
    "df.query('end_station_longitude < -123')"
   ]
  },
  {
   "cell_type": "code",
   "execution_count": 59,
   "metadata": {},
   "outputs": [],
   "source": [
    "# Drop all rows where start station name is \"SF Test Station\"\n",
    "df = df.query('start_station_name != \"SF Test Station\"')"
   ]
  },
  {
   "cell_type": "code",
   "execution_count": 63,
   "metadata": {},
   "outputs": [],
   "source": [
    "# Drop all rows where end station name is \"SF Test Station\"\n",
    "df = df.query('end_station_name != \"SF Test Station\"')"
   ]
  },
  {
   "cell_type": "markdown",
   "metadata": {},
   "source": [
    "#### Test"
   ]
  },
  {
   "cell_type": "code",
   "execution_count": 65,
   "metadata": {},
   "outputs": [
    {
     "data": {
      "text/html": [
       "<div>\n",
       "<style scoped>\n",
       "    .dataframe tbody tr th:only-of-type {\n",
       "        vertical-align: middle;\n",
       "    }\n",
       "\n",
       "    .dataframe tbody tr th {\n",
       "        vertical-align: top;\n",
       "    }\n",
       "\n",
       "    .dataframe thead th {\n",
       "        text-align: right;\n",
       "    }\n",
       "</style>\n",
       "<table border=\"1\" class=\"dataframe\">\n",
       "  <thead>\n",
       "    <tr style=\"text-align: right;\">\n",
       "      <th></th>\n",
       "      <th>bike_id</th>\n",
       "      <th>duration_sec</th>\n",
       "      <th>start_time</th>\n",
       "      <th>end_time</th>\n",
       "      <th>start_station_id</th>\n",
       "      <th>start_station_name</th>\n",
       "      <th>start_station_latitude</th>\n",
       "      <th>start_station_longitude</th>\n",
       "      <th>end_station_id</th>\n",
       "      <th>end_station_name</th>\n",
       "      <th>end_station_latitude</th>\n",
       "      <th>end_station_longitude</th>\n",
       "      <th>user_type</th>\n",
       "      <th>bike_share_for_all_trip</th>\n",
       "      <th>member_gender</th>\n",
       "      <th>member_birth_year</th>\n",
       "    </tr>\n",
       "  </thead>\n",
       "  <tbody>\n",
       "  </tbody>\n",
       "</table>\n",
       "</div>"
      ],
      "text/plain": [
       "Empty DataFrame\n",
       "Columns: [bike_id, duration_sec, start_time, end_time, start_station_id, start_station_name, start_station_latitude, start_station_longitude, end_station_id, end_station_name, end_station_latitude, end_station_longitude, user_type, bike_share_for_all_trip, member_gender, member_birth_year]\n",
       "Index: []"
      ]
     },
     "execution_count": 65,
     "metadata": {},
     "output_type": "execute_result"
    }
   ],
   "source": [
    "# Confirm SF Test Station no longer exists as a start station name\n",
    "df.query('start_station_name == \"SF Test Station\"')"
   ]
  },
  {
   "cell_type": "code",
   "execution_count": 66,
   "metadata": {},
   "outputs": [
    {
     "data": {
      "text/html": [
       "<div>\n",
       "<style scoped>\n",
       "    .dataframe tbody tr th:only-of-type {\n",
       "        vertical-align: middle;\n",
       "    }\n",
       "\n",
       "    .dataframe tbody tr th {\n",
       "        vertical-align: top;\n",
       "    }\n",
       "\n",
       "    .dataframe thead th {\n",
       "        text-align: right;\n",
       "    }\n",
       "</style>\n",
       "<table border=\"1\" class=\"dataframe\">\n",
       "  <thead>\n",
       "    <tr style=\"text-align: right;\">\n",
       "      <th></th>\n",
       "      <th>bike_id</th>\n",
       "      <th>duration_sec</th>\n",
       "      <th>start_time</th>\n",
       "      <th>end_time</th>\n",
       "      <th>start_station_id</th>\n",
       "      <th>start_station_name</th>\n",
       "      <th>start_station_latitude</th>\n",
       "      <th>start_station_longitude</th>\n",
       "      <th>end_station_id</th>\n",
       "      <th>end_station_name</th>\n",
       "      <th>end_station_latitude</th>\n",
       "      <th>end_station_longitude</th>\n",
       "      <th>user_type</th>\n",
       "      <th>bike_share_for_all_trip</th>\n",
       "      <th>member_gender</th>\n",
       "      <th>member_birth_year</th>\n",
       "    </tr>\n",
       "  </thead>\n",
       "  <tbody>\n",
       "  </tbody>\n",
       "</table>\n",
       "</div>"
      ],
      "text/plain": [
       "Empty DataFrame\n",
       "Columns: [bike_id, duration_sec, start_time, end_time, start_station_id, start_station_name, start_station_latitude, start_station_longitude, end_station_id, end_station_name, end_station_latitude, end_station_longitude, user_type, bike_share_for_all_trip, member_gender, member_birth_year]\n",
       "Index: []"
      ]
     },
     "execution_count": 66,
     "metadata": {},
     "output_type": "execute_result"
    }
   ],
   "source": [
    "# Confirm SF Test Station no longer exists as an end station name\n",
    "df.query('end_station_name == \"SF Test Station\"')"
   ]
  },
  {
   "cell_type": "code",
   "execution_count": 67,
   "metadata": {},
   "outputs": [
    {
     "data": {
      "text/plain": [
       "3197652"
      ]
     },
     "execution_count": 67,
     "metadata": {},
     "output_type": "execute_result"
    }
   ],
   "source": [
    "# Confirm the length of df\n",
    "len(df)"
   ]
  },
  {
   "cell_type": "markdown",
   "metadata": {},
   "source": [
    "### Hist of trip durations and birth year"
   ]
  },
  {
   "cell_type": "markdown",
   "metadata": {},
   "source": [
    "#### Histogram of durations"
   ]
  },
  {
   "cell_type": "code",
   "execution_count": 8,
   "metadata": {},
   "outputs": [
    {
     "name": "stderr",
     "output_type": "stream",
     "text": [
      "/Users/mattames/anaconda3/lib/python3.7/site-packages/scipy/stats/stats.py:1713: FutureWarning: Using a non-tuple sequence for multidimensional indexing is deprecated; use `arr[tuple(seq)]` instead of `arr[seq]`. In the future this will be interpreted as an array index, `arr[np.array(seq)]`, which will result either in an error or a different result.\n",
      "  return np.add.reduce(sorted[indexer] * weights, axis=axis) / sumval\n"
     ]
    },
    {
     "data": {
      "image/png": "[encoded data removed]",
      "text/plain": [
       "<Figure size 432x288 with 1 Axes>"
      ]
     },
     "metadata": {
      "needs_background": "light"
     },
     "output_type": "display_data"
    }
   ],
   "source": [
    "sns.distplot(df[\"duration_sec\"]);"
   ]
  },
  {
   "cell_type": "markdown",
   "metadata": {},
   "source": [
    "Clearly the data is massively skewed towards smaller trip durations and these outlying trip durations prevent us from understanding the bulk of the data. Also, viewing in terms of seconds is not intuitive, feature engineer a duration_min column and plot accordingly."
   ]
  },
  {
   "cell_type": "code",
   "execution_count": 9,
   "metadata": {},
   "outputs": [],
   "source": [
    "df['duration_min'] = df['duration_sec']/60"
   ]
  },
  {
   "cell_type": "code",
   "execution_count": 10,
   "metadata": {},
   "outputs": [
    {
     "data": {
      "text/html": [
       "<div>\n",
       "<style scoped>\n",
       "    .dataframe tbody tr th:only-of-type {\n",
       "        vertical-align: middle;\n",
       "    }\n",
       "\n",
       "    .dataframe tbody tr th {\n",
       "        vertical-align: top;\n",
       "    }\n",
       "\n",
       "    .dataframe thead th {\n",
       "        text-align: right;\n",
       "    }\n",
       "</style>\n",
       "<table border=\"1\" class=\"dataframe\">\n",
       "  <thead>\n",
       "    <tr style=\"text-align: right;\">\n",
       "      <th></th>\n",
       "      <th>bike_id</th>\n",
       "      <th>duration_sec</th>\n",
       "      <th>start_time</th>\n",
       "      <th>end_time</th>\n",
       "      <th>start_station_id</th>\n",
       "      <th>start_station_name</th>\n",
       "      <th>start_station_latitude</th>\n",
       "      <th>start_station_longitude</th>\n",
       "      <th>end_station_id</th>\n",
       "      <th>end_station_name</th>\n",
       "      <th>end_station_latitude</th>\n",
       "      <th>end_station_longitude</th>\n",
       "      <th>user_type</th>\n",
       "      <th>bike_share_for_all_trip</th>\n",
       "      <th>member_gender</th>\n",
       "      <th>member_birth_year</th>\n",
       "      <th>duration_min</th>\n",
       "    </tr>\n",
       "  </thead>\n",
       "  <tbody>\n",
       "    <tr>\n",
       "      <th>0</th>\n",
       "      <td>1035</td>\n",
       "      <td>598</td>\n",
       "      <td>2018-02-28 23:59:47.097</td>\n",
       "      <td>2018-03-01 00:09:45.187</td>\n",
       "      <td>284</td>\n",
       "      <td>Yerba Buena Center for the Arts (Howard St at ...</td>\n",
       "      <td>37.784872</td>\n",
       "      <td>-122.400876</td>\n",
       "      <td>114</td>\n",
       "      <td>Rhode Island St at 17th St</td>\n",
       "      <td>37.764478</td>\n",
       "      <td>-122.40257</td>\n",
       "      <td>Subscriber</td>\n",
       "      <td>No</td>\n",
       "      <td>Male</td>\n",
       "      <td>1988</td>\n",
       "      <td>9.966667</td>\n",
       "    </tr>\n",
       "  </tbody>\n",
       "</table>\n",
       "</div>"
      ],
      "text/plain": [
       "   bike_id  duration_sec              start_time                end_time  \\\n",
       "0     1035           598 2018-02-28 23:59:47.097 2018-03-01 00:09:45.187   \n",
       "\n",
       "   start_station_id                                 start_station_name  \\\n",
       "0               284  Yerba Buena Center for the Arts (Howard St at ...   \n",
       "\n",
       "   start_station_latitude  start_station_longitude  end_station_id  \\\n",
       "0               37.784872              -122.400876             114   \n",
       "\n",
       "             end_station_name  end_station_latitude  end_station_longitude  \\\n",
       "0  Rhode Island St at 17th St             37.764478             -122.40257   \n",
       "\n",
       "    user_type bike_share_for_all_trip member_gender  member_birth_year  \\\n",
       "0  Subscriber                      No          Male               1988   \n",
       "\n",
       "   duration_min  \n",
       "0      9.966667  "
      ]
     },
     "execution_count": 10,
     "metadata": {},
     "output_type": "execute_result"
    }
   ],
   "source": [
    "# confirm accurate calculation\n",
    "df.head(1)"
   ]
  },
  {
   "cell_type": "code",
   "execution_count": 11,
   "metadata": {},
   "outputs": [
    {
     "data": {
      "image/png": "[encoded data removed]",
      "text/plain": [
       "<Figure size 432x288 with 1 Axes>"
      ]
     },
     "metadata": {
      "needs_background": "light"
     },
     "output_type": "display_data"
    }
   ],
   "source": [
    "# re-plot histogram\n",
    "sns.distplot(df[\"duration_min\"]);"
   ]
  },
  {
   "cell_type": "markdown",
   "metadata": {},
   "source": [
    "Considering that bike rentals for customers are priced according to a 30 min limit and subscribers at a 45 min limit, we will focus on a 2 hour trip duration max. This is a reasonable range based on the pricing and how long the bulk of trip durations are."
   ]
  },
  {
   "cell_type": "markdown",
   "metadata": {},
   "source": [
    "#### Histogram of durations with corrections"
   ]
  },
  {
   "cell_type": "code",
   "execution_count": 12,
   "metadata": {
    "scrolled": true
   },
   "outputs": [
    {
     "data": {
      "image/png": "[encoded data removed]",
      "text/plain": [
       "<Figure size 432x288 with 1 Axes>"
      ]
     },
     "metadata": {
      "needs_background": "light"
     },
     "output_type": "display_data"
    }
   ],
   "source": [
    "bin_edges = np.arange(0, df['duration_min'].max()+1, 1)\n",
    "sns.distplot(df['duration_min'], bins = bin_edges, kde = False,\n",
    "            hist_kws = {'alpha' : 1})\n",
    "plt.xlim((0,120));"
   ]
  },
  {
   "cell_type": "markdown",
   "metadata": {},
   "source": [
    "#### Birth year distribution"
   ]
  },
  {
   "cell_type": "code",
   "execution_count": 13,
   "metadata": {},
   "outputs": [
    {
     "data": {
      "image/png": "[encoded data removed]",
      "text/plain": [
       "<Figure size 432x288 with 1 Axes>"
      ]
     },
     "metadata": {
      "needs_background": "light"
     },
     "output_type": "display_data"
    }
   ],
   "source": [
    "sns.distplot(df[\"member_birth_year\"]);"
   ]
  },
  {
   "cell_type": "markdown",
   "metadata": {},
   "source": [
    "We need to filter out impossible and unreasonable birth years.\n",
    "\n",
    "The oldest living Californian is 112, so it is impossible for someone to be born before 1907. Additionally, we will drop riders above the age of 85 from our dataset for the sake of focusing on the most important trips and riders. It is possible that someone 85+ is using the bikes, but highly unlikely. Therefore this very small portion of the data can be assumed unreliable."
   ]
  },
  {
   "cell_type": "code",
   "execution_count": 14,
   "metadata": {},
   "outputs": [
    {
     "data": {
      "text/html": [
       "<div>\n",
       "<style scoped>\n",
       "    .dataframe tbody tr th:only-of-type {\n",
       "        vertical-align: middle;\n",
       "    }\n",
       "\n",
       "    .dataframe tbody tr th {\n",
       "        vertical-align: top;\n",
       "    }\n",
       "\n",
       "    .dataframe thead th {\n",
       "        text-align: right;\n",
       "    }\n",
       "</style>\n",
       "<table border=\"1\" class=\"dataframe\">\n",
       "  <thead>\n",
       "    <tr style=\"text-align: right;\">\n",
       "      <th></th>\n",
       "      <th>bike_id</th>\n",
       "      <th>duration_sec</th>\n",
       "      <th>start_time</th>\n",
       "      <th>end_time</th>\n",
       "      <th>start_station_id</th>\n",
       "      <th>start_station_name</th>\n",
       "      <th>start_station_latitude</th>\n",
       "      <th>start_station_longitude</th>\n",
       "      <th>end_station_id</th>\n",
       "      <th>end_station_name</th>\n",
       "      <th>end_station_latitude</th>\n",
       "      <th>end_station_longitude</th>\n",
       "      <th>user_type</th>\n",
       "      <th>bike_share_for_all_trip</th>\n",
       "      <th>member_gender</th>\n",
       "      <th>member_birth_year</th>\n",
       "      <th>duration_min</th>\n",
       "    </tr>\n",
       "  </thead>\n",
       "  <tbody>\n",
       "    <tr>\n",
       "      <th>0</th>\n",
       "      <td>1035</td>\n",
       "      <td>598</td>\n",
       "      <td>2018-02-28 23:59:47.097</td>\n",
       "      <td>2018-03-01 00:09:45.187</td>\n",
       "      <td>284</td>\n",
       "      <td>Yerba Buena Center for the Arts (Howard St at ...</td>\n",
       "      <td>37.784872</td>\n",
       "      <td>-122.400876</td>\n",
       "      <td>114</td>\n",
       "      <td>Rhode Island St at 17th St</td>\n",
       "      <td>37.764478</td>\n",
       "      <td>-122.402570</td>\n",
       "      <td>Subscriber</td>\n",
       "      <td>No</td>\n",
       "      <td>Male</td>\n",
       "      <td>1988</td>\n",
       "      <td>9.966667</td>\n",
       "    </tr>\n",
       "    <tr>\n",
       "      <th>1</th>\n",
       "      <td>1673</td>\n",
       "      <td>943</td>\n",
       "      <td>2018-02-28 23:21:16.495</td>\n",
       "      <td>2018-02-28 23:36:59.974</td>\n",
       "      <td>6</td>\n",
       "      <td>The Embarcadero at Sansome St</td>\n",
       "      <td>37.804770</td>\n",
       "      <td>-122.403234</td>\n",
       "      <td>324</td>\n",
       "      <td>Union Square (Powell St at Post St)</td>\n",
       "      <td>37.788300</td>\n",
       "      <td>-122.408531</td>\n",
       "      <td>Customer</td>\n",
       "      <td>No</td>\n",
       "      <td>Male</td>\n",
       "      <td>1987</td>\n",
       "      <td>15.716667</td>\n",
       "    </tr>\n",
       "    <tr>\n",
       "      <th>2</th>\n",
       "      <td>3498</td>\n",
       "      <td>18587</td>\n",
       "      <td>2018-02-28 18:20:55.190</td>\n",
       "      <td>2018-02-28 23:30:42.925</td>\n",
       "      <td>93</td>\n",
       "      <td>4th St at Mission Bay Blvd S</td>\n",
       "      <td>37.770407</td>\n",
       "      <td>-122.391198</td>\n",
       "      <td>15</td>\n",
       "      <td>San Francisco Ferry Building (Harry Bridges Pl...</td>\n",
       "      <td>37.795392</td>\n",
       "      <td>-122.394203</td>\n",
       "      <td>Customer</td>\n",
       "      <td>No</td>\n",
       "      <td>Female</td>\n",
       "      <td>1986</td>\n",
       "      <td>309.783333</td>\n",
       "    </tr>\n",
       "    <tr>\n",
       "      <th>3</th>\n",
       "      <td>3129</td>\n",
       "      <td>18558</td>\n",
       "      <td>2018-02-28 18:20:53.621</td>\n",
       "      <td>2018-02-28 23:30:12.450</td>\n",
       "      <td>93</td>\n",
       "      <td>4th St at Mission Bay Blvd S</td>\n",
       "      <td>37.770407</td>\n",
       "      <td>-122.391198</td>\n",
       "      <td>15</td>\n",
       "      <td>San Francisco Ferry Building (Harry Bridges Pl...</td>\n",
       "      <td>37.795392</td>\n",
       "      <td>-122.394203</td>\n",
       "      <td>Customer</td>\n",
       "      <td>No</td>\n",
       "      <td>Male</td>\n",
       "      <td>1981</td>\n",
       "      <td>309.300000</td>\n",
       "    </tr>\n",
       "    <tr>\n",
       "      <th>4</th>\n",
       "      <td>1839</td>\n",
       "      <td>885</td>\n",
       "      <td>2018-02-28 23:15:12.858</td>\n",
       "      <td>2018-02-28 23:29:58.608</td>\n",
       "      <td>308</td>\n",
       "      <td>San Pedro Square</td>\n",
       "      <td>37.336802</td>\n",
       "      <td>-121.894090</td>\n",
       "      <td>297</td>\n",
       "      <td>Locust St at Grant St</td>\n",
       "      <td>37.322980</td>\n",
       "      <td>-121.887931</td>\n",
       "      <td>Subscriber</td>\n",
       "      <td>Yes</td>\n",
       "      <td>Female</td>\n",
       "      <td>1976</td>\n",
       "      <td>14.750000</td>\n",
       "    </tr>\n",
       "  </tbody>\n",
       "</table>\n",
       "</div>"
      ],
      "text/plain": [
       "   bike_id  duration_sec              start_time                end_time  \\\n",
       "0     1035           598 2018-02-28 23:59:47.097 2018-03-01 00:09:45.187   \n",
       "1     1673           943 2018-02-28 23:21:16.495 2018-02-28 23:36:59.974   \n",
       "2     3498         18587 2018-02-28 18:20:55.190 2018-02-28 23:30:42.925   \n",
       "3     3129         18558 2018-02-28 18:20:53.621 2018-02-28 23:30:12.450   \n",
       "4     1839           885 2018-02-28 23:15:12.858 2018-02-28 23:29:58.608   \n",
       "\n",
       "   start_station_id                                 start_station_name  \\\n",
       "0               284  Yerba Buena Center for the Arts (Howard St at ...   \n",
       "1                 6                      The Embarcadero at Sansome St   \n",
       "2                93                       4th St at Mission Bay Blvd S   \n",
       "3                93                       4th St at Mission Bay Blvd S   \n",
       "4               308                                   San Pedro Square   \n",
       "\n",
       "   start_station_latitude  start_station_longitude  end_station_id  \\\n",
       "0               37.784872              -122.400876             114   \n",
       "1               37.804770              -122.403234             324   \n",
       "2               37.770407              -122.391198              15   \n",
       "3               37.770407              -122.391198              15   \n",
       "4               37.336802              -121.894090             297   \n",
       "\n",
       "                                    end_station_name  end_station_latitude  \\\n",
       "0                         Rhode Island St at 17th St             37.764478   \n",
       "1                Union Square (Powell St at Post St)             37.788300   \n",
       "2  San Francisco Ferry Building (Harry Bridges Pl...             37.795392   \n",
       "3  San Francisco Ferry Building (Harry Bridges Pl...             37.795392   \n",
       "4                              Locust St at Grant St             37.322980   \n",
       "\n",
       "   end_station_longitude   user_type bike_share_for_all_trip member_gender  \\\n",
       "0            -122.402570  Subscriber                      No          Male   \n",
       "1            -122.408531    Customer                      No          Male   \n",
       "2            -122.394203    Customer                      No        Female   \n",
       "3            -122.394203    Customer                      No          Male   \n",
       "4            -121.887931  Subscriber                     Yes        Female   \n",
       "\n",
       "   member_birth_year  duration_min  \n",
       "0               1988      9.966667  \n",
       "1               1987     15.716667  \n",
       "2               1986    309.783333  \n",
       "3               1981    309.300000  \n",
       "4               1976     14.750000  "
      ]
     },
     "execution_count": 14,
     "metadata": {},
     "output_type": "execute_result"
    }
   ],
   "source": [
    "df = df.query('member_birth_year > 1906')\n",
    "df.head()"
   ]
  },
  {
   "cell_type": "code",
   "execution_count": 15,
   "metadata": {},
   "outputs": [
    {
     "data": {
      "text/plain": [
       "3195998"
      ]
     },
     "execution_count": 15,
     "metadata": {},
     "output_type": "execute_result"
    }
   ],
   "source": [
    "len(df)"
   ]
  },
  {
   "cell_type": "markdown",
   "metadata": {},
   "source": [
    "#### Birth year distribution with corrections"
   ]
  },
  {
   "cell_type": "code",
   "execution_count": 16,
   "metadata": {},
   "outputs": [
    {
     "data": {
      "image/png": "[encoded data removed]",
      "text/plain": [
       "<Figure size 432x288 with 1 Axes>"
      ]
     },
     "metadata": {
      "needs_background": "light"
     },
     "output_type": "display_data"
    }
   ],
   "source": [
    "# re-plot birth year distribution after making adjustments\n",
    "bin_edges = np.arange(0, df['member_birth_year'].max()+1, 1)\n",
    "sns.distplot(df['member_birth_year'], bins = bin_edges, kde = False,\n",
    "            hist_kws = {'alpha' : 1})\n",
    "plt.xlim((1933,2001));"
   ]
  },
  {
   "cell_type": "code",
   "execution_count": 17,
   "metadata": {
    "scrolled": true
   },
   "outputs": [
    {
     "data": {
      "text/plain": [
       "count    3.195998e+06\n",
       "mean     1.983232e+03\n",
       "std      1.026730e+01\n",
       "min      1.907000e+03\n",
       "25%      1.978000e+03\n",
       "50%      1.986000e+03\n",
       "75%      1.991000e+03\n",
       "max      2.001000e+03\n",
       "Name: member_birth_year, dtype: float64"
      ]
     },
     "execution_count": 17,
     "metadata": {},
     "output_type": "execute_result"
    }
   ],
   "source": [
    "df.member_birth_year.describe()"
   ]
  },
  {
   "cell_type": "markdown",
   "metadata": {},
   "source": [
    "Plotting by birth year doesn't feel right, it would be more intuitive to plot by age so that age increases from left to right. This will prevent potential misinterpretations by audiences."
   ]
  },
  {
   "cell_type": "code",
   "execution_count": 18,
   "metadata": {},
   "outputs": [],
   "source": [
    "df['age'] = 2019-df['member_birth_year']"
   ]
  },
  {
   "cell_type": "code",
   "execution_count": 19,
   "metadata": {
    "scrolled": true
   },
   "outputs": [
    {
     "data": {
      "text/html": [
       "<div>\n",
       "<style scoped>\n",
       "    .dataframe tbody tr th:only-of-type {\n",
       "        vertical-align: middle;\n",
       "    }\n",
       "\n",
       "    .dataframe tbody tr th {\n",
       "        vertical-align: top;\n",
       "    }\n",
       "\n",
       "    .dataframe thead th {\n",
       "        text-align: right;\n",
       "    }\n",
       "</style>\n",
       "<table border=\"1\" class=\"dataframe\">\n",
       "  <thead>\n",
       "    <tr style=\"text-align: right;\">\n",
       "      <th></th>\n",
       "      <th>bike_id</th>\n",
       "      <th>duration_sec</th>\n",
       "      <th>start_time</th>\n",
       "      <th>end_time</th>\n",
       "      <th>start_station_id</th>\n",
       "      <th>start_station_name</th>\n",
       "      <th>start_station_latitude</th>\n",
       "      <th>start_station_longitude</th>\n",
       "      <th>end_station_id</th>\n",
       "      <th>end_station_name</th>\n",
       "      <th>end_station_latitude</th>\n",
       "      <th>end_station_longitude</th>\n",
       "      <th>user_type</th>\n",
       "      <th>bike_share_for_all_trip</th>\n",
       "      <th>member_gender</th>\n",
       "      <th>member_birth_year</th>\n",
       "      <th>duration_min</th>\n",
       "      <th>age</th>\n",
       "    </tr>\n",
       "  </thead>\n",
       "  <tbody>\n",
       "    <tr>\n",
       "      <th>0</th>\n",
       "      <td>1035</td>\n",
       "      <td>598</td>\n",
       "      <td>2018-02-28 23:59:47.097</td>\n",
       "      <td>2018-03-01 00:09:45.187</td>\n",
       "      <td>284</td>\n",
       "      <td>Yerba Buena Center for the Arts (Howard St at ...</td>\n",
       "      <td>37.784872</td>\n",
       "      <td>-122.400876</td>\n",
       "      <td>114</td>\n",
       "      <td>Rhode Island St at 17th St</td>\n",
       "      <td>37.764478</td>\n",
       "      <td>-122.40257</td>\n",
       "      <td>Subscriber</td>\n",
       "      <td>No</td>\n",
       "      <td>Male</td>\n",
       "      <td>1988</td>\n",
       "      <td>9.966667</td>\n",
       "      <td>31</td>\n",
       "    </tr>\n",
       "  </tbody>\n",
       "</table>\n",
       "</div>"
      ],
      "text/plain": [
       "   bike_id  duration_sec              start_time                end_time  \\\n",
       "0     1035           598 2018-02-28 23:59:47.097 2018-03-01 00:09:45.187   \n",
       "\n",
       "   start_station_id                                 start_station_name  \\\n",
       "0               284  Yerba Buena Center for the Arts (Howard St at ...   \n",
       "\n",
       "   start_station_latitude  start_station_longitude  end_station_id  \\\n",
       "0               37.784872              -122.400876             114   \n",
       "\n",
       "             end_station_name  end_station_latitude  end_station_longitude  \\\n",
       "0  Rhode Island St at 17th St             37.764478             -122.40257   \n",
       "\n",
       "    user_type bike_share_for_all_trip member_gender  member_birth_year  \\\n",
       "0  Subscriber                      No          Male               1988   \n",
       "\n",
       "   duration_min  age  \n",
       "0      9.966667   31  "
      ]
     },
     "execution_count": 19,
     "metadata": {},
     "output_type": "execute_result"
    }
   ],
   "source": [
    "# confirm accurate calculation\n",
    "df.head(1)"
   ]
  },
  {
   "cell_type": "markdown",
   "metadata": {},
   "source": [
    "#### Plot by age instead of birth year"
   ]
  },
  {
   "cell_type": "code",
   "execution_count": 20,
   "metadata": {},
   "outputs": [
    {
     "data": {
      "image/png": "[encoded data removed]",
      "text/plain": [
       "<Figure size 432x288 with 1 Axes>"
      ]
     },
     "metadata": {
      "needs_background": "light"
     },
     "output_type": "display_data"
    }
   ],
   "source": [
    "# re-plot birth year distribution using age variable\n",
    "bin_edges = np.arange(0, df['age'].max()+1, 1)\n",
    "sns.distplot(df['age'], bins = bin_edges, kde = False,\n",
    "            hist_kws = {'alpha' : 1})\n",
    "plt.xlim((18,85));"
   ]
  },
  {
   "cell_type": "markdown",
   "metadata": {},
   "source": [
    "Now that I have an accurate idea of the trip duration and user age distributions to focus on, I want to further analyze according to user types."
   ]
  },
  {
   "cell_type": "markdown",
   "metadata": {},
   "source": [
    "#### Count of trips by user type\n",
    "2 types: subscribers who are members paying a monthly or annual fee and customers who are single-use users.\n",
    "\n",
    "How many trips is each type responsible for?"
   ]
  },
  {
   "cell_type": "code",
   "execution_count": 21,
   "metadata": {},
   "outputs": [
    {
     "data": {
      "image/png": "[encoded data removed]",
      "text/plain": [
       "<Figure size 432x288 with 1 Axes>"
      ]
     },
     "metadata": {
      "needs_background": "light"
     },
     "output_type": "display_data"
    }
   ],
   "source": [
    "sns.countplot(data = df, x = 'user_type');"
   ]
  },
  {
   "cell_type": "markdown",
   "metadata": {},
   "source": [
    "There is clearly a much larger number of of trips from subscribers than customers. What are the average trip durations of each of these 2 user types? If there is a much larger count of trips, does this mean there are more frequent short trips or simply the same trips as customers but more trips in general?"
   ]
  },
  {
   "cell_type": "markdown",
   "metadata": {},
   "source": [
    "#### Average trip duration by user type"
   ]
  },
  {
   "cell_type": "code",
   "execution_count": 22,
   "metadata": {},
   "outputs": [
    {
     "data": {
      "text/plain": [
       "<matplotlib.axes._subplots.AxesSubplot at 0x1a1f7536a0>"
      ]
     },
     "execution_count": 22,
     "metadata": {},
     "output_type": "execute_result"
    },
    {
     "data": {
      "image/png": "[encoded data removed]",
      "text/plain": [
       "<Figure size 432x288 with 1 Axes>"
      ]
     },
     "metadata": {
      "needs_background": "light"
     },
     "output_type": "display_data"
    }
   ],
   "source": [
    "df.groupby(\"user_type\")['duration_min'].mean().plot(kind='bar')"
   ]
  },
  {
   "cell_type": "markdown",
   "metadata": {},
   "source": [
    "Customers appear to have a much higher average trip duration than subscribers.\n",
    "\n",
    "My initial thoughts after seeing the above 2 plots are that subscribers use Ford GoBike for practical, consistent use, such a daily commutes, while customers are using bikes for leisurely activity and to explore the city (maybe visitors from out of town).\n",
    "\n",
    "Let's see if the distributions of ride durations for subscribers and customers support this.\n",
    "\n",
    "Later in the analysis, we will also look into day of the week. I would expect leisurely rides F-Su and practical rides M-Th."
   ]
  },
  {
   "cell_type": "code",
   "execution_count": 23,
   "metadata": {},
   "outputs": [],
   "source": [
    "df_subscriber = df.query('user_type == \"Subscriber\"')\n",
    "df_customer = df.query('user_type == \"Customer\"')"
   ]
  },
  {
   "cell_type": "code",
   "execution_count": 24,
   "metadata": {},
   "outputs": [
    {
     "data": {
      "text/plain": [
       "2833679"
      ]
     },
     "execution_count": 24,
     "metadata": {},
     "output_type": "execute_result"
    }
   ],
   "source": [
    "# Confirm subscriber df is proper length, over 2500000\n",
    "len(df_subscriber)"
   ]
  },
  {
   "cell_type": "code",
   "execution_count": 25,
   "metadata": {
    "scrolled": true
   },
   "outputs": [
    {
     "data": {
      "text/plain": [
       "362319"
      ]
     },
     "execution_count": 25,
     "metadata": {},
     "output_type": "execute_result"
    }
   ],
   "source": [
    "# Confirm customer df is proper length, over 350000\n",
    "len(df_customer)"
   ]
  },
  {
   "cell_type": "markdown",
   "metadata": {},
   "source": [
    "### Subscribers' durations"
   ]
  },
  {
   "cell_type": "code",
   "execution_count": 27,
   "metadata": {
    "scrolled": true
   },
   "outputs": [
    {
     "data": {
      "image/png": "[encoded data removed]",
      "text/plain": [
       "<Figure size 432x288 with 1 Axes>"
      ]
     },
     "metadata": {
      "needs_background": "light"
     },
     "output_type": "display_data"
    }
   ],
   "source": [
    "bin_edges = np.arange(0, df['duration_min'].max()+1, 1)\n",
    "sns.distplot(df_subscriber['duration_min'], bins = bin_edges, kde = False,\n",
    "            hist_kws = {'alpha' : 1})\n",
    "plt.xlim((0,120));\n",
    "plt.ylim((0,250000));"
   ]
  },
  {
   "cell_type": "markdown",
   "metadata": {},
   "source": [
    "### Customers' durations"
   ]
  },
  {
   "cell_type": "code",
   "execution_count": 29,
   "metadata": {},
   "outputs": [
    {
     "data": {
      "image/png": "[encoded data removed]",
      "text/plain": [
       "<Figure size 432x288 with 1 Axes>"
      ]
     },
     "metadata": {
      "needs_background": "light"
     },
     "output_type": "display_data"
    }
   ],
   "source": [
    "bin_edges = np.arange(0, df['duration_min'].max()+1, 1)\n",
    "sns.distplot(df_customer['duration_min'], bins = bin_edges, kde = False,\n",
    "            hist_kws = {'alpha' : 1})\n",
    "plt.xlim((0,120));\n",
    "plt.ylim((0,250000));"
   ]
  },
  {
   "cell_type": "markdown",
   "metadata": {},
   "source": [
    "### Plot these next to each other to better compare"
   ]
  },
  {
   "cell_type": "code",
   "execution_count": 80,
   "metadata": {},
   "outputs": [
    {
     "data": {
      "text/plain": [
       "(0, 250000)"
      ]
     },
     "execution_count": 80,
     "metadata": {},
     "output_type": "execute_result"
    },
    {
     "data": {
      "image/png": "[encoded data removed]",
      "text/plain": [
       "<Figure size 1080x360 with 2 Axes>"
      ]
     },
     "metadata": {
      "needs_background": "light"
     },
     "output_type": "display_data"
    }
   ],
   "source": [
    "plt.figure(figsize = [15, 5]) # larger figure size for subplots\n",
    "\n",
    "# example of somewhat too-large bin size\n",
    "plt.subplot(1, 2, 1) # 1 row, 2 cols, subplot 1\n",
    "bin_edges = np.arange(0, df['duration_min'].max()+1, 1)\n",
    "sns.distplot(df_subscriber['duration_min'], bins = bin_edges, kde = False,\n",
    "            hist_kws = {'alpha' : 1})\n",
    "plt.xlim((0,120))\n",
    "plt.ylim((0,250000))\n",
    "\n",
    "# example of somewhat too-small bin size\n",
    "plt.subplot(1, 2, 2) # 1 row, 2 cols, subplot 2\n",
    "bin_edges = np.arange(0, df['duration_min'].max()+1, 1)\n",
    "sns.distplot(df_customer['duration_min'], bins = bin_edges, kde = False,\n",
    "            hist_kws = {'alpha' : 1})\n",
    "plt.xlim((0,120))\n",
    "plt.ylim((0,250000))"
   ]
  },
  {
   "cell_type": "markdown",
   "metadata": {},
   "source": [
    "We can see that the two user types have relatively similar skews (skewed towards smaller values) and the higher peak for Subscribers could explain why their average is shorter, however this alone doesn't explain such a large difference. It seems as though the height to width ratio of the distributions could mean the customer distribution has a much longer tail with a higher percentage of trips on the longer end. What if we drill down to analyze the tails of the distributions? I want to check the distributions for durations 50 min or longer."
   ]
  },
  {
   "cell_type": "markdown",
   "metadata": {},
   "source": [
    "#### Zoom-in on tail of each distribution"
   ]
  },
  {
   "cell_type": "code",
   "execution_count": 83,
   "metadata": {
    "scrolled": true
   },
   "outputs": [
    {
     "data": {
      "text/plain": [
       "(0, 2000)"
      ]
     },
     "execution_count": 83,
     "metadata": {},
     "output_type": "execute_result"
    },
    {
     "data": {
      "image/png": "[encoded data removed]",
      "text/plain": [
       "<Figure size 1080x360 with 2 Axes>"
      ]
     },
     "metadata": {
      "needs_background": "light"
     },
     "output_type": "display_data"
    }
   ],
   "source": [
    "plt.figure(figsize = [15, 5]) # larger figure size for subplots\n",
    "\n",
    "# example of somewhat too-large bin size\n",
    "plt.subplot(1, 2, 1) # 1 row, 2 cols, subplot 1\n",
    "bin_edges = np.arange(0, df['duration_min'].max()+1, 1)\n",
    "sns.distplot(df_subscriber['duration_min'], bins = bin_edges, kde = False,\n",
    "            hist_kws = {'alpha' : 1})\n",
    "plt.xlim((50,120))\n",
    "plt.ylim((0,2000))\n",
    "\n",
    "# example of somewhat too-small bin size\n",
    "plt.subplot(1, 2, 2) # 1 row, 2 cols, subplot 2\n",
    "bin_edges = np.arange(0, df['duration_min'].max()+1, 1)\n",
    "sns.distplot(df_customer['duration_min'], bins = bin_edges, kde = False,\n",
    "            hist_kws = {'alpha' : 1})\n",
    "plt.xlim((50,120))\n",
    "plt.ylim((0,2000))"
   ]
  },
  {
   "cell_type": "markdown",
   "metadata": {},
   "source": [
    "The above plot makes it clear that the distribution of customer trip durations has a much longer and more gradual tail. This, paired with the higher peak and more extreme skew towards lower durations, explains the large difference in average durations between Subscribers and Customers. The values shown in this plot also further support my claim that single-use customers are using the service for long distance exploration, or are simly traveling at lower speeds due to the leisurely pace of exploring the city.\n",
    "\n",
    "Now that we have looked into trip duration by user type, it is now time to look into the relationship between age and user type."
   ]
  },
  {
   "cell_type": "markdown",
   "metadata": {},
   "source": [
    "### Comparing age by user type"
   ]
  },
  {
   "cell_type": "code",
   "execution_count": 84,
   "metadata": {},
   "outputs": [
    {
     "data": {
      "text/plain": [
       "<matplotlib.axes._subplots.AxesSubplot at 0x1a46f77400>"
      ]
     },
     "execution_count": 84,
     "metadata": {},
     "output_type": "execute_result"
    },
    {
     "data": {
      "image/png": "[encoded data removed]",
      "text/plain": [
       "<Figure size 432x288 with 1 Axes>"
      ]
     },
     "metadata": {
      "needs_background": "light"
     },
     "output_type": "display_data"
    }
   ],
   "source": [
    "df.groupby(\"user_type\")['age'].mean().plot(kind='bar')"
   ]
  },
  {
   "cell_type": "markdown",
   "metadata": {},
   "source": [
    "We can see that subscribers are a bit older on average than customers, however this appears to be a very small difference. No more than 3 years.\n",
    "\n",
    "Let's take a look at the distributions of ages for each user type to see if we can learn more."
   ]
  },
  {
   "cell_type": "markdown",
   "metadata": {},
   "source": [
    "### Distribution of ages by user type"
   ]
  },
  {
   "cell_type": "code",
   "execution_count": 89,
   "metadata": {},
   "outputs": [
    {
     "data": {
      "text/plain": [
       "(0, 160000)"
      ]
     },
     "execution_count": 89,
     "metadata": {},
     "output_type": "execute_result"
    },
    {
     "data": {
      "image/png": "[encoded data removed]",
      "text/plain": [
       "<Figure size 1080x360 with 2 Axes>"
      ]
     },
     "metadata": {
      "needs_background": "light"
     },
     "output_type": "display_data"
    }
   ],
   "source": [
    "plt.figure(figsize = [15, 5]) # larger figure size for subplots\n",
    "\n",
    "# example of somewhat too-large bin size\n",
    "plt.subplot(1, 2, 1) # 1 row, 2 cols, subplot 1\n",
    "bin_edges = np.arange(0, df['age'].max()+1, 1)\n",
    "sns.distplot(df_subscriber['age'], bins = bin_edges, kde = False,\n",
    "            hist_kws = {'alpha' : 1})\n",
    "plt.xlim((18,85))\n",
    "plt.ylim((0,160000))\n",
    "\n",
    "# example of somewhat too-small bin size\n",
    "plt.subplot(1, 2, 2) # 1 row, 2 cols, subplot 2\n",
    "bin_edges = np.arange(0, df['age'].max()+1, 1)\n",
    "sns.distplot(df_customer['age'], bins = bin_edges, kde = False,\n",
    "            hist_kws = {'alpha' : 1})\n",
    "plt.xlim((18,85))\n",
    "plt.ylim((0,160000))"
   ]
  },
  {
   "cell_type": "markdown",
   "metadata": {},
   "source": [
    "The above shows us that both customers and subscribers have very similar distributions with the majoirty around age 30 and a very slight resurgence around 50 years old."
   ]
  },
  {
   "cell_type": "markdown",
   "metadata": {},
   "source": [
    "### Number of trips by month of the year and number of trips by month of the year by user type"
   ]
  },
  {
   "cell_type": "markdown",
   "metadata": {},
   "source": [
    "Feature engineer a new column for month"
   ]
  },
  {
   "cell_type": "code",
   "execution_count": 112,
   "metadata": {},
   "outputs": [],
   "source": [
    "df['month_of_year'] = df['start_time'].dt.month"
   ]
  },
  {
   "cell_type": "code",
   "execution_count": 115,
   "metadata": {},
   "outputs": [
    {
     "data": {
      "text/html": [
       "<div>\n",
       "<style scoped>\n",
       "    .dataframe tbody tr th:only-of-type {\n",
       "        vertical-align: middle;\n",
       "    }\n",
       "\n",
       "    .dataframe tbody tr th {\n",
       "        vertical-align: top;\n",
       "    }\n",
       "\n",
       "    .dataframe thead th {\n",
       "        text-align: right;\n",
       "    }\n",
       "</style>\n",
       "<table border=\"1\" class=\"dataframe\">\n",
       "  <thead>\n",
       "    <tr style=\"text-align: right;\">\n",
       "      <th></th>\n",
       "      <th>bike_id</th>\n",
       "      <th>duration_sec</th>\n",
       "      <th>start_time</th>\n",
       "      <th>end_time</th>\n",
       "      <th>start_station_id</th>\n",
       "      <th>start_station_name</th>\n",
       "      <th>start_station_latitude</th>\n",
       "      <th>start_station_longitude</th>\n",
       "      <th>end_station_id</th>\n",
       "      <th>end_station_name</th>\n",
       "      <th>end_station_latitude</th>\n",
       "      <th>end_station_longitude</th>\n",
       "      <th>user_type</th>\n",
       "      <th>bike_share_for_all_trip</th>\n",
       "      <th>member_gender</th>\n",
       "      <th>member_birth_year</th>\n",
       "      <th>duration_min</th>\n",
       "      <th>age</th>\n",
       "      <th>month_of_year</th>\n",
       "    </tr>\n",
       "  </thead>\n",
       "  <tbody>\n",
       "    <tr>\n",
       "      <th>2370884</th>\n",
       "      <td>3129</td>\n",
       "      <td>1011</td>\n",
       "      <td>2018-08-11 15:22:44.689</td>\n",
       "      <td>2018-08-11 15:39:35.796</td>\n",
       "      <td>21</td>\n",
       "      <td>Montgomery St BART Station (Market St at 2nd St)</td>\n",
       "      <td>37.789625</td>\n",
       "      <td>-122.400811</td>\n",
       "      <td>11</td>\n",
       "      <td>Davis St at Jackson St</td>\n",
       "      <td>37.797280</td>\n",
       "      <td>-122.398436</td>\n",
       "      <td>Subscriber</td>\n",
       "      <td>No</td>\n",
       "      <td>Female</td>\n",
       "      <td>1996</td>\n",
       "      <td>16.850000</td>\n",
       "      <td>22</td>\n",
       "      <td>8</td>\n",
       "    </tr>\n",
       "    <tr>\n",
       "      <th>753495</th>\n",
       "      <td>685</td>\n",
       "      <td>1684</td>\n",
       "      <td>2017-11-13 22:44:44.992</td>\n",
       "      <td>2017-11-13 23:12:49.418</td>\n",
       "      <td>296</td>\n",
       "      <td>5th St at Virginia St</td>\n",
       "      <td>37.325998</td>\n",
       "      <td>-121.877120</td>\n",
       "      <td>296</td>\n",
       "      <td>5th St at Virginia St</td>\n",
       "      <td>37.325998</td>\n",
       "      <td>-121.877120</td>\n",
       "      <td>Subscriber</td>\n",
       "      <td>Not Offered</td>\n",
       "      <td>Male</td>\n",
       "      <td>1994</td>\n",
       "      <td>28.066667</td>\n",
       "      <td>24</td>\n",
       "      <td>11</td>\n",
       "    </tr>\n",
       "    <tr>\n",
       "      <th>876277</th>\n",
       "      <td>1174</td>\n",
       "      <td>805</td>\n",
       "      <td>2017-10-04 20:16:58.981</td>\n",
       "      <td>2017-10-04 20:30:24.303</td>\n",
       "      <td>245</td>\n",
       "      <td>Downtown Berkeley BART</td>\n",
       "      <td>37.870348</td>\n",
       "      <td>-122.267764</td>\n",
       "      <td>167</td>\n",
       "      <td>College Ave at Harwood Ave</td>\n",
       "      <td>37.848152</td>\n",
       "      <td>-122.252160</td>\n",
       "      <td>Subscriber</td>\n",
       "      <td>Not Offered</td>\n",
       "      <td>Male</td>\n",
       "      <td>1993</td>\n",
       "      <td>13.416667</td>\n",
       "      <td>25</td>\n",
       "      <td>10</td>\n",
       "    </tr>\n",
       "    <tr>\n",
       "      <th>2327057</th>\n",
       "      <td>414</td>\n",
       "      <td>732</td>\n",
       "      <td>2018-08-19 21:34:28.959</td>\n",
       "      <td>2018-08-19 21:46:41.026</td>\n",
       "      <td>193</td>\n",
       "      <td>Grand Ave at Santa Clara Ave</td>\n",
       "      <td>37.812744</td>\n",
       "      <td>-122.247215</td>\n",
       "      <td>233</td>\n",
       "      <td>E 12th St at 4th Ave</td>\n",
       "      <td>37.795812</td>\n",
       "      <td>-122.255555</td>\n",
       "      <td>Subscriber</td>\n",
       "      <td>No</td>\n",
       "      <td>Male</td>\n",
       "      <td>1969</td>\n",
       "      <td>12.200000</td>\n",
       "      <td>49</td>\n",
       "      <td>8</td>\n",
       "    </tr>\n",
       "    <tr>\n",
       "      <th>482259</th>\n",
       "      <td>3214</td>\n",
       "      <td>277</td>\n",
       "      <td>2018-09-26 10:03:33.178</td>\n",
       "      <td>2018-09-26 10:08:10.511</td>\n",
       "      <td>3</td>\n",
       "      <td>Powell St BART Station (Market St at 4th St)</td>\n",
       "      <td>37.786375</td>\n",
       "      <td>-122.404904</td>\n",
       "      <td>17</td>\n",
       "      <td>Embarcadero BART Station (Beale St at Market St)</td>\n",
       "      <td>37.792251</td>\n",
       "      <td>-122.397086</td>\n",
       "      <td>Subscriber</td>\n",
       "      <td>No</td>\n",
       "      <td>Male</td>\n",
       "      <td>1974</td>\n",
       "      <td>4.616667</td>\n",
       "      <td>44</td>\n",
       "      <td>9</td>\n",
       "    </tr>\n",
       "  </tbody>\n",
       "</table>\n",
       "</div>"
      ],
      "text/plain": [
       "         bike_id  duration_sec              start_time  \\\n",
       "2370884     3129          1011 2018-08-11 15:22:44.689   \n",
       "753495       685          1684 2017-11-13 22:44:44.992   \n",
       "876277      1174           805 2017-10-04 20:16:58.981   \n",
       "2327057      414           732 2018-08-19 21:34:28.959   \n",
       "482259      3214           277 2018-09-26 10:03:33.178   \n",
       "\n",
       "                       end_time  start_station_id  \\\n",
       "2370884 2018-08-11 15:39:35.796                21   \n",
       "753495  2017-11-13 23:12:49.418               296   \n",
       "876277  2017-10-04 20:30:24.303               245   \n",
       "2327057 2018-08-19 21:46:41.026               193   \n",
       "482259  2018-09-26 10:08:10.511                 3   \n",
       "\n",
       "                                       start_station_name  \\\n",
       "2370884  Montgomery St BART Station (Market St at 2nd St)   \n",
       "753495                              5th St at Virginia St   \n",
       "876277                             Downtown Berkeley BART   \n",
       "2327057                      Grand Ave at Santa Clara Ave   \n",
       "482259       Powell St BART Station (Market St at 4th St)   \n",
       "\n",
       "         start_station_latitude  start_station_longitude  end_station_id  \\\n",
       "2370884               37.789625              -122.400811              11   \n",
       "753495                37.325998              -121.877120             296   \n",
       "876277                37.870348              -122.267764             167   \n",
       "2327057               37.812744              -122.247215             233   \n",
       "482259                37.786375              -122.404904              17   \n",
       "\n",
       "                                         end_station_name  \\\n",
       "2370884                            Davis St at Jackson St   \n",
       "753495                              5th St at Virginia St   \n",
       "876277                         College Ave at Harwood Ave   \n",
       "2327057                              E 12th St at 4th Ave   \n",
       "482259   Embarcadero BART Station (Beale St at Market St)   \n",
       "\n",
       "         end_station_latitude  end_station_longitude   user_type  \\\n",
       "2370884             37.797280            -122.398436  Subscriber   \n",
       "753495              37.325998            -121.877120  Subscriber   \n",
       "876277              37.848152            -122.252160  Subscriber   \n",
       "2327057             37.795812            -122.255555  Subscriber   \n",
       "482259              37.792251            -122.397086  Subscriber   \n",
       "\n",
       "        bike_share_for_all_trip member_gender  member_birth_year  \\\n",
       "2370884                      No        Female               1996   \n",
       "753495              Not Offered          Male               1994   \n",
       "876277              Not Offered          Male               1993   \n",
       "2327057                      No          Male               1969   \n",
       "482259                       No          Male               1974   \n",
       "\n",
       "         duration_min  age  month_of_year  \n",
       "2370884     16.850000   22              8  \n",
       "753495      28.066667   24             11  \n",
       "876277      13.416667   25             10  \n",
       "2327057     12.200000   49              8  \n",
       "482259       4.616667   44              9  "
      ]
     },
     "execution_count": 115,
     "metadata": {},
     "output_type": "execute_result"
    }
   ],
   "source": [
    "df.sample(5)"
   ]
  },
  {
   "cell_type": "markdown",
   "metadata": {},
   "source": [
    "#### Number of trips by month of the year"
   ]
  },
  {
   "cell_type": "markdown",
   "metadata": {},
   "source": [
    "Since 2018 is the only year with a full 12 months worth of data, we will remove data from the end of 2017 and the beginning of 2019 because the sum total count of trips by month will be skewed in favor of the months with a higher quantity of data collected."
   ]
  },
  {
   "cell_type": "code",
   "execution_count": 123,
   "metadata": {},
   "outputs": [],
   "source": [
    "df_2018 = df.copy()"
   ]
  },
  {
   "cell_type": "code",
   "execution_count": 124,
   "metadata": {},
   "outputs": [],
   "source": [
    "df_2018['year'] = df_2018['start_time'].dt.year"
   ]
  },
  {
   "cell_type": "code",
   "execution_count": 125,
   "metadata": {},
   "outputs": [
    {
     "data": {
      "text/html": [
       "<div>\n",
       "<style scoped>\n",
       "    .dataframe tbody tr th:only-of-type {\n",
       "        vertical-align: middle;\n",
       "    }\n",
       "\n",
       "    .dataframe tbody tr th {\n",
       "        vertical-align: top;\n",
       "    }\n",
       "\n",
       "    .dataframe thead th {\n",
       "        text-align: right;\n",
       "    }\n",
       "</style>\n",
       "<table border=\"1\" class=\"dataframe\">\n",
       "  <thead>\n",
       "    <tr style=\"text-align: right;\">\n",
       "      <th></th>\n",
       "      <th>bike_id</th>\n",
       "      <th>duration_sec</th>\n",
       "      <th>start_time</th>\n",
       "      <th>end_time</th>\n",
       "      <th>start_station_id</th>\n",
       "      <th>start_station_name</th>\n",
       "      <th>start_station_latitude</th>\n",
       "      <th>start_station_longitude</th>\n",
       "      <th>end_station_id</th>\n",
       "      <th>end_station_name</th>\n",
       "      <th>end_station_latitude</th>\n",
       "      <th>end_station_longitude</th>\n",
       "      <th>user_type</th>\n",
       "      <th>bike_share_for_all_trip</th>\n",
       "      <th>member_gender</th>\n",
       "      <th>member_birth_year</th>\n",
       "      <th>duration_min</th>\n",
       "      <th>age</th>\n",
       "      <th>month_of_year</th>\n",
       "      <th>year</th>\n",
       "    </tr>\n",
       "  </thead>\n",
       "  <tbody>\n",
       "    <tr>\n",
       "      <th>846163</th>\n",
       "      <td>1194</td>\n",
       "      <td>1307</td>\n",
       "      <td>2017-10-15 18:27:24.427</td>\n",
       "      <td>2017-10-15 18:49:11.523</td>\n",
       "      <td>15</td>\n",
       "      <td>San Francisco Ferry Building (Harry Bridges Pl...</td>\n",
       "      <td>37.795392</td>\n",
       "      <td>-122.394203</td>\n",
       "      <td>44</td>\n",
       "      <td>Civic Center/UN Plaza BART Station (Market St ...</td>\n",
       "      <td>37.781074</td>\n",
       "      <td>-122.411738</td>\n",
       "      <td>Customer</td>\n",
       "      <td>Not Offered</td>\n",
       "      <td>Female</td>\n",
       "      <td>1994</td>\n",
       "      <td>21.783333</td>\n",
       "      <td>24</td>\n",
       "      <td>10</td>\n",
       "      <td>2017</td>\n",
       "    </tr>\n",
       "    <tr>\n",
       "      <th>1748458</th>\n",
       "      <td>919</td>\n",
       "      <td>398</td>\n",
       "      <td>2018-12-12 18:47:05.045</td>\n",
       "      <td>2018-12-12 18:53:43.546</td>\n",
       "      <td>248</td>\n",
       "      <td>Telegraph Ave at Ashby Ave</td>\n",
       "      <td>37.855956</td>\n",
       "      <td>-122.259795</td>\n",
       "      <td>241</td>\n",
       "      <td>Ashby BART Station</td>\n",
       "      <td>37.852477</td>\n",
       "      <td>-122.270213</td>\n",
       "      <td>Subscriber</td>\n",
       "      <td>No</td>\n",
       "      <td>Male</td>\n",
       "      <td>1973</td>\n",
       "      <td>6.633333</td>\n",
       "      <td>45</td>\n",
       "      <td>12</td>\n",
       "      <td>2018</td>\n",
       "    </tr>\n",
       "    <tr>\n",
       "      <th>1923022</th>\n",
       "      <td>5367</td>\n",
       "      <td>444</td>\n",
       "      <td>2019-01-28 08:54:44.037</td>\n",
       "      <td>2019-01-28 09:02:08.583</td>\n",
       "      <td>22</td>\n",
       "      <td>Howard St at Beale St</td>\n",
       "      <td>37.789756</td>\n",
       "      <td>-122.394643</td>\n",
       "      <td>6</td>\n",
       "      <td>The Embarcadero at Sansome St</td>\n",
       "      <td>37.804770</td>\n",
       "      <td>-122.403234</td>\n",
       "      <td>Subscriber</td>\n",
       "      <td>No</td>\n",
       "      <td>Male</td>\n",
       "      <td>1976</td>\n",
       "      <td>7.400000</td>\n",
       "      <td>42</td>\n",
       "      <td>1</td>\n",
       "      <td>2019</td>\n",
       "    </tr>\n",
       "    <tr>\n",
       "      <th>1658123</th>\n",
       "      <td>796</td>\n",
       "      <td>384</td>\n",
       "      <td>2018-05-03 19:22:13.577</td>\n",
       "      <td>2018-05-03 19:28:37.949</td>\n",
       "      <td>127</td>\n",
       "      <td>Valencia St at 21st St</td>\n",
       "      <td>37.756708</td>\n",
       "      <td>-122.421025</td>\n",
       "      <td>125</td>\n",
       "      <td>20th St at Bryant St</td>\n",
       "      <td>37.759200</td>\n",
       "      <td>-122.409851</td>\n",
       "      <td>Subscriber</td>\n",
       "      <td>No</td>\n",
       "      <td>Other</td>\n",
       "      <td>1970</td>\n",
       "      <td>6.400000</td>\n",
       "      <td>48</td>\n",
       "      <td>5</td>\n",
       "      <td>2018</td>\n",
       "    </tr>\n",
       "    <tr>\n",
       "      <th>725535</th>\n",
       "      <td>1688</td>\n",
       "      <td>702</td>\n",
       "      <td>2017-11-24 20:50:48.321</td>\n",
       "      <td>2017-11-24 21:02:31.172</td>\n",
       "      <td>120</td>\n",
       "      <td>Mission Dolores Park</td>\n",
       "      <td>37.761420</td>\n",
       "      <td>-122.426435</td>\n",
       "      <td>41</td>\n",
       "      <td>Golden Gate Ave at Polk St</td>\n",
       "      <td>37.781270</td>\n",
       "      <td>-122.418740</td>\n",
       "      <td>Subscriber</td>\n",
       "      <td>Not Offered</td>\n",
       "      <td>Male</td>\n",
       "      <td>1990</td>\n",
       "      <td>11.700000</td>\n",
       "      <td>28</td>\n",
       "      <td>11</td>\n",
       "      <td>2017</td>\n",
       "    </tr>\n",
       "  </tbody>\n",
       "</table>\n",
       "</div>"
      ],
      "text/plain": [
       "         bike_id  duration_sec              start_time  \\\n",
       "846163      1194          1307 2017-10-15 18:27:24.427   \n",
       "1748458      919           398 2018-12-12 18:47:05.045   \n",
       "1923022     5367           444 2019-01-28 08:54:44.037   \n",
       "1658123      796           384 2018-05-03 19:22:13.577   \n",
       "725535      1688           702 2017-11-24 20:50:48.321   \n",
       "\n",
       "                       end_time  start_station_id  \\\n",
       "846163  2017-10-15 18:49:11.523                15   \n",
       "1748458 2018-12-12 18:53:43.546               248   \n",
       "1923022 2019-01-28 09:02:08.583                22   \n",
       "1658123 2018-05-03 19:28:37.949               127   \n",
       "725535  2017-11-24 21:02:31.172               120   \n",
       "\n",
       "                                        start_station_name  \\\n",
       "846163   San Francisco Ferry Building (Harry Bridges Pl...   \n",
       "1748458                         Telegraph Ave at Ashby Ave   \n",
       "1923022                              Howard St at Beale St   \n",
       "1658123                             Valencia St at 21st St   \n",
       "725535                                Mission Dolores Park   \n",
       "\n",
       "         start_station_latitude  start_station_longitude  end_station_id  \\\n",
       "846163                37.795392              -122.394203              44   \n",
       "1748458               37.855956              -122.259795             241   \n",
       "1923022               37.789756              -122.394643               6   \n",
       "1658123               37.756708              -122.421025             125   \n",
       "725535                37.761420              -122.426435              41   \n",
       "\n",
       "                                          end_station_name  \\\n",
       "846163   Civic Center/UN Plaza BART Station (Market St ...   \n",
       "1748458                                 Ashby BART Station   \n",
       "1923022                      The Embarcadero at Sansome St   \n",
       "1658123                               20th St at Bryant St   \n",
       "725535                          Golden Gate Ave at Polk St   \n",
       "\n",
       "         end_station_latitude  end_station_longitude   user_type  \\\n",
       "846163              37.781074            -122.411738    Customer   \n",
       "1748458             37.852477            -122.270213  Subscriber   \n",
       "1923022             37.804770            -122.403234  Subscriber   \n",
       "1658123             37.759200            -122.409851  Subscriber   \n",
       "725535              37.781270            -122.418740  Subscriber   \n",
       "\n",
       "        bike_share_for_all_trip member_gender  member_birth_year  \\\n",
       "846163              Not Offered        Female               1994   \n",
       "1748458                      No          Male               1973   \n",
       "1923022                      No          Male               1976   \n",
       "1658123                      No         Other               1970   \n",
       "725535              Not Offered          Male               1990   \n",
       "\n",
       "         duration_min  age  month_of_year  year  \n",
       "846163      21.783333   24             10  2017  \n",
       "1748458      6.633333   45             12  2018  \n",
       "1923022      7.400000   42              1  2019  \n",
       "1658123      6.400000   48              5  2018  \n",
       "725535      11.700000   28             11  2017  "
      ]
     },
     "execution_count": 125,
     "metadata": {},
     "output_type": "execute_result"
    }
   ],
   "source": [
    "df_2018.sample(5)"
   ]
  },
  {
   "cell_type": "code",
   "execution_count": 127,
   "metadata": {},
   "outputs": [],
   "source": [
    "df_2018 = df_2018.query('year == 2018')"
   ]
  },
  {
   "cell_type": "code",
   "execution_count": 128,
   "metadata": {},
   "outputs": [
    {
     "data": {
      "text/plain": [
       "1740680"
      ]
     },
     "execution_count": 128,
     "metadata": {},
     "output_type": "execute_result"
    }
   ],
   "source": [
    "len(df_2018)"
   ]
  },
  {
   "cell_type": "code",
   "execution_count": 129,
   "metadata": {},
   "outputs": [
    {
     "data": {
      "image/png": "[encoded data removed]",
      "text/plain": [
       "<Figure size 432x288 with 1 Axes>"
      ]
     },
     "metadata": {
      "needs_background": "light"
     },
     "output_type": "display_data"
    }
   ],
   "source": [
    "sns.countplot(data = df_2018, x = 'month_of_year');"
   ]
  },
  {
   "cell_type": "markdown",
   "metadata": {},
   "source": [
    "#### What is the total number of trips by month of the year for each user type?"
   ]
  },
  {
   "cell_type": "markdown",
   "metadata": {},
   "source": [
    "First, add month and year columns to the subscriber and customer datasets. Then remove all non-2018 rows."
   ]
  },
  {
   "cell_type": "code",
   "execution_count": 130,
   "metadata": {
    "scrolled": true
   },
   "outputs": [
    {
     "name": "stderr",
     "output_type": "stream",
     "text": [
      "/Users/mattames/anaconda3/lib/python3.7/site-packages/ipykernel_launcher.py:1: SettingWithCopyWarning: \n",
      "A value is trying to be set on a copy of a slice from a DataFrame.\n",
      "Try using .loc[row_indexer,col_indexer] = value instead\n",
      "\n",
      "See the caveats in the documentation: http://pandas.pydata.org/pandas-docs/stable/indexing.html#indexing-view-versus-copy\n",
      "  \"\"\"Entry point for launching an IPython kernel.\n",
      "/Users/mattames/anaconda3/lib/python3.7/site-packages/ipykernel_launcher.py:2: SettingWithCopyWarning: \n",
      "A value is trying to be set on a copy of a slice from a DataFrame.\n",
      "Try using .loc[row_indexer,col_indexer] = value instead\n",
      "\n",
      "See the caveats in the documentation: http://pandas.pydata.org/pandas-docs/stable/indexing.html#indexing-view-versus-copy\n",
      "  \n"
     ]
    }
   ],
   "source": [
    "df_subscriber['month_of_year'] = df['start_time'].dt.month\n",
    "df_customer['month_of_year'] = df['start_time'].dt.month"
   ]
  },
  {
   "cell_type": "code",
   "execution_count": 131,
   "metadata": {
    "scrolled": true
   },
   "outputs": [
    {
     "name": "stderr",
     "output_type": "stream",
     "text": [
      "/Users/mattames/anaconda3/lib/python3.7/site-packages/ipykernel_launcher.py:1: SettingWithCopyWarning: \n",
      "A value is trying to be set on a copy of a slice from a DataFrame.\n",
      "Try using .loc[row_indexer,col_indexer] = value instead\n",
      "\n",
      "See the caveats in the documentation: http://pandas.pydata.org/pandas-docs/stable/indexing.html#indexing-view-versus-copy\n",
      "  \"\"\"Entry point for launching an IPython kernel.\n",
      "/Users/mattames/anaconda3/lib/python3.7/site-packages/ipykernel_launcher.py:2: SettingWithCopyWarning: \n",
      "A value is trying to be set on a copy of a slice from a DataFrame.\n",
      "Try using .loc[row_indexer,col_indexer] = value instead\n",
      "\n",
      "See the caveats in the documentation: http://pandas.pydata.org/pandas-docs/stable/indexing.html#indexing-view-versus-copy\n",
      "  \n"
     ]
    }
   ],
   "source": [
    "df_subscriber['year'] = df_subscriber['start_time'].dt.year\n",
    "df_customer['year'] = df_customer['start_time'].dt.year"
   ]
  },
  {
   "cell_type": "code",
   "execution_count": 132,
   "metadata": {},
   "outputs": [],
   "source": [
    "df_subscriber_2018 = df_subscriber.query('year == 2018')\n",
    "df_customer_2018 = df_customer.query('year == 2018')"
   ]
  },
  {
   "cell_type": "code",
   "execution_count": 133,
   "metadata": {},
   "outputs": [
    {
     "data": {
      "text/plain": [
       "1541624"
      ]
     },
     "execution_count": 133,
     "metadata": {},
     "output_type": "execute_result"
    }
   ],
   "source": [
    "len(df_subscriber_2018)"
   ]
  },
  {
   "cell_type": "code",
   "execution_count": 134,
   "metadata": {
    "scrolled": true
   },
   "outputs": [
    {
     "data": {
      "text/plain": [
       "199056"
      ]
     },
     "execution_count": 134,
     "metadata": {},
     "output_type": "execute_result"
    }
   ],
   "source": [
    "len(df_customer_2018)"
   ]
  },
  {
   "cell_type": "markdown",
   "metadata": {},
   "source": [
    "#### Number of trips by month of the year for each user type"
   ]
  },
  {
   "cell_type": "code",
   "execution_count": 138,
   "metadata": {},
   "outputs": [
    {
     "data": {
      "image/png": "[encoded data removed]",
      "text/plain": [
       "<Figure size 1080x360 with 2 Axes>"
      ]
     },
     "metadata": {
      "needs_background": "light"
     },
     "output_type": "display_data"
    }
   ],
   "source": [
    "plt.figure(figsize = [15, 5]) # larger figure size for subplots\n",
    "\n",
    "# example of somewhat too-large bin size\n",
    "plt.subplot(1, 2, 1) # 1 row, 2 cols, subplot 1\n",
    "sns.countplot(data = df_subscriber_2018, x ='month_of_year');\n",
    "\n",
    "# example of somewhat too-small bin size\n",
    "plt.subplot(1, 2, 2) # 1 row, 2 cols, subplot 2\n",
    "sns.countplot(data = df_customer_2018, x ='month_of_year');\n"
   ]
  },
  {
   "cell_type": "markdown",
   "metadata": {},
   "source": [
    "As expected, I would think rides fluctuate the most due to weather conditions.\n",
    "\n",
    "The plot on the left for subscribers shows that there are indeed more rides during the fair and warm weather months, however the percentage decrease from summer to winter is much less, which explains the belief that subscribers use the bikes for practicality.\n",
    "\n",
    "The plot on the right shows that there are also more rides in the summer, but a larger percent decrease in the winter. This not only lines up with warmer weather in the summer when people are more likely to take leisurely rides, but it also supports the belief that many single-use customers are visitors from out of town because the most popular months for travel in the US are indeed the summer months.\n",
    "\n",
    "Additionally, the trend for total trip counts regardless of user type more accurately reflect the subscribers trend because of how many more subscribers there are (note the axis labels, subscribers y-axis extends to over 160000 while the customers y-axis extends to only 25000)."
   ]
  },
  {
   "cell_type": "markdown",
   "metadata": {},
   "source": [
    "## Save all datasets so the final presentation can be completed in a separate Jupyter Notebook"
   ]
  },
  {
   "cell_type": "code",
   "execution_count": 139,
   "metadata": {},
   "outputs": [],
   "source": [
    "df.to_csv('df.csv', index=False)\n",
    "df_subscriber.to_csv('df_subscriber.csv', index=False)\n",
    "df_customer.to_csv('df_customer.csv', index=False)\n",
    "df_2018.to_csv('df_2018.csv', index=False)\n",
    "df_subscriber_2018.to_csv('df_subscriber_2018.csv', index=False)\n",
    "df_customer_2018.to_csv('df_customer_2018.csv', index=False)"
   ]
  },
  {
   "cell_type": "code",
   "execution_count": null,
   "metadata": {},
   "outputs": [],
   "source": []
  }
 ],
 "metadata": {
  "kernelspec": {
   "display_name": "Python 3",
   "language": "python",
   "name": "python3"
  },
  "language_info": {
   "codemirror_mode": {
    "name": "ipython",
    "version": 3
   },
   "file_extension": ".py",
   "mimetype": "text/x-python",
   "name": "python",
   "nbconvert_exporter": "python",
   "pygments_lexer": "ipython3",
   "version": "3.7.1"
  }
 },
 "nbformat": 4,
 "nbformat_minor": 2
}
