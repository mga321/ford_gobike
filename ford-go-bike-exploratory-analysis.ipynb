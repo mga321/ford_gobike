{
 "cells": [
  {
   "cell_type": "markdown",
   "metadata": {},
   "source": [
    "# Ford GoBike Exploratory Analysis\n",
    "\n",
    "### Description: Exploration into similarities, differences, and patterns between user types\n",
    " - Focus on duration, gender, age, user type, and month-to-month comparisons\n"
   ]
  },
  {
   "cell_type": "markdown",
   "metadata": {},
   "source": [
    "## Import Requirements:"
   ]
  },
  {
   "cell_type": "code",
   "execution_count": 1,
   "metadata": {},
   "outputs": [],
   "source": [
    "import numpy as np\n",
    "import pandas as pd\n",
    "import matplotlib.pyplot as plt\n",
    "%matplotlib inline\n",
    "import seaborn as sns"
   ]
  },
  {
   "cell_type": "markdown",
   "metadata": {},
   "source": [
    "## Load the Master Dataset"
   ]
  },
  {
   "cell_type": "code",
   "execution_count": 2,
   "metadata": {},
   "outputs": [
    {
     "name": "stdout",
     "output_type": "stream",
     "text": [
      "/Users/mattames/Desktop/ford_gobike\r\n"
     ]
    }
   ],
   "source": [
    "!pwd"
   ]
  },
  {
   "cell_type": "code",
   "execution_count": 3,
   "metadata": {},
   "outputs": [],
   "source": [
    "df = pd.read_csv('all_bikeshare_datasets/cleaned_datasets/master-dataset-v2.csv')"
   ]
  },
  {
   "cell_type": "code",
   "execution_count": 4,
   "metadata": {},
   "outputs": [
    {
     "data": {
      "text/html": [
       "<div>\n",
       "<style scoped>\n",
       "    .dataframe tbody tr th:only-of-type {\n",
       "        vertical-align: middle;\n",
       "    }\n",
       "\n",
       "    .dataframe tbody tr th {\n",
       "        vertical-align: top;\n",
       "    }\n",
       "\n",
       "    .dataframe thead th {\n",
       "        text-align: right;\n",
       "    }\n",
       "</style>\n",
       "<table border=\"1\" class=\"dataframe\">\n",
       "  <thead>\n",
       "    <tr style=\"text-align: right;\">\n",
       "      <th></th>\n",
       "      <th>bike_id</th>\n",
       "      <th>duration_sec</th>\n",
       "      <th>start_time</th>\n",
       "      <th>end_time</th>\n",
       "      <th>start_station_id</th>\n",
       "      <th>start_station_name</th>\n",
       "      <th>start_station_latitude</th>\n",
       "      <th>start_station_longitude</th>\n",
       "      <th>end_station_id</th>\n",
       "      <th>end_station_name</th>\n",
       "      <th>end_station_latitude</th>\n",
       "      <th>end_station_longitude</th>\n",
       "      <th>user_type</th>\n",
       "      <th>bike_share_for_all_trip</th>\n",
       "      <th>member_gender</th>\n",
       "      <th>member_birth_year</th>\n",
       "    </tr>\n",
       "  </thead>\n",
       "  <tbody>\n",
       "    <tr>\n",
       "      <th>0</th>\n",
       "      <td>1035</td>\n",
       "      <td>598</td>\n",
       "      <td>2018-02-28 23:59:47.097</td>\n",
       "      <td>2018-03-01 00:09:45.187</td>\n",
       "      <td>284</td>\n",
       "      <td>Yerba Buena Center for the Arts (Howard St at ...</td>\n",
       "      <td>37.784872</td>\n",
       "      <td>-122.400876</td>\n",
       "      <td>114</td>\n",
       "      <td>Rhode Island St at 17th St</td>\n",
       "      <td>37.764478</td>\n",
       "      <td>-122.402570</td>\n",
       "      <td>Subscriber</td>\n",
       "      <td>No</td>\n",
       "      <td>Male</td>\n",
       "      <td>1988</td>\n",
       "    </tr>\n",
       "    <tr>\n",
       "      <th>1</th>\n",
       "      <td>1673</td>\n",
       "      <td>943</td>\n",
       "      <td>2018-02-28 23:21:16.495</td>\n",
       "      <td>2018-02-28 23:36:59.974</td>\n",
       "      <td>6</td>\n",
       "      <td>The Embarcadero at Sansome St</td>\n",
       "      <td>37.804770</td>\n",
       "      <td>-122.403234</td>\n",
       "      <td>324</td>\n",
       "      <td>Union Square (Powell St at Post St)</td>\n",
       "      <td>37.788300</td>\n",
       "      <td>-122.408531</td>\n",
       "      <td>Customer</td>\n",
       "      <td>No</td>\n",
       "      <td>Male</td>\n",
       "      <td>1987</td>\n",
       "    </tr>\n",
       "    <tr>\n",
       "      <th>2</th>\n",
       "      <td>3498</td>\n",
       "      <td>18587</td>\n",
       "      <td>2018-02-28 18:20:55.190</td>\n",
       "      <td>2018-02-28 23:30:42.925</td>\n",
       "      <td>93</td>\n",
       "      <td>4th St at Mission Bay Blvd S</td>\n",
       "      <td>37.770407</td>\n",
       "      <td>-122.391198</td>\n",
       "      <td>15</td>\n",
       "      <td>San Francisco Ferry Building (Harry Bridges Pl...</td>\n",
       "      <td>37.795392</td>\n",
       "      <td>-122.394203</td>\n",
       "      <td>Customer</td>\n",
       "      <td>No</td>\n",
       "      <td>Female</td>\n",
       "      <td>1986</td>\n",
       "    </tr>\n",
       "    <tr>\n",
       "      <th>3</th>\n",
       "      <td>3129</td>\n",
       "      <td>18558</td>\n",
       "      <td>2018-02-28 18:20:53.621</td>\n",
       "      <td>2018-02-28 23:30:12.450</td>\n",
       "      <td>93</td>\n",
       "      <td>4th St at Mission Bay Blvd S</td>\n",
       "      <td>37.770407</td>\n",
       "      <td>-122.391198</td>\n",
       "      <td>15</td>\n",
       "      <td>San Francisco Ferry Building (Harry Bridges Pl...</td>\n",
       "      <td>37.795392</td>\n",
       "      <td>-122.394203</td>\n",
       "      <td>Customer</td>\n",
       "      <td>No</td>\n",
       "      <td>Male</td>\n",
       "      <td>1981</td>\n",
       "    </tr>\n",
       "    <tr>\n",
       "      <th>4</th>\n",
       "      <td>1839</td>\n",
       "      <td>885</td>\n",
       "      <td>2018-02-28 23:15:12.858</td>\n",
       "      <td>2018-02-28 23:29:58.608</td>\n",
       "      <td>308</td>\n",
       "      <td>San Pedro Square</td>\n",
       "      <td>37.336802</td>\n",
       "      <td>-121.894090</td>\n",
       "      <td>297</td>\n",
       "      <td>Locust St at Grant St</td>\n",
       "      <td>37.322980</td>\n",
       "      <td>-121.887931</td>\n",
       "      <td>Subscriber</td>\n",
       "      <td>Yes</td>\n",
       "      <td>Female</td>\n",
       "      <td>1976</td>\n",
       "    </tr>\n",
       "  </tbody>\n",
       "</table>\n",
       "</div>"
      ],
      "text/plain": [
       "   bike_id  duration_sec               start_time                 end_time  \\\n",
       "0     1035           598  2018-02-28 23:59:47.097  2018-03-01 00:09:45.187   \n",
       "1     1673           943  2018-02-28 23:21:16.495  2018-02-28 23:36:59.974   \n",
       "2     3498         18587  2018-02-28 18:20:55.190  2018-02-28 23:30:42.925   \n",
       "3     3129         18558  2018-02-28 18:20:53.621  2018-02-28 23:30:12.450   \n",
       "4     1839           885  2018-02-28 23:15:12.858  2018-02-28 23:29:58.608   \n",
       "\n",
       "   start_station_id                                 start_station_name  \\\n",
       "0               284  Yerba Buena Center for the Arts (Howard St at ...   \n",
       "1                 6                      The Embarcadero at Sansome St   \n",
       "2                93                       4th St at Mission Bay Blvd S   \n",
       "3                93                       4th St at Mission Bay Blvd S   \n",
       "4               308                                   San Pedro Square   \n",
       "\n",
       "   start_station_latitude  start_station_longitude  end_station_id  \\\n",
       "0               37.784872              -122.400876             114   \n",
       "1               37.804770              -122.403234             324   \n",
       "2               37.770407              -122.391198              15   \n",
       "3               37.770407              -122.391198              15   \n",
       "4               37.336802              -121.894090             297   \n",
       "\n",
       "                                    end_station_name  end_station_latitude  \\\n",
       "0                         Rhode Island St at 17th St             37.764478   \n",
       "1                Union Square (Powell St at Post St)             37.788300   \n",
       "2  San Francisco Ferry Building (Harry Bridges Pl...             37.795392   \n",
       "3  San Francisco Ferry Building (Harry Bridges Pl...             37.795392   \n",
       "4                              Locust St at Grant St             37.322980   \n",
       "\n",
       "   end_station_longitude   user_type bike_share_for_all_trip member_gender  \\\n",
       "0            -122.402570  Subscriber                      No          Male   \n",
       "1            -122.408531    Customer                      No          Male   \n",
       "2            -122.394203    Customer                      No        Female   \n",
       "3            -122.394203    Customer                      No          Male   \n",
       "4            -121.887931  Subscriber                     Yes        Female   \n",
       "\n",
       "   member_birth_year  \n",
       "0               1988  \n",
       "1               1987  \n",
       "2               1986  \n",
       "3               1981  \n",
       "4               1976  "
      ]
     },
     "execution_count": 4,
     "metadata": {},
     "output_type": "execute_result"
    }
   ],
   "source": [
    "df.head()"
   ]
  },
  {
   "cell_type": "code",
   "execution_count": 5,
   "metadata": {},
   "outputs": [
    {
     "name": "stdout",
     "output_type": "stream",
     "text": [
      "<class 'pandas.core.frame.DataFrame'>\n",
      "RangeIndex: 3197671 entries, 0 to 3197670\n",
      "Data columns (total 16 columns):\n",
      "bike_id                    3197671 non-null int64\n",
      "duration_sec               3197671 non-null int64\n",
      "start_time                 3197671 non-null object\n",
      "end_time                   3197671 non-null object\n",
      "start_station_id           3197671 non-null int64\n",
      "start_station_name         3197671 non-null object\n",
      "start_station_latitude     3197671 non-null float64\n",
      "start_station_longitude    3197671 non-null float64\n",
      "end_station_id             3197671 non-null int64\n",
      "end_station_name           3197671 non-null object\n",
      "end_station_latitude       3197671 non-null float64\n",
      "end_station_longitude      3197671 non-null float64\n",
      "user_type                  3197671 non-null object\n",
      "bike_share_for_all_trip    3197671 non-null object\n",
      "member_gender              3197671 non-null object\n",
      "member_birth_year          3197671 non-null int64\n",
      "dtypes: float64(4), int64(5), object(7)\n",
      "memory usage: 390.3+ MB\n"
     ]
    }
   ],
   "source": [
    "df.info(null_counts=True)"
   ]
  },
  {
   "cell_type": "code",
   "execution_count": 6,
   "metadata": {},
   "outputs": [],
   "source": [
    "# Re-convert datetime datatypes\n",
    "df['start_time'] = pd.to_datetime(df['start_time'])\n",
    "df['end_time'] = pd.to_datetime(df['end_time'])"
   ]
  },
  {
   "cell_type": "code",
   "execution_count": 7,
   "metadata": {},
   "outputs": [
    {
     "data": {
      "text/plain": [
       "bike_id                             int64\n",
       "duration_sec                        int64\n",
       "start_time                 datetime64[ns]\n",
       "end_time                   datetime64[ns]\n",
       "start_station_id                    int64\n",
       "start_station_name                 object\n",
       "start_station_latitude            float64\n",
       "start_station_longitude           float64\n",
       "end_station_id                      int64\n",
       "end_station_name                   object\n",
       "end_station_latitude              float64\n",
       "end_station_longitude             float64\n",
       "user_type                          object\n",
       "bike_share_for_all_trip            object\n",
       "member_gender                      object\n",
       "member_birth_year                   int64\n",
       "dtype: object"
      ]
     },
     "execution_count": 7,
     "metadata": {},
     "output_type": "execute_result"
    }
   ],
   "source": [
    "# Confirm change\n",
    "df.dtypes"
   ]
  },
  {
   "cell_type": "markdown",
   "metadata": {},
   "source": [
    "## Exploratory Analysis & Additional Cleaning"
   ]
  },
  {
   "cell_type": "code",
   "execution_count": 8,
   "metadata": {},
   "outputs": [
    {
     "data": {
      "text/html": [
       "<div>\n",
       "<style scoped>\n",
       "    .dataframe tbody tr th:only-of-type {\n",
       "        vertical-align: middle;\n",
       "    }\n",
       "\n",
       "    .dataframe tbody tr th {\n",
       "        vertical-align: top;\n",
       "    }\n",
       "\n",
       "    .dataframe thead th {\n",
       "        text-align: right;\n",
       "    }\n",
       "</style>\n",
       "<table border=\"1\" class=\"dataframe\">\n",
       "  <thead>\n",
       "    <tr style=\"text-align: right;\">\n",
       "      <th></th>\n",
       "      <th>bike_id</th>\n",
       "      <th>duration_sec</th>\n",
       "      <th>start_station_id</th>\n",
       "      <th>start_station_latitude</th>\n",
       "      <th>start_station_longitude</th>\n",
       "      <th>end_station_id</th>\n",
       "      <th>end_station_latitude</th>\n",
       "      <th>end_station_longitude</th>\n",
       "      <th>member_birth_year</th>\n",
       "    </tr>\n",
       "  </thead>\n",
       "  <tbody>\n",
       "    <tr>\n",
       "      <th>count</th>\n",
       "      <td>3.197671e+06</td>\n",
       "      <td>3.197671e+06</td>\n",
       "      <td>3.197671e+06</td>\n",
       "      <td>3.197671e+06</td>\n",
       "      <td>3.197671e+06</td>\n",
       "      <td>3.197671e+06</td>\n",
       "      <td>3.197671e+06</td>\n",
       "      <td>3.197671e+06</td>\n",
       "      <td>3.197671e+06</td>\n",
       "    </tr>\n",
       "    <tr>\n",
       "      <th>mean</th>\n",
       "      <td>2.709359e+03</td>\n",
       "      <td>7.734795e+02</td>\n",
       "      <td>1.229253e+02</td>\n",
       "      <td>3.776958e+01</td>\n",
       "      <td>-1.223534e+02</td>\n",
       "      <td>1.210837e+02</td>\n",
       "      <td>3.776950e+01</td>\n",
       "      <td>-1.223521e+02</td>\n",
       "      <td>1.983189e+03</td>\n",
       "    </tr>\n",
       "    <tr>\n",
       "      <th>std</th>\n",
       "      <td>1.716219e+03</td>\n",
       "      <td>1.971263e+03</td>\n",
       "      <td>1.037837e+02</td>\n",
       "      <td>1.015278e-01</td>\n",
       "      <td>1.357226e-01</td>\n",
       "      <td>1.036002e+02</td>\n",
       "      <td>1.336651e-01</td>\n",
       "      <td>3.128577e-01</td>\n",
       "      <td>1.043911e+01</td>\n",
       "    </tr>\n",
       "    <tr>\n",
       "      <th>min</th>\n",
       "      <td>1.000000e+01</td>\n",
       "      <td>6.100000e+01</td>\n",
       "      <td>3.000000e+00</td>\n",
       "      <td>0.000000e+00</td>\n",
       "      <td>-1.224737e+02</td>\n",
       "      <td>3.000000e+00</td>\n",
       "      <td>0.000000e+00</td>\n",
       "      <td>-1.224737e+02</td>\n",
       "      <td>1.878000e+03</td>\n",
       "    </tr>\n",
       "    <tr>\n",
       "      <th>25%</th>\n",
       "      <td>1.323000e+03</td>\n",
       "      <td>3.450000e+02</td>\n",
       "      <td>3.600000e+01</td>\n",
       "      <td>3.777106e+01</td>\n",
       "      <td>-1.224117e+02</td>\n",
       "      <td>3.000000e+01</td>\n",
       "      <td>3.777143e+01</td>\n",
       "      <td>-1.224108e+02</td>\n",
       "      <td>1.978000e+03</td>\n",
       "    </tr>\n",
       "    <tr>\n",
       "      <th>50%</th>\n",
       "      <td>2.561000e+03</td>\n",
       "      <td>5.430000e+02</td>\n",
       "      <td>9.000000e+01</td>\n",
       "      <td>3.778107e+01</td>\n",
       "      <td>-1.223974e+02</td>\n",
       "      <td>8.900000e+01</td>\n",
       "      <td>3.778127e+01</td>\n",
       "      <td>-1.223971e+02</td>\n",
       "      <td>1.986000e+03</td>\n",
       "    </tr>\n",
       "    <tr>\n",
       "      <th>75%</th>\n",
       "      <td>3.756000e+03</td>\n",
       "      <td>8.380000e+02</td>\n",
       "      <td>1.930000e+02</td>\n",
       "      <td>3.779581e+01</td>\n",
       "      <td>-1.222914e+02</td>\n",
       "      <td>1.890000e+02</td>\n",
       "      <td>3.779625e+01</td>\n",
       "      <td>-1.222914e+02</td>\n",
       "      <td>1.991000e+03</td>\n",
       "    </tr>\n",
       "    <tr>\n",
       "      <th>max</th>\n",
       "      <td>7.196000e+03</td>\n",
       "      <td>8.628100e+04</td>\n",
       "      <td>4.270000e+02</td>\n",
       "      <td>3.788022e+01</td>\n",
       "      <td>0.000000e+00</td>\n",
       "      <td>4.270000e+02</td>\n",
       "      <td>3.788022e+01</td>\n",
       "      <td>0.000000e+00</td>\n",
       "      <td>2.001000e+03</td>\n",
       "    </tr>\n",
       "  </tbody>\n",
       "</table>\n",
       "</div>"
      ],
      "text/plain": [
       "            bike_id  duration_sec  start_station_id  start_station_latitude  \\\n",
       "count  3.197671e+06  3.197671e+06      3.197671e+06            3.197671e+06   \n",
       "mean   2.709359e+03  7.734795e+02      1.229253e+02            3.776958e+01   \n",
       "std    1.716219e+03  1.971263e+03      1.037837e+02            1.015278e-01   \n",
       "min    1.000000e+01  6.100000e+01      3.000000e+00            0.000000e+00   \n",
       "25%    1.323000e+03  3.450000e+02      3.600000e+01            3.777106e+01   \n",
       "50%    2.561000e+03  5.430000e+02      9.000000e+01            3.778107e+01   \n",
       "75%    3.756000e+03  8.380000e+02      1.930000e+02            3.779581e+01   \n",
       "max    7.196000e+03  8.628100e+04      4.270000e+02            3.788022e+01   \n",
       "\n",
       "       start_station_longitude  end_station_id  end_station_latitude  \\\n",
       "count             3.197671e+06    3.197671e+06          3.197671e+06   \n",
       "mean             -1.223534e+02    1.210837e+02          3.776950e+01   \n",
       "std               1.357226e-01    1.036002e+02          1.336651e-01   \n",
       "min              -1.224737e+02    3.000000e+00          0.000000e+00   \n",
       "25%              -1.224117e+02    3.000000e+01          3.777143e+01   \n",
       "50%              -1.223974e+02    8.900000e+01          3.778127e+01   \n",
       "75%              -1.222914e+02    1.890000e+02          3.779625e+01   \n",
       "max               0.000000e+00    4.270000e+02          3.788022e+01   \n",
       "\n",
       "       end_station_longitude  member_birth_year  \n",
       "count           3.197671e+06       3.197671e+06  \n",
       "mean           -1.223521e+02       1.983189e+03  \n",
       "std             3.128577e-01       1.043911e+01  \n",
       "min            -1.224737e+02       1.878000e+03  \n",
       "25%            -1.224108e+02       1.978000e+03  \n",
       "50%            -1.223971e+02       1.986000e+03  \n",
       "75%            -1.222914e+02       1.991000e+03  \n",
       "max             0.000000e+00       2.001000e+03  "
      ]
     },
     "execution_count": 8,
     "metadata": {},
     "output_type": "execute_result"
    }
   ],
   "source": [
    "# Check statistics for numerical columns\n",
    "df.describe()"
   ]
  },
  {
   "cell_type": "markdown",
   "metadata": {},
   "source": [
    "1. Max duration in seconds appears way too high, a 23 hour bike rental cannot be a legitimate rental (could be someone incorrectly returning the bike? If there's multiple of these trips from the same bikes, do we have broken bikes?). I will need to plot the distribution of ride durations and select a reasonable range to focus on. Take care of this during my univariate exploration.\n",
    "2. Min birth year of 1983 would make the rider 141 years old. This must be an error and a reasonable age range will need to be selected and focused on. Take care of this during my univariate exploration.\n",
    "3. Station latitudes of 0 would place the stations on the equator. The Bay area coordinates should all be between 37 and 38 for latitude and -121 and -123 for longitude. Clean this right away."
   ]
  },
  {
   "cell_type": "markdown",
   "metadata": {},
   "source": [
    "### Issue 1: \n",
    "\n",
    "#### Define\n",
    "Correct the dirty station location data. The only station coordinates outside the expected range are for the test station data entry, so there is no filling or adjusting of values to be done. Just use .drop() to drop all rows where start_station_name or end_station_name is \"SF Test Station\"."
   ]
  },
  {
   "cell_type": "markdown",
   "metadata": {},
   "source": [
    "#### Code"
   ]
  },
  {
   "cell_type": "code",
   "execution_count": 9,
   "metadata": {},
   "outputs": [
    {
     "data": {
      "text/html": [
       "<div>\n",
       "<style scoped>\n",
       "    .dataframe tbody tr th:only-of-type {\n",
       "        vertical-align: middle;\n",
       "    }\n",
       "\n",
       "    .dataframe tbody tr th {\n",
       "        vertical-align: top;\n",
       "    }\n",
       "\n",
       "    .dataframe thead th {\n",
       "        text-align: right;\n",
       "    }\n",
       "</style>\n",
       "<table border=\"1\" class=\"dataframe\">\n",
       "  <thead>\n",
       "    <tr style=\"text-align: right;\">\n",
       "      <th></th>\n",
       "      <th>bike_id</th>\n",
       "      <th>duration_sec</th>\n",
       "      <th>start_time</th>\n",
       "      <th>end_time</th>\n",
       "      <th>start_station_id</th>\n",
       "      <th>start_station_name</th>\n",
       "      <th>start_station_latitude</th>\n",
       "      <th>start_station_longitude</th>\n",
       "      <th>end_station_id</th>\n",
       "      <th>end_station_name</th>\n",
       "      <th>end_station_latitude</th>\n",
       "      <th>end_station_longitude</th>\n",
       "      <th>user_type</th>\n",
       "      <th>bike_share_for_all_trip</th>\n",
       "      <th>member_gender</th>\n",
       "      <th>member_birth_year</th>\n",
       "    </tr>\n",
       "  </thead>\n",
       "  <tbody>\n",
       "    <tr>\n",
       "      <th>265936</th>\n",
       "      <td>1161</td>\n",
       "      <td>175</td>\n",
       "      <td>2019-04-24 16:56:54.516</td>\n",
       "      <td>2019-04-24 16:59:50.429</td>\n",
       "      <td>420</td>\n",
       "      <td>SF Test Station</td>\n",
       "      <td>0.0</td>\n",
       "      <td>0.0</td>\n",
       "      <td>81</td>\n",
       "      <td>Berry St at 4th St</td>\n",
       "      <td>37.77588</td>\n",
       "      <td>-122.39317</td>\n",
       "      <td>Subscriber</td>\n",
       "      <td>No</td>\n",
       "      <td>Male</td>\n",
       "      <td>1983</td>\n",
       "    </tr>\n",
       "  </tbody>\n",
       "</table>\n",
       "</div>"
      ],
      "text/plain": [
       "        bike_id  duration_sec              start_time                end_time  \\\n",
       "265936     1161           175 2019-04-24 16:56:54.516 2019-04-24 16:59:50.429   \n",
       "\n",
       "        start_station_id start_station_name  start_station_latitude  \\\n",
       "265936               420    SF Test Station                     0.0   \n",
       "\n",
       "        start_station_longitude  end_station_id    end_station_name  \\\n",
       "265936                      0.0              81  Berry St at 4th St   \n",
       "\n",
       "        end_station_latitude  end_station_longitude   user_type  \\\n",
       "265936              37.77588             -122.39317  Subscriber   \n",
       "\n",
       "       bike_share_for_all_trip member_gender  member_birth_year  \n",
       "265936                      No          Male               1983  "
      ]
     },
     "execution_count": 9,
     "metadata": {},
     "output_type": "execute_result"
    }
   ],
   "source": [
    "# Start station latitude test lower limit\n",
    "df.query('start_station_latitude < 37')"
   ]
  },
  {
   "cell_type": "code",
   "execution_count": 10,
   "metadata": {},
   "outputs": [
    {
     "data": {
      "text/html": [
       "<div>\n",
       "<style scoped>\n",
       "    .dataframe tbody tr th:only-of-type {\n",
       "        vertical-align: middle;\n",
       "    }\n",
       "\n",
       "    .dataframe tbody tr th {\n",
       "        vertical-align: top;\n",
       "    }\n",
       "\n",
       "    .dataframe thead th {\n",
       "        text-align: right;\n",
       "    }\n",
       "</style>\n",
       "<table border=\"1\" class=\"dataframe\">\n",
       "  <thead>\n",
       "    <tr style=\"text-align: right;\">\n",
       "      <th></th>\n",
       "      <th>bike_id</th>\n",
       "      <th>duration_sec</th>\n",
       "      <th>start_time</th>\n",
       "      <th>end_time</th>\n",
       "      <th>start_station_id</th>\n",
       "      <th>start_station_name</th>\n",
       "      <th>start_station_latitude</th>\n",
       "      <th>start_station_longitude</th>\n",
       "      <th>end_station_id</th>\n",
       "      <th>end_station_name</th>\n",
       "      <th>end_station_latitude</th>\n",
       "      <th>end_station_longitude</th>\n",
       "      <th>user_type</th>\n",
       "      <th>bike_share_for_all_trip</th>\n",
       "      <th>member_gender</th>\n",
       "      <th>member_birth_year</th>\n",
       "    </tr>\n",
       "  </thead>\n",
       "  <tbody>\n",
       "  </tbody>\n",
       "</table>\n",
       "</div>"
      ],
      "text/plain": [
       "Empty DataFrame\n",
       "Columns: [bike_id, duration_sec, start_time, end_time, start_station_id, start_station_name, start_station_latitude, start_station_longitude, end_station_id, end_station_name, end_station_latitude, end_station_longitude, user_type, bike_share_for_all_trip, member_gender, member_birth_year]\n",
       "Index: []"
      ]
     },
     "execution_count": 10,
     "metadata": {},
     "output_type": "execute_result"
    }
   ],
   "source": [
    "# Start station latitude test upper limit\n",
    "df.query('start_station_latitude > 38')"
   ]
  },
  {
   "cell_type": "code",
   "execution_count": 11,
   "metadata": {},
   "outputs": [
    {
     "data": {
      "text/html": [
       "<div>\n",
       "<style scoped>\n",
       "    .dataframe tbody tr th:only-of-type {\n",
       "        vertical-align: middle;\n",
       "    }\n",
       "\n",
       "    .dataframe tbody tr th {\n",
       "        vertical-align: top;\n",
       "    }\n",
       "\n",
       "    .dataframe thead th {\n",
       "        text-align: right;\n",
       "    }\n",
       "</style>\n",
       "<table border=\"1\" class=\"dataframe\">\n",
       "  <thead>\n",
       "    <tr style=\"text-align: right;\">\n",
       "      <th></th>\n",
       "      <th>bike_id</th>\n",
       "      <th>duration_sec</th>\n",
       "      <th>start_time</th>\n",
       "      <th>end_time</th>\n",
       "      <th>start_station_id</th>\n",
       "      <th>start_station_name</th>\n",
       "      <th>start_station_latitude</th>\n",
       "      <th>start_station_longitude</th>\n",
       "      <th>end_station_id</th>\n",
       "      <th>end_station_name</th>\n",
       "      <th>end_station_latitude</th>\n",
       "      <th>end_station_longitude</th>\n",
       "      <th>user_type</th>\n",
       "      <th>bike_share_for_all_trip</th>\n",
       "      <th>member_gender</th>\n",
       "      <th>member_birth_year</th>\n",
       "    </tr>\n",
       "  </thead>\n",
       "  <tbody>\n",
       "    <tr>\n",
       "      <th>265936</th>\n",
       "      <td>1161</td>\n",
       "      <td>175</td>\n",
       "      <td>2019-04-24 16:56:54.516</td>\n",
       "      <td>2019-04-24 16:59:50.429</td>\n",
       "      <td>420</td>\n",
       "      <td>SF Test Station</td>\n",
       "      <td>0.0</td>\n",
       "      <td>0.0</td>\n",
       "      <td>81</td>\n",
       "      <td>Berry St at 4th St</td>\n",
       "      <td>37.77588</td>\n",
       "      <td>-122.39317</td>\n",
       "      <td>Subscriber</td>\n",
       "      <td>No</td>\n",
       "      <td>Male</td>\n",
       "      <td>1983</td>\n",
       "    </tr>\n",
       "  </tbody>\n",
       "</table>\n",
       "</div>"
      ],
      "text/plain": [
       "        bike_id  duration_sec              start_time                end_time  \\\n",
       "265936     1161           175 2019-04-24 16:56:54.516 2019-04-24 16:59:50.429   \n",
       "\n",
       "        start_station_id start_station_name  start_station_latitude  \\\n",
       "265936               420    SF Test Station                     0.0   \n",
       "\n",
       "        start_station_longitude  end_station_id    end_station_name  \\\n",
       "265936                      0.0              81  Berry St at 4th St   \n",
       "\n",
       "        end_station_latitude  end_station_longitude   user_type  \\\n",
       "265936              37.77588             -122.39317  Subscriber   \n",
       "\n",
       "       bike_share_for_all_trip member_gender  member_birth_year  \n",
       "265936                      No          Male               1983  "
      ]
     },
     "execution_count": 11,
     "metadata": {},
     "output_type": "execute_result"
    }
   ],
   "source": [
    "# Start station longitude test lower limit\n",
    "df.query('start_station_longitude > -121')"
   ]
  },
  {
   "cell_type": "code",
   "execution_count": 12,
   "metadata": {},
   "outputs": [
    {
     "data": {
      "text/html": [
       "<div>\n",
       "<style scoped>\n",
       "    .dataframe tbody tr th:only-of-type {\n",
       "        vertical-align: middle;\n",
       "    }\n",
       "\n",
       "    .dataframe tbody tr th {\n",
       "        vertical-align: top;\n",
       "    }\n",
       "\n",
       "    .dataframe thead th {\n",
       "        text-align: right;\n",
       "    }\n",
       "</style>\n",
       "<table border=\"1\" class=\"dataframe\">\n",
       "  <thead>\n",
       "    <tr style=\"text-align: right;\">\n",
       "      <th></th>\n",
       "      <th>bike_id</th>\n",
       "      <th>duration_sec</th>\n",
       "      <th>start_time</th>\n",
       "      <th>end_time</th>\n",
       "      <th>start_station_id</th>\n",
       "      <th>start_station_name</th>\n",
       "      <th>start_station_latitude</th>\n",
       "      <th>start_station_longitude</th>\n",
       "      <th>end_station_id</th>\n",
       "      <th>end_station_name</th>\n",
       "      <th>end_station_latitude</th>\n",
       "      <th>end_station_longitude</th>\n",
       "      <th>user_type</th>\n",
       "      <th>bike_share_for_all_trip</th>\n",
       "      <th>member_gender</th>\n",
       "      <th>member_birth_year</th>\n",
       "    </tr>\n",
       "  </thead>\n",
       "  <tbody>\n",
       "  </tbody>\n",
       "</table>\n",
       "</div>"
      ],
      "text/plain": [
       "Empty DataFrame\n",
       "Columns: [bike_id, duration_sec, start_time, end_time, start_station_id, start_station_name, start_station_latitude, start_station_longitude, end_station_id, end_station_name, end_station_latitude, end_station_longitude, user_type, bike_share_for_all_trip, member_gender, member_birth_year]\n",
       "Index: []"
      ]
     },
     "execution_count": 12,
     "metadata": {},
     "output_type": "execute_result"
    }
   ],
   "source": [
    "# Start station longitude test lower limit\n",
    "df.query('start_station_longitude < -123')"
   ]
  },
  {
   "cell_type": "code",
   "execution_count": 13,
   "metadata": {},
   "outputs": [
    {
     "data": {
      "text/html": [
       "<div>\n",
       "<style scoped>\n",
       "    .dataframe tbody tr th:only-of-type {\n",
       "        vertical-align: middle;\n",
       "    }\n",
       "\n",
       "    .dataframe tbody tr th {\n",
       "        vertical-align: top;\n",
       "    }\n",
       "\n",
       "    .dataframe thead th {\n",
       "        text-align: right;\n",
       "    }\n",
       "</style>\n",
       "<table border=\"1\" class=\"dataframe\">\n",
       "  <thead>\n",
       "    <tr style=\"text-align: right;\">\n",
       "      <th></th>\n",
       "      <th>bike_id</th>\n",
       "      <th>duration_sec</th>\n",
       "      <th>start_time</th>\n",
       "      <th>end_time</th>\n",
       "      <th>start_station_id</th>\n",
       "      <th>start_station_name</th>\n",
       "      <th>start_station_latitude</th>\n",
       "      <th>start_station_longitude</th>\n",
       "      <th>end_station_id</th>\n",
       "      <th>end_station_name</th>\n",
       "      <th>end_station_latitude</th>\n",
       "      <th>end_station_longitude</th>\n",
       "      <th>user_type</th>\n",
       "      <th>bike_share_for_all_trip</th>\n",
       "      <th>member_gender</th>\n",
       "      <th>member_birth_year</th>\n",
       "    </tr>\n",
       "  </thead>\n",
       "  <tbody>\n",
       "    <tr>\n",
       "      <th>228312</th>\n",
       "      <td>1612</td>\n",
       "      <td>2365</td>\n",
       "      <td>2019-04-30 18:21:42.610</td>\n",
       "      <td>2019-04-30 19:01:08.146</td>\n",
       "      <td>50</td>\n",
       "      <td>2nd St at Townsend St</td>\n",
       "      <td>37.780526</td>\n",
       "      <td>-122.390288</td>\n",
       "      <td>420</td>\n",
       "      <td>SF Test Station</td>\n",
       "      <td>0.0</td>\n",
       "      <td>0.0</td>\n",
       "      <td>Subscriber</td>\n",
       "      <td>No</td>\n",
       "      <td>Female</td>\n",
       "      <td>1995</td>\n",
       "    </tr>\n",
       "    <tr>\n",
       "      <th>229051</th>\n",
       "      <td>3507</td>\n",
       "      <td>1964</td>\n",
       "      <td>2019-04-30 17:31:19.646</td>\n",
       "      <td>2019-04-30 18:04:04.518</td>\n",
       "      <td>98</td>\n",
       "      <td>Valencia St at 16th St</td>\n",
       "      <td>37.765052</td>\n",
       "      <td>-122.421866</td>\n",
       "      <td>420</td>\n",
       "      <td>SF Test Station</td>\n",
       "      <td>0.0</td>\n",
       "      <td>0.0</td>\n",
       "      <td>Subscriber</td>\n",
       "      <td>No</td>\n",
       "      <td>Female</td>\n",
       "      <td>1981</td>\n",
       "    </tr>\n",
       "    <tr>\n",
       "      <th>229203</th>\n",
       "      <td>1142</td>\n",
       "      <td>546</td>\n",
       "      <td>2019-04-30 17:45:38.452</td>\n",
       "      <td>2019-04-30 17:54:45.258</td>\n",
       "      <td>370</td>\n",
       "      <td>Jones St at Post St</td>\n",
       "      <td>37.787327</td>\n",
       "      <td>-122.413278</td>\n",
       "      <td>420</td>\n",
       "      <td>SF Test Station</td>\n",
       "      <td>0.0</td>\n",
       "      <td>0.0</td>\n",
       "      <td>Subscriber</td>\n",
       "      <td>Yes</td>\n",
       "      <td>Female</td>\n",
       "      <td>1991</td>\n",
       "    </tr>\n",
       "    <tr>\n",
       "      <th>229277</th>\n",
       "      <td>3500</td>\n",
       "      <td>630</td>\n",
       "      <td>2019-04-30 17:39:33.507</td>\n",
       "      <td>2019-04-30 17:50:04.314</td>\n",
       "      <td>21</td>\n",
       "      <td>Montgomery St BART Station (Market St at 2nd St)</td>\n",
       "      <td>37.789625</td>\n",
       "      <td>-122.400811</td>\n",
       "      <td>420</td>\n",
       "      <td>SF Test Station</td>\n",
       "      <td>0.0</td>\n",
       "      <td>0.0</td>\n",
       "      <td>Subscriber</td>\n",
       "      <td>No</td>\n",
       "      <td>Male</td>\n",
       "      <td>1991</td>\n",
       "    </tr>\n",
       "    <tr>\n",
       "      <th>229713</th>\n",
       "      <td>1181</td>\n",
       "      <td>433</td>\n",
       "      <td>2019-04-30 17:17:10.486</td>\n",
       "      <td>2019-04-30 17:24:23.919</td>\n",
       "      <td>11</td>\n",
       "      <td>Davis St at Jackson St</td>\n",
       "      <td>37.797280</td>\n",
       "      <td>-122.398436</td>\n",
       "      <td>420</td>\n",
       "      <td>SF Test Station</td>\n",
       "      <td>0.0</td>\n",
       "      <td>0.0</td>\n",
       "      <td>Subscriber</td>\n",
       "      <td>No</td>\n",
       "      <td>Male</td>\n",
       "      <td>1995</td>\n",
       "    </tr>\n",
       "    <tr>\n",
       "      <th>229792</th>\n",
       "      <td>2535</td>\n",
       "      <td>1233</td>\n",
       "      <td>2019-04-30 16:58:41.209</td>\n",
       "      <td>2019-04-30 17:19:14.689</td>\n",
       "      <td>81</td>\n",
       "      <td>Berry St at 4th St</td>\n",
       "      <td>37.775880</td>\n",
       "      <td>-122.393170</td>\n",
       "      <td>420</td>\n",
       "      <td>SF Test Station</td>\n",
       "      <td>0.0</td>\n",
       "      <td>0.0</td>\n",
       "      <td>Subscriber</td>\n",
       "      <td>No</td>\n",
       "      <td>Male</td>\n",
       "      <td>1970</td>\n",
       "    </tr>\n",
       "    <tr>\n",
       "      <th>229823</th>\n",
       "      <td>462</td>\n",
       "      <td>1306</td>\n",
       "      <td>2019-04-30 16:55:35.924</td>\n",
       "      <td>2019-04-30 17:17:22.162</td>\n",
       "      <td>80</td>\n",
       "      <td>Townsend St at 5th St</td>\n",
       "      <td>37.775235</td>\n",
       "      <td>-122.397437</td>\n",
       "      <td>420</td>\n",
       "      <td>SF Test Station</td>\n",
       "      <td>0.0</td>\n",
       "      <td>0.0</td>\n",
       "      <td>Subscriber</td>\n",
       "      <td>No</td>\n",
       "      <td>Male</td>\n",
       "      <td>1992</td>\n",
       "    </tr>\n",
       "    <tr>\n",
       "      <th>230101</th>\n",
       "      <td>1880</td>\n",
       "      <td>764</td>\n",
       "      <td>2019-04-30 16:44:12.351</td>\n",
       "      <td>2019-04-30 16:56:56.539</td>\n",
       "      <td>16</td>\n",
       "      <td>Steuart St at Market St</td>\n",
       "      <td>37.794130</td>\n",
       "      <td>-122.394430</td>\n",
       "      <td>420</td>\n",
       "      <td>SF Test Station</td>\n",
       "      <td>0.0</td>\n",
       "      <td>0.0</td>\n",
       "      <td>Customer</td>\n",
       "      <td>No</td>\n",
       "      <td>Male</td>\n",
       "      <td>1976</td>\n",
       "    </tr>\n",
       "    <tr>\n",
       "      <th>241904</th>\n",
       "      <td>150</td>\n",
       "      <td>1491</td>\n",
       "      <td>2019-04-28 18:40:41.288</td>\n",
       "      <td>2019-04-28 19:05:33.063</td>\n",
       "      <td>377</td>\n",
       "      <td>Fell St at Stanyan St</td>\n",
       "      <td>37.771917</td>\n",
       "      <td>-122.453704</td>\n",
       "      <td>420</td>\n",
       "      <td>SF Test Station</td>\n",
       "      <td>0.0</td>\n",
       "      <td>0.0</td>\n",
       "      <td>Customer</td>\n",
       "      <td>No</td>\n",
       "      <td>Male</td>\n",
       "      <td>1981</td>\n",
       "    </tr>\n",
       "    <tr>\n",
       "      <th>241956</th>\n",
       "      <td>311</td>\n",
       "      <td>680</td>\n",
       "      <td>2019-04-28 18:40:08.324</td>\n",
       "      <td>2019-04-28 18:51:28.357</td>\n",
       "      <td>139</td>\n",
       "      <td>Garfield Square (25th St at Harrison St)</td>\n",
       "      <td>37.751017</td>\n",
       "      <td>-122.411901</td>\n",
       "      <td>420</td>\n",
       "      <td>SF Test Station</td>\n",
       "      <td>0.0</td>\n",
       "      <td>0.0</td>\n",
       "      <td>Subscriber</td>\n",
       "      <td>No</td>\n",
       "      <td>Female</td>\n",
       "      <td>1981</td>\n",
       "    </tr>\n",
       "    <tr>\n",
       "      <th>242061</th>\n",
       "      <td>333</td>\n",
       "      <td>764</td>\n",
       "      <td>2019-04-28 18:10:38.170</td>\n",
       "      <td>2019-04-28 18:23:22.476</td>\n",
       "      <td>412</td>\n",
       "      <td>Glen Park BART Station</td>\n",
       "      <td>37.732813</td>\n",
       "      <td>-122.434140</td>\n",
       "      <td>420</td>\n",
       "      <td>SF Test Station</td>\n",
       "      <td>0.0</td>\n",
       "      <td>0.0</td>\n",
       "      <td>Customer</td>\n",
       "      <td>No</td>\n",
       "      <td>Male</td>\n",
       "      <td>1989</td>\n",
       "    </tr>\n",
       "    <tr>\n",
       "      <th>242062</th>\n",
       "      <td>2760</td>\n",
       "      <td>904</td>\n",
       "      <td>2019-04-28 18:08:13.576</td>\n",
       "      <td>2019-04-28 18:23:18.367</td>\n",
       "      <td>412</td>\n",
       "      <td>Glen Park BART Station</td>\n",
       "      <td>37.732813</td>\n",
       "      <td>-122.434140</td>\n",
       "      <td>420</td>\n",
       "      <td>SF Test Station</td>\n",
       "      <td>0.0</td>\n",
       "      <td>0.0</td>\n",
       "      <td>Customer</td>\n",
       "      <td>No</td>\n",
       "      <td>Male</td>\n",
       "      <td>1989</td>\n",
       "    </tr>\n",
       "    <tr>\n",
       "      <th>242090</th>\n",
       "      <td>3632</td>\n",
       "      <td>1501</td>\n",
       "      <td>2019-04-28 17:52:27.345</td>\n",
       "      <td>2019-04-28 18:17:28.410</td>\n",
       "      <td>377</td>\n",
       "      <td>Fell St at Stanyan St</td>\n",
       "      <td>37.771917</td>\n",
       "      <td>-122.453704</td>\n",
       "      <td>420</td>\n",
       "      <td>SF Test Station</td>\n",
       "      <td>0.0</td>\n",
       "      <td>0.0</td>\n",
       "      <td>Subscriber</td>\n",
       "      <td>No</td>\n",
       "      <td>Male</td>\n",
       "      <td>1997</td>\n",
       "    </tr>\n",
       "    <tr>\n",
       "      <th>242091</th>\n",
       "      <td>901</td>\n",
       "      <td>1503</td>\n",
       "      <td>2019-04-28 17:52:22.210</td>\n",
       "      <td>2019-04-28 18:17:25.545</td>\n",
       "      <td>377</td>\n",
       "      <td>Fell St at Stanyan St</td>\n",
       "      <td>37.771917</td>\n",
       "      <td>-122.453704</td>\n",
       "      <td>420</td>\n",
       "      <td>SF Test Station</td>\n",
       "      <td>0.0</td>\n",
       "      <td>0.0</td>\n",
       "      <td>Subscriber</td>\n",
       "      <td>No</td>\n",
       "      <td>Male</td>\n",
       "      <td>1995</td>\n",
       "    </tr>\n",
       "    <tr>\n",
       "      <th>242108</th>\n",
       "      <td>536</td>\n",
       "      <td>840</td>\n",
       "      <td>2019-04-28 18:00:23.567</td>\n",
       "      <td>2019-04-28 18:14:23.599</td>\n",
       "      <td>88</td>\n",
       "      <td>11th St at Bryant St</td>\n",
       "      <td>37.770030</td>\n",
       "      <td>-122.411726</td>\n",
       "      <td>420</td>\n",
       "      <td>SF Test Station</td>\n",
       "      <td>0.0</td>\n",
       "      <td>0.0</td>\n",
       "      <td>Subscriber</td>\n",
       "      <td>No</td>\n",
       "      <td>Male</td>\n",
       "      <td>1981</td>\n",
       "    </tr>\n",
       "    <tr>\n",
       "      <th>265975</th>\n",
       "      <td>3498</td>\n",
       "      <td>195</td>\n",
       "      <td>2019-04-24 16:53:35.591</td>\n",
       "      <td>2019-04-24 16:56:51.006</td>\n",
       "      <td>104</td>\n",
       "      <td>4th St at 16th St</td>\n",
       "      <td>37.767045</td>\n",
       "      <td>-122.390833</td>\n",
       "      <td>420</td>\n",
       "      <td>SF Test Station</td>\n",
       "      <td>0.0</td>\n",
       "      <td>0.0</td>\n",
       "      <td>Subscriber</td>\n",
       "      <td>No</td>\n",
       "      <td>Female</td>\n",
       "      <td>1970</td>\n",
       "    </tr>\n",
       "    <tr>\n",
       "      <th>274511</th>\n",
       "      <td>1768</td>\n",
       "      <td>921</td>\n",
       "      <td>2019-04-23 13:14:09.492</td>\n",
       "      <td>2019-04-23 13:29:31.333</td>\n",
       "      <td>20</td>\n",
       "      <td>Mechanics Monument Plaza (Market St at Bush St)</td>\n",
       "      <td>37.791300</td>\n",
       "      <td>-122.399051</td>\n",
       "      <td>420</td>\n",
       "      <td>SF Test Station</td>\n",
       "      <td>0.0</td>\n",
       "      <td>0.0</td>\n",
       "      <td>Subscriber</td>\n",
       "      <td>No</td>\n",
       "      <td>Male</td>\n",
       "      <td>1967</td>\n",
       "    </tr>\n",
       "    <tr>\n",
       "      <th>310743</th>\n",
       "      <td>1939</td>\n",
       "      <td>912</td>\n",
       "      <td>2019-04-17 09:30:11.764</td>\n",
       "      <td>2019-04-17 09:45:24.263</td>\n",
       "      <td>399</td>\n",
       "      <td>Bay St at Fillmore St</td>\n",
       "      <td>37.802636</td>\n",
       "      <td>-122.436289</td>\n",
       "      <td>420</td>\n",
       "      <td>SF Test Station</td>\n",
       "      <td>0.0</td>\n",
       "      <td>0.0</td>\n",
       "      <td>Subscriber</td>\n",
       "      <td>No</td>\n",
       "      <td>Male</td>\n",
       "      <td>1982</td>\n",
       "    </tr>\n",
       "  </tbody>\n",
       "</table>\n",
       "</div>"
      ],
      "text/plain": [
       "        bike_id  duration_sec              start_time                end_time  \\\n",
       "228312     1612          2365 2019-04-30 18:21:42.610 2019-04-30 19:01:08.146   \n",
       "229051     3507          1964 2019-04-30 17:31:19.646 2019-04-30 18:04:04.518   \n",
       "229203     1142           546 2019-04-30 17:45:38.452 2019-04-30 17:54:45.258   \n",
       "229277     3500           630 2019-04-30 17:39:33.507 2019-04-30 17:50:04.314   \n",
       "229713     1181           433 2019-04-30 17:17:10.486 2019-04-30 17:24:23.919   \n",
       "229792     2535          1233 2019-04-30 16:58:41.209 2019-04-30 17:19:14.689   \n",
       "229823      462          1306 2019-04-30 16:55:35.924 2019-04-30 17:17:22.162   \n",
       "230101     1880           764 2019-04-30 16:44:12.351 2019-04-30 16:56:56.539   \n",
       "241904      150          1491 2019-04-28 18:40:41.288 2019-04-28 19:05:33.063   \n",
       "241956      311           680 2019-04-28 18:40:08.324 2019-04-28 18:51:28.357   \n",
       "242061      333           764 2019-04-28 18:10:38.170 2019-04-28 18:23:22.476   \n",
       "242062     2760           904 2019-04-28 18:08:13.576 2019-04-28 18:23:18.367   \n",
       "242090     3632          1501 2019-04-28 17:52:27.345 2019-04-28 18:17:28.410   \n",
       "242091      901          1503 2019-04-28 17:52:22.210 2019-04-28 18:17:25.545   \n",
       "242108      536           840 2019-04-28 18:00:23.567 2019-04-28 18:14:23.599   \n",
       "265975     3498           195 2019-04-24 16:53:35.591 2019-04-24 16:56:51.006   \n",
       "274511     1768           921 2019-04-23 13:14:09.492 2019-04-23 13:29:31.333   \n",
       "310743     1939           912 2019-04-17 09:30:11.764 2019-04-17 09:45:24.263   \n",
       "\n",
       "        start_station_id                                start_station_name  \\\n",
       "228312                50                             2nd St at Townsend St   \n",
       "229051                98                            Valencia St at 16th St   \n",
       "229203               370                               Jones St at Post St   \n",
       "229277                21  Montgomery St BART Station (Market St at 2nd St)   \n",
       "229713                11                            Davis St at Jackson St   \n",
       "229792                81                                Berry St at 4th St   \n",
       "229823                80                             Townsend St at 5th St   \n",
       "230101                16                           Steuart St at Market St   \n",
       "241904               377                             Fell St at Stanyan St   \n",
       "241956               139          Garfield Square (25th St at Harrison St)   \n",
       "242061               412                            Glen Park BART Station   \n",
       "242062               412                            Glen Park BART Station   \n",
       "242090               377                             Fell St at Stanyan St   \n",
       "242091               377                             Fell St at Stanyan St   \n",
       "242108                88                              11th St at Bryant St   \n",
       "265975               104                                 4th St at 16th St   \n",
       "274511                20   Mechanics Monument Plaza (Market St at Bush St)   \n",
       "310743               399                             Bay St at Fillmore St   \n",
       "\n",
       "        start_station_latitude  start_station_longitude  end_station_id  \\\n",
       "228312               37.780526              -122.390288             420   \n",
       "229051               37.765052              -122.421866             420   \n",
       "229203               37.787327              -122.413278             420   \n",
       "229277               37.789625              -122.400811             420   \n",
       "229713               37.797280              -122.398436             420   \n",
       "229792               37.775880              -122.393170             420   \n",
       "229823               37.775235              -122.397437             420   \n",
       "230101               37.794130              -122.394430             420   \n",
       "241904               37.771917              -122.453704             420   \n",
       "241956               37.751017              -122.411901             420   \n",
       "242061               37.732813              -122.434140             420   \n",
       "242062               37.732813              -122.434140             420   \n",
       "242090               37.771917              -122.453704             420   \n",
       "242091               37.771917              -122.453704             420   \n",
       "242108               37.770030              -122.411726             420   \n",
       "265975               37.767045              -122.390833             420   \n",
       "274511               37.791300              -122.399051             420   \n",
       "310743               37.802636              -122.436289             420   \n",
       "\n",
       "       end_station_name  end_station_latitude  end_station_longitude  \\\n",
       "228312  SF Test Station                   0.0                    0.0   \n",
       "229051  SF Test Station                   0.0                    0.0   \n",
       "229203  SF Test Station                   0.0                    0.0   \n",
       "229277  SF Test Station                   0.0                    0.0   \n",
       "229713  SF Test Station                   0.0                    0.0   \n",
       "229792  SF Test Station                   0.0                    0.0   \n",
       "229823  SF Test Station                   0.0                    0.0   \n",
       "230101  SF Test Station                   0.0                    0.0   \n",
       "241904  SF Test Station                   0.0                    0.0   \n",
       "241956  SF Test Station                   0.0                    0.0   \n",
       "242061  SF Test Station                   0.0                    0.0   \n",
       "242062  SF Test Station                   0.0                    0.0   \n",
       "242090  SF Test Station                   0.0                    0.0   \n",
       "242091  SF Test Station                   0.0                    0.0   \n",
       "242108  SF Test Station                   0.0                    0.0   \n",
       "265975  SF Test Station                   0.0                    0.0   \n",
       "274511  SF Test Station                   0.0                    0.0   \n",
       "310743  SF Test Station                   0.0                    0.0   \n",
       "\n",
       "         user_type bike_share_for_all_trip member_gender  member_birth_year  \n",
       "228312  Subscriber                      No        Female               1995  \n",
       "229051  Subscriber                      No        Female               1981  \n",
       "229203  Subscriber                     Yes        Female               1991  \n",
       "229277  Subscriber                      No          Male               1991  \n",
       "229713  Subscriber                      No          Male               1995  \n",
       "229792  Subscriber                      No          Male               1970  \n",
       "229823  Subscriber                      No          Male               1992  \n",
       "230101    Customer                      No          Male               1976  \n",
       "241904    Customer                      No          Male               1981  \n",
       "241956  Subscriber                      No        Female               1981  \n",
       "242061    Customer                      No          Male               1989  \n",
       "242062    Customer                      No          Male               1989  \n",
       "242090  Subscriber                      No          Male               1997  \n",
       "242091  Subscriber                      No          Male               1995  \n",
       "242108  Subscriber                      No          Male               1981  \n",
       "265975  Subscriber                      No        Female               1970  \n",
       "274511  Subscriber                      No          Male               1967  \n",
       "310743  Subscriber                      No          Male               1982  "
      ]
     },
     "execution_count": 13,
     "metadata": {},
     "output_type": "execute_result"
    }
   ],
   "source": [
    "# End station latitude test lower limit\n",
    "df.query('end_station_latitude < 37')"
   ]
  },
  {
   "cell_type": "code",
   "execution_count": 14,
   "metadata": {},
   "outputs": [
    {
     "data": {
      "text/html": [
       "<div>\n",
       "<style scoped>\n",
       "    .dataframe tbody tr th:only-of-type {\n",
       "        vertical-align: middle;\n",
       "    }\n",
       "\n",
       "    .dataframe tbody tr th {\n",
       "        vertical-align: top;\n",
       "    }\n",
       "\n",
       "    .dataframe thead th {\n",
       "        text-align: right;\n",
       "    }\n",
       "</style>\n",
       "<table border=\"1\" class=\"dataframe\">\n",
       "  <thead>\n",
       "    <tr style=\"text-align: right;\">\n",
       "      <th></th>\n",
       "      <th>bike_id</th>\n",
       "      <th>duration_sec</th>\n",
       "      <th>start_time</th>\n",
       "      <th>end_time</th>\n",
       "      <th>start_station_id</th>\n",
       "      <th>start_station_name</th>\n",
       "      <th>start_station_latitude</th>\n",
       "      <th>start_station_longitude</th>\n",
       "      <th>end_station_id</th>\n",
       "      <th>end_station_name</th>\n",
       "      <th>end_station_latitude</th>\n",
       "      <th>end_station_longitude</th>\n",
       "      <th>user_type</th>\n",
       "      <th>bike_share_for_all_trip</th>\n",
       "      <th>member_gender</th>\n",
       "      <th>member_birth_year</th>\n",
       "    </tr>\n",
       "  </thead>\n",
       "  <tbody>\n",
       "  </tbody>\n",
       "</table>\n",
       "</div>"
      ],
      "text/plain": [
       "Empty DataFrame\n",
       "Columns: [bike_id, duration_sec, start_time, end_time, start_station_id, start_station_name, start_station_latitude, start_station_longitude, end_station_id, end_station_name, end_station_latitude, end_station_longitude, user_type, bike_share_for_all_trip, member_gender, member_birth_year]\n",
       "Index: []"
      ]
     },
     "execution_count": 14,
     "metadata": {},
     "output_type": "execute_result"
    }
   ],
   "source": [
    "# End station latitude test upper limit\n",
    "df.query('end_station_latitude > 38')"
   ]
  },
  {
   "cell_type": "code",
   "execution_count": 15,
   "metadata": {},
   "outputs": [
    {
     "data": {
      "text/html": [
       "<div>\n",
       "<style scoped>\n",
       "    .dataframe tbody tr th:only-of-type {\n",
       "        vertical-align: middle;\n",
       "    }\n",
       "\n",
       "    .dataframe tbody tr th {\n",
       "        vertical-align: top;\n",
       "    }\n",
       "\n",
       "    .dataframe thead th {\n",
       "        text-align: right;\n",
       "    }\n",
       "</style>\n",
       "<table border=\"1\" class=\"dataframe\">\n",
       "  <thead>\n",
       "    <tr style=\"text-align: right;\">\n",
       "      <th></th>\n",
       "      <th>bike_id</th>\n",
       "      <th>duration_sec</th>\n",
       "      <th>start_time</th>\n",
       "      <th>end_time</th>\n",
       "      <th>start_station_id</th>\n",
       "      <th>start_station_name</th>\n",
       "      <th>start_station_latitude</th>\n",
       "      <th>start_station_longitude</th>\n",
       "      <th>end_station_id</th>\n",
       "      <th>end_station_name</th>\n",
       "      <th>end_station_latitude</th>\n",
       "      <th>end_station_longitude</th>\n",
       "      <th>user_type</th>\n",
       "      <th>bike_share_for_all_trip</th>\n",
       "      <th>member_gender</th>\n",
       "      <th>member_birth_year</th>\n",
       "    </tr>\n",
       "  </thead>\n",
       "  <tbody>\n",
       "    <tr>\n",
       "      <th>228312</th>\n",
       "      <td>1612</td>\n",
       "      <td>2365</td>\n",
       "      <td>2019-04-30 18:21:42.610</td>\n",
       "      <td>2019-04-30 19:01:08.146</td>\n",
       "      <td>50</td>\n",
       "      <td>2nd St at Townsend St</td>\n",
       "      <td>37.780526</td>\n",
       "      <td>-122.390288</td>\n",
       "      <td>420</td>\n",
       "      <td>SF Test Station</td>\n",
       "      <td>0.0</td>\n",
       "      <td>0.0</td>\n",
       "      <td>Subscriber</td>\n",
       "      <td>No</td>\n",
       "      <td>Female</td>\n",
       "      <td>1995</td>\n",
       "    </tr>\n",
       "    <tr>\n",
       "      <th>229051</th>\n",
       "      <td>3507</td>\n",
       "      <td>1964</td>\n",
       "      <td>2019-04-30 17:31:19.646</td>\n",
       "      <td>2019-04-30 18:04:04.518</td>\n",
       "      <td>98</td>\n",
       "      <td>Valencia St at 16th St</td>\n",
       "      <td>37.765052</td>\n",
       "      <td>-122.421866</td>\n",
       "      <td>420</td>\n",
       "      <td>SF Test Station</td>\n",
       "      <td>0.0</td>\n",
       "      <td>0.0</td>\n",
       "      <td>Subscriber</td>\n",
       "      <td>No</td>\n",
       "      <td>Female</td>\n",
       "      <td>1981</td>\n",
       "    </tr>\n",
       "    <tr>\n",
       "      <th>229203</th>\n",
       "      <td>1142</td>\n",
       "      <td>546</td>\n",
       "      <td>2019-04-30 17:45:38.452</td>\n",
       "      <td>2019-04-30 17:54:45.258</td>\n",
       "      <td>370</td>\n",
       "      <td>Jones St at Post St</td>\n",
       "      <td>37.787327</td>\n",
       "      <td>-122.413278</td>\n",
       "      <td>420</td>\n",
       "      <td>SF Test Station</td>\n",
       "      <td>0.0</td>\n",
       "      <td>0.0</td>\n",
       "      <td>Subscriber</td>\n",
       "      <td>Yes</td>\n",
       "      <td>Female</td>\n",
       "      <td>1991</td>\n",
       "    </tr>\n",
       "    <tr>\n",
       "      <th>229277</th>\n",
       "      <td>3500</td>\n",
       "      <td>630</td>\n",
       "      <td>2019-04-30 17:39:33.507</td>\n",
       "      <td>2019-04-30 17:50:04.314</td>\n",
       "      <td>21</td>\n",
       "      <td>Montgomery St BART Station (Market St at 2nd St)</td>\n",
       "      <td>37.789625</td>\n",
       "      <td>-122.400811</td>\n",
       "      <td>420</td>\n",
       "      <td>SF Test Station</td>\n",
       "      <td>0.0</td>\n",
       "      <td>0.0</td>\n",
       "      <td>Subscriber</td>\n",
       "      <td>No</td>\n",
       "      <td>Male</td>\n",
       "      <td>1991</td>\n",
       "    </tr>\n",
       "    <tr>\n",
       "      <th>229713</th>\n",
       "      <td>1181</td>\n",
       "      <td>433</td>\n",
       "      <td>2019-04-30 17:17:10.486</td>\n",
       "      <td>2019-04-30 17:24:23.919</td>\n",
       "      <td>11</td>\n",
       "      <td>Davis St at Jackson St</td>\n",
       "      <td>37.797280</td>\n",
       "      <td>-122.398436</td>\n",
       "      <td>420</td>\n",
       "      <td>SF Test Station</td>\n",
       "      <td>0.0</td>\n",
       "      <td>0.0</td>\n",
       "      <td>Subscriber</td>\n",
       "      <td>No</td>\n",
       "      <td>Male</td>\n",
       "      <td>1995</td>\n",
       "    </tr>\n",
       "    <tr>\n",
       "      <th>229792</th>\n",
       "      <td>2535</td>\n",
       "      <td>1233</td>\n",
       "      <td>2019-04-30 16:58:41.209</td>\n",
       "      <td>2019-04-30 17:19:14.689</td>\n",
       "      <td>81</td>\n",
       "      <td>Berry St at 4th St</td>\n",
       "      <td>37.775880</td>\n",
       "      <td>-122.393170</td>\n",
       "      <td>420</td>\n",
       "      <td>SF Test Station</td>\n",
       "      <td>0.0</td>\n",
       "      <td>0.0</td>\n",
       "      <td>Subscriber</td>\n",
       "      <td>No</td>\n",
       "      <td>Male</td>\n",
       "      <td>1970</td>\n",
       "    </tr>\n",
       "    <tr>\n",
       "      <th>229823</th>\n",
       "      <td>462</td>\n",
       "      <td>1306</td>\n",
       "      <td>2019-04-30 16:55:35.924</td>\n",
       "      <td>2019-04-30 17:17:22.162</td>\n",
       "      <td>80</td>\n",
       "      <td>Townsend St at 5th St</td>\n",
       "      <td>37.775235</td>\n",
       "      <td>-122.397437</td>\n",
       "      <td>420</td>\n",
       "      <td>SF Test Station</td>\n",
       "      <td>0.0</td>\n",
       "      <td>0.0</td>\n",
       "      <td>Subscriber</td>\n",
       "      <td>No</td>\n",
       "      <td>Male</td>\n",
       "      <td>1992</td>\n",
       "    </tr>\n",
       "    <tr>\n",
       "      <th>230101</th>\n",
       "      <td>1880</td>\n",
       "      <td>764</td>\n",
       "      <td>2019-04-30 16:44:12.351</td>\n",
       "      <td>2019-04-30 16:56:56.539</td>\n",
       "      <td>16</td>\n",
       "      <td>Steuart St at Market St</td>\n",
       "      <td>37.794130</td>\n",
       "      <td>-122.394430</td>\n",
       "      <td>420</td>\n",
       "      <td>SF Test Station</td>\n",
       "      <td>0.0</td>\n",
       "      <td>0.0</td>\n",
       "      <td>Customer</td>\n",
       "      <td>No</td>\n",
       "      <td>Male</td>\n",
       "      <td>1976</td>\n",
       "    </tr>\n",
       "    <tr>\n",
       "      <th>241904</th>\n",
       "      <td>150</td>\n",
       "      <td>1491</td>\n",
       "      <td>2019-04-28 18:40:41.288</td>\n",
       "      <td>2019-04-28 19:05:33.063</td>\n",
       "      <td>377</td>\n",
       "      <td>Fell St at Stanyan St</td>\n",
       "      <td>37.771917</td>\n",
       "      <td>-122.453704</td>\n",
       "      <td>420</td>\n",
       "      <td>SF Test Station</td>\n",
       "      <td>0.0</td>\n",
       "      <td>0.0</td>\n",
       "      <td>Customer</td>\n",
       "      <td>No</td>\n",
       "      <td>Male</td>\n",
       "      <td>1981</td>\n",
       "    </tr>\n",
       "    <tr>\n",
       "      <th>241956</th>\n",
       "      <td>311</td>\n",
       "      <td>680</td>\n",
       "      <td>2019-04-28 18:40:08.324</td>\n",
       "      <td>2019-04-28 18:51:28.357</td>\n",
       "      <td>139</td>\n",
       "      <td>Garfield Square (25th St at Harrison St)</td>\n",
       "      <td>37.751017</td>\n",
       "      <td>-122.411901</td>\n",
       "      <td>420</td>\n",
       "      <td>SF Test Station</td>\n",
       "      <td>0.0</td>\n",
       "      <td>0.0</td>\n",
       "      <td>Subscriber</td>\n",
       "      <td>No</td>\n",
       "      <td>Female</td>\n",
       "      <td>1981</td>\n",
       "    </tr>\n",
       "    <tr>\n",
       "      <th>242061</th>\n",
       "      <td>333</td>\n",
       "      <td>764</td>\n",
       "      <td>2019-04-28 18:10:38.170</td>\n",
       "      <td>2019-04-28 18:23:22.476</td>\n",
       "      <td>412</td>\n",
       "      <td>Glen Park BART Station</td>\n",
       "      <td>37.732813</td>\n",
       "      <td>-122.434140</td>\n",
       "      <td>420</td>\n",
       "      <td>SF Test Station</td>\n",
       "      <td>0.0</td>\n",
       "      <td>0.0</td>\n",
       "      <td>Customer</td>\n",
       "      <td>No</td>\n",
       "      <td>Male</td>\n",
       "      <td>1989</td>\n",
       "    </tr>\n",
       "    <tr>\n",
       "      <th>242062</th>\n",
       "      <td>2760</td>\n",
       "      <td>904</td>\n",
       "      <td>2019-04-28 18:08:13.576</td>\n",
       "      <td>2019-04-28 18:23:18.367</td>\n",
       "      <td>412</td>\n",
       "      <td>Glen Park BART Station</td>\n",
       "      <td>37.732813</td>\n",
       "      <td>-122.434140</td>\n",
       "      <td>420</td>\n",
       "      <td>SF Test Station</td>\n",
       "      <td>0.0</td>\n",
       "      <td>0.0</td>\n",
       "      <td>Customer</td>\n",
       "      <td>No</td>\n",
       "      <td>Male</td>\n",
       "      <td>1989</td>\n",
       "    </tr>\n",
       "    <tr>\n",
       "      <th>242090</th>\n",
       "      <td>3632</td>\n",
       "      <td>1501</td>\n",
       "      <td>2019-04-28 17:52:27.345</td>\n",
       "      <td>2019-04-28 18:17:28.410</td>\n",
       "      <td>377</td>\n",
       "      <td>Fell St at Stanyan St</td>\n",
       "      <td>37.771917</td>\n",
       "      <td>-122.453704</td>\n",
       "      <td>420</td>\n",
       "      <td>SF Test Station</td>\n",
       "      <td>0.0</td>\n",
       "      <td>0.0</td>\n",
       "      <td>Subscriber</td>\n",
       "      <td>No</td>\n",
       "      <td>Male</td>\n",
       "      <td>1997</td>\n",
       "    </tr>\n",
       "    <tr>\n",
       "      <th>242091</th>\n",
       "      <td>901</td>\n",
       "      <td>1503</td>\n",
       "      <td>2019-04-28 17:52:22.210</td>\n",
       "      <td>2019-04-28 18:17:25.545</td>\n",
       "      <td>377</td>\n",
       "      <td>Fell St at Stanyan St</td>\n",
       "      <td>37.771917</td>\n",
       "      <td>-122.453704</td>\n",
       "      <td>420</td>\n",
       "      <td>SF Test Station</td>\n",
       "      <td>0.0</td>\n",
       "      <td>0.0</td>\n",
       "      <td>Subscriber</td>\n",
       "      <td>No</td>\n",
       "      <td>Male</td>\n",
       "      <td>1995</td>\n",
       "    </tr>\n",
       "    <tr>\n",
       "      <th>242108</th>\n",
       "      <td>536</td>\n",
       "      <td>840</td>\n",
       "      <td>2019-04-28 18:00:23.567</td>\n",
       "      <td>2019-04-28 18:14:23.599</td>\n",
       "      <td>88</td>\n",
       "      <td>11th St at Bryant St</td>\n",
       "      <td>37.770030</td>\n",
       "      <td>-122.411726</td>\n",
       "      <td>420</td>\n",
       "      <td>SF Test Station</td>\n",
       "      <td>0.0</td>\n",
       "      <td>0.0</td>\n",
       "      <td>Subscriber</td>\n",
       "      <td>No</td>\n",
       "      <td>Male</td>\n",
       "      <td>1981</td>\n",
       "    </tr>\n",
       "    <tr>\n",
       "      <th>265975</th>\n",
       "      <td>3498</td>\n",
       "      <td>195</td>\n",
       "      <td>2019-04-24 16:53:35.591</td>\n",
       "      <td>2019-04-24 16:56:51.006</td>\n",
       "      <td>104</td>\n",
       "      <td>4th St at 16th St</td>\n",
       "      <td>37.767045</td>\n",
       "      <td>-122.390833</td>\n",
       "      <td>420</td>\n",
       "      <td>SF Test Station</td>\n",
       "      <td>0.0</td>\n",
       "      <td>0.0</td>\n",
       "      <td>Subscriber</td>\n",
       "      <td>No</td>\n",
       "      <td>Female</td>\n",
       "      <td>1970</td>\n",
       "    </tr>\n",
       "    <tr>\n",
       "      <th>274511</th>\n",
       "      <td>1768</td>\n",
       "      <td>921</td>\n",
       "      <td>2019-04-23 13:14:09.492</td>\n",
       "      <td>2019-04-23 13:29:31.333</td>\n",
       "      <td>20</td>\n",
       "      <td>Mechanics Monument Plaza (Market St at Bush St)</td>\n",
       "      <td>37.791300</td>\n",
       "      <td>-122.399051</td>\n",
       "      <td>420</td>\n",
       "      <td>SF Test Station</td>\n",
       "      <td>0.0</td>\n",
       "      <td>0.0</td>\n",
       "      <td>Subscriber</td>\n",
       "      <td>No</td>\n",
       "      <td>Male</td>\n",
       "      <td>1967</td>\n",
       "    </tr>\n",
       "    <tr>\n",
       "      <th>310743</th>\n",
       "      <td>1939</td>\n",
       "      <td>912</td>\n",
       "      <td>2019-04-17 09:30:11.764</td>\n",
       "      <td>2019-04-17 09:45:24.263</td>\n",
       "      <td>399</td>\n",
       "      <td>Bay St at Fillmore St</td>\n",
       "      <td>37.802636</td>\n",
       "      <td>-122.436289</td>\n",
       "      <td>420</td>\n",
       "      <td>SF Test Station</td>\n",
       "      <td>0.0</td>\n",
       "      <td>0.0</td>\n",
       "      <td>Subscriber</td>\n",
       "      <td>No</td>\n",
       "      <td>Male</td>\n",
       "      <td>1982</td>\n",
       "    </tr>\n",
       "  </tbody>\n",
       "</table>\n",
       "</div>"
      ],
      "text/plain": [
       "        bike_id  duration_sec              start_time                end_time  \\\n",
       "228312     1612          2365 2019-04-30 18:21:42.610 2019-04-30 19:01:08.146   \n",
       "229051     3507          1964 2019-04-30 17:31:19.646 2019-04-30 18:04:04.518   \n",
       "229203     1142           546 2019-04-30 17:45:38.452 2019-04-30 17:54:45.258   \n",
       "229277     3500           630 2019-04-30 17:39:33.507 2019-04-30 17:50:04.314   \n",
       "229713     1181           433 2019-04-30 17:17:10.486 2019-04-30 17:24:23.919   \n",
       "229792     2535          1233 2019-04-30 16:58:41.209 2019-04-30 17:19:14.689   \n",
       "229823      462          1306 2019-04-30 16:55:35.924 2019-04-30 17:17:22.162   \n",
       "230101     1880           764 2019-04-30 16:44:12.351 2019-04-30 16:56:56.539   \n",
       "241904      150          1491 2019-04-28 18:40:41.288 2019-04-28 19:05:33.063   \n",
       "241956      311           680 2019-04-28 18:40:08.324 2019-04-28 18:51:28.357   \n",
       "242061      333           764 2019-04-28 18:10:38.170 2019-04-28 18:23:22.476   \n",
       "242062     2760           904 2019-04-28 18:08:13.576 2019-04-28 18:23:18.367   \n",
       "242090     3632          1501 2019-04-28 17:52:27.345 2019-04-28 18:17:28.410   \n",
       "242091      901          1503 2019-04-28 17:52:22.210 2019-04-28 18:17:25.545   \n",
       "242108      536           840 2019-04-28 18:00:23.567 2019-04-28 18:14:23.599   \n",
       "265975     3498           195 2019-04-24 16:53:35.591 2019-04-24 16:56:51.006   \n",
       "274511     1768           921 2019-04-23 13:14:09.492 2019-04-23 13:29:31.333   \n",
       "310743     1939           912 2019-04-17 09:30:11.764 2019-04-17 09:45:24.263   \n",
       "\n",
       "        start_station_id                                start_station_name  \\\n",
       "228312                50                             2nd St at Townsend St   \n",
       "229051                98                            Valencia St at 16th St   \n",
       "229203               370                               Jones St at Post St   \n",
       "229277                21  Montgomery St BART Station (Market St at 2nd St)   \n",
       "229713                11                            Davis St at Jackson St   \n",
       "229792                81                                Berry St at 4th St   \n",
       "229823                80                             Townsend St at 5th St   \n",
       "230101                16                           Steuart St at Market St   \n",
       "241904               377                             Fell St at Stanyan St   \n",
       "241956               139          Garfield Square (25th St at Harrison St)   \n",
       "242061               412                            Glen Park BART Station   \n",
       "242062               412                            Glen Park BART Station   \n",
       "242090               377                             Fell St at Stanyan St   \n",
       "242091               377                             Fell St at Stanyan St   \n",
       "242108                88                              11th St at Bryant St   \n",
       "265975               104                                 4th St at 16th St   \n",
       "274511                20   Mechanics Monument Plaza (Market St at Bush St)   \n",
       "310743               399                             Bay St at Fillmore St   \n",
       "\n",
       "        start_station_latitude  start_station_longitude  end_station_id  \\\n",
       "228312               37.780526              -122.390288             420   \n",
       "229051               37.765052              -122.421866             420   \n",
       "229203               37.787327              -122.413278             420   \n",
       "229277               37.789625              -122.400811             420   \n",
       "229713               37.797280              -122.398436             420   \n",
       "229792               37.775880              -122.393170             420   \n",
       "229823               37.775235              -122.397437             420   \n",
       "230101               37.794130              -122.394430             420   \n",
       "241904               37.771917              -122.453704             420   \n",
       "241956               37.751017              -122.411901             420   \n",
       "242061               37.732813              -122.434140             420   \n",
       "242062               37.732813              -122.434140             420   \n",
       "242090               37.771917              -122.453704             420   \n",
       "242091               37.771917              -122.453704             420   \n",
       "242108               37.770030              -122.411726             420   \n",
       "265975               37.767045              -122.390833             420   \n",
       "274511               37.791300              -122.399051             420   \n",
       "310743               37.802636              -122.436289             420   \n",
       "\n",
       "       end_station_name  end_station_latitude  end_station_longitude  \\\n",
       "228312  SF Test Station                   0.0                    0.0   \n",
       "229051  SF Test Station                   0.0                    0.0   \n",
       "229203  SF Test Station                   0.0                    0.0   \n",
       "229277  SF Test Station                   0.0                    0.0   \n",
       "229713  SF Test Station                   0.0                    0.0   \n",
       "229792  SF Test Station                   0.0                    0.0   \n",
       "229823  SF Test Station                   0.0                    0.0   \n",
       "230101  SF Test Station                   0.0                    0.0   \n",
       "241904  SF Test Station                   0.0                    0.0   \n",
       "241956  SF Test Station                   0.0                    0.0   \n",
       "242061  SF Test Station                   0.0                    0.0   \n",
       "242062  SF Test Station                   0.0                    0.0   \n",
       "242090  SF Test Station                   0.0                    0.0   \n",
       "242091  SF Test Station                   0.0                    0.0   \n",
       "242108  SF Test Station                   0.0                    0.0   \n",
       "265975  SF Test Station                   0.0                    0.0   \n",
       "274511  SF Test Station                   0.0                    0.0   \n",
       "310743  SF Test Station                   0.0                    0.0   \n",
       "\n",
       "         user_type bike_share_for_all_trip member_gender  member_birth_year  \n",
       "228312  Subscriber                      No        Female               1995  \n",
       "229051  Subscriber                      No        Female               1981  \n",
       "229203  Subscriber                     Yes        Female               1991  \n",
       "229277  Subscriber                      No          Male               1991  \n",
       "229713  Subscriber                      No          Male               1995  \n",
       "229792  Subscriber                      No          Male               1970  \n",
       "229823  Subscriber                      No          Male               1992  \n",
       "230101    Customer                      No          Male               1976  \n",
       "241904    Customer                      No          Male               1981  \n",
       "241956  Subscriber                      No        Female               1981  \n",
       "242061    Customer                      No          Male               1989  \n",
       "242062    Customer                      No          Male               1989  \n",
       "242090  Subscriber                      No          Male               1997  \n",
       "242091  Subscriber                      No          Male               1995  \n",
       "242108  Subscriber                      No          Male               1981  \n",
       "265975  Subscriber                      No        Female               1970  \n",
       "274511  Subscriber                      No          Male               1967  \n",
       "310743  Subscriber                      No          Male               1982  "
      ]
     },
     "execution_count": 15,
     "metadata": {},
     "output_type": "execute_result"
    }
   ],
   "source": [
    "# End station longitude test lower limit\n",
    "df.query('end_station_longitude > -121')"
   ]
  },
  {
   "cell_type": "code",
   "execution_count": 16,
   "metadata": {},
   "outputs": [
    {
     "data": {
      "text/html": [
       "<div>\n",
       "<style scoped>\n",
       "    .dataframe tbody tr th:only-of-type {\n",
       "        vertical-align: middle;\n",
       "    }\n",
       "\n",
       "    .dataframe tbody tr th {\n",
       "        vertical-align: top;\n",
       "    }\n",
       "\n",
       "    .dataframe thead th {\n",
       "        text-align: right;\n",
       "    }\n",
       "</style>\n",
       "<table border=\"1\" class=\"dataframe\">\n",
       "  <thead>\n",
       "    <tr style=\"text-align: right;\">\n",
       "      <th></th>\n",
       "      <th>bike_id</th>\n",
       "      <th>duration_sec</th>\n",
       "      <th>start_time</th>\n",
       "      <th>end_time</th>\n",
       "      <th>start_station_id</th>\n",
       "      <th>start_station_name</th>\n",
       "      <th>start_station_latitude</th>\n",
       "      <th>start_station_longitude</th>\n",
       "      <th>end_station_id</th>\n",
       "      <th>end_station_name</th>\n",
       "      <th>end_station_latitude</th>\n",
       "      <th>end_station_longitude</th>\n",
       "      <th>user_type</th>\n",
       "      <th>bike_share_for_all_trip</th>\n",
       "      <th>member_gender</th>\n",
       "      <th>member_birth_year</th>\n",
       "    </tr>\n",
       "  </thead>\n",
       "  <tbody>\n",
       "  </tbody>\n",
       "</table>\n",
       "</div>"
      ],
      "text/plain": [
       "Empty DataFrame\n",
       "Columns: [bike_id, duration_sec, start_time, end_time, start_station_id, start_station_name, start_station_latitude, start_station_longitude, end_station_id, end_station_name, end_station_latitude, end_station_longitude, user_type, bike_share_for_all_trip, member_gender, member_birth_year]\n",
       "Index: []"
      ]
     },
     "execution_count": 16,
     "metadata": {},
     "output_type": "execute_result"
    }
   ],
   "source": [
    "# End station longitude test lower limit\n",
    "df.query('end_station_longitude < -123')"
   ]
  },
  {
   "cell_type": "code",
   "execution_count": 17,
   "metadata": {},
   "outputs": [],
   "source": [
    "# Drop all rows where start station name is \"SF Test Station\"\n",
    "df = df.query('start_station_name != \"SF Test Station\"')"
   ]
  },
  {
   "cell_type": "code",
   "execution_count": 18,
   "metadata": {},
   "outputs": [],
   "source": [
    "# Drop all rows where end station name is \"SF Test Station\"\n",
    "df = df.query('end_station_name != \"SF Test Station\"')"
   ]
  },
  {
   "cell_type": "markdown",
   "metadata": {},
   "source": [
    "#### Test"
   ]
  },
  {
   "cell_type": "code",
   "execution_count": 19,
   "metadata": {
    "scrolled": true
   },
   "outputs": [
    {
     "data": {
      "text/html": [
       "<div>\n",
       "<style scoped>\n",
       "    .dataframe tbody tr th:only-of-type {\n",
       "        vertical-align: middle;\n",
       "    }\n",
       "\n",
       "    .dataframe tbody tr th {\n",
       "        vertical-align: top;\n",
       "    }\n",
       "\n",
       "    .dataframe thead th {\n",
       "        text-align: right;\n",
       "    }\n",
       "</style>\n",
       "<table border=\"1\" class=\"dataframe\">\n",
       "  <thead>\n",
       "    <tr style=\"text-align: right;\">\n",
       "      <th></th>\n",
       "      <th>bike_id</th>\n",
       "      <th>duration_sec</th>\n",
       "      <th>start_time</th>\n",
       "      <th>end_time</th>\n",
       "      <th>start_station_id</th>\n",
       "      <th>start_station_name</th>\n",
       "      <th>start_station_latitude</th>\n",
       "      <th>start_station_longitude</th>\n",
       "      <th>end_station_id</th>\n",
       "      <th>end_station_name</th>\n",
       "      <th>end_station_latitude</th>\n",
       "      <th>end_station_longitude</th>\n",
       "      <th>user_type</th>\n",
       "      <th>bike_share_for_all_trip</th>\n",
       "      <th>member_gender</th>\n",
       "      <th>member_birth_year</th>\n",
       "    </tr>\n",
       "  </thead>\n",
       "  <tbody>\n",
       "  </tbody>\n",
       "</table>\n",
       "</div>"
      ],
      "text/plain": [
       "Empty DataFrame\n",
       "Columns: [bike_id, duration_sec, start_time, end_time, start_station_id, start_station_name, start_station_latitude, start_station_longitude, end_station_id, end_station_name, end_station_latitude, end_station_longitude, user_type, bike_share_for_all_trip, member_gender, member_birth_year]\n",
       "Index: []"
      ]
     },
     "execution_count": 19,
     "metadata": {},
     "output_type": "execute_result"
    }
   ],
   "source": [
    "# Confirm SF Test Station no longer exists as a start station name\n",
    "df.query('start_station_name == \"SF Test Station\"')"
   ]
  },
  {
   "cell_type": "code",
   "execution_count": 20,
   "metadata": {},
   "outputs": [
    {
     "data": {
      "text/html": [
       "<div>\n",
       "<style scoped>\n",
       "    .dataframe tbody tr th:only-of-type {\n",
       "        vertical-align: middle;\n",
       "    }\n",
       "\n",
       "    .dataframe tbody tr th {\n",
       "        vertical-align: top;\n",
       "    }\n",
       "\n",
       "    .dataframe thead th {\n",
       "        text-align: right;\n",
       "    }\n",
       "</style>\n",
       "<table border=\"1\" class=\"dataframe\">\n",
       "  <thead>\n",
       "    <tr style=\"text-align: right;\">\n",
       "      <th></th>\n",
       "      <th>bike_id</th>\n",
       "      <th>duration_sec</th>\n",
       "      <th>start_time</th>\n",
       "      <th>end_time</th>\n",
       "      <th>start_station_id</th>\n",
       "      <th>start_station_name</th>\n",
       "      <th>start_station_latitude</th>\n",
       "      <th>start_station_longitude</th>\n",
       "      <th>end_station_id</th>\n",
       "      <th>end_station_name</th>\n",
       "      <th>end_station_latitude</th>\n",
       "      <th>end_station_longitude</th>\n",
       "      <th>user_type</th>\n",
       "      <th>bike_share_for_all_trip</th>\n",
       "      <th>member_gender</th>\n",
       "      <th>member_birth_year</th>\n",
       "    </tr>\n",
       "  </thead>\n",
       "  <tbody>\n",
       "  </tbody>\n",
       "</table>\n",
       "</div>"
      ],
      "text/plain": [
       "Empty DataFrame\n",
       "Columns: [bike_id, duration_sec, start_time, end_time, start_station_id, start_station_name, start_station_latitude, start_station_longitude, end_station_id, end_station_name, end_station_latitude, end_station_longitude, user_type, bike_share_for_all_trip, member_gender, member_birth_year]\n",
       "Index: []"
      ]
     },
     "execution_count": 20,
     "metadata": {},
     "output_type": "execute_result"
    }
   ],
   "source": [
    "# Confirm SF Test Station no longer exists as an end station name\n",
    "df.query('end_station_name == \"SF Test Station\"')"
   ]
  },
  {
   "cell_type": "code",
   "execution_count": 21,
   "metadata": {
    "scrolled": true
   },
   "outputs": [
    {
     "data": {
      "text/plain": [
       "3197652"
      ]
     },
     "execution_count": 21,
     "metadata": {},
     "output_type": "execute_result"
    }
   ],
   "source": [
    "# Confirm the length of df\n",
    "len(df)"
   ]
  },
  {
   "cell_type": "code",
   "execution_count": 22,
   "metadata": {
    "scrolled": true
   },
   "outputs": [],
   "source": [
    "# Save changes to csv file\n",
    "df.to_csv('all_bikeshare_datasets/cleaned_datasets/master-dataset-v3.csv', index=False)"
   ]
  },
  {
   "cell_type": "markdown",
   "metadata": {},
   "source": [
    "## Univariate Exploration"
   ]
  },
  {
   "cell_type": "markdown",
   "metadata": {},
   "source": [
    "### Trip Duration"
   ]
  },
  {
   "cell_type": "markdown",
   "metadata": {},
   "source": [
    "#### Histogram of durations"
   ]
  },
  {
   "cell_type": "code",
   "execution_count": 23,
   "metadata": {},
   "outputs": [
    {
     "name": "stderr",
     "output_type": "stream",
     "text": [
      "/Users/mattames/anaconda3/lib/python3.7/site-packages/scipy/stats/stats.py:1713: FutureWarning: Using a non-tuple sequence for multidimensional indexing is deprecated; use `arr[tuple(seq)]` instead of `arr[seq]`. In the future this will be interpreted as an array index, `arr[np.array(seq)]`, which will result either in an error or a different result.\n",
      "  return np.add.reduce(sorted[indexer] * weights, axis=axis) / sumval\n"
     ]
    },
    {
     "data": {
      "image/png": "[encoded data removed]",
      "text/plain": [
       "<Figure size 432x288 with 1 Axes>"
      ]
     },
     "metadata": {
      "needs_background": "light"
     },
     "output_type": "display_data"
    }
   ],
   "source": [
    "sns.distplot(df[\"duration_sec\"]);"
   ]
  },
  {
   "cell_type": "markdown",
   "metadata": {},
   "source": [
    "#### Define\n",
    "\n",
    "Clearly the data is massively skewed towards smaller trip durations and these outlying trip durations prevent us from understanding the bulk of the data. Also, viewing in terms of seconds is not intuitive, feature engineer a duration_min column and plot accordingly."
   ]
  },
  {
   "cell_type": "markdown",
   "metadata": {},
   "source": [
    "#### Code"
   ]
  },
  {
   "cell_type": "code",
   "execution_count": 24,
   "metadata": {},
   "outputs": [],
   "source": [
    "df['duration_min'] = df['duration_sec']/60"
   ]
  },
  {
   "cell_type": "markdown",
   "metadata": {},
   "source": [
    "#### Test"
   ]
  },
  {
   "cell_type": "code",
   "execution_count": 25,
   "metadata": {},
   "outputs": [
    {
     "data": {
      "text/html": [
       "<div>\n",
       "<style scoped>\n",
       "    .dataframe tbody tr th:only-of-type {\n",
       "        vertical-align: middle;\n",
       "    }\n",
       "\n",
       "    .dataframe tbody tr th {\n",
       "        vertical-align: top;\n",
       "    }\n",
       "\n",
       "    .dataframe thead th {\n",
       "        text-align: right;\n",
       "    }\n",
       "</style>\n",
       "<table border=\"1\" class=\"dataframe\">\n",
       "  <thead>\n",
       "    <tr style=\"text-align: right;\">\n",
       "      <th></th>\n",
       "      <th>bike_id</th>\n",
       "      <th>duration_sec</th>\n",
       "      <th>start_time</th>\n",
       "      <th>end_time</th>\n",
       "      <th>start_station_id</th>\n",
       "      <th>start_station_name</th>\n",
       "      <th>start_station_latitude</th>\n",
       "      <th>start_station_longitude</th>\n",
       "      <th>end_station_id</th>\n",
       "      <th>end_station_name</th>\n",
       "      <th>end_station_latitude</th>\n",
       "      <th>end_station_longitude</th>\n",
       "      <th>user_type</th>\n",
       "      <th>bike_share_for_all_trip</th>\n",
       "      <th>member_gender</th>\n",
       "      <th>member_birth_year</th>\n",
       "      <th>duration_min</th>\n",
       "    </tr>\n",
       "  </thead>\n",
       "  <tbody>\n",
       "    <tr>\n",
       "      <th>0</th>\n",
       "      <td>1035</td>\n",
       "      <td>598</td>\n",
       "      <td>2018-02-28 23:59:47.097</td>\n",
       "      <td>2018-03-01 00:09:45.187</td>\n",
       "      <td>284</td>\n",
       "      <td>Yerba Buena Center for the Arts (Howard St at ...</td>\n",
       "      <td>37.784872</td>\n",
       "      <td>-122.400876</td>\n",
       "      <td>114</td>\n",
       "      <td>Rhode Island St at 17th St</td>\n",
       "      <td>37.764478</td>\n",
       "      <td>-122.40257</td>\n",
       "      <td>Subscriber</td>\n",
       "      <td>No</td>\n",
       "      <td>Male</td>\n",
       "      <td>1988</td>\n",
       "      <td>9.966667</td>\n",
       "    </tr>\n",
       "  </tbody>\n",
       "</table>\n",
       "</div>"
      ],
      "text/plain": [
       "   bike_id  duration_sec              start_time                end_time  \\\n",
       "0     1035           598 2018-02-28 23:59:47.097 2018-03-01 00:09:45.187   \n",
       "\n",
       "   start_station_id                                 start_station_name  \\\n",
       "0               284  Yerba Buena Center for the Arts (Howard St at ...   \n",
       "\n",
       "   start_station_latitude  start_station_longitude  end_station_id  \\\n",
       "0               37.784872              -122.400876             114   \n",
       "\n",
       "             end_station_name  end_station_latitude  end_station_longitude  \\\n",
       "0  Rhode Island St at 17th St             37.764478             -122.40257   \n",
       "\n",
       "    user_type bike_share_for_all_trip member_gender  member_birth_year  \\\n",
       "0  Subscriber                      No          Male               1988   \n",
       "\n",
       "   duration_min  \n",
       "0      9.966667  "
      ]
     },
     "execution_count": 25,
     "metadata": {},
     "output_type": "execute_result"
    }
   ],
   "source": [
    "# Confirm accurate calculation\n",
    "df.head(1)"
   ]
  },
  {
   "cell_type": "code",
   "execution_count": 26,
   "metadata": {},
   "outputs": [
    {
     "data": {
      "image/png": "[encoded data removed]",
      "text/plain": [
       "<Figure size 432x288 with 1 Axes>"
      ]
     },
     "metadata": {
      "needs_background": "light"
     },
     "output_type": "display_data"
    }
   ],
   "source": [
    "# Re-plot histogram, it should look the same as above but with different x-axis units\n",
    "sns.distplot(df[\"duration_min\"]);"
   ]
  },
  {
   "cell_type": "markdown",
   "metadata": {},
   "source": [
    "Considering that bike rentals for customers are priced according to a 30 min limit and subscribers at a 45 min limit, we will focus on a 2 hour trip duration max. This is a reasonable range based on the pricing system and the bulk of trip durations from the above chart."
   ]
  },
  {
   "cell_type": "markdown",
   "metadata": {},
   "source": [
    "#### Histogram of durations with focus on bulk of data"
   ]
  },
  {
   "cell_type": "code",
   "execution_count": 27,
   "metadata": {
    "scrolled": true
   },
   "outputs": [
    {
     "data": {
      "image/png": "[encoded data removed]",
      "text/plain": [
       "<Figure size 432x288 with 1 Axes>"
      ]
     },
     "metadata": {
      "needs_background": "light"
     },
     "output_type": "display_data"
    }
   ],
   "source": [
    "bin_edges = np.arange(0, df['duration_min'].max()+1, 1)\n",
    "sns.distplot(df['duration_min'], bins = bin_edges, kde = False,\n",
    "            hist_kws = {'alpha' : 1})\n",
    "plt.xlim((0,120));"
   ]
  },
  {
   "cell_type": "markdown",
   "metadata": {},
   "source": [
    "#### Insights:\n",
    " - The vast majority of bike rides fall between 2 and 20 minutes. Does a 2 minute ride make sense? We should include the 1-3 minute bike rides for now because we don't know the distribution of stations yet. It is possible someone rented a bike and rode it to the next nearest station (for example, a quick 3 block trip down a large hill would be much more convenient than walking it), we will keep these trips in our analysis until we have addition information and can confidently exclude them.\n",
    " - The peak of our distribution is around 6 minutes. Due to this being much lower than anticipated, I am included to believe 2-4 minute trips are certainly possible and should not be removed."
   ]
  },
  {
   "cell_type": "markdown",
   "metadata": {},
   "source": [
    "### Birth Year"
   ]
  },
  {
   "cell_type": "markdown",
   "metadata": {},
   "source": [
    "#### Histogram of birth years"
   ]
  },
  {
   "cell_type": "code",
   "execution_count": 28,
   "metadata": {
    "scrolled": true
   },
   "outputs": [
    {
     "data": {
      "image/png": "[encoded data removed]",
      "text/plain": [
       "<Figure size 432x288 with 1 Axes>"
      ]
     },
     "metadata": {
      "needs_background": "light"
     },
     "output_type": "display_data"
    }
   ],
   "source": [
    "sns.distplot(df[\"member_birth_year\"]);"
   ]
  },
  {
   "cell_type": "markdown",
   "metadata": {},
   "source": [
    "#### Define\n",
    "Filter out impossible and unreasonable birth years.\n",
    "\n",
    " - The oldest living Californian is 112, so it is impossible for someone to be born before 1907. Additionally, we will drop riders above the age of 85 from our dataset for the sake of focusing on the most important trips and riders. It is possible that someone 85+ is using the bikes, but highly unlikely. Therefore, this extremely small portion of the data can be assumed unreliable. It is possible that these users are over 85, but also possible that these were input errors."
   ]
  },
  {
   "cell_type": "markdown",
   "metadata": {},
   "source": [
    "#### Code"
   ]
  },
  {
   "cell_type": "code",
   "execution_count": 29,
   "metadata": {
    "scrolled": true
   },
   "outputs": [],
   "source": [
    "df = df.query('member_birth_year > 1906')"
   ]
  },
  {
   "cell_type": "markdown",
   "metadata": {},
   "source": [
    "#### Test"
   ]
  },
  {
   "cell_type": "code",
   "execution_count": 30,
   "metadata": {},
   "outputs": [
    {
     "data": {
      "text/plain": [
       "count    3.195979e+06\n",
       "mean     1.983232e+03\n",
       "std      1.026731e+01\n",
       "min      1.907000e+03\n",
       "25%      1.978000e+03\n",
       "50%      1.986000e+03\n",
       "75%      1.991000e+03\n",
       "max      2.001000e+03\n",
       "Name: member_birth_year, dtype: float64"
      ]
     },
     "execution_count": 30,
     "metadata": {},
     "output_type": "execute_result"
    }
   ],
   "source": [
    "df.member_birth_year.describe()"
   ]
  },
  {
   "cell_type": "code",
   "execution_count": 31,
   "metadata": {},
   "outputs": [
    {
     "data": {
      "text/plain": [
       "3195979"
      ]
     },
     "execution_count": 31,
     "metadata": {},
     "output_type": "execute_result"
    }
   ],
   "source": [
    "len(df)"
   ]
  },
  {
   "cell_type": "markdown",
   "metadata": {},
   "source": [
    "#### Histogram of birth years with filtering"
   ]
  },
  {
   "cell_type": "code",
   "execution_count": 32,
   "metadata": {},
   "outputs": [
    {
     "data": {
      "image/png": "[encoded data removed]",
      "text/plain": [
       "<Figure size 432x288 with 1 Axes>"
      ]
     },
     "metadata": {
      "needs_background": "light"
     },
     "output_type": "display_data"
    }
   ],
   "source": [
    "# re-plot birth year distribution after making adjustments\n",
    "bin_edges = np.arange(0, df['member_birth_year'].max()+1, 1)\n",
    "sns.distplot(df['member_birth_year'], bins = bin_edges, kde = False,\n",
    "            hist_kws = {'alpha' : 1})\n",
    "plt.xlim((1933,2001));"
   ]
  },
  {
   "cell_type": "markdown",
   "metadata": {},
   "source": [
    "#### Define\n",
    "Plotting by birth year doesn't feel quite right, it would be more intuitive to plot by age so that it is more clearly shown that age increases from left to right. This will prevent potential misinterpretations by audiences."
   ]
  },
  {
   "cell_type": "markdown",
   "metadata": {},
   "source": [
    "#### Code"
   ]
  },
  {
   "cell_type": "code",
   "execution_count": 33,
   "metadata": {},
   "outputs": [],
   "source": [
    "df['age'] = 2019-df['member_birth_year']"
   ]
  },
  {
   "cell_type": "markdown",
   "metadata": {},
   "source": [
    "#### Test"
   ]
  },
  {
   "cell_type": "code",
   "execution_count": 34,
   "metadata": {
    "scrolled": true
   },
   "outputs": [
    {
     "data": {
      "text/html": [
       "<div>\n",
       "<style scoped>\n",
       "    .dataframe tbody tr th:only-of-type {\n",
       "        vertical-align: middle;\n",
       "    }\n",
       "\n",
       "    .dataframe tbody tr th {\n",
       "        vertical-align: top;\n",
       "    }\n",
       "\n",
       "    .dataframe thead th {\n",
       "        text-align: right;\n",
       "    }\n",
       "</style>\n",
       "<table border=\"1\" class=\"dataframe\">\n",
       "  <thead>\n",
       "    <tr style=\"text-align: right;\">\n",
       "      <th></th>\n",
       "      <th>bike_id</th>\n",
       "      <th>duration_sec</th>\n",
       "      <th>start_time</th>\n",
       "      <th>end_time</th>\n",
       "      <th>start_station_id</th>\n",
       "      <th>start_station_name</th>\n",
       "      <th>start_station_latitude</th>\n",
       "      <th>start_station_longitude</th>\n",
       "      <th>end_station_id</th>\n",
       "      <th>end_station_name</th>\n",
       "      <th>end_station_latitude</th>\n",
       "      <th>end_station_longitude</th>\n",
       "      <th>user_type</th>\n",
       "      <th>bike_share_for_all_trip</th>\n",
       "      <th>member_gender</th>\n",
       "      <th>member_birth_year</th>\n",
       "      <th>duration_min</th>\n",
       "      <th>age</th>\n",
       "    </tr>\n",
       "  </thead>\n",
       "  <tbody>\n",
       "    <tr>\n",
       "      <th>0</th>\n",
       "      <td>1035</td>\n",
       "      <td>598</td>\n",
       "      <td>2018-02-28 23:59:47.097</td>\n",
       "      <td>2018-03-01 00:09:45.187</td>\n",
       "      <td>284</td>\n",
       "      <td>Yerba Buena Center for the Arts (Howard St at ...</td>\n",
       "      <td>37.784872</td>\n",
       "      <td>-122.400876</td>\n",
       "      <td>114</td>\n",
       "      <td>Rhode Island St at 17th St</td>\n",
       "      <td>37.764478</td>\n",
       "      <td>-122.40257</td>\n",
       "      <td>Subscriber</td>\n",
       "      <td>No</td>\n",
       "      <td>Male</td>\n",
       "      <td>1988</td>\n",
       "      <td>9.966667</td>\n",
       "      <td>31</td>\n",
       "    </tr>\n",
       "  </tbody>\n",
       "</table>\n",
       "</div>"
      ],
      "text/plain": [
       "   bike_id  duration_sec              start_time                end_time  \\\n",
       "0     1035           598 2018-02-28 23:59:47.097 2018-03-01 00:09:45.187   \n",
       "\n",
       "   start_station_id                                 start_station_name  \\\n",
       "0               284  Yerba Buena Center for the Arts (Howard St at ...   \n",
       "\n",
       "   start_station_latitude  start_station_longitude  end_station_id  \\\n",
       "0               37.784872              -122.400876             114   \n",
       "\n",
       "             end_station_name  end_station_latitude  end_station_longitude  \\\n",
       "0  Rhode Island St at 17th St             37.764478             -122.40257   \n",
       "\n",
       "    user_type bike_share_for_all_trip member_gender  member_birth_year  \\\n",
       "0  Subscriber                      No          Male               1988   \n",
       "\n",
       "   duration_min  age  \n",
       "0      9.966667   31  "
      ]
     },
     "execution_count": 34,
     "metadata": {},
     "output_type": "execute_result"
    }
   ],
   "source": [
    "# Confirm accurate calculation\n",
    "df.head(1)"
   ]
  },
  {
   "cell_type": "markdown",
   "metadata": {},
   "source": [
    "#### Histogram of ages with filtering"
   ]
  },
  {
   "cell_type": "code",
   "execution_count": 35,
   "metadata": {
    "scrolled": false
   },
   "outputs": [
    {
     "data": {
      "image/png": "[encoded data removed]",
      "text/plain": [
       "<Figure size 432x288 with 1 Axes>"
      ]
     },
     "metadata": {
      "needs_background": "light"
     },
     "output_type": "display_data"
    }
   ],
   "source": [
    "# Re-plot birth year distribution using age variable\n",
    "bin_edges = np.arange(0, df['age'].max()+1, 1)\n",
    "sns.distplot(df['age'], bins = bin_edges, kde = False,\n",
    "            hist_kws = {'alpha' : 1})\n",
    "plt.xlim((18,85));"
   ]
  },
  {
   "cell_type": "markdown",
   "metadata": {},
   "source": [
    "#### Insights:\n",
    " - Users between the ages of 25 and 45 represent the bulk of trips\n",
    " - Peaks in the early 30s\n",
    " - Despite a general downward trend after the early 30s, there appears to be a slight resurgence in trip count around the mid 50s. This is worth a closer look."
   ]
  },
  {
   "cell_type": "markdown",
   "metadata": {},
   "source": [
    "### Gender"
   ]
  },
  {
   "cell_type": "markdown",
   "metadata": {},
   "source": [
    "#### Count of trips by gender"
   ]
  },
  {
   "cell_type": "code",
   "execution_count": 36,
   "metadata": {
    "scrolled": true
   },
   "outputs": [
    {
     "data": {
      "image/png": "[encoded data removed]",
      "text/plain": [
       "<Figure size 432x288 with 1 Axes>"
      ]
     },
     "metadata": {
      "needs_background": "light"
     },
     "output_type": "display_data"
    }
   ],
   "source": [
    "sns.countplot(data = df, x = 'member_gender');"
   ]
  },
  {
   "cell_type": "code",
   "execution_count": 37,
   "metadata": {},
   "outputs": [
    {
     "data": {
      "text/plain": [
       "0.7419125720162743"
      ]
     },
     "execution_count": 37,
     "metadata": {},
     "output_type": "execute_result"
    }
   ],
   "source": [
    "# Proportion of trips by males\n",
    "len(df.query('member_gender == \"Male\"'))/len(df)"
   ]
  },
  {
   "cell_type": "code",
   "execution_count": 38,
   "metadata": {},
   "outputs": [
    {
     "data": {
      "text/plain": [
       "0.2416592849953019"
      ]
     },
     "execution_count": 38,
     "metadata": {},
     "output_type": "execute_result"
    }
   ],
   "source": [
    "# Proportion of trips by females\n",
    "len(df.query('member_gender == \"Female\"'))/len(df)"
   ]
  },
  {
   "cell_type": "markdown",
   "metadata": {},
   "source": [
    "#### Insights:\n",
    " - 74% of all trips are male users, remember this data is the number of trips, not the number of customers. We cannot discover the proportions of customers or subscribers because we do not have rider IDs to track individual riders separate from trips.\n",
    " - According to the US Censuc Bureau SF's gender makeup is 49% female and 51% male. This is very different from our above statistic, so do the gender proportions of our users fit the US Census Bureau's statistics but our male rides use the bikes at a much higher rate? Or do our gender proportions by trip accurately represent out users and therefore women are much less likely to sign up for bike share to begin with? We cannot answer these questions with this dataset, however it is important to take note of this."
   ]
  },
  {
   "cell_type": "markdown",
   "metadata": {},
   "source": [
    "### Month of Year"
   ]
  },
  {
   "cell_type": "markdown",
   "metadata": {},
   "source": [
    "#### Define\n",
    "Feature engineer a new column for month"
   ]
  },
  {
   "cell_type": "markdown",
   "metadata": {},
   "source": [
    "#### Code"
   ]
  },
  {
   "cell_type": "code",
   "execution_count": 39,
   "metadata": {},
   "outputs": [],
   "source": [
    "df['month_of_year'] = df['start_time'].dt.month"
   ]
  },
  {
   "cell_type": "markdown",
   "metadata": {},
   "source": [
    "#### Test"
   ]
  },
  {
   "cell_type": "code",
   "execution_count": 40,
   "metadata": {
    "scrolled": false
   },
   "outputs": [
    {
     "data": {
      "text/html": [
       "<div>\n",
       "<style scoped>\n",
       "    .dataframe tbody tr th:only-of-type {\n",
       "        vertical-align: middle;\n",
       "    }\n",
       "\n",
       "    .dataframe tbody tr th {\n",
       "        vertical-align: top;\n",
       "    }\n",
       "\n",
       "    .dataframe thead th {\n",
       "        text-align: right;\n",
       "    }\n",
       "</style>\n",
       "<table border=\"1\" class=\"dataframe\">\n",
       "  <thead>\n",
       "    <tr style=\"text-align: right;\">\n",
       "      <th></th>\n",
       "      <th>bike_id</th>\n",
       "      <th>duration_sec</th>\n",
       "      <th>start_time</th>\n",
       "      <th>end_time</th>\n",
       "      <th>start_station_id</th>\n",
       "      <th>start_station_name</th>\n",
       "      <th>start_station_latitude</th>\n",
       "      <th>start_station_longitude</th>\n",
       "      <th>end_station_id</th>\n",
       "      <th>end_station_name</th>\n",
       "      <th>end_station_latitude</th>\n",
       "      <th>end_station_longitude</th>\n",
       "      <th>user_type</th>\n",
       "      <th>bike_share_for_all_trip</th>\n",
       "      <th>member_gender</th>\n",
       "      <th>member_birth_year</th>\n",
       "      <th>duration_min</th>\n",
       "      <th>age</th>\n",
       "      <th>month_of_year</th>\n",
       "    </tr>\n",
       "  </thead>\n",
       "  <tbody>\n",
       "    <tr>\n",
       "      <th>2674456</th>\n",
       "      <td>1362</td>\n",
       "      <td>516</td>\n",
       "      <td>2018-10-20 16:19:07.534</td>\n",
       "      <td>2018-10-20 16:27:44.011</td>\n",
       "      <td>327</td>\n",
       "      <td>5th St at San Salvador St</td>\n",
       "      <td>37.332039</td>\n",
       "      <td>-121.881766</td>\n",
       "      <td>275</td>\n",
       "      <td>Julian St at 6th St</td>\n",
       "      <td>37.342997</td>\n",
       "      <td>-121.888889</td>\n",
       "      <td>Subscriber</td>\n",
       "      <td>Yes</td>\n",
       "      <td>Male</td>\n",
       "      <td>1996</td>\n",
       "      <td>8.600000</td>\n",
       "      <td>23</td>\n",
       "      <td>10</td>\n",
       "    </tr>\n",
       "    <tr>\n",
       "      <th>1963697</th>\n",
       "      <td>3694</td>\n",
       "      <td>401</td>\n",
       "      <td>2019-05-17 21:28:32.469</td>\n",
       "      <td>2019-05-17 21:35:13.493</td>\n",
       "      <td>258</td>\n",
       "      <td>University Ave at Oxford St</td>\n",
       "      <td>37.872355</td>\n",
       "      <td>-122.266447</td>\n",
       "      <td>266</td>\n",
       "      <td>Parker St at Fulton St</td>\n",
       "      <td>37.862464</td>\n",
       "      <td>-122.264791</td>\n",
       "      <td>Subscriber</td>\n",
       "      <td>No</td>\n",
       "      <td>Male</td>\n",
       "      <td>1981</td>\n",
       "      <td>6.683333</td>\n",
       "      <td>38</td>\n",
       "      <td>5</td>\n",
       "    </tr>\n",
       "    <tr>\n",
       "      <th>3175274</th>\n",
       "      <td>3013</td>\n",
       "      <td>367</td>\n",
       "      <td>2019-02-05 17:36:13.724</td>\n",
       "      <td>2019-02-05 17:42:20.730</td>\n",
       "      <td>210</td>\n",
       "      <td>45th St at Manila</td>\n",
       "      <td>37.833294</td>\n",
       "      <td>-122.256224</td>\n",
       "      <td>209</td>\n",
       "      <td>45th St at MLK Jr Way</td>\n",
       "      <td>37.833558</td>\n",
       "      <td>-122.267418</td>\n",
       "      <td>Subscriber</td>\n",
       "      <td>No</td>\n",
       "      <td>Male</td>\n",
       "      <td>1951</td>\n",
       "      <td>6.116667</td>\n",
       "      <td>68</td>\n",
       "      <td>2</td>\n",
       "    </tr>\n",
       "    <tr>\n",
       "      <th>2444571</th>\n",
       "      <td>3035</td>\n",
       "      <td>392</td>\n",
       "      <td>2018-08-29 13:56:58.059</td>\n",
       "      <td>2018-08-29 14:03:30.462</td>\n",
       "      <td>104</td>\n",
       "      <td>4th St at 16th St</td>\n",
       "      <td>37.767045</td>\n",
       "      <td>-122.390833</td>\n",
       "      <td>67</td>\n",
       "      <td>San Francisco Caltrain Station 2  (Townsend St...</td>\n",
       "      <td>37.776639</td>\n",
       "      <td>-122.395526</td>\n",
       "      <td>Subscriber</td>\n",
       "      <td>Yes</td>\n",
       "      <td>Male</td>\n",
       "      <td>1977</td>\n",
       "      <td>6.533333</td>\n",
       "      <td>42</td>\n",
       "      <td>8</td>\n",
       "    </tr>\n",
       "    <tr>\n",
       "      <th>2435559</th>\n",
       "      <td>300</td>\n",
       "      <td>1033</td>\n",
       "      <td>2018-08-30 18:30:26.518</td>\n",
       "      <td>2018-08-30 18:47:39.846</td>\n",
       "      <td>81</td>\n",
       "      <td>Berry St at 4th St</td>\n",
       "      <td>37.775880</td>\n",
       "      <td>-122.393170</td>\n",
       "      <td>98</td>\n",
       "      <td>Valencia St at 16th St</td>\n",
       "      <td>37.765052</td>\n",
       "      <td>-122.421866</td>\n",
       "      <td>Subscriber</td>\n",
       "      <td>No</td>\n",
       "      <td>Male</td>\n",
       "      <td>1980</td>\n",
       "      <td>17.216667</td>\n",
       "      <td>39</td>\n",
       "      <td>8</td>\n",
       "    </tr>\n",
       "  </tbody>\n",
       "</table>\n",
       "</div>"
      ],
      "text/plain": [
       "         bike_id  duration_sec              start_time  \\\n",
       "2674456     1362           516 2018-10-20 16:19:07.534   \n",
       "1963697     3694           401 2019-05-17 21:28:32.469   \n",
       "3175274     3013           367 2019-02-05 17:36:13.724   \n",
       "2444571     3035           392 2018-08-29 13:56:58.059   \n",
       "2435559      300          1033 2018-08-30 18:30:26.518   \n",
       "\n",
       "                       end_time  start_station_id  \\\n",
       "2674456 2018-10-20 16:27:44.011               327   \n",
       "1963697 2019-05-17 21:35:13.493               258   \n",
       "3175274 2019-02-05 17:42:20.730               210   \n",
       "2444571 2018-08-29 14:03:30.462               104   \n",
       "2435559 2018-08-30 18:47:39.846                81   \n",
       "\n",
       "                  start_station_name  start_station_latitude  \\\n",
       "2674456    5th St at San Salvador St               37.332039   \n",
       "1963697  University Ave at Oxford St               37.872355   \n",
       "3175274            45th St at Manila               37.833294   \n",
       "2444571            4th St at 16th St               37.767045   \n",
       "2435559           Berry St at 4th St               37.775880   \n",
       "\n",
       "         start_station_longitude  end_station_id  \\\n",
       "2674456              -121.881766             275   \n",
       "1963697              -122.266447             266   \n",
       "3175274              -122.256224             209   \n",
       "2444571              -122.390833              67   \n",
       "2435559              -122.393170              98   \n",
       "\n",
       "                                          end_station_name  \\\n",
       "2674456                                Julian St at 6th St   \n",
       "1963697                             Parker St at Fulton St   \n",
       "3175274                              45th St at MLK Jr Way   \n",
       "2444571  San Francisco Caltrain Station 2  (Townsend St...   \n",
       "2435559                             Valencia St at 16th St   \n",
       "\n",
       "         end_station_latitude  end_station_longitude   user_type  \\\n",
       "2674456             37.342997            -121.888889  Subscriber   \n",
       "1963697             37.862464            -122.264791  Subscriber   \n",
       "3175274             37.833558            -122.267418  Subscriber   \n",
       "2444571             37.776639            -122.395526  Subscriber   \n",
       "2435559             37.765052            -122.421866  Subscriber   \n",
       "\n",
       "        bike_share_for_all_trip member_gender  member_birth_year  \\\n",
       "2674456                     Yes          Male               1996   \n",
       "1963697                      No          Male               1981   \n",
       "3175274                      No          Male               1951   \n",
       "2444571                     Yes          Male               1977   \n",
       "2435559                      No          Male               1980   \n",
       "\n",
       "         duration_min  age  month_of_year  \n",
       "2674456      8.600000   23             10  \n",
       "1963697      6.683333   38              5  \n",
       "3175274      6.116667   68              2  \n",
       "2444571      6.533333   42              8  \n",
       "2435559     17.216667   39              8  "
      ]
     },
     "execution_count": 40,
     "metadata": {},
     "output_type": "execute_result"
    }
   ],
   "source": [
    "df.sample(5)"
   ]
  },
  {
   "cell_type": "markdown",
   "metadata": {},
   "source": [
    "#### Count of trips by month of the year"
   ]
  },
  {
   "cell_type": "code",
   "execution_count": 41,
   "metadata": {
    "scrolled": false
   },
   "outputs": [
    {
     "data": {
      "image/png": "[encoded data removed]",
      "text/plain": [
       "<Figure size 432x288 with 1 Axes>"
      ]
     },
     "metadata": {
      "needs_background": "light"
     },
     "output_type": "display_data"
    }
   ],
   "source": [
    "sns.countplot(data = df, x = 'month_of_year');"
   ]
  },
  {
   "cell_type": "markdown",
   "metadata": {},
   "source": [
    "#### Insights:\n",
    " - This is not what I expected to find, the most popular months for rides are some of the coldest months of the year. There aren't large temperature swings between Summer and Winter in SF, however I would not expect 1) such a large difference between seasons, and 2) despite temperatures being similar it is technically a bit warmer and nicer out during those summer months, so shouldn't they be at least a little bit more popular in terms of number of rides? Instead, June, July and August are the 3 of the 5 least popular months.\n",
    "\n",
    "**What happened here? Check the company website, and check the news for any major changes that took place. Additionally, we collected data for half of 2017, all of 2018, and half of 2019. 2 full years were collected in total, however if data from the first half of each year comes from 2018 and 2019, while the data for the second half of each year from 2017 and 2018, any changes in product offering or popularity could heavily skew this plot.**\n",
    "\n",
    " - E-bikes were offered starting in April 2018, so I would expect a spike to begin after the e-bikes are released and remain relatively high over the summer due to the existence of e-bikes paired with better weather. However, this plot shows the beginning of the spike in March, which does not fit my above timeline. This could be skewed because in 2017 SF bikeshare was less popular and in 2019 much more popular. As a result, there was technically data collected twice for all months of the year but the existence of new subscription options, e-bikes, and increasing popularity would cause the months who's second set of data comes from 2019 (Jan-May) to skew our data towards those months which happen to be colder winter months. So this plot shows ridership being skewed towards those months, when in reality ridership is heavily skewed towards year, aka 2019 being massively more popular than 2017 when Ford GoBike began.\n",
    "\n",
    "Let's plot the above data again, but separate it into separate years. This should help us to still understand seasonal trends despite the spike in ridership due to e-bikes and popularity.\n",
    "\n",
    "Let's remove 2017 and 2019 data to focus on a single, entire year of data collection. We should look for general seasonality trends, while being aware of the new e-bikes being offered starting in April of 2018."
   ]
  },
  {
   "cell_type": "markdown",
   "metadata": {},
   "source": [
    "#### Code"
   ]
  },
  {
   "cell_type": "code",
   "execution_count": 42,
   "metadata": {},
   "outputs": [],
   "source": [
    "# Create new column for year\n",
    "df['year'] = df['start_time'].dt.year"
   ]
  },
  {
   "cell_type": "markdown",
   "metadata": {},
   "source": [
    "#### Test"
   ]
  },
  {
   "cell_type": "code",
   "execution_count": 43,
   "metadata": {
    "scrolled": true
   },
   "outputs": [
    {
     "data": {
      "text/html": [
       "<div>\n",
       "<style scoped>\n",
       "    .dataframe tbody tr th:only-of-type {\n",
       "        vertical-align: middle;\n",
       "    }\n",
       "\n",
       "    .dataframe tbody tr th {\n",
       "        vertical-align: top;\n",
       "    }\n",
       "\n",
       "    .dataframe thead th {\n",
       "        text-align: right;\n",
       "    }\n",
       "</style>\n",
       "<table border=\"1\" class=\"dataframe\">\n",
       "  <thead>\n",
       "    <tr style=\"text-align: right;\">\n",
       "      <th></th>\n",
       "      <th>bike_id</th>\n",
       "      <th>duration_sec</th>\n",
       "      <th>start_time</th>\n",
       "      <th>end_time</th>\n",
       "      <th>start_station_id</th>\n",
       "      <th>start_station_name</th>\n",
       "      <th>start_station_latitude</th>\n",
       "      <th>start_station_longitude</th>\n",
       "      <th>end_station_id</th>\n",
       "      <th>end_station_name</th>\n",
       "      <th>end_station_latitude</th>\n",
       "      <th>end_station_longitude</th>\n",
       "      <th>user_type</th>\n",
       "      <th>bike_share_for_all_trip</th>\n",
       "      <th>member_gender</th>\n",
       "      <th>member_birth_year</th>\n",
       "      <th>duration_min</th>\n",
       "      <th>age</th>\n",
       "      <th>month_of_year</th>\n",
       "      <th>year</th>\n",
       "    </tr>\n",
       "  </thead>\n",
       "  <tbody>\n",
       "    <tr>\n",
       "      <th>1566083</th>\n",
       "      <td>3447</td>\n",
       "      <td>1531</td>\n",
       "      <td>2018-05-21 11:54:03.976</td>\n",
       "      <td>2018-05-21 12:19:35.321</td>\n",
       "      <td>97</td>\n",
       "      <td>14th St at Mission St</td>\n",
       "      <td>37.768265</td>\n",
       "      <td>-122.420110</td>\n",
       "      <td>3</td>\n",
       "      <td>Powell St BART Station (Market St at 4th St)</td>\n",
       "      <td>37.786375</td>\n",
       "      <td>-122.404904</td>\n",
       "      <td>Customer</td>\n",
       "      <td>No</td>\n",
       "      <td>Female</td>\n",
       "      <td>1957</td>\n",
       "      <td>25.516667</td>\n",
       "      <td>62</td>\n",
       "      <td>5</td>\n",
       "      <td>2018</td>\n",
       "    </tr>\n",
       "    <tr>\n",
       "      <th>1801053</th>\n",
       "      <td>2270</td>\n",
       "      <td>358</td>\n",
       "      <td>2018-12-01 15:21:54.546</td>\n",
       "      <td>2018-12-01 15:27:53.059</td>\n",
       "      <td>5</td>\n",
       "      <td>Powell St BART Station (Market St at 5th St)</td>\n",
       "      <td>37.783899</td>\n",
       "      <td>-122.408445</td>\n",
       "      <td>58</td>\n",
       "      <td>Market St at 10th St</td>\n",
       "      <td>37.776619</td>\n",
       "      <td>-122.417385</td>\n",
       "      <td>Customer</td>\n",
       "      <td>No</td>\n",
       "      <td>Male</td>\n",
       "      <td>1996</td>\n",
       "      <td>5.966667</td>\n",
       "      <td>23</td>\n",
       "      <td>12</td>\n",
       "      <td>2018</td>\n",
       "    </tr>\n",
       "    <tr>\n",
       "      <th>1821574</th>\n",
       "      <td>440</td>\n",
       "      <td>213</td>\n",
       "      <td>2018-01-26 09:00:42.499</td>\n",
       "      <td>2018-01-26 09:04:16.110</td>\n",
       "      <td>17</td>\n",
       "      <td>Embarcadero BART Station (Beale St at Market St)</td>\n",
       "      <td>37.792251</td>\n",
       "      <td>-122.397086</td>\n",
       "      <td>27</td>\n",
       "      <td>Beale St at Harrison St</td>\n",
       "      <td>37.788059</td>\n",
       "      <td>-122.391865</td>\n",
       "      <td>Subscriber</td>\n",
       "      <td>No</td>\n",
       "      <td>Male</td>\n",
       "      <td>1961</td>\n",
       "      <td>3.550000</td>\n",
       "      <td>58</td>\n",
       "      <td>1</td>\n",
       "      <td>2018</td>\n",
       "    </tr>\n",
       "    <tr>\n",
       "      <th>1338343</th>\n",
       "      <td>5843</td>\n",
       "      <td>467</td>\n",
       "      <td>2019-03-22 09:35:27.065</td>\n",
       "      <td>2019-03-22 09:43:14.173</td>\n",
       "      <td>67</td>\n",
       "      <td>San Francisco Caltrain Station 2  (Townsend St...</td>\n",
       "      <td>37.776639</td>\n",
       "      <td>-122.395526</td>\n",
       "      <td>23</td>\n",
       "      <td>The Embarcadero at Steuart St</td>\n",
       "      <td>37.791464</td>\n",
       "      <td>-122.391034</td>\n",
       "      <td>Subscriber</td>\n",
       "      <td>No</td>\n",
       "      <td>Male</td>\n",
       "      <td>1986</td>\n",
       "      <td>7.783333</td>\n",
       "      <td>33</td>\n",
       "      <td>3</td>\n",
       "      <td>2019</td>\n",
       "    </tr>\n",
       "    <tr>\n",
       "      <th>2258602</th>\n",
       "      <td>1946</td>\n",
       "      <td>1529</td>\n",
       "      <td>2018-07-29 23:29:51.007</td>\n",
       "      <td>2018-07-29 23:55:20.341</td>\n",
       "      <td>81</td>\n",
       "      <td>Berry St at 4th St</td>\n",
       "      <td>37.775880</td>\n",
       "      <td>-122.393170</td>\n",
       "      <td>22</td>\n",
       "      <td>Howard St at Beale St</td>\n",
       "      <td>37.789756</td>\n",
       "      <td>-122.394643</td>\n",
       "      <td>Subscriber</td>\n",
       "      <td>Yes</td>\n",
       "      <td>Male</td>\n",
       "      <td>1969</td>\n",
       "      <td>25.483333</td>\n",
       "      <td>50</td>\n",
       "      <td>7</td>\n",
       "      <td>2018</td>\n",
       "    </tr>\n",
       "  </tbody>\n",
       "</table>\n",
       "</div>"
      ],
      "text/plain": [
       "         bike_id  duration_sec              start_time  \\\n",
       "1566083     3447          1531 2018-05-21 11:54:03.976   \n",
       "1801053     2270           358 2018-12-01 15:21:54.546   \n",
       "1821574      440           213 2018-01-26 09:00:42.499   \n",
       "1338343     5843           467 2019-03-22 09:35:27.065   \n",
       "2258602     1946          1529 2018-07-29 23:29:51.007   \n",
       "\n",
       "                       end_time  start_station_id  \\\n",
       "1566083 2018-05-21 12:19:35.321                97   \n",
       "1801053 2018-12-01 15:27:53.059                 5   \n",
       "1821574 2018-01-26 09:04:16.110                17   \n",
       "1338343 2019-03-22 09:43:14.173                67   \n",
       "2258602 2018-07-29 23:55:20.341                81   \n",
       "\n",
       "                                        start_station_name  \\\n",
       "1566083                              14th St at Mission St   \n",
       "1801053       Powell St BART Station (Market St at 5th St)   \n",
       "1821574   Embarcadero BART Station (Beale St at Market St)   \n",
       "1338343  San Francisco Caltrain Station 2  (Townsend St...   \n",
       "2258602                                 Berry St at 4th St   \n",
       "\n",
       "         start_station_latitude  start_station_longitude  end_station_id  \\\n",
       "1566083               37.768265              -122.420110               3   \n",
       "1801053               37.783899              -122.408445              58   \n",
       "1821574               37.792251              -122.397086              27   \n",
       "1338343               37.776639              -122.395526              23   \n",
       "2258602               37.775880              -122.393170              22   \n",
       "\n",
       "                                     end_station_name  end_station_latitude  \\\n",
       "1566083  Powell St BART Station (Market St at 4th St)             37.786375   \n",
       "1801053                          Market St at 10th St             37.776619   \n",
       "1821574                       Beale St at Harrison St             37.788059   \n",
       "1338343                 The Embarcadero at Steuart St             37.791464   \n",
       "2258602                         Howard St at Beale St             37.789756   \n",
       "\n",
       "         end_station_longitude   user_type bike_share_for_all_trip  \\\n",
       "1566083            -122.404904    Customer                      No   \n",
       "1801053            -122.417385    Customer                      No   \n",
       "1821574            -122.391865  Subscriber                      No   \n",
       "1338343            -122.391034  Subscriber                      No   \n",
       "2258602            -122.394643  Subscriber                     Yes   \n",
       "\n",
       "        member_gender  member_birth_year  duration_min  age  month_of_year  \\\n",
       "1566083        Female               1957     25.516667   62              5   \n",
       "1801053          Male               1996      5.966667   23             12   \n",
       "1821574          Male               1961      3.550000   58              1   \n",
       "1338343          Male               1986      7.783333   33              3   \n",
       "2258602          Male               1969     25.483333   50              7   \n",
       "\n",
       "         year  \n",
       "1566083  2018  \n",
       "1801053  2018  \n",
       "1821574  2018  \n",
       "1338343  2019  \n",
       "2258602  2018  "
      ]
     },
     "execution_count": 43,
     "metadata": {},
     "output_type": "execute_result"
    }
   ],
   "source": [
    "# Confirm accuracy\n",
    "df.sample(5)"
   ]
  },
  {
   "cell_type": "markdown",
   "metadata": {},
   "source": [
    "#### Define\n",
    "Create 3 separate DataFrames using .query(), don't use groupby to plot this because the separate DataFrames for each individual year may be helful in the future."
   ]
  },
  {
   "cell_type": "markdown",
   "metadata": {},
   "source": [
    "#### Code"
   ]
  },
  {
   "cell_type": "code",
   "execution_count": 44,
   "metadata": {},
   "outputs": [],
   "source": [
    "# Copy df 3 times, one for each year\n",
    "df_2017 = df.copy()\n",
    "df_2018 = df.copy()\n",
    "df_2019 = df.copy()"
   ]
  },
  {
   "cell_type": "code",
   "execution_count": 45,
   "metadata": {},
   "outputs": [],
   "source": [
    "# Query to keep only records pertaining to each year\n",
    "df_2017 = df_2017.query('year == 2017')\n",
    "df_2018 = df_2018.query('year == 2018')\n",
    "df_2019 = df_2019.query('year == 2019')"
   ]
  },
  {
   "cell_type": "markdown",
   "metadata": {},
   "source": [
    "#### Test"
   ]
  },
  {
   "cell_type": "code",
   "execution_count": 46,
   "metadata": {
    "scrolled": false
   },
   "outputs": [
    {
     "name": "stdout",
     "output_type": "stream",
     "text": [
      "2017    452794\n",
      "Name: year, dtype: int64\n",
      "2018    1740680\n",
      "Name: year, dtype: int64\n",
      "2019    1002505\n",
      "Name: year, dtype: int64\n",
      "3195979\n"
     ]
    }
   ],
   "source": [
    "# Confirm success\n",
    "print(df_2017.year.value_counts())\n",
    "print(df_2018.year.value_counts())\n",
    "print(df_2019.year.value_counts())\n",
    "print(len(df))"
   ]
  },
  {
   "cell_type": "markdown",
   "metadata": {},
   "source": [
    "#### 2017 count of trips by month of the year"
   ]
  },
  {
   "cell_type": "code",
   "execution_count": 47,
   "metadata": {
    "scrolled": true
   },
   "outputs": [
    {
     "data": {
      "image/png": "[encoded data removed]",
      "text/plain": [
       "<Figure size 432x288 with 1 Axes>"
      ]
     },
     "metadata": {
      "needs_background": "light"
     },
     "output_type": "display_data"
    }
   ],
   "source": [
    "sns.countplot(data = df_2017, x = 'month_of_year');\n",
    "plt.title('2017')\n",
    "plt.ylim(0, 250000);"
   ]
  },
  {
   "cell_type": "markdown",
   "metadata": {},
   "source": [
    "#### Insights:\n",
    " - We see a slight seasonal trend from Oct to Dec, however this is not a reliable plot to gather insights as it includes the very first years of the program. The Ford GoBike program was launched in Jun 2017, therefore what wee see here is simply customers learning about the service and signing up to join."
   ]
  },
  {
   "cell_type": "markdown",
   "metadata": {},
   "source": [
    "#### 2018 count of trips by month of the year"
   ]
  },
  {
   "cell_type": "code",
   "execution_count": 48,
   "metadata": {
    "scrolled": true
   },
   "outputs": [
    {
     "data": {
      "image/png": "[encoded data removed]",
      "text/plain": [
       "<Figure size 432x288 with 1 Axes>"
      ]
     },
     "metadata": {
      "needs_background": "light"
     },
     "output_type": "display_data"
    }
   ],
   "source": [
    "sns.countplot(data = df_2018, x = 'month_of_year');\n",
    "plt.title('2018')\n",
    "plt.ylim(0, 250000);"
   ]
  },
  {
   "cell_type": "markdown",
   "metadata": {},
   "source": [
    "#### Insights:\n",
    "\n",
    "If we break down this plot using what we know from the above analysis regarding the initial plot, we can see multiple insights.\n",
    "\n",
    " - E-bikes were released in Apr 2018. We can't directly determine the amount of increase in rides from seasonality vs. e-bike availability from Apr to May, however I believe that the relatively small decrease from Oct to Nov shows us the impact of e-bikes on number of rides. This is because I would expect a much larger decrease between these months due to seasonal changes than what occured.\n",
    "\n",
    " - Despite the apparent spike in rides due to e-bikes (as well as a transition from Winter to Spring), we still see an expected seasonal trend. From Nov-Mar SF has very similary weather and if seasonality didn't play a role in the total number of rides, we would not see rides drop heavily as the weather begins to cool down in Noveber."
   ]
  },
  {
   "cell_type": "markdown",
   "metadata": {},
   "source": [
    "#### 2019 count of trips by month of the year"
   ]
  },
  {
   "cell_type": "code",
   "execution_count": 49,
   "metadata": {},
   "outputs": [
    {
     "data": {
      "image/png": "[encoded data removed]",
      "text/plain": [
       "<Figure size 432x288 with 1 Axes>"
      ]
     },
     "metadata": {
      "needs_background": "light"
     },
     "output_type": "display_data"
    }
   ],
   "source": [
    "sns.countplot(data = df_2019, x = 'month_of_year');\n",
    "plt.title('2019')\n",
    "plt.ylim(0, 250000);"
   ]
  },
  {
   "cell_type": "markdown",
   "metadata": {},
   "source": [
    "#### Insights:\n",
    "\n",
    "Why is there such a large decrease in ridership from Apr to May? There should be an increase due to seasonality like what we saw in 2018.\n",
    "\n",
    " - In Apr 2019, Ford GoBike was forced to take all e-bikes off the streets due to safety issues. Riders were frequently flipping over off of their bikes and getting injured when attempting to break. This explains the drop in total rides from Apr to May."
   ]
  },
  {
   "cell_type": "markdown",
   "metadata": {},
   "source": [
    "### User Type"
   ]
  },
  {
   "cell_type": "markdown",
   "metadata": {},
   "source": [
    "2 types:\n",
    " - Subscribers: members paying a monthly or annual fee\n",
    " - Customers: single-ride users"
   ]
  },
  {
   "cell_type": "markdown",
   "metadata": {},
   "source": [
    "#### Count of trips by user type"
   ]
  },
  {
   "cell_type": "code",
   "execution_count": 50,
   "metadata": {
    "scrolled": true
   },
   "outputs": [
    {
     "data": {
      "image/png": "[encoded data removed]",
      "text/plain": [
       "<Figure size 432x288 with 1 Axes>"
      ]
     },
     "metadata": {
      "needs_background": "light"
     },
     "output_type": "display_data"
    }
   ],
   "source": [
    "sns.countplot(data = df, x = 'user_type');"
   ]
  },
  {
   "cell_type": "code",
   "execution_count": 51,
   "metadata": {},
   "outputs": [
    {
     "data": {
      "text/plain": [
       "0.8866341111753238"
      ]
     },
     "execution_count": 51,
     "metadata": {},
     "output_type": "execute_result"
    }
   ],
   "source": [
    "# Proportion of trips by subscribers\n",
    "len(df.query('user_type == \"Subscriber\"'))/len(df)"
   ]
  },
  {
   "cell_type": "code",
   "execution_count": 52,
   "metadata": {},
   "outputs": [
    {
     "data": {
      "text/plain": [
       "0.11336588882467626"
      ]
     },
     "execution_count": 52,
     "metadata": {},
     "output_type": "execute_result"
    }
   ],
   "source": [
    "# Proportion of trips by customers\n",
    "len(df.query('user_type == \"Customer\"'))/len(df)"
   ]
  },
  {
   "cell_type": "markdown",
   "metadata": {},
   "source": [
    "#### Insights:\n",
    " - Subscribers make up the vast majority of rides, as expected (over 88% to be exact)"
   ]
  },
  {
   "cell_type": "markdown",
   "metadata": {},
   "source": [
    "## Save progress to csv file"
   ]
  },
  {
   "cell_type": "markdown",
   "metadata": {},
   "source": [
    "#### Save final version of the master dataset"
   ]
  },
  {
   "cell_type": "code",
   "execution_count": 53,
   "metadata": {},
   "outputs": [],
   "source": [
    "df.to_csv('all_bikeshare_datasets/cleaned_datasets/master-dataset-v4.csv', index=False)"
   ]
  },
  {
   "cell_type": "markdown",
   "metadata": {},
   "source": [
    "#### Save the filtered version of the master dataset separately, apply the filters decided upon from the above insights\n",
    " - Duration: Drop all rows with duration over 120 min\n",
    " - Age: Drop all rows with age greater than 85"
   ]
  },
  {
   "cell_type": "code",
   "execution_count": 54,
   "metadata": {},
   "outputs": [],
   "source": [
    "# Copy master dataset\n",
    "df_filtered = df.copy()"
   ]
  },
  {
   "cell_type": "code",
   "execution_count": 55,
   "metadata": {},
   "outputs": [],
   "source": [
    "# Filter for duration\n",
    "df_filtered = df_filtered.query('duration_min < 120.01')"
   ]
  },
  {
   "cell_type": "code",
   "execution_count": 56,
   "metadata": {},
   "outputs": [
    {
     "data": {
      "text/plain": [
       "count    3.181657e+06\n",
       "mean     1.132922e+01\n",
       "std      9.547962e+00\n",
       "min      1.016667e+00\n",
       "25%      5.733333e+00\n",
       "50%      9.016667e+00\n",
       "75%      1.386667e+01\n",
       "max      1.200000e+02\n",
       "Name: duration_min, dtype: float64"
      ]
     },
     "execution_count": 56,
     "metadata": {},
     "output_type": "execute_result"
    }
   ],
   "source": [
    "# Confirm duration filter\n",
    "df_filtered.duration_min.describe()"
   ]
  },
  {
   "cell_type": "code",
   "execution_count": 57,
   "metadata": {},
   "outputs": [],
   "source": [
    "# Filter for age\n",
    "df_filtered = df_filtered.query('age < 86')"
   ]
  },
  {
   "cell_type": "code",
   "execution_count": 58,
   "metadata": {},
   "outputs": [
    {
     "data": {
      "text/plain": [
       "85"
      ]
     },
     "execution_count": 58,
     "metadata": {},
     "output_type": "execute_result"
    }
   ],
   "source": [
    "# Confirm filter\n",
    "df_filtered.age.max()"
   ]
  },
  {
   "cell_type": "code",
   "execution_count": 59,
   "metadata": {},
   "outputs": [],
   "source": [
    "# Save to csv file\n",
    "df_filtered.to_csv('all_bikeshare_datasets/cleaned_datasets/filtered-dataset-v1.csv', index=False)"
   ]
  },
  {
   "cell_type": "markdown",
   "metadata": {},
   "source": [
    "### Review descriptive statistics for relevant columns of filtered dataset"
   ]
  },
  {
   "cell_type": "code",
   "execution_count": 60,
   "metadata": {},
   "outputs": [
    {
     "data": {
      "text/plain": [
       "Index(['bike_id', 'duration_sec', 'start_time', 'end_time', 'start_station_id',\n",
       "       'start_station_name', 'start_station_latitude',\n",
       "       'start_station_longitude', 'end_station_id', 'end_station_name',\n",
       "       'end_station_latitude', 'end_station_longitude', 'user_type',\n",
       "       'bike_share_for_all_trip', 'member_gender', 'member_birth_year',\n",
       "       'duration_min', 'age', 'month_of_year', 'year'],\n",
       "      dtype='object')"
      ]
     },
     "execution_count": 60,
     "metadata": {},
     "output_type": "execute_result"
    }
   ],
   "source": [
    "df_filtered.columns"
   ]
  },
  {
   "cell_type": "code",
   "execution_count": 61,
   "metadata": {},
   "outputs": [
    {
     "data": {
      "text/html": [
       "<div>\n",
       "<style scoped>\n",
       "    .dataframe tbody tr th:only-of-type {\n",
       "        vertical-align: middle;\n",
       "    }\n",
       "\n",
       "    .dataframe tbody tr th {\n",
       "        vertical-align: top;\n",
       "    }\n",
       "\n",
       "    .dataframe thead th {\n",
       "        text-align: right;\n",
       "    }\n",
       "</style>\n",
       "<table border=\"1\" class=\"dataframe\">\n",
       "  <thead>\n",
       "    <tr style=\"text-align: right;\">\n",
       "      <th></th>\n",
       "      <th>duration_min</th>\n",
       "      <th>age</th>\n",
       "      <th>year</th>\n",
       "    </tr>\n",
       "  </thead>\n",
       "  <tbody>\n",
       "    <tr>\n",
       "      <th>count</th>\n",
       "      <td>3.179853e+06</td>\n",
       "      <td>3.179853e+06</td>\n",
       "      <td>3.179853e+06</td>\n",
       "    </tr>\n",
       "    <tr>\n",
       "      <th>mean</th>\n",
       "      <td>1.133048e+01</td>\n",
       "      <td>3.573496e+01</td>\n",
       "      <td>2.018173e+03</td>\n",
       "    </tr>\n",
       "    <tr>\n",
       "      <th>std</th>\n",
       "      <td>9.548795e+00</td>\n",
       "      <td>1.017668e+01</td>\n",
       "      <td>6.523778e-01</td>\n",
       "    </tr>\n",
       "    <tr>\n",
       "      <th>min</th>\n",
       "      <td>1.016667e+00</td>\n",
       "      <td>1.800000e+01</td>\n",
       "      <td>2.017000e+03</td>\n",
       "    </tr>\n",
       "    <tr>\n",
       "      <th>25%</th>\n",
       "      <td>5.733333e+00</td>\n",
       "      <td>2.800000e+01</td>\n",
       "      <td>2.018000e+03</td>\n",
       "    </tr>\n",
       "    <tr>\n",
       "      <th>50%</th>\n",
       "      <td>9.016667e+00</td>\n",
       "      <td>3.300000e+01</td>\n",
       "      <td>2.018000e+03</td>\n",
       "    </tr>\n",
       "    <tr>\n",
       "      <th>75%</th>\n",
       "      <td>1.388333e+01</td>\n",
       "      <td>4.100000e+01</td>\n",
       "      <td>2.019000e+03</td>\n",
       "    </tr>\n",
       "    <tr>\n",
       "      <th>max</th>\n",
       "      <td>1.200000e+02</td>\n",
       "      <td>8.500000e+01</td>\n",
       "      <td>2.019000e+03</td>\n",
       "    </tr>\n",
       "  </tbody>\n",
       "</table>\n",
       "</div>"
      ],
      "text/plain": [
       "       duration_min           age          year\n",
       "count  3.179853e+06  3.179853e+06  3.179853e+06\n",
       "mean   1.133048e+01  3.573496e+01  2.018173e+03\n",
       "std    9.548795e+00  1.017668e+01  6.523778e-01\n",
       "min    1.016667e+00  1.800000e+01  2.017000e+03\n",
       "25%    5.733333e+00  2.800000e+01  2.018000e+03\n",
       "50%    9.016667e+00  3.300000e+01  2.018000e+03\n",
       "75%    1.388333e+01  4.100000e+01  2.019000e+03\n",
       "max    1.200000e+02  8.500000e+01  2.019000e+03"
      ]
     },
     "execution_count": 61,
     "metadata": {},
     "output_type": "execute_result"
    }
   ],
   "source": [
    "df_filtered[['duration_min', 'age', 'year']].describe()"
   ]
  },
  {
   "cell_type": "markdown",
   "metadata": {},
   "source": [
    "## Bivariate Exploration\n",
    "\n",
    "Compare the following variables across user type: Duration, Gender, and Age\n",
    "\n",
    "***Important: Use df_filtered for the remainder of this analysis. The above univariate exploration helped to filter the dataset in order to focus on the bulk of the data and remove outliers. df_filtered contains our selected bulk of the dataset.***\n",
    "\n",
    "#### User Types\n",
    "Subscribers\n",
    " - Users paying a monthly or annual subscription to use the bikes\n",
    " - 45 min per ride limit, unlimited rides\n",
    "\n",
    "Customers\n",
    " - Users paying for individual trips\n",
    " - 30 min per ride limit\n",
    "\n",
    "Additionally: Some subscribers are part of a \"Bike Share for All\" Program that offers a discounted, one-time annual membership fee for low-income residents, this feature was not offered in 2017. For this analysis, \"Bike Share for All\" members will be identified only as Subscribers. Future analyses will differentiate between types of subscribers to explore patterns and relationships."
   ]
  },
  {
   "cell_type": "markdown",
   "metadata": {},
   "source": [
    "### Trip Duration by User Type"
   ]
  },
  {
   "cell_type": "markdown",
   "metadata": {},
   "source": [
    "#### Define\n",
    "Create subsets of the filtered dataset to help with subscriber and customer specific analysis."
   ]
  },
  {
   "cell_type": "markdown",
   "metadata": {},
   "source": [
    "#### Code"
   ]
  },
  {
   "cell_type": "code",
   "execution_count": 62,
   "metadata": {},
   "outputs": [],
   "source": [
    "df_filtered_subscriber = df_filtered.query('user_type == \"Subscriber\"')\n",
    "df_filtered_customer = df_filtered.query('user_type == \"Customer\"')"
   ]
  },
  {
   "cell_type": "markdown",
   "metadata": {},
   "source": [
    "#### Test"
   ]
  },
  {
   "cell_type": "code",
   "execution_count": 63,
   "metadata": {},
   "outputs": [
    {
     "data": {
      "text/plain": [
       "2826327"
      ]
     },
     "execution_count": 63,
     "metadata": {},
     "output_type": "execute_result"
    }
   ],
   "source": [
    "# Confirm subscriber df is proper length, over 2500000\n",
    "len(df_filtered_subscriber)"
   ]
  },
  {
   "cell_type": "code",
   "execution_count": 64,
   "metadata": {
    "scrolled": true
   },
   "outputs": [
    {
     "data": {
      "text/plain": [
       "353526"
      ]
     },
     "execution_count": 64,
     "metadata": {},
     "output_type": "execute_result"
    }
   ],
   "source": [
    "# Confirm customer df is proper length, over 350000\n",
    "len(df_filtered_customer)"
   ]
  },
  {
   "cell_type": "markdown",
   "metadata": {},
   "source": [
    "#### Average trip duration"
   ]
  },
  {
   "cell_type": "code",
   "execution_count": 65,
   "metadata": {},
   "outputs": [
    {
     "data": {
      "image/png": "[encoded data removed]",
      "text/plain": [
       "<Figure size 432x288 with 1 Axes>"
      ]
     },
     "metadata": {
      "needs_background": "light"
     },
     "output_type": "display_data"
    }
   ],
   "source": [
    "df_filtered.groupby(\"user_type\")['duration_min'].mean().plot(kind='bar');"
   ]
  },
  {
   "cell_type": "markdown",
   "metadata": {},
   "source": [
    "#### Insights:\n",
    " - Customers have a much longer average trip duration than subscribers (but are responsible for a much smaller portion of trips, 11%)\n",
    " - If customers take much less trips, but are responsible for much longer trip durations, this leads me to believe that subscribers use Ford GoBike for practical, consistent use, such a daily commutes, while customers are using bikes for leisurely activity and to explore the city (maybe visitors from out of town)."
   ]
  },
  {
   "cell_type": "markdown",
   "metadata": {},
   "source": [
    "#### Distributions of Durations by User Type"
   ]
  },
  {
   "cell_type": "code",
   "execution_count": 66,
   "metadata": {
    "scrolled": true
   },
   "outputs": [
    {
     "data": {
      "image/png": "[encoded data removed]",
      "text/plain": [
       "<Figure size 1080x360 with 2 Axes>"
      ]
     },
     "metadata": {
      "needs_background": "light"
     },
     "output_type": "display_data"
    }
   ],
   "source": [
    "plt.figure(figsize = [15, 5]) # larger figure size for subplots\n",
    "\n",
    "# Subscriber plot\n",
    "plt.subplot(1, 2, 1) # 1 row, 2 cols, subplot 1\n",
    "bin_edges = np.arange(0, df_filtered_subscriber['duration_min'].max()+1, 1)\n",
    "sns.distplot(df_filtered_subscriber['duration_min'], bins = bin_edges, kde = False,\n",
    "            hist_kws = {'alpha' : 1})\n",
    "plt.title('Subscribers')\n",
    "plt.xlim((0,120));\n",
    "plt.ylim((0,250000));\n",
    "\n",
    "# Customer plot\n",
    "plt.subplot(1, 2, 2) # 1 row, 2 cols, subplot 2\n",
    "bin_edges = np.arange(0, df_filtered_customer['duration_min'].max()+1, 1)\n",
    "sns.distplot(df_filtered_customer['duration_min'], bins = bin_edges, kde = False,\n",
    "            hist_kws = {'alpha' : 1})\n",
    "plt.title('Customers')\n",
    "plt.xlim((0,120));\n",
    "plt.ylim((0,19000));"
   ]
  },
  {
   "cell_type": "markdown",
   "metadata": {},
   "source": [
    "#### Insights:\n",
    " - Durations for both are heavily right skewed, towards lower durations.\n",
    " - Duration for customers is still skewed towards shorter durations, but has a much more gradually decreasing tail which should explain the higher average trip duration. Let's learn more about the tails of each distribution by zooming in."
   ]
  },
  {
   "cell_type": "markdown",
   "metadata": {},
   "source": [
    "#### Zoom-in on tail of each distribution"
   ]
  },
  {
   "cell_type": "code",
   "execution_count": 67,
   "metadata": {
    "scrolled": true
   },
   "outputs": [
    {
     "data": {
      "image/png": "[encoded data removed]",
      "text/plain": [
       "<Figure size 1080x360 with 2 Axes>"
      ]
     },
     "metadata": {
      "needs_background": "light"
     },
     "output_type": "display_data"
    }
   ],
   "source": [
    "plt.figure(figsize = [15, 5]) # larger figure size for subplots\n",
    "\n",
    "# Subscriber plot\n",
    "plt.subplot(1, 2, 1) # 1 row, 2 cols, subplot 1\n",
    "bin_edges = np.arange(0, df_filtered_subscriber['duration_min'].max()+1, 1)\n",
    "sns.distplot(df_filtered_subscriber['duration_min'], bins = bin_edges, kde = False,\n",
    "            hist_kws = {'alpha' : 1})\n",
    "plt.title('Subscribers')\n",
    "plt.xlim((50,120));\n",
    "plt.ylim((0,800));\n",
    "\n",
    "# Customer plot\n",
    "plt.subplot(1, 2, 2) # 1 row, 2 cols, subplot 2\n",
    "bin_edges = np.arange(0, df_filtered_customer['duration_min'].max()+1, 1)\n",
    "sns.distplot(df_filtered_customer['duration_min'], bins = bin_edges, kde = False,\n",
    "            hist_kws = {'alpha' : 1})\n",
    "plt.title('Customers')\n",
    "plt.xlim((50,120));\n",
    "plt.ylim((0,800));"
   ]
  },
  {
   "cell_type": "markdown",
   "metadata": {},
   "source": [
    "#### Insights:\n",
    " - Subscribers have a much larger number of trips under approx. 60 min\n",
    " - Customers have a higher number of trips for all durations above approx. 60 min, this gradual tail paired with the less extreme peak at lower values explains why there is such a large difference in average trip duration. It isn't becasue there is a large peak in the distribution for a higher trip duration for subscribers, instead it's becasue of both a low peak paired with the long tail of customers. A much larger proportion of trips with duration >60 min for customers massively increases the average duration.\n",
    " - The above plots further illustrate the belief that single-use customers are using the service for long distance city exploration, or are simply traveling at lower speeds due to the leisurely pace that someone would explore the city. While subsribers are using the service for day-to-day commutes."
   ]
  },
  {
   "cell_type": "markdown",
   "metadata": {},
   "source": [
    "### Age by User Type"
   ]
  },
  {
   "cell_type": "markdown",
   "metadata": {},
   "source": [
    "#### Average age"
   ]
  },
  {
   "cell_type": "code",
   "execution_count": 68,
   "metadata": {
    "scrolled": true
   },
   "outputs": [
    {
     "data": {
      "image/png": "[encoded data removed]",
      "text/plain": [
       "<Figure size 432x288 with 1 Axes>"
      ]
     },
     "metadata": {
      "needs_background": "light"
     },
     "output_type": "display_data"
    }
   ],
   "source": [
    "df_filtered.groupby(\"user_type\")['age'].mean().plot(kind='bar');"
   ]
  },
  {
   "cell_type": "markdown",
   "metadata": {},
   "source": [
    "#### Insights:\n",
    " - Subscribers are a bit older than customers, however average age by user type is extremely similar. Let's see if the distributions of each provide more info"
   ]
  },
  {
   "cell_type": "markdown",
   "metadata": {},
   "source": [
    "#### Distribution of ages by user type"
   ]
  },
  {
   "cell_type": "code",
   "execution_count": 69,
   "metadata": {},
   "outputs": [
    {
     "data": {
      "image/png": "[encoded data removed]",
      "text/plain": [
       "<Figure size 1080x360 with 2 Axes>"
      ]
     },
     "metadata": {
      "needs_background": "light"
     },
     "output_type": "display_data"
    }
   ],
   "source": [
    "plt.figure(figsize = [15, 5]) # larger figure size for subplots\n",
    "\n",
    "# Subscriber plot\n",
    "plt.subplot(1, 2, 1) # 1 row, 2 cols, subplot 1\n",
    "bin_edges = np.arange(0, df_filtered_subscriber['age'].max()+1, 1)\n",
    "sns.distplot(df_filtered_subscriber['age'], bins = bin_edges, kde = False,\n",
    "            hist_kws = {'alpha' : 1})\n",
    "plt.title('Subscribers')\n",
    "plt.xlim((18,85));\n",
    "plt.ylim((0,170000));\n",
    "\n",
    "# Customer plot\n",
    "plt.subplot(1, 2, 2) # 1 row, 2 cols, subplot 2\n",
    "bin_edges = np.arange(0, df_filtered_customer['age'].max()+1, 1)\n",
    "sns.distplot(df_filtered_customer['age'], bins = bin_edges, kde = False,\n",
    "            hist_kws = {'alpha' : 1})\n",
    "plt.title('Customers')\n",
    "plt.xlim((18,85));\n",
    "plt.ylim((0,25000));"
   ]
  },
  {
   "cell_type": "markdown",
   "metadata": {},
   "source": [
    "#### Insights:\n",
    " - Customers and subscribers have very similar distributions with the majority around ages 25-35\n",
    " - Both distributions are right skewed, there is some evidence that subscribers are older on average (based on the previous bar chart), however the evidence is not strong as the average ages are very similar."
   ]
  },
  {
   "cell_type": "markdown",
   "metadata": {},
   "source": [
    "### Gender by User Type"
   ]
  },
  {
   "cell_type": "code",
   "execution_count": 70,
   "metadata": {
    "scrolled": false
   },
   "outputs": [
    {
     "name": "stdout",
     "output_type": "stream",
     "text": [
      "\n",
      "Note: Different scales used for each plot's y-axis\n"
     ]
    },
    {
     "data": {
      "image/png": "[encoded data removed]",
      "text/plain": [
       "<Figure size 1080x360 with 2 Axes>"
      ]
     },
     "metadata": {
      "needs_background": "light"
     },
     "output_type": "display_data"
    }
   ],
   "source": [
    "plt.figure(figsize = [15, 5]) # larger figure size for subplots\n",
    "\n",
    "# Subscriber plot\n",
    "plt.subplot(1, 2, 1) # 1 row, 2 cols, subplot 1\n",
    "sns.countplot(data = df_filtered_subscriber, x = 'member_gender');\n",
    "plt.title('Subscribers')\n",
    "plt.ylim(0,2500000);\n",
    "\n",
    "# Customer plot\n",
    "plt.subplot(1, 2, 2) # 1 row, 2 cols, subplot 2\n",
    "sns.countplot(data = df_filtered_customer, x = 'member_gender');\n",
    "plt.title('Customers')\n",
    "plt.ylim(0,300000);\n",
    "\n",
    "print()\n",
    "print(\"Note: Different scales used for each plot's y-axis\")"
   ]
  },
  {
   "cell_type": "code",
   "execution_count": 71,
   "metadata": {},
   "outputs": [
    {
     "data": {
      "text/plain": [
       "0.7512449904062765"
      ]
     },
     "execution_count": 71,
     "metadata": {},
     "output_type": "execute_result"
    }
   ],
   "source": [
    "# Percentage of subscribers who are male\n",
    "len(df_filtered_subscriber.query('member_gender == \"Male\"'))/len(df_filtered_subscriber)"
   ]
  },
  {
   "cell_type": "code",
   "execution_count": 72,
   "metadata": {},
   "outputs": [
    {
     "data": {
      "text/plain": [
       "0.23309121697524737"
      ]
     },
     "execution_count": 72,
     "metadata": {},
     "output_type": "execute_result"
    }
   ],
   "source": [
    "# Percentage of subscribers who are female\n",
    "len(df_filtered_subscriber.query('member_gender == \"Female\"'))/len(df_filtered_subscriber)"
   ]
  },
  {
   "cell_type": "code",
   "execution_count": 73,
   "metadata": {},
   "outputs": [
    {
     "data": {
      "text/plain": [
       "0.6725615654859897"
      ]
     },
     "execution_count": 73,
     "metadata": {},
     "output_type": "execute_result"
    }
   ],
   "source": [
    "# Percentage of customers who are male\n",
    "len(df_filtered_customer.query('member_gender == \"Male\"'))/len(df_filtered_customer)"
   ]
  },
  {
   "cell_type": "code",
   "execution_count": 74,
   "metadata": {},
   "outputs": [
    {
     "data": {
      "text/plain": [
       "0.30612741354242684"
      ]
     },
     "execution_count": 74,
     "metadata": {},
     "output_type": "execute_result"
    }
   ],
   "source": [
    "# Percentage of customers who are female\n",
    "len(df_filtered_customer.query('member_gender == \"Female\"'))/len(df_filtered_customer)"
   ]
  },
  {
   "cell_type": "markdown",
   "metadata": {},
   "source": [
    "#### Insights:\n",
    " - We see the same pattern across both user types from greatest to least: male, female, other\n",
    " - However, the percentage of trips by males for subscribers is much higher than that of customers, 75% compared to only 67%"
   ]
  },
  {
   "cell_type": "markdown",
   "metadata": {},
   "source": [
    "### Month of Year by User Type"
   ]
  },
  {
   "cell_type": "markdown",
   "metadata": {},
   "source": [
    "#### Count of trips by month and user type\n",
    "\n",
    "Each year will be plotted separately, like above.\n",
    "\n",
    "***Important: Careful attention to y-axis limits in the following month to month charts. Customers have much fewer trips in total, so we will use smaller y-axis limits for customers in order to better focus on patterns, not totals.***"
   ]
  },
  {
   "cell_type": "markdown",
   "metadata": {},
   "source": [
    "#### Define\n",
    "Create a filtered version of the individual year DataFrames"
   ]
  },
  {
   "cell_type": "code",
   "execution_count": 75,
   "metadata": {},
   "outputs": [],
   "source": [
    "# Copy DataFrames\n",
    "df_2017_filtered = df_2017.copy()\n",
    "df_2018_filtered = df_2018.copy()\n",
    "df_2019_filtered = df_2019.copy()"
   ]
  },
  {
   "cell_type": "code",
   "execution_count": 76,
   "metadata": {},
   "outputs": [],
   "source": [
    "# Filter out durations over 120 min\n",
    "df_2017_filtered = df_2017_filtered.query('duration_min < 120.01')\n",
    "df_2018_filtered = df_2018_filtered.query('duration_min < 120.01')\n",
    "df_2019_filtered = df_2019_filtered.query('duration_min < 120.01')"
   ]
  },
  {
   "cell_type": "code",
   "execution_count": 77,
   "metadata": {},
   "outputs": [],
   "source": [
    "# Filter out ages over 85\n",
    "df_2017_filtered = df_2017_filtered.query('age < 86')\n",
    "df_2018_filtered = df_2018_filtered.query('age < 86')\n",
    "df_2019_filtered = df_2019_filtered.query('age < 86')"
   ]
  },
  {
   "cell_type": "code",
   "execution_count": 78,
   "metadata": {},
   "outputs": [],
   "source": [
    "# Create subscriber and customer DataFrames for each year\n",
    "df_2017_filtered_subscriber = df_2017_filtered.query('user_type == \"Subscriber\"')\n",
    "df_2018_filtered_subscriber = df_2018_filtered.query('user_type == \"Subscriber\"')\n",
    "df_2019_filtered_subscriber = df_2019_filtered.query('user_type == \"Subscriber\"')\n",
    "\n",
    "df_2017_filtered_customer = df_2017_filtered.query('user_type == \"Customer\"')\n",
    "df_2018_filtered_customer = df_2018_filtered.query('user_type == \"Customer\"')\n",
    "df_2019_filtered_customer = df_2019_filtered.query('user_type == \"Customer\"')"
   ]
  },
  {
   "cell_type": "markdown",
   "metadata": {},
   "source": [
    "#### 2017 count of trips by month and user type"
   ]
  },
  {
   "cell_type": "code",
   "execution_count": 79,
   "metadata": {},
   "outputs": [
    {
     "name": "stdout",
     "output_type": "stream",
     "text": [
      "\n",
      "Note: Different scales used for each plot's y-axis because our focus is on trend and identical y-axis \n",
      " units would make it difficult to see trends since customers make up such a small portion of \n",
      " total rides by all users\n"
     ]
    },
    {
     "data": {
      "image/png": "[encoded data removed]",
      "text/plain": [
       "<Figure size 1080x360 with 2 Axes>"
      ]
     },
     "metadata": {
      "needs_background": "light"
     },
     "output_type": "display_data"
    }
   ],
   "source": [
    "plt.figure(figsize = [15, 5]) # larger figure size for subplots\n",
    "\n",
    "# Subscriber plot\n",
    "plt.subplot(1, 2, 1) # 1 row, 2 cols, subplot 1\n",
    "sns.countplot(data = df_2017_filtered_subscriber, x = 'month_of_year');\n",
    "plt.title('2017')\n",
    "plt.ylim(0, 100000)\n",
    "plt.title('Subscribers');\n",
    "\n",
    "# Customer plot\n",
    "plt.subplot(1, 2, 2) # 1 row, 2 cols, subplot 2\n",
    "sns.countplot(data = df_2017_filtered_customer, x = 'month_of_year');\n",
    "plt.title('2017')\n",
    "plt.ylim(0, 12000)\n",
    "plt.title('Customers');\n",
    "\n",
    "print()\n",
    "print(\"Note: Different scales used for each plot's y-axis because our focus is on trend and identical y-axis \\n units would make it difficult to see trends since customers make up such a small portion of \\n total rides by all users\")"
   ]
  },
  {
   "cell_type": "markdown",
   "metadata": {},
   "source": [
    "#### Insights:\n",
    " - Both subscribers and customers show an extremely similar, almost identical trend in 2017\n",
    " - One major difference is for subscribers, we see count decrease starting in Nov, while for customers it starts to decrease in Oct. Could it be leisurely use of bikes, often by visitors, is more affected by changes in weather than those using bikes for practicality?"
   ]
  },
  {
   "cell_type": "markdown",
   "metadata": {},
   "source": [
    "#### 2018 count of trips by month and user type"
   ]
  },
  {
   "cell_type": "code",
   "execution_count": 80,
   "metadata": {},
   "outputs": [
    {
     "name": "stdout",
     "output_type": "stream",
     "text": [
      "\n",
      "Note: Different scales used for each plot's y-axis because our focus is on trend and identical y-axis \n",
      " units would make it difficult to see trends since customers make up such a small portion of \n",
      " total rides by all users\n"
     ]
    },
    {
     "data": {
      "image/png": "[encoded data removed]",
      "text/plain": [
       "<Figure size 1080x360 with 2 Axes>"
      ]
     },
     "metadata": {
      "needs_background": "light"
     },
     "output_type": "display_data"
    }
   ],
   "source": [
    "plt.figure(figsize = [15, 5]) # larger figure size for subplots\n",
    "\n",
    "# Subscriber plot\n",
    "plt.subplot(1, 2, 1) # 1 row, 2 cols, subplot 1\n",
    "sns.countplot(data = df_2018_filtered_subscriber, x = 'month_of_year');\n",
    "plt.title('2017')\n",
    "plt.ylim(0, 180000)\n",
    "plt.title('Subscribers');\n",
    "\n",
    "# Customer plot\n",
    "plt.subplot(1, 2, 2) # 1 row, 2 cols, subplot 2\n",
    "sns.countplot(data = df_2018_filtered_customer, x = 'month_of_year');\n",
    "plt.title('2017')\n",
    "plt.ylim(0, 28000)\n",
    "plt.title('Customers');\n",
    "\n",
    "print()\n",
    "print(\"Note: Different scales used for each plot's y-axis because our focus is on trend and identical y-axis \\n units would make it difficult to see trends since customers make up such a small portion of \\n total rides by all users\")"
   ]
  },
  {
   "cell_type": "markdown",
   "metadata": {},
   "source": [
    "#### Insights:\n",
    " - Aside from the spike in trips for subscribers in Oct, we generally see the same trend across both user types\n",
    " - However, the degree to which customers were affected by seasonality was vastyly larger than susbscribers. Subscribers' total number of trips in Jan approximately doubled by the time summer ended, whereas customers' total number of trips in Jan approximately quadroupled by the middle of summer.\n",
    " - And the percentage increase at the time eBikes were introduced (note this increase is not solely a result of eBikes, but also seasonality) was approx. 31% for subscribers, yet it was approx. 43% for customers. "
   ]
  },
  {
   "cell_type": "markdown",
   "metadata": {},
   "source": [
    "#### 2019 count of trips by month and user type"
   ]
  },
  {
   "cell_type": "code",
   "execution_count": 81,
   "metadata": {},
   "outputs": [
    {
     "name": "stdout",
     "output_type": "stream",
     "text": [
      "\n",
      "Note: Different scales used for each plot's y-axis because our focus is on trend and identical y-axis \n",
      " units would make it difficult to see trends since customers make up such a small portion of \n",
      " total rides by all users\n"
     ]
    },
    {
     "data": {
      "image/png": "[encoded data removed]",
      "text/plain": [
       "<Figure size 1080x360 with 2 Axes>"
      ]
     },
     "metadata": {
      "needs_background": "light"
     },
     "output_type": "display_data"
    }
   ],
   "source": [
    "plt.figure(figsize = [15, 5]) # larger figure size for subplots\n",
    "\n",
    "# Subscriber plot\n",
    "plt.subplot(1, 2, 1) # 1 row, 2 cols, subplot 1\n",
    "sns.countplot(data = df_2019_filtered_subscriber, x = 'month_of_year');\n",
    "plt.title('2017')\n",
    "plt.ylim(0, 250000)\n",
    "plt.title('Subscribers');\n",
    "\n",
    "# Customer plot\n",
    "plt.subplot(1, 2, 2) # 1 row, 2 cols, subplot 2\n",
    "sns.countplot(data = df_2019_filtered_customer, x = 'month_of_year');\n",
    "plt.title('2017')\n",
    "plt.ylim(0, 35000)\n",
    "plt.title('Customers');\n",
    "\n",
    "print()\n",
    "print(\"Note: Different scales used for each plot's y-axis because our focus is on trend and identical y-axis \\n units would make it difficult to see trends since customers make up such a small portion of \\n total rides by all users\")"
   ]
  },
  {
   "cell_type": "markdown",
   "metadata": {},
   "source": [
    "#### Insights:\n",
    " - Again, subscribers and customers show a very similar trend, with the only major difference being the percentage increase from Feb to Mar"
   ]
  },
  {
   "cell_type": "markdown",
   "metadata": {},
   "source": [
    "## Multivariate Exploration\n",
    "\n",
    "### See Tableau Workbook named multivariate-ford-gobike-tableau-analysis.twbx\n",
    "\n",
    "#### Compare the following sets of variables:\n",
    " - Age, average duration, and gender with a focus on user type\n",
    "\n",
    "For the time being, do not include additional analysis based on time of year. This appears to be a bit more complex and should be its own, separate analysis.\n",
    "\n",
    "***Reminder: Use df_filtered for the remainder of this analysis. The above univariate exploration helped to filter the dataset in order to focus on the bulk of the data and remove outliers.***"
   ]
  }
 ],
 "metadata": {
  "kernelspec": {
   "display_name": "Python 3",
   "language": "python",
   "name": "python3"
  },
  "language_info": {
   "codemirror_mode": {
    "name": "ipython",
    "version": 3
   },
   "file_extension": ".py",
   "mimetype": "text/x-python",
   "name": "python",
   "nbconvert_exporter": "python",
   "pygments_lexer": "ipython3",
   "version": "3.7.1"
  }
 },
 "nbformat": 4,
 "nbformat_minor": 2
}
