{
 "cells": [
  {
   "cell_type": "markdown",
   "metadata": {},
   "source": [
    "# Ford GoBike Exploratory Analysis\n",
    "\n",
    "### Description: Exploration into similarities, differences, and patterns between user types\n",
    " - Focus on duration, gender, age, user type, and month-to-month comparisons\n",
    " - Times, stations, neighborhoods, and other location data will be explored in Part II"
   ]
  },
  {
   "cell_type": "markdown",
   "metadata": {},
   "source": [
    "## Import Requirements:"
   ]
  },
  {
   "cell_type": "code",
   "execution_count": 116,
   "metadata": {},
   "outputs": [],
   "source": [
    "import numpy as np\n",
    "import pandas as pd\n",
    "import matplotlib.pyplot as plt\n",
    "%matplotlib inline\n",
    "import seaborn as sns"
   ]
  },
  {
   "cell_type": "markdown",
   "metadata": {},
   "source": [
    "## Load the Master Dataset"
   ]
  },
  {
   "cell_type": "code",
   "execution_count": 117,
   "metadata": {},
   "outputs": [],
   "source": [
    "df = pd.read_csv('/Users/mattames/Desktop/ford_gobike/all_bikeshare_datasets/cleaned_datasets/master-dataset-v2.csv')"
   ]
  },
  {
   "cell_type": "code",
   "execution_count": 118,
   "metadata": {},
   "outputs": [
    {
     "data": {
      "text/html": [
       "<div>\n",
       "<style scoped>\n",
       "    .dataframe tbody tr th:only-of-type {\n",
       "        vertical-align: middle;\n",
       "    }\n",
       "\n",
       "    .dataframe tbody tr th {\n",
       "        vertical-align: top;\n",
       "    }\n",
       "\n",
       "    .dataframe thead th {\n",
       "        text-align: right;\n",
       "    }\n",
       "</style>\n",
       "<table border=\"1\" class=\"dataframe\">\n",
       "  <thead>\n",
       "    <tr style=\"text-align: right;\">\n",
       "      <th></th>\n",
       "      <th>bike_id</th>\n",
       "      <th>duration_sec</th>\n",
       "      <th>start_time</th>\n",
       "      <th>end_time</th>\n",
       "      <th>start_station_id</th>\n",
       "      <th>start_station_name</th>\n",
       "      <th>start_station_latitude</th>\n",
       "      <th>start_station_longitude</th>\n",
       "      <th>end_station_id</th>\n",
       "      <th>end_station_name</th>\n",
       "      <th>end_station_latitude</th>\n",
       "      <th>end_station_longitude</th>\n",
       "      <th>user_type</th>\n",
       "      <th>bike_share_for_all_trip</th>\n",
       "      <th>member_gender</th>\n",
       "      <th>member_birth_year</th>\n",
       "    </tr>\n",
       "  </thead>\n",
       "  <tbody>\n",
       "    <tr>\n",
       "      <th>0</th>\n",
       "      <td>1035</td>\n",
       "      <td>598</td>\n",
       "      <td>2018-02-28 23:59:47.097</td>\n",
       "      <td>2018-03-01 00:09:45.187</td>\n",
       "      <td>284</td>\n",
       "      <td>Yerba Buena Center for the Arts (Howard St at ...</td>\n",
       "      <td>37.784872</td>\n",
       "      <td>-122.400876</td>\n",
       "      <td>114</td>\n",
       "      <td>Rhode Island St at 17th St</td>\n",
       "      <td>37.764478</td>\n",
       "      <td>-122.402570</td>\n",
       "      <td>Subscriber</td>\n",
       "      <td>No</td>\n",
       "      <td>Male</td>\n",
       "      <td>1988</td>\n",
       "    </tr>\n",
       "    <tr>\n",
       "      <th>1</th>\n",
       "      <td>1673</td>\n",
       "      <td>943</td>\n",
       "      <td>2018-02-28 23:21:16.495</td>\n",
       "      <td>2018-02-28 23:36:59.974</td>\n",
       "      <td>6</td>\n",
       "      <td>The Embarcadero at Sansome St</td>\n",
       "      <td>37.804770</td>\n",
       "      <td>-122.403234</td>\n",
       "      <td>324</td>\n",
       "      <td>Union Square (Powell St at Post St)</td>\n",
       "      <td>37.788300</td>\n",
       "      <td>-122.408531</td>\n",
       "      <td>Customer</td>\n",
       "      <td>No</td>\n",
       "      <td>Male</td>\n",
       "      <td>1987</td>\n",
       "    </tr>\n",
       "    <tr>\n",
       "      <th>2</th>\n",
       "      <td>3498</td>\n",
       "      <td>18587</td>\n",
       "      <td>2018-02-28 18:20:55.190</td>\n",
       "      <td>2018-02-28 23:30:42.925</td>\n",
       "      <td>93</td>\n",
       "      <td>4th St at Mission Bay Blvd S</td>\n",
       "      <td>37.770407</td>\n",
       "      <td>-122.391198</td>\n",
       "      <td>15</td>\n",
       "      <td>San Francisco Ferry Building (Harry Bridges Pl...</td>\n",
       "      <td>37.795392</td>\n",
       "      <td>-122.394203</td>\n",
       "      <td>Customer</td>\n",
       "      <td>No</td>\n",
       "      <td>Female</td>\n",
       "      <td>1986</td>\n",
       "    </tr>\n",
       "    <tr>\n",
       "      <th>3</th>\n",
       "      <td>3129</td>\n",
       "      <td>18558</td>\n",
       "      <td>2018-02-28 18:20:53.621</td>\n",
       "      <td>2018-02-28 23:30:12.450</td>\n",
       "      <td>93</td>\n",
       "      <td>4th St at Mission Bay Blvd S</td>\n",
       "      <td>37.770407</td>\n",
       "      <td>-122.391198</td>\n",
       "      <td>15</td>\n",
       "      <td>San Francisco Ferry Building (Harry Bridges Pl...</td>\n",
       "      <td>37.795392</td>\n",
       "      <td>-122.394203</td>\n",
       "      <td>Customer</td>\n",
       "      <td>No</td>\n",
       "      <td>Male</td>\n",
       "      <td>1981</td>\n",
       "    </tr>\n",
       "    <tr>\n",
       "      <th>4</th>\n",
       "      <td>1839</td>\n",
       "      <td>885</td>\n",
       "      <td>2018-02-28 23:15:12.858</td>\n",
       "      <td>2018-02-28 23:29:58.608</td>\n",
       "      <td>308</td>\n",
       "      <td>San Pedro Square</td>\n",
       "      <td>37.336802</td>\n",
       "      <td>-121.894090</td>\n",
       "      <td>297</td>\n",
       "      <td>Locust St at Grant St</td>\n",
       "      <td>37.322980</td>\n",
       "      <td>-121.887931</td>\n",
       "      <td>Subscriber</td>\n",
       "      <td>Yes</td>\n",
       "      <td>Female</td>\n",
       "      <td>1976</td>\n",
       "    </tr>\n",
       "  </tbody>\n",
       "</table>\n",
       "</div>"
      ],
      "text/plain": [
       "   bike_id  duration_sec               start_time                 end_time  \\\n",
       "0     1035           598  2018-02-28 23:59:47.097  2018-03-01 00:09:45.187   \n",
       "1     1673           943  2018-02-28 23:21:16.495  2018-02-28 23:36:59.974   \n",
       "2     3498         18587  2018-02-28 18:20:55.190  2018-02-28 23:30:42.925   \n",
       "3     3129         18558  2018-02-28 18:20:53.621  2018-02-28 23:30:12.450   \n",
       "4     1839           885  2018-02-28 23:15:12.858  2018-02-28 23:29:58.608   \n",
       "\n",
       "   start_station_id                                 start_station_name  \\\n",
       "0               284  Yerba Buena Center for the Arts (Howard St at ...   \n",
       "1                 6                      The Embarcadero at Sansome St   \n",
       "2                93                       4th St at Mission Bay Blvd S   \n",
       "3                93                       4th St at Mission Bay Blvd S   \n",
       "4               308                                   San Pedro Square   \n",
       "\n",
       "   start_station_latitude  start_station_longitude  end_station_id  \\\n",
       "0               37.784872              -122.400876             114   \n",
       "1               37.804770              -122.403234             324   \n",
       "2               37.770407              -122.391198              15   \n",
       "3               37.770407              -122.391198              15   \n",
       "4               37.336802              -121.894090             297   \n",
       "\n",
       "                                    end_station_name  end_station_latitude  \\\n",
       "0                         Rhode Island St at 17th St             37.764478   \n",
       "1                Union Square (Powell St at Post St)             37.788300   \n",
       "2  San Francisco Ferry Building (Harry Bridges Pl...             37.795392   \n",
       "3  San Francisco Ferry Building (Harry Bridges Pl...             37.795392   \n",
       "4                              Locust St at Grant St             37.322980   \n",
       "\n",
       "   end_station_longitude   user_type bike_share_for_all_trip member_gender  \\\n",
       "0            -122.402570  Subscriber                      No          Male   \n",
       "1            -122.408531    Customer                      No          Male   \n",
       "2            -122.394203    Customer                      No        Female   \n",
       "3            -122.394203    Customer                      No          Male   \n",
       "4            -121.887931  Subscriber                     Yes        Female   \n",
       "\n",
       "   member_birth_year  \n",
       "0               1988  \n",
       "1               1987  \n",
       "2               1986  \n",
       "3               1981  \n",
       "4               1976  "
      ]
     },
     "execution_count": 118,
     "metadata": {},
     "output_type": "execute_result"
    }
   ],
   "source": [
    "df.head()"
   ]
  },
  {
   "cell_type": "code",
   "execution_count": 119,
   "metadata": {},
   "outputs": [
    {
     "name": "stdout",
     "output_type": "stream",
     "text": [
      "<class 'pandas.core.frame.DataFrame'>\n",
      "RangeIndex: 3197671 entries, 0 to 3197670\n",
      "Data columns (total 16 columns):\n",
      "bike_id                    3197671 non-null int64\n",
      "duration_sec               3197671 non-null int64\n",
      "start_time                 3197671 non-null object\n",
      "end_time                   3197671 non-null object\n",
      "start_station_id           3197671 non-null int64\n",
      "start_station_name         3197671 non-null object\n",
      "start_station_latitude     3197671 non-null float64\n",
      "start_station_longitude    3197671 non-null float64\n",
      "end_station_id             3197671 non-null int64\n",
      "end_station_name           3197671 non-null object\n",
      "end_station_latitude       3197671 non-null float64\n",
      "end_station_longitude      3197671 non-null float64\n",
      "user_type                  3197671 non-null object\n",
      "bike_share_for_all_trip    3197671 non-null object\n",
      "member_gender              3197671 non-null object\n",
      "member_birth_year          3197671 non-null int64\n",
      "dtypes: float64(4), int64(5), object(7)\n",
      "memory usage: 390.3+ MB\n"
     ]
    }
   ],
   "source": [
    "df.info(null_counts=True)"
   ]
  },
  {
   "cell_type": "code",
   "execution_count": 120,
   "metadata": {},
   "outputs": [],
   "source": [
    "# Re-convert datetime datatypes\n",
    "df['start_time'] = pd.to_datetime(df['start_time'])\n",
    "df['end_time'] = pd.to_datetime(df['end_time'])"
   ]
  },
  {
   "cell_type": "code",
   "execution_count": 121,
   "metadata": {},
   "outputs": [
    {
     "data": {
      "text/plain": [
       "bike_id                             int64\n",
       "duration_sec                        int64\n",
       "start_time                 datetime64[ns]\n",
       "end_time                   datetime64[ns]\n",
       "start_station_id                    int64\n",
       "start_station_name                 object\n",
       "start_station_latitude            float64\n",
       "start_station_longitude           float64\n",
       "end_station_id                      int64\n",
       "end_station_name                   object\n",
       "end_station_latitude              float64\n",
       "end_station_longitude             float64\n",
       "user_type                          object\n",
       "bike_share_for_all_trip            object\n",
       "member_gender                      object\n",
       "member_birth_year                   int64\n",
       "dtype: object"
      ]
     },
     "execution_count": 121,
     "metadata": {},
     "output_type": "execute_result"
    }
   ],
   "source": [
    "# Confirm change\n",
    "df.dtypes"
   ]
  },
  {
   "cell_type": "markdown",
   "metadata": {},
   "source": [
    "## Exploratory Analysis & Additional Cleaning"
   ]
  },
  {
   "cell_type": "code",
   "execution_count": 122,
   "metadata": {},
   "outputs": [
    {
     "data": {
      "text/html": [
       "<div>\n",
       "<style scoped>\n",
       "    .dataframe tbody tr th:only-of-type {\n",
       "        vertical-align: middle;\n",
       "    }\n",
       "\n",
       "    .dataframe tbody tr th {\n",
       "        vertical-align: top;\n",
       "    }\n",
       "\n",
       "    .dataframe thead th {\n",
       "        text-align: right;\n",
       "    }\n",
       "</style>\n",
       "<table border=\"1\" class=\"dataframe\">\n",
       "  <thead>\n",
       "    <tr style=\"text-align: right;\">\n",
       "      <th></th>\n",
       "      <th>bike_id</th>\n",
       "      <th>duration_sec</th>\n",
       "      <th>start_station_id</th>\n",
       "      <th>start_station_latitude</th>\n",
       "      <th>start_station_longitude</th>\n",
       "      <th>end_station_id</th>\n",
       "      <th>end_station_latitude</th>\n",
       "      <th>end_station_longitude</th>\n",
       "      <th>member_birth_year</th>\n",
       "    </tr>\n",
       "  </thead>\n",
       "  <tbody>\n",
       "    <tr>\n",
       "      <th>count</th>\n",
       "      <td>3.197671e+06</td>\n",
       "      <td>3.197671e+06</td>\n",
       "      <td>3.197671e+06</td>\n",
       "      <td>3.197671e+06</td>\n",
       "      <td>3.197671e+06</td>\n",
       "      <td>3.197671e+06</td>\n",
       "      <td>3.197671e+06</td>\n",
       "      <td>3.197671e+06</td>\n",
       "      <td>3.197671e+06</td>\n",
       "    </tr>\n",
       "    <tr>\n",
       "      <th>mean</th>\n",
       "      <td>2.709359e+03</td>\n",
       "      <td>7.734795e+02</td>\n",
       "      <td>1.229253e+02</td>\n",
       "      <td>3.776958e+01</td>\n",
       "      <td>-1.223534e+02</td>\n",
       "      <td>1.210837e+02</td>\n",
       "      <td>3.776950e+01</td>\n",
       "      <td>-1.223521e+02</td>\n",
       "      <td>1.983189e+03</td>\n",
       "    </tr>\n",
       "    <tr>\n",
       "      <th>std</th>\n",
       "      <td>1.716219e+03</td>\n",
       "      <td>1.971263e+03</td>\n",
       "      <td>1.037837e+02</td>\n",
       "      <td>1.015278e-01</td>\n",
       "      <td>1.357226e-01</td>\n",
       "      <td>1.036002e+02</td>\n",
       "      <td>1.336651e-01</td>\n",
       "      <td>3.128577e-01</td>\n",
       "      <td>1.043911e+01</td>\n",
       "    </tr>\n",
       "    <tr>\n",
       "      <th>min</th>\n",
       "      <td>1.000000e+01</td>\n",
       "      <td>6.100000e+01</td>\n",
       "      <td>3.000000e+00</td>\n",
       "      <td>0.000000e+00</td>\n",
       "      <td>-1.224737e+02</td>\n",
       "      <td>3.000000e+00</td>\n",
       "      <td>0.000000e+00</td>\n",
       "      <td>-1.224737e+02</td>\n",
       "      <td>1.878000e+03</td>\n",
       "    </tr>\n",
       "    <tr>\n",
       "      <th>25%</th>\n",
       "      <td>1.323000e+03</td>\n",
       "      <td>3.450000e+02</td>\n",
       "      <td>3.600000e+01</td>\n",
       "      <td>3.777106e+01</td>\n",
       "      <td>-1.224117e+02</td>\n",
       "      <td>3.000000e+01</td>\n",
       "      <td>3.777143e+01</td>\n",
       "      <td>-1.224108e+02</td>\n",
       "      <td>1.978000e+03</td>\n",
       "    </tr>\n",
       "    <tr>\n",
       "      <th>50%</th>\n",
       "      <td>2.561000e+03</td>\n",
       "      <td>5.430000e+02</td>\n",
       "      <td>9.000000e+01</td>\n",
       "      <td>3.778107e+01</td>\n",
       "      <td>-1.223974e+02</td>\n",
       "      <td>8.900000e+01</td>\n",
       "      <td>3.778127e+01</td>\n",
       "      <td>-1.223971e+02</td>\n",
       "      <td>1.986000e+03</td>\n",
       "    </tr>\n",
       "    <tr>\n",
       "      <th>75%</th>\n",
       "      <td>3.756000e+03</td>\n",
       "      <td>8.380000e+02</td>\n",
       "      <td>1.930000e+02</td>\n",
       "      <td>3.779581e+01</td>\n",
       "      <td>-1.222914e+02</td>\n",
       "      <td>1.890000e+02</td>\n",
       "      <td>3.779625e+01</td>\n",
       "      <td>-1.222914e+02</td>\n",
       "      <td>1.991000e+03</td>\n",
       "    </tr>\n",
       "    <tr>\n",
       "      <th>max</th>\n",
       "      <td>7.196000e+03</td>\n",
       "      <td>8.628100e+04</td>\n",
       "      <td>4.270000e+02</td>\n",
       "      <td>3.788022e+01</td>\n",
       "      <td>0.000000e+00</td>\n",
       "      <td>4.270000e+02</td>\n",
       "      <td>3.788022e+01</td>\n",
       "      <td>0.000000e+00</td>\n",
       "      <td>2.001000e+03</td>\n",
       "    </tr>\n",
       "  </tbody>\n",
       "</table>\n",
       "</div>"
      ],
      "text/plain": [
       "            bike_id  duration_sec  start_station_id  start_station_latitude  \\\n",
       "count  3.197671e+06  3.197671e+06      3.197671e+06            3.197671e+06   \n",
       "mean   2.709359e+03  7.734795e+02      1.229253e+02            3.776958e+01   \n",
       "std    1.716219e+03  1.971263e+03      1.037837e+02            1.015278e-01   \n",
       "min    1.000000e+01  6.100000e+01      3.000000e+00            0.000000e+00   \n",
       "25%    1.323000e+03  3.450000e+02      3.600000e+01            3.777106e+01   \n",
       "50%    2.561000e+03  5.430000e+02      9.000000e+01            3.778107e+01   \n",
       "75%    3.756000e+03  8.380000e+02      1.930000e+02            3.779581e+01   \n",
       "max    7.196000e+03  8.628100e+04      4.270000e+02            3.788022e+01   \n",
       "\n",
       "       start_station_longitude  end_station_id  end_station_latitude  \\\n",
       "count             3.197671e+06    3.197671e+06          3.197671e+06   \n",
       "mean             -1.223534e+02    1.210837e+02          3.776950e+01   \n",
       "std               1.357226e-01    1.036002e+02          1.336651e-01   \n",
       "min              -1.224737e+02    3.000000e+00          0.000000e+00   \n",
       "25%              -1.224117e+02    3.000000e+01          3.777143e+01   \n",
       "50%              -1.223974e+02    8.900000e+01          3.778127e+01   \n",
       "75%              -1.222914e+02    1.890000e+02          3.779625e+01   \n",
       "max               0.000000e+00    4.270000e+02          3.788022e+01   \n",
       "\n",
       "       end_station_longitude  member_birth_year  \n",
       "count           3.197671e+06       3.197671e+06  \n",
       "mean           -1.223521e+02       1.983189e+03  \n",
       "std             3.128577e-01       1.043911e+01  \n",
       "min            -1.224737e+02       1.878000e+03  \n",
       "25%            -1.224108e+02       1.978000e+03  \n",
       "50%            -1.223971e+02       1.986000e+03  \n",
       "75%            -1.222914e+02       1.991000e+03  \n",
       "max             0.000000e+00       2.001000e+03  "
      ]
     },
     "execution_count": 122,
     "metadata": {},
     "output_type": "execute_result"
    }
   ],
   "source": [
    "# Check statistics for numerical columns\n",
    "df.describe()"
   ]
  },
  {
   "cell_type": "markdown",
   "metadata": {},
   "source": [
    "1. Max duration in seconds appears way too high, a 23 hour bike rental cannot be a legitimate rental (could be someone incorrectly returning the bike? If there's multiple of these trips from the same bikes, do we have broken bikes?). I will need to plot the distribution of ride durations and select a reasonable range to focus on. Take care of this during my univariate exploration.\n",
    "2. Min birth year of 1983 would make the rider 141 years old. This must be an error and a reasonable age range will need to be selected and focused on. Take care of this during my univariate exploration.\n",
    "3. Station latitudes of 0 would place the stations on the equator. The Bay area coordinates should all be between 37 and 38 for latitude and -121 and -123 for longitude. Clean this right away."
   ]
  },
  {
   "cell_type": "markdown",
   "metadata": {},
   "source": [
    "### Issue 1: \n",
    "\n",
    "#### Define\n",
    "Correct the dirty station location data. The only station coordinates outside the expected range are for the test station data entry, so there is no filling or adjusting of values to be done. Just use .drop() to drop all rows where start_station_name or end_station_name is \"SF Test Station\"."
   ]
  },
  {
   "cell_type": "markdown",
   "metadata": {},
   "source": [
    "#### Code"
   ]
  },
  {
   "cell_type": "code",
   "execution_count": 123,
   "metadata": {},
   "outputs": [
    {
     "data": {
      "text/html": [
       "<div>\n",
       "<style scoped>\n",
       "    .dataframe tbody tr th:only-of-type {\n",
       "        vertical-align: middle;\n",
       "    }\n",
       "\n",
       "    .dataframe tbody tr th {\n",
       "        vertical-align: top;\n",
       "    }\n",
       "\n",
       "    .dataframe thead th {\n",
       "        text-align: right;\n",
       "    }\n",
       "</style>\n",
       "<table border=\"1\" class=\"dataframe\">\n",
       "  <thead>\n",
       "    <tr style=\"text-align: right;\">\n",
       "      <th></th>\n",
       "      <th>bike_id</th>\n",
       "      <th>duration_sec</th>\n",
       "      <th>start_time</th>\n",
       "      <th>end_time</th>\n",
       "      <th>start_station_id</th>\n",
       "      <th>start_station_name</th>\n",
       "      <th>start_station_latitude</th>\n",
       "      <th>start_station_longitude</th>\n",
       "      <th>end_station_id</th>\n",
       "      <th>end_station_name</th>\n",
       "      <th>end_station_latitude</th>\n",
       "      <th>end_station_longitude</th>\n",
       "      <th>user_type</th>\n",
       "      <th>bike_share_for_all_trip</th>\n",
       "      <th>member_gender</th>\n",
       "      <th>member_birth_year</th>\n",
       "    </tr>\n",
       "  </thead>\n",
       "  <tbody>\n",
       "    <tr>\n",
       "      <th>265936</th>\n",
       "      <td>1161</td>\n",
       "      <td>175</td>\n",
       "      <td>2019-04-24 16:56:54.516</td>\n",
       "      <td>2019-04-24 16:59:50.429</td>\n",
       "      <td>420</td>\n",
       "      <td>SF Test Station</td>\n",
       "      <td>0.0</td>\n",
       "      <td>0.0</td>\n",
       "      <td>81</td>\n",
       "      <td>Berry St at 4th St</td>\n",
       "      <td>37.77588</td>\n",
       "      <td>-122.39317</td>\n",
       "      <td>Subscriber</td>\n",
       "      <td>No</td>\n",
       "      <td>Male</td>\n",
       "      <td>1983</td>\n",
       "    </tr>\n",
       "  </tbody>\n",
       "</table>\n",
       "</div>"
      ],
      "text/plain": [
       "        bike_id  duration_sec              start_time                end_time  \\\n",
       "265936     1161           175 2019-04-24 16:56:54.516 2019-04-24 16:59:50.429   \n",
       "\n",
       "        start_station_id start_station_name  start_station_latitude  \\\n",
       "265936               420    SF Test Station                     0.0   \n",
       "\n",
       "        start_station_longitude  end_station_id    end_station_name  \\\n",
       "265936                      0.0              81  Berry St at 4th St   \n",
       "\n",
       "        end_station_latitude  end_station_longitude   user_type  \\\n",
       "265936              37.77588             -122.39317  Subscriber   \n",
       "\n",
       "       bike_share_for_all_trip member_gender  member_birth_year  \n",
       "265936                      No          Male               1983  "
      ]
     },
     "execution_count": 123,
     "metadata": {},
     "output_type": "execute_result"
    }
   ],
   "source": [
    "# Start station latitude test lower limit\n",
    "df.query('start_station_latitude < 37')"
   ]
  },
  {
   "cell_type": "code",
   "execution_count": 124,
   "metadata": {},
   "outputs": [
    {
     "data": {
      "text/html": [
       "<div>\n",
       "<style scoped>\n",
       "    .dataframe tbody tr th:only-of-type {\n",
       "        vertical-align: middle;\n",
       "    }\n",
       "\n",
       "    .dataframe tbody tr th {\n",
       "        vertical-align: top;\n",
       "    }\n",
       "\n",
       "    .dataframe thead th {\n",
       "        text-align: right;\n",
       "    }\n",
       "</style>\n",
       "<table border=\"1\" class=\"dataframe\">\n",
       "  <thead>\n",
       "    <tr style=\"text-align: right;\">\n",
       "      <th></th>\n",
       "      <th>bike_id</th>\n",
       "      <th>duration_sec</th>\n",
       "      <th>start_time</th>\n",
       "      <th>end_time</th>\n",
       "      <th>start_station_id</th>\n",
       "      <th>start_station_name</th>\n",
       "      <th>start_station_latitude</th>\n",
       "      <th>start_station_longitude</th>\n",
       "      <th>end_station_id</th>\n",
       "      <th>end_station_name</th>\n",
       "      <th>end_station_latitude</th>\n",
       "      <th>end_station_longitude</th>\n",
       "      <th>user_type</th>\n",
       "      <th>bike_share_for_all_trip</th>\n",
       "      <th>member_gender</th>\n",
       "      <th>member_birth_year</th>\n",
       "    </tr>\n",
       "  </thead>\n",
       "  <tbody>\n",
       "  </tbody>\n",
       "</table>\n",
       "</div>"
      ],
      "text/plain": [
       "Empty DataFrame\n",
       "Columns: [bike_id, duration_sec, start_time, end_time, start_station_id, start_station_name, start_station_latitude, start_station_longitude, end_station_id, end_station_name, end_station_latitude, end_station_longitude, user_type, bike_share_for_all_trip, member_gender, member_birth_year]\n",
       "Index: []"
      ]
     },
     "execution_count": 124,
     "metadata": {},
     "output_type": "execute_result"
    }
   ],
   "source": [
    "# Start station latitude test upper limit\n",
    "df.query('start_station_latitude > 38')"
   ]
  },
  {
   "cell_type": "code",
   "execution_count": 125,
   "metadata": {},
   "outputs": [
    {
     "data": {
      "text/html": [
       "<div>\n",
       "<style scoped>\n",
       "    .dataframe tbody tr th:only-of-type {\n",
       "        vertical-align: middle;\n",
       "    }\n",
       "\n",
       "    .dataframe tbody tr th {\n",
       "        vertical-align: top;\n",
       "    }\n",
       "\n",
       "    .dataframe thead th {\n",
       "        text-align: right;\n",
       "    }\n",
       "</style>\n",
       "<table border=\"1\" class=\"dataframe\">\n",
       "  <thead>\n",
       "    <tr style=\"text-align: right;\">\n",
       "      <th></th>\n",
       "      <th>bike_id</th>\n",
       "      <th>duration_sec</th>\n",
       "      <th>start_time</th>\n",
       "      <th>end_time</th>\n",
       "      <th>start_station_id</th>\n",
       "      <th>start_station_name</th>\n",
       "      <th>start_station_latitude</th>\n",
       "      <th>start_station_longitude</th>\n",
       "      <th>end_station_id</th>\n",
       "      <th>end_station_name</th>\n",
       "      <th>end_station_latitude</th>\n",
       "      <th>end_station_longitude</th>\n",
       "      <th>user_type</th>\n",
       "      <th>bike_share_for_all_trip</th>\n",
       "      <th>member_gender</th>\n",
       "      <th>member_birth_year</th>\n",
       "    </tr>\n",
       "  </thead>\n",
       "  <tbody>\n",
       "    <tr>\n",
       "      <th>265936</th>\n",
       "      <td>1161</td>\n",
       "      <td>175</td>\n",
       "      <td>2019-04-24 16:56:54.516</td>\n",
       "      <td>2019-04-24 16:59:50.429</td>\n",
       "      <td>420</td>\n",
       "      <td>SF Test Station</td>\n",
       "      <td>0.0</td>\n",
       "      <td>0.0</td>\n",
       "      <td>81</td>\n",
       "      <td>Berry St at 4th St</td>\n",
       "      <td>37.77588</td>\n",
       "      <td>-122.39317</td>\n",
       "      <td>Subscriber</td>\n",
       "      <td>No</td>\n",
       "      <td>Male</td>\n",
       "      <td>1983</td>\n",
       "    </tr>\n",
       "  </tbody>\n",
       "</table>\n",
       "</div>"
      ],
      "text/plain": [
       "        bike_id  duration_sec              start_time                end_time  \\\n",
       "265936     1161           175 2019-04-24 16:56:54.516 2019-04-24 16:59:50.429   \n",
       "\n",
       "        start_station_id start_station_name  start_station_latitude  \\\n",
       "265936               420    SF Test Station                     0.0   \n",
       "\n",
       "        start_station_longitude  end_station_id    end_station_name  \\\n",
       "265936                      0.0              81  Berry St at 4th St   \n",
       "\n",
       "        end_station_latitude  end_station_longitude   user_type  \\\n",
       "265936              37.77588             -122.39317  Subscriber   \n",
       "\n",
       "       bike_share_for_all_trip member_gender  member_birth_year  \n",
       "265936                      No          Male               1983  "
      ]
     },
     "execution_count": 125,
     "metadata": {},
     "output_type": "execute_result"
    }
   ],
   "source": [
    "# Start station longitude test lower limit\n",
    "df.query('start_station_longitude > -121')"
   ]
  },
  {
   "cell_type": "code",
   "execution_count": 126,
   "metadata": {},
   "outputs": [
    {
     "data": {
      "text/html": [
       "<div>\n",
       "<style scoped>\n",
       "    .dataframe tbody tr th:only-of-type {\n",
       "        vertical-align: middle;\n",
       "    }\n",
       "\n",
       "    .dataframe tbody tr th {\n",
       "        vertical-align: top;\n",
       "    }\n",
       "\n",
       "    .dataframe thead th {\n",
       "        text-align: right;\n",
       "    }\n",
       "</style>\n",
       "<table border=\"1\" class=\"dataframe\">\n",
       "  <thead>\n",
       "    <tr style=\"text-align: right;\">\n",
       "      <th></th>\n",
       "      <th>bike_id</th>\n",
       "      <th>duration_sec</th>\n",
       "      <th>start_time</th>\n",
       "      <th>end_time</th>\n",
       "      <th>start_station_id</th>\n",
       "      <th>start_station_name</th>\n",
       "      <th>start_station_latitude</th>\n",
       "      <th>start_station_longitude</th>\n",
       "      <th>end_station_id</th>\n",
       "      <th>end_station_name</th>\n",
       "      <th>end_station_latitude</th>\n",
       "      <th>end_station_longitude</th>\n",
       "      <th>user_type</th>\n",
       "      <th>bike_share_for_all_trip</th>\n",
       "      <th>member_gender</th>\n",
       "      <th>member_birth_year</th>\n",
       "    </tr>\n",
       "  </thead>\n",
       "  <tbody>\n",
       "  </tbody>\n",
       "</table>\n",
       "</div>"
      ],
      "text/plain": [
       "Empty DataFrame\n",
       "Columns: [bike_id, duration_sec, start_time, end_time, start_station_id, start_station_name, start_station_latitude, start_station_longitude, end_station_id, end_station_name, end_station_latitude, end_station_longitude, user_type, bike_share_for_all_trip, member_gender, member_birth_year]\n",
       "Index: []"
      ]
     },
     "execution_count": 126,
     "metadata": {},
     "output_type": "execute_result"
    }
   ],
   "source": [
    "# Start station longitude test lower limit\n",
    "df.query('start_station_longitude < -123')"
   ]
  },
  {
   "cell_type": "code",
   "execution_count": 127,
   "metadata": {},
   "outputs": [
    {
     "data": {
      "text/html": [
       "<div>\n",
       "<style scoped>\n",
       "    .dataframe tbody tr th:only-of-type {\n",
       "        vertical-align: middle;\n",
       "    }\n",
       "\n",
       "    .dataframe tbody tr th {\n",
       "        vertical-align: top;\n",
       "    }\n",
       "\n",
       "    .dataframe thead th {\n",
       "        text-align: right;\n",
       "    }\n",
       "</style>\n",
       "<table border=\"1\" class=\"dataframe\">\n",
       "  <thead>\n",
       "    <tr style=\"text-align: right;\">\n",
       "      <th></th>\n",
       "      <th>bike_id</th>\n",
       "      <th>duration_sec</th>\n",
       "      <th>start_time</th>\n",
       "      <th>end_time</th>\n",
       "      <th>start_station_id</th>\n",
       "      <th>start_station_name</th>\n",
       "      <th>start_station_latitude</th>\n",
       "      <th>start_station_longitude</th>\n",
       "      <th>end_station_id</th>\n",
       "      <th>end_station_name</th>\n",
       "      <th>end_station_latitude</th>\n",
       "      <th>end_station_longitude</th>\n",
       "      <th>user_type</th>\n",
       "      <th>bike_share_for_all_trip</th>\n",
       "      <th>member_gender</th>\n",
       "      <th>member_birth_year</th>\n",
       "    </tr>\n",
       "  </thead>\n",
       "  <tbody>\n",
       "    <tr>\n",
       "      <th>228312</th>\n",
       "      <td>1612</td>\n",
       "      <td>2365</td>\n",
       "      <td>2019-04-30 18:21:42.610</td>\n",
       "      <td>2019-04-30 19:01:08.146</td>\n",
       "      <td>50</td>\n",
       "      <td>2nd St at Townsend St</td>\n",
       "      <td>37.780526</td>\n",
       "      <td>-122.390288</td>\n",
       "      <td>420</td>\n",
       "      <td>SF Test Station</td>\n",
       "      <td>0.0</td>\n",
       "      <td>0.0</td>\n",
       "      <td>Subscriber</td>\n",
       "      <td>No</td>\n",
       "      <td>Female</td>\n",
       "      <td>1995</td>\n",
       "    </tr>\n",
       "    <tr>\n",
       "      <th>229051</th>\n",
       "      <td>3507</td>\n",
       "      <td>1964</td>\n",
       "      <td>2019-04-30 17:31:19.646</td>\n",
       "      <td>2019-04-30 18:04:04.518</td>\n",
       "      <td>98</td>\n",
       "      <td>Valencia St at 16th St</td>\n",
       "      <td>37.765052</td>\n",
       "      <td>-122.421866</td>\n",
       "      <td>420</td>\n",
       "      <td>SF Test Station</td>\n",
       "      <td>0.0</td>\n",
       "      <td>0.0</td>\n",
       "      <td>Subscriber</td>\n",
       "      <td>No</td>\n",
       "      <td>Female</td>\n",
       "      <td>1981</td>\n",
       "    </tr>\n",
       "    <tr>\n",
       "      <th>229203</th>\n",
       "      <td>1142</td>\n",
       "      <td>546</td>\n",
       "      <td>2019-04-30 17:45:38.452</td>\n",
       "      <td>2019-04-30 17:54:45.258</td>\n",
       "      <td>370</td>\n",
       "      <td>Jones St at Post St</td>\n",
       "      <td>37.787327</td>\n",
       "      <td>-122.413278</td>\n",
       "      <td>420</td>\n",
       "      <td>SF Test Station</td>\n",
       "      <td>0.0</td>\n",
       "      <td>0.0</td>\n",
       "      <td>Subscriber</td>\n",
       "      <td>Yes</td>\n",
       "      <td>Female</td>\n",
       "      <td>1991</td>\n",
       "    </tr>\n",
       "    <tr>\n",
       "      <th>229277</th>\n",
       "      <td>3500</td>\n",
       "      <td>630</td>\n",
       "      <td>2019-04-30 17:39:33.507</td>\n",
       "      <td>2019-04-30 17:50:04.314</td>\n",
       "      <td>21</td>\n",
       "      <td>Montgomery St BART Station (Market St at 2nd St)</td>\n",
       "      <td>37.789625</td>\n",
       "      <td>-122.400811</td>\n",
       "      <td>420</td>\n",
       "      <td>SF Test Station</td>\n",
       "      <td>0.0</td>\n",
       "      <td>0.0</td>\n",
       "      <td>Subscriber</td>\n",
       "      <td>No</td>\n",
       "      <td>Male</td>\n",
       "      <td>1991</td>\n",
       "    </tr>\n",
       "    <tr>\n",
       "      <th>229713</th>\n",
       "      <td>1181</td>\n",
       "      <td>433</td>\n",
       "      <td>2019-04-30 17:17:10.486</td>\n",
       "      <td>2019-04-30 17:24:23.919</td>\n",
       "      <td>11</td>\n",
       "      <td>Davis St at Jackson St</td>\n",
       "      <td>37.797280</td>\n",
       "      <td>-122.398436</td>\n",
       "      <td>420</td>\n",
       "      <td>SF Test Station</td>\n",
       "      <td>0.0</td>\n",
       "      <td>0.0</td>\n",
       "      <td>Subscriber</td>\n",
       "      <td>No</td>\n",
       "      <td>Male</td>\n",
       "      <td>1995</td>\n",
       "    </tr>\n",
       "    <tr>\n",
       "      <th>229792</th>\n",
       "      <td>2535</td>\n",
       "      <td>1233</td>\n",
       "      <td>2019-04-30 16:58:41.209</td>\n",
       "      <td>2019-04-30 17:19:14.689</td>\n",
       "      <td>81</td>\n",
       "      <td>Berry St at 4th St</td>\n",
       "      <td>37.775880</td>\n",
       "      <td>-122.393170</td>\n",
       "      <td>420</td>\n",
       "      <td>SF Test Station</td>\n",
       "      <td>0.0</td>\n",
       "      <td>0.0</td>\n",
       "      <td>Subscriber</td>\n",
       "      <td>No</td>\n",
       "      <td>Male</td>\n",
       "      <td>1970</td>\n",
       "    </tr>\n",
       "    <tr>\n",
       "      <th>229823</th>\n",
       "      <td>462</td>\n",
       "      <td>1306</td>\n",
       "      <td>2019-04-30 16:55:35.924</td>\n",
       "      <td>2019-04-30 17:17:22.162</td>\n",
       "      <td>80</td>\n",
       "      <td>Townsend St at 5th St</td>\n",
       "      <td>37.775235</td>\n",
       "      <td>-122.397437</td>\n",
       "      <td>420</td>\n",
       "      <td>SF Test Station</td>\n",
       "      <td>0.0</td>\n",
       "      <td>0.0</td>\n",
       "      <td>Subscriber</td>\n",
       "      <td>No</td>\n",
       "      <td>Male</td>\n",
       "      <td>1992</td>\n",
       "    </tr>\n",
       "    <tr>\n",
       "      <th>230101</th>\n",
       "      <td>1880</td>\n",
       "      <td>764</td>\n",
       "      <td>2019-04-30 16:44:12.351</td>\n",
       "      <td>2019-04-30 16:56:56.539</td>\n",
       "      <td>16</td>\n",
       "      <td>Steuart St at Market St</td>\n",
       "      <td>37.794130</td>\n",
       "      <td>-122.394430</td>\n",
       "      <td>420</td>\n",
       "      <td>SF Test Station</td>\n",
       "      <td>0.0</td>\n",
       "      <td>0.0</td>\n",
       "      <td>Customer</td>\n",
       "      <td>No</td>\n",
       "      <td>Male</td>\n",
       "      <td>1976</td>\n",
       "    </tr>\n",
       "    <tr>\n",
       "      <th>241904</th>\n",
       "      <td>150</td>\n",
       "      <td>1491</td>\n",
       "      <td>2019-04-28 18:40:41.288</td>\n",
       "      <td>2019-04-28 19:05:33.063</td>\n",
       "      <td>377</td>\n",
       "      <td>Fell St at Stanyan St</td>\n",
       "      <td>37.771917</td>\n",
       "      <td>-122.453704</td>\n",
       "      <td>420</td>\n",
       "      <td>SF Test Station</td>\n",
       "      <td>0.0</td>\n",
       "      <td>0.0</td>\n",
       "      <td>Customer</td>\n",
       "      <td>No</td>\n",
       "      <td>Male</td>\n",
       "      <td>1981</td>\n",
       "    </tr>\n",
       "    <tr>\n",
       "      <th>241956</th>\n",
       "      <td>311</td>\n",
       "      <td>680</td>\n",
       "      <td>2019-04-28 18:40:08.324</td>\n",
       "      <td>2019-04-28 18:51:28.357</td>\n",
       "      <td>139</td>\n",
       "      <td>Garfield Square (25th St at Harrison St)</td>\n",
       "      <td>37.751017</td>\n",
       "      <td>-122.411901</td>\n",
       "      <td>420</td>\n",
       "      <td>SF Test Station</td>\n",
       "      <td>0.0</td>\n",
       "      <td>0.0</td>\n",
       "      <td>Subscriber</td>\n",
       "      <td>No</td>\n",
       "      <td>Female</td>\n",
       "      <td>1981</td>\n",
       "    </tr>\n",
       "    <tr>\n",
       "      <th>242061</th>\n",
       "      <td>333</td>\n",
       "      <td>764</td>\n",
       "      <td>2019-04-28 18:10:38.170</td>\n",
       "      <td>2019-04-28 18:23:22.476</td>\n",
       "      <td>412</td>\n",
       "      <td>Glen Park BART Station</td>\n",
       "      <td>37.732813</td>\n",
       "      <td>-122.434140</td>\n",
       "      <td>420</td>\n",
       "      <td>SF Test Station</td>\n",
       "      <td>0.0</td>\n",
       "      <td>0.0</td>\n",
       "      <td>Customer</td>\n",
       "      <td>No</td>\n",
       "      <td>Male</td>\n",
       "      <td>1989</td>\n",
       "    </tr>\n",
       "    <tr>\n",
       "      <th>242062</th>\n",
       "      <td>2760</td>\n",
       "      <td>904</td>\n",
       "      <td>2019-04-28 18:08:13.576</td>\n",
       "      <td>2019-04-28 18:23:18.367</td>\n",
       "      <td>412</td>\n",
       "      <td>Glen Park BART Station</td>\n",
       "      <td>37.732813</td>\n",
       "      <td>-122.434140</td>\n",
       "      <td>420</td>\n",
       "      <td>SF Test Station</td>\n",
       "      <td>0.0</td>\n",
       "      <td>0.0</td>\n",
       "      <td>Customer</td>\n",
       "      <td>No</td>\n",
       "      <td>Male</td>\n",
       "      <td>1989</td>\n",
       "    </tr>\n",
       "    <tr>\n",
       "      <th>242090</th>\n",
       "      <td>3632</td>\n",
       "      <td>1501</td>\n",
       "      <td>2019-04-28 17:52:27.345</td>\n",
       "      <td>2019-04-28 18:17:28.410</td>\n",
       "      <td>377</td>\n",
       "      <td>Fell St at Stanyan St</td>\n",
       "      <td>37.771917</td>\n",
       "      <td>-122.453704</td>\n",
       "      <td>420</td>\n",
       "      <td>SF Test Station</td>\n",
       "      <td>0.0</td>\n",
       "      <td>0.0</td>\n",
       "      <td>Subscriber</td>\n",
       "      <td>No</td>\n",
       "      <td>Male</td>\n",
       "      <td>1997</td>\n",
       "    </tr>\n",
       "    <tr>\n",
       "      <th>242091</th>\n",
       "      <td>901</td>\n",
       "      <td>1503</td>\n",
       "      <td>2019-04-28 17:52:22.210</td>\n",
       "      <td>2019-04-28 18:17:25.545</td>\n",
       "      <td>377</td>\n",
       "      <td>Fell St at Stanyan St</td>\n",
       "      <td>37.771917</td>\n",
       "      <td>-122.453704</td>\n",
       "      <td>420</td>\n",
       "      <td>SF Test Station</td>\n",
       "      <td>0.0</td>\n",
       "      <td>0.0</td>\n",
       "      <td>Subscriber</td>\n",
       "      <td>No</td>\n",
       "      <td>Male</td>\n",
       "      <td>1995</td>\n",
       "    </tr>\n",
       "    <tr>\n",
       "      <th>242108</th>\n",
       "      <td>536</td>\n",
       "      <td>840</td>\n",
       "      <td>2019-04-28 18:00:23.567</td>\n",
       "      <td>2019-04-28 18:14:23.599</td>\n",
       "      <td>88</td>\n",
       "      <td>11th St at Bryant St</td>\n",
       "      <td>37.770030</td>\n",
       "      <td>-122.411726</td>\n",
       "      <td>420</td>\n",
       "      <td>SF Test Station</td>\n",
       "      <td>0.0</td>\n",
       "      <td>0.0</td>\n",
       "      <td>Subscriber</td>\n",
       "      <td>No</td>\n",
       "      <td>Male</td>\n",
       "      <td>1981</td>\n",
       "    </tr>\n",
       "    <tr>\n",
       "      <th>265975</th>\n",
       "      <td>3498</td>\n",
       "      <td>195</td>\n",
       "      <td>2019-04-24 16:53:35.591</td>\n",
       "      <td>2019-04-24 16:56:51.006</td>\n",
       "      <td>104</td>\n",
       "      <td>4th St at 16th St</td>\n",
       "      <td>37.767045</td>\n",
       "      <td>-122.390833</td>\n",
       "      <td>420</td>\n",
       "      <td>SF Test Station</td>\n",
       "      <td>0.0</td>\n",
       "      <td>0.0</td>\n",
       "      <td>Subscriber</td>\n",
       "      <td>No</td>\n",
       "      <td>Female</td>\n",
       "      <td>1970</td>\n",
       "    </tr>\n",
       "    <tr>\n",
       "      <th>274511</th>\n",
       "      <td>1768</td>\n",
       "      <td>921</td>\n",
       "      <td>2019-04-23 13:14:09.492</td>\n",
       "      <td>2019-04-23 13:29:31.333</td>\n",
       "      <td>20</td>\n",
       "      <td>Mechanics Monument Plaza (Market St at Bush St)</td>\n",
       "      <td>37.791300</td>\n",
       "      <td>-122.399051</td>\n",
       "      <td>420</td>\n",
       "      <td>SF Test Station</td>\n",
       "      <td>0.0</td>\n",
       "      <td>0.0</td>\n",
       "      <td>Subscriber</td>\n",
       "      <td>No</td>\n",
       "      <td>Male</td>\n",
       "      <td>1967</td>\n",
       "    </tr>\n",
       "    <tr>\n",
       "      <th>310743</th>\n",
       "      <td>1939</td>\n",
       "      <td>912</td>\n",
       "      <td>2019-04-17 09:30:11.764</td>\n",
       "      <td>2019-04-17 09:45:24.263</td>\n",
       "      <td>399</td>\n",
       "      <td>Bay St at Fillmore St</td>\n",
       "      <td>37.802636</td>\n",
       "      <td>-122.436289</td>\n",
       "      <td>420</td>\n",
       "      <td>SF Test Station</td>\n",
       "      <td>0.0</td>\n",
       "      <td>0.0</td>\n",
       "      <td>Subscriber</td>\n",
       "      <td>No</td>\n",
       "      <td>Male</td>\n",
       "      <td>1982</td>\n",
       "    </tr>\n",
       "  </tbody>\n",
       "</table>\n",
       "</div>"
      ],
      "text/plain": [
       "        bike_id  duration_sec              start_time                end_time  \\\n",
       "228312     1612          2365 2019-04-30 18:21:42.610 2019-04-30 19:01:08.146   \n",
       "229051     3507          1964 2019-04-30 17:31:19.646 2019-04-30 18:04:04.518   \n",
       "229203     1142           546 2019-04-30 17:45:38.452 2019-04-30 17:54:45.258   \n",
       "229277     3500           630 2019-04-30 17:39:33.507 2019-04-30 17:50:04.314   \n",
       "229713     1181           433 2019-04-30 17:17:10.486 2019-04-30 17:24:23.919   \n",
       "229792     2535          1233 2019-04-30 16:58:41.209 2019-04-30 17:19:14.689   \n",
       "229823      462          1306 2019-04-30 16:55:35.924 2019-04-30 17:17:22.162   \n",
       "230101     1880           764 2019-04-30 16:44:12.351 2019-04-30 16:56:56.539   \n",
       "241904      150          1491 2019-04-28 18:40:41.288 2019-04-28 19:05:33.063   \n",
       "241956      311           680 2019-04-28 18:40:08.324 2019-04-28 18:51:28.357   \n",
       "242061      333           764 2019-04-28 18:10:38.170 2019-04-28 18:23:22.476   \n",
       "242062     2760           904 2019-04-28 18:08:13.576 2019-04-28 18:23:18.367   \n",
       "242090     3632          1501 2019-04-28 17:52:27.345 2019-04-28 18:17:28.410   \n",
       "242091      901          1503 2019-04-28 17:52:22.210 2019-04-28 18:17:25.545   \n",
       "242108      536           840 2019-04-28 18:00:23.567 2019-04-28 18:14:23.599   \n",
       "265975     3498           195 2019-04-24 16:53:35.591 2019-04-24 16:56:51.006   \n",
       "274511     1768           921 2019-04-23 13:14:09.492 2019-04-23 13:29:31.333   \n",
       "310743     1939           912 2019-04-17 09:30:11.764 2019-04-17 09:45:24.263   \n",
       "\n",
       "        start_station_id                                start_station_name  \\\n",
       "228312                50                             2nd St at Townsend St   \n",
       "229051                98                            Valencia St at 16th St   \n",
       "229203               370                               Jones St at Post St   \n",
       "229277                21  Montgomery St BART Station (Market St at 2nd St)   \n",
       "229713                11                            Davis St at Jackson St   \n",
       "229792                81                                Berry St at 4th St   \n",
       "229823                80                             Townsend St at 5th St   \n",
       "230101                16                           Steuart St at Market St   \n",
       "241904               377                             Fell St at Stanyan St   \n",
       "241956               139          Garfield Square (25th St at Harrison St)   \n",
       "242061               412                            Glen Park BART Station   \n",
       "242062               412                            Glen Park BART Station   \n",
       "242090               377                             Fell St at Stanyan St   \n",
       "242091               377                             Fell St at Stanyan St   \n",
       "242108                88                              11th St at Bryant St   \n",
       "265975               104                                 4th St at 16th St   \n",
       "274511                20   Mechanics Monument Plaza (Market St at Bush St)   \n",
       "310743               399                             Bay St at Fillmore St   \n",
       "\n",
       "        start_station_latitude  start_station_longitude  end_station_id  \\\n",
       "228312               37.780526              -122.390288             420   \n",
       "229051               37.765052              -122.421866             420   \n",
       "229203               37.787327              -122.413278             420   \n",
       "229277               37.789625              -122.400811             420   \n",
       "229713               37.797280              -122.398436             420   \n",
       "229792               37.775880              -122.393170             420   \n",
       "229823               37.775235              -122.397437             420   \n",
       "230101               37.794130              -122.394430             420   \n",
       "241904               37.771917              -122.453704             420   \n",
       "241956               37.751017              -122.411901             420   \n",
       "242061               37.732813              -122.434140             420   \n",
       "242062               37.732813              -122.434140             420   \n",
       "242090               37.771917              -122.453704             420   \n",
       "242091               37.771917              -122.453704             420   \n",
       "242108               37.770030              -122.411726             420   \n",
       "265975               37.767045              -122.390833             420   \n",
       "274511               37.791300              -122.399051             420   \n",
       "310743               37.802636              -122.436289             420   \n",
       "\n",
       "       end_station_name  end_station_latitude  end_station_longitude  \\\n",
       "228312  SF Test Station                   0.0                    0.0   \n",
       "229051  SF Test Station                   0.0                    0.0   \n",
       "229203  SF Test Station                   0.0                    0.0   \n",
       "229277  SF Test Station                   0.0                    0.0   \n",
       "229713  SF Test Station                   0.0                    0.0   \n",
       "229792  SF Test Station                   0.0                    0.0   \n",
       "229823  SF Test Station                   0.0                    0.0   \n",
       "230101  SF Test Station                   0.0                    0.0   \n",
       "241904  SF Test Station                   0.0                    0.0   \n",
       "241956  SF Test Station                   0.0                    0.0   \n",
       "242061  SF Test Station                   0.0                    0.0   \n",
       "242062  SF Test Station                   0.0                    0.0   \n",
       "242090  SF Test Station                   0.0                    0.0   \n",
       "242091  SF Test Station                   0.0                    0.0   \n",
       "242108  SF Test Station                   0.0                    0.0   \n",
       "265975  SF Test Station                   0.0                    0.0   \n",
       "274511  SF Test Station                   0.0                    0.0   \n",
       "310743  SF Test Station                   0.0                    0.0   \n",
       "\n",
       "         user_type bike_share_for_all_trip member_gender  member_birth_year  \n",
       "228312  Subscriber                      No        Female               1995  \n",
       "229051  Subscriber                      No        Female               1981  \n",
       "229203  Subscriber                     Yes        Female               1991  \n",
       "229277  Subscriber                      No          Male               1991  \n",
       "229713  Subscriber                      No          Male               1995  \n",
       "229792  Subscriber                      No          Male               1970  \n",
       "229823  Subscriber                      No          Male               1992  \n",
       "230101    Customer                      No          Male               1976  \n",
       "241904    Customer                      No          Male               1981  \n",
       "241956  Subscriber                      No        Female               1981  \n",
       "242061    Customer                      No          Male               1989  \n",
       "242062    Customer                      No          Male               1989  \n",
       "242090  Subscriber                      No          Male               1997  \n",
       "242091  Subscriber                      No          Male               1995  \n",
       "242108  Subscriber                      No          Male               1981  \n",
       "265975  Subscriber                      No        Female               1970  \n",
       "274511  Subscriber                      No          Male               1967  \n",
       "310743  Subscriber                      No          Male               1982  "
      ]
     },
     "execution_count": 127,
     "metadata": {},
     "output_type": "execute_result"
    }
   ],
   "source": [
    "# End station latitude test lower limit\n",
    "df.query('end_station_latitude < 37')"
   ]
  },
  {
   "cell_type": "code",
   "execution_count": 128,
   "metadata": {},
   "outputs": [
    {
     "data": {
      "text/html": [
       "<div>\n",
       "<style scoped>\n",
       "    .dataframe tbody tr th:only-of-type {\n",
       "        vertical-align: middle;\n",
       "    }\n",
       "\n",
       "    .dataframe tbody tr th {\n",
       "        vertical-align: top;\n",
       "    }\n",
       "\n",
       "    .dataframe thead th {\n",
       "        text-align: right;\n",
       "    }\n",
       "</style>\n",
       "<table border=\"1\" class=\"dataframe\">\n",
       "  <thead>\n",
       "    <tr style=\"text-align: right;\">\n",
       "      <th></th>\n",
       "      <th>bike_id</th>\n",
       "      <th>duration_sec</th>\n",
       "      <th>start_time</th>\n",
       "      <th>end_time</th>\n",
       "      <th>start_station_id</th>\n",
       "      <th>start_station_name</th>\n",
       "      <th>start_station_latitude</th>\n",
       "      <th>start_station_longitude</th>\n",
       "      <th>end_station_id</th>\n",
       "      <th>end_station_name</th>\n",
       "      <th>end_station_latitude</th>\n",
       "      <th>end_station_longitude</th>\n",
       "      <th>user_type</th>\n",
       "      <th>bike_share_for_all_trip</th>\n",
       "      <th>member_gender</th>\n",
       "      <th>member_birth_year</th>\n",
       "    </tr>\n",
       "  </thead>\n",
       "  <tbody>\n",
       "  </tbody>\n",
       "</table>\n",
       "</div>"
      ],
      "text/plain": [
       "Empty DataFrame\n",
       "Columns: [bike_id, duration_sec, start_time, end_time, start_station_id, start_station_name, start_station_latitude, start_station_longitude, end_station_id, end_station_name, end_station_latitude, end_station_longitude, user_type, bike_share_for_all_trip, member_gender, member_birth_year]\n",
       "Index: []"
      ]
     },
     "execution_count": 128,
     "metadata": {},
     "output_type": "execute_result"
    }
   ],
   "source": [
    "# End station latitude test upper limit\n",
    "df.query('end_station_latitude > 38')"
   ]
  },
  {
   "cell_type": "code",
   "execution_count": 129,
   "metadata": {},
   "outputs": [
    {
     "data": {
      "text/html": [
       "<div>\n",
       "<style scoped>\n",
       "    .dataframe tbody tr th:only-of-type {\n",
       "        vertical-align: middle;\n",
       "    }\n",
       "\n",
       "    .dataframe tbody tr th {\n",
       "        vertical-align: top;\n",
       "    }\n",
       "\n",
       "    .dataframe thead th {\n",
       "        text-align: right;\n",
       "    }\n",
       "</style>\n",
       "<table border=\"1\" class=\"dataframe\">\n",
       "  <thead>\n",
       "    <tr style=\"text-align: right;\">\n",
       "      <th></th>\n",
       "      <th>bike_id</th>\n",
       "      <th>duration_sec</th>\n",
       "      <th>start_time</th>\n",
       "      <th>end_time</th>\n",
       "      <th>start_station_id</th>\n",
       "      <th>start_station_name</th>\n",
       "      <th>start_station_latitude</th>\n",
       "      <th>start_station_longitude</th>\n",
       "      <th>end_station_id</th>\n",
       "      <th>end_station_name</th>\n",
       "      <th>end_station_latitude</th>\n",
       "      <th>end_station_longitude</th>\n",
       "      <th>user_type</th>\n",
       "      <th>bike_share_for_all_trip</th>\n",
       "      <th>member_gender</th>\n",
       "      <th>member_birth_year</th>\n",
       "    </tr>\n",
       "  </thead>\n",
       "  <tbody>\n",
       "    <tr>\n",
       "      <th>228312</th>\n",
       "      <td>1612</td>\n",
       "      <td>2365</td>\n",
       "      <td>2019-04-30 18:21:42.610</td>\n",
       "      <td>2019-04-30 19:01:08.146</td>\n",
       "      <td>50</td>\n",
       "      <td>2nd St at Townsend St</td>\n",
       "      <td>37.780526</td>\n",
       "      <td>-122.390288</td>\n",
       "      <td>420</td>\n",
       "      <td>SF Test Station</td>\n",
       "      <td>0.0</td>\n",
       "      <td>0.0</td>\n",
       "      <td>Subscriber</td>\n",
       "      <td>No</td>\n",
       "      <td>Female</td>\n",
       "      <td>1995</td>\n",
       "    </tr>\n",
       "    <tr>\n",
       "      <th>229051</th>\n",
       "      <td>3507</td>\n",
       "      <td>1964</td>\n",
       "      <td>2019-04-30 17:31:19.646</td>\n",
       "      <td>2019-04-30 18:04:04.518</td>\n",
       "      <td>98</td>\n",
       "      <td>Valencia St at 16th St</td>\n",
       "      <td>37.765052</td>\n",
       "      <td>-122.421866</td>\n",
       "      <td>420</td>\n",
       "      <td>SF Test Station</td>\n",
       "      <td>0.0</td>\n",
       "      <td>0.0</td>\n",
       "      <td>Subscriber</td>\n",
       "      <td>No</td>\n",
       "      <td>Female</td>\n",
       "      <td>1981</td>\n",
       "    </tr>\n",
       "    <tr>\n",
       "      <th>229203</th>\n",
       "      <td>1142</td>\n",
       "      <td>546</td>\n",
       "      <td>2019-04-30 17:45:38.452</td>\n",
       "      <td>2019-04-30 17:54:45.258</td>\n",
       "      <td>370</td>\n",
       "      <td>Jones St at Post St</td>\n",
       "      <td>37.787327</td>\n",
       "      <td>-122.413278</td>\n",
       "      <td>420</td>\n",
       "      <td>SF Test Station</td>\n",
       "      <td>0.0</td>\n",
       "      <td>0.0</td>\n",
       "      <td>Subscriber</td>\n",
       "      <td>Yes</td>\n",
       "      <td>Female</td>\n",
       "      <td>1991</td>\n",
       "    </tr>\n",
       "    <tr>\n",
       "      <th>229277</th>\n",
       "      <td>3500</td>\n",
       "      <td>630</td>\n",
       "      <td>2019-04-30 17:39:33.507</td>\n",
       "      <td>2019-04-30 17:50:04.314</td>\n",
       "      <td>21</td>\n",
       "      <td>Montgomery St BART Station (Market St at 2nd St)</td>\n",
       "      <td>37.789625</td>\n",
       "      <td>-122.400811</td>\n",
       "      <td>420</td>\n",
       "      <td>SF Test Station</td>\n",
       "      <td>0.0</td>\n",
       "      <td>0.0</td>\n",
       "      <td>Subscriber</td>\n",
       "      <td>No</td>\n",
       "      <td>Male</td>\n",
       "      <td>1991</td>\n",
       "    </tr>\n",
       "    <tr>\n",
       "      <th>229713</th>\n",
       "      <td>1181</td>\n",
       "      <td>433</td>\n",
       "      <td>2019-04-30 17:17:10.486</td>\n",
       "      <td>2019-04-30 17:24:23.919</td>\n",
       "      <td>11</td>\n",
       "      <td>Davis St at Jackson St</td>\n",
       "      <td>37.797280</td>\n",
       "      <td>-122.398436</td>\n",
       "      <td>420</td>\n",
       "      <td>SF Test Station</td>\n",
       "      <td>0.0</td>\n",
       "      <td>0.0</td>\n",
       "      <td>Subscriber</td>\n",
       "      <td>No</td>\n",
       "      <td>Male</td>\n",
       "      <td>1995</td>\n",
       "    </tr>\n",
       "    <tr>\n",
       "      <th>229792</th>\n",
       "      <td>2535</td>\n",
       "      <td>1233</td>\n",
       "      <td>2019-04-30 16:58:41.209</td>\n",
       "      <td>2019-04-30 17:19:14.689</td>\n",
       "      <td>81</td>\n",
       "      <td>Berry St at 4th St</td>\n",
       "      <td>37.775880</td>\n",
       "      <td>-122.393170</td>\n",
       "      <td>420</td>\n",
       "      <td>SF Test Station</td>\n",
       "      <td>0.0</td>\n",
       "      <td>0.0</td>\n",
       "      <td>Subscriber</td>\n",
       "      <td>No</td>\n",
       "      <td>Male</td>\n",
       "      <td>1970</td>\n",
       "    </tr>\n",
       "    <tr>\n",
       "      <th>229823</th>\n",
       "      <td>462</td>\n",
       "      <td>1306</td>\n",
       "      <td>2019-04-30 16:55:35.924</td>\n",
       "      <td>2019-04-30 17:17:22.162</td>\n",
       "      <td>80</td>\n",
       "      <td>Townsend St at 5th St</td>\n",
       "      <td>37.775235</td>\n",
       "      <td>-122.397437</td>\n",
       "      <td>420</td>\n",
       "      <td>SF Test Station</td>\n",
       "      <td>0.0</td>\n",
       "      <td>0.0</td>\n",
       "      <td>Subscriber</td>\n",
       "      <td>No</td>\n",
       "      <td>Male</td>\n",
       "      <td>1992</td>\n",
       "    </tr>\n",
       "    <tr>\n",
       "      <th>230101</th>\n",
       "      <td>1880</td>\n",
       "      <td>764</td>\n",
       "      <td>2019-04-30 16:44:12.351</td>\n",
       "      <td>2019-04-30 16:56:56.539</td>\n",
       "      <td>16</td>\n",
       "      <td>Steuart St at Market St</td>\n",
       "      <td>37.794130</td>\n",
       "      <td>-122.394430</td>\n",
       "      <td>420</td>\n",
       "      <td>SF Test Station</td>\n",
       "      <td>0.0</td>\n",
       "      <td>0.0</td>\n",
       "      <td>Customer</td>\n",
       "      <td>No</td>\n",
       "      <td>Male</td>\n",
       "      <td>1976</td>\n",
       "    </tr>\n",
       "    <tr>\n",
       "      <th>241904</th>\n",
       "      <td>150</td>\n",
       "      <td>1491</td>\n",
       "      <td>2019-04-28 18:40:41.288</td>\n",
       "      <td>2019-04-28 19:05:33.063</td>\n",
       "      <td>377</td>\n",
       "      <td>Fell St at Stanyan St</td>\n",
       "      <td>37.771917</td>\n",
       "      <td>-122.453704</td>\n",
       "      <td>420</td>\n",
       "      <td>SF Test Station</td>\n",
       "      <td>0.0</td>\n",
       "      <td>0.0</td>\n",
       "      <td>Customer</td>\n",
       "      <td>No</td>\n",
       "      <td>Male</td>\n",
       "      <td>1981</td>\n",
       "    </tr>\n",
       "    <tr>\n",
       "      <th>241956</th>\n",
       "      <td>311</td>\n",
       "      <td>680</td>\n",
       "      <td>2019-04-28 18:40:08.324</td>\n",
       "      <td>2019-04-28 18:51:28.357</td>\n",
       "      <td>139</td>\n",
       "      <td>Garfield Square (25th St at Harrison St)</td>\n",
       "      <td>37.751017</td>\n",
       "      <td>-122.411901</td>\n",
       "      <td>420</td>\n",
       "      <td>SF Test Station</td>\n",
       "      <td>0.0</td>\n",
       "      <td>0.0</td>\n",
       "      <td>Subscriber</td>\n",
       "      <td>No</td>\n",
       "      <td>Female</td>\n",
       "      <td>1981</td>\n",
       "    </tr>\n",
       "    <tr>\n",
       "      <th>242061</th>\n",
       "      <td>333</td>\n",
       "      <td>764</td>\n",
       "      <td>2019-04-28 18:10:38.170</td>\n",
       "      <td>2019-04-28 18:23:22.476</td>\n",
       "      <td>412</td>\n",
       "      <td>Glen Park BART Station</td>\n",
       "      <td>37.732813</td>\n",
       "      <td>-122.434140</td>\n",
       "      <td>420</td>\n",
       "      <td>SF Test Station</td>\n",
       "      <td>0.0</td>\n",
       "      <td>0.0</td>\n",
       "      <td>Customer</td>\n",
       "      <td>No</td>\n",
       "      <td>Male</td>\n",
       "      <td>1989</td>\n",
       "    </tr>\n",
       "    <tr>\n",
       "      <th>242062</th>\n",
       "      <td>2760</td>\n",
       "      <td>904</td>\n",
       "      <td>2019-04-28 18:08:13.576</td>\n",
       "      <td>2019-04-28 18:23:18.367</td>\n",
       "      <td>412</td>\n",
       "      <td>Glen Park BART Station</td>\n",
       "      <td>37.732813</td>\n",
       "      <td>-122.434140</td>\n",
       "      <td>420</td>\n",
       "      <td>SF Test Station</td>\n",
       "      <td>0.0</td>\n",
       "      <td>0.0</td>\n",
       "      <td>Customer</td>\n",
       "      <td>No</td>\n",
       "      <td>Male</td>\n",
       "      <td>1989</td>\n",
       "    </tr>\n",
       "    <tr>\n",
       "      <th>242090</th>\n",
       "      <td>3632</td>\n",
       "      <td>1501</td>\n",
       "      <td>2019-04-28 17:52:27.345</td>\n",
       "      <td>2019-04-28 18:17:28.410</td>\n",
       "      <td>377</td>\n",
       "      <td>Fell St at Stanyan St</td>\n",
       "      <td>37.771917</td>\n",
       "      <td>-122.453704</td>\n",
       "      <td>420</td>\n",
       "      <td>SF Test Station</td>\n",
       "      <td>0.0</td>\n",
       "      <td>0.0</td>\n",
       "      <td>Subscriber</td>\n",
       "      <td>No</td>\n",
       "      <td>Male</td>\n",
       "      <td>1997</td>\n",
       "    </tr>\n",
       "    <tr>\n",
       "      <th>242091</th>\n",
       "      <td>901</td>\n",
       "      <td>1503</td>\n",
       "      <td>2019-04-28 17:52:22.210</td>\n",
       "      <td>2019-04-28 18:17:25.545</td>\n",
       "      <td>377</td>\n",
       "      <td>Fell St at Stanyan St</td>\n",
       "      <td>37.771917</td>\n",
       "      <td>-122.453704</td>\n",
       "      <td>420</td>\n",
       "      <td>SF Test Station</td>\n",
       "      <td>0.0</td>\n",
       "      <td>0.0</td>\n",
       "      <td>Subscriber</td>\n",
       "      <td>No</td>\n",
       "      <td>Male</td>\n",
       "      <td>1995</td>\n",
       "    </tr>\n",
       "    <tr>\n",
       "      <th>242108</th>\n",
       "      <td>536</td>\n",
       "      <td>840</td>\n",
       "      <td>2019-04-28 18:00:23.567</td>\n",
       "      <td>2019-04-28 18:14:23.599</td>\n",
       "      <td>88</td>\n",
       "      <td>11th St at Bryant St</td>\n",
       "      <td>37.770030</td>\n",
       "      <td>-122.411726</td>\n",
       "      <td>420</td>\n",
       "      <td>SF Test Station</td>\n",
       "      <td>0.0</td>\n",
       "      <td>0.0</td>\n",
       "      <td>Subscriber</td>\n",
       "      <td>No</td>\n",
       "      <td>Male</td>\n",
       "      <td>1981</td>\n",
       "    </tr>\n",
       "    <tr>\n",
       "      <th>265975</th>\n",
       "      <td>3498</td>\n",
       "      <td>195</td>\n",
       "      <td>2019-04-24 16:53:35.591</td>\n",
       "      <td>2019-04-24 16:56:51.006</td>\n",
       "      <td>104</td>\n",
       "      <td>4th St at 16th St</td>\n",
       "      <td>37.767045</td>\n",
       "      <td>-122.390833</td>\n",
       "      <td>420</td>\n",
       "      <td>SF Test Station</td>\n",
       "      <td>0.0</td>\n",
       "      <td>0.0</td>\n",
       "      <td>Subscriber</td>\n",
       "      <td>No</td>\n",
       "      <td>Female</td>\n",
       "      <td>1970</td>\n",
       "    </tr>\n",
       "    <tr>\n",
       "      <th>274511</th>\n",
       "      <td>1768</td>\n",
       "      <td>921</td>\n",
       "      <td>2019-04-23 13:14:09.492</td>\n",
       "      <td>2019-04-23 13:29:31.333</td>\n",
       "      <td>20</td>\n",
       "      <td>Mechanics Monument Plaza (Market St at Bush St)</td>\n",
       "      <td>37.791300</td>\n",
       "      <td>-122.399051</td>\n",
       "      <td>420</td>\n",
       "      <td>SF Test Station</td>\n",
       "      <td>0.0</td>\n",
       "      <td>0.0</td>\n",
       "      <td>Subscriber</td>\n",
       "      <td>No</td>\n",
       "      <td>Male</td>\n",
       "      <td>1967</td>\n",
       "    </tr>\n",
       "    <tr>\n",
       "      <th>310743</th>\n",
       "      <td>1939</td>\n",
       "      <td>912</td>\n",
       "      <td>2019-04-17 09:30:11.764</td>\n",
       "      <td>2019-04-17 09:45:24.263</td>\n",
       "      <td>399</td>\n",
       "      <td>Bay St at Fillmore St</td>\n",
       "      <td>37.802636</td>\n",
       "      <td>-122.436289</td>\n",
       "      <td>420</td>\n",
       "      <td>SF Test Station</td>\n",
       "      <td>0.0</td>\n",
       "      <td>0.0</td>\n",
       "      <td>Subscriber</td>\n",
       "      <td>No</td>\n",
       "      <td>Male</td>\n",
       "      <td>1982</td>\n",
       "    </tr>\n",
       "  </tbody>\n",
       "</table>\n",
       "</div>"
      ],
      "text/plain": [
       "        bike_id  duration_sec              start_time                end_time  \\\n",
       "228312     1612          2365 2019-04-30 18:21:42.610 2019-04-30 19:01:08.146   \n",
       "229051     3507          1964 2019-04-30 17:31:19.646 2019-04-30 18:04:04.518   \n",
       "229203     1142           546 2019-04-30 17:45:38.452 2019-04-30 17:54:45.258   \n",
       "229277     3500           630 2019-04-30 17:39:33.507 2019-04-30 17:50:04.314   \n",
       "229713     1181           433 2019-04-30 17:17:10.486 2019-04-30 17:24:23.919   \n",
       "229792     2535          1233 2019-04-30 16:58:41.209 2019-04-30 17:19:14.689   \n",
       "229823      462          1306 2019-04-30 16:55:35.924 2019-04-30 17:17:22.162   \n",
       "230101     1880           764 2019-04-30 16:44:12.351 2019-04-30 16:56:56.539   \n",
       "241904      150          1491 2019-04-28 18:40:41.288 2019-04-28 19:05:33.063   \n",
       "241956      311           680 2019-04-28 18:40:08.324 2019-04-28 18:51:28.357   \n",
       "242061      333           764 2019-04-28 18:10:38.170 2019-04-28 18:23:22.476   \n",
       "242062     2760           904 2019-04-28 18:08:13.576 2019-04-28 18:23:18.367   \n",
       "242090     3632          1501 2019-04-28 17:52:27.345 2019-04-28 18:17:28.410   \n",
       "242091      901          1503 2019-04-28 17:52:22.210 2019-04-28 18:17:25.545   \n",
       "242108      536           840 2019-04-28 18:00:23.567 2019-04-28 18:14:23.599   \n",
       "265975     3498           195 2019-04-24 16:53:35.591 2019-04-24 16:56:51.006   \n",
       "274511     1768           921 2019-04-23 13:14:09.492 2019-04-23 13:29:31.333   \n",
       "310743     1939           912 2019-04-17 09:30:11.764 2019-04-17 09:45:24.263   \n",
       "\n",
       "        start_station_id                                start_station_name  \\\n",
       "228312                50                             2nd St at Townsend St   \n",
       "229051                98                            Valencia St at 16th St   \n",
       "229203               370                               Jones St at Post St   \n",
       "229277                21  Montgomery St BART Station (Market St at 2nd St)   \n",
       "229713                11                            Davis St at Jackson St   \n",
       "229792                81                                Berry St at 4th St   \n",
       "229823                80                             Townsend St at 5th St   \n",
       "230101                16                           Steuart St at Market St   \n",
       "241904               377                             Fell St at Stanyan St   \n",
       "241956               139          Garfield Square (25th St at Harrison St)   \n",
       "242061               412                            Glen Park BART Station   \n",
       "242062               412                            Glen Park BART Station   \n",
       "242090               377                             Fell St at Stanyan St   \n",
       "242091               377                             Fell St at Stanyan St   \n",
       "242108                88                              11th St at Bryant St   \n",
       "265975               104                                 4th St at 16th St   \n",
       "274511                20   Mechanics Monument Plaza (Market St at Bush St)   \n",
       "310743               399                             Bay St at Fillmore St   \n",
       "\n",
       "        start_station_latitude  start_station_longitude  end_station_id  \\\n",
       "228312               37.780526              -122.390288             420   \n",
       "229051               37.765052              -122.421866             420   \n",
       "229203               37.787327              -122.413278             420   \n",
       "229277               37.789625              -122.400811             420   \n",
       "229713               37.797280              -122.398436             420   \n",
       "229792               37.775880              -122.393170             420   \n",
       "229823               37.775235              -122.397437             420   \n",
       "230101               37.794130              -122.394430             420   \n",
       "241904               37.771917              -122.453704             420   \n",
       "241956               37.751017              -122.411901             420   \n",
       "242061               37.732813              -122.434140             420   \n",
       "242062               37.732813              -122.434140             420   \n",
       "242090               37.771917              -122.453704             420   \n",
       "242091               37.771917              -122.453704             420   \n",
       "242108               37.770030              -122.411726             420   \n",
       "265975               37.767045              -122.390833             420   \n",
       "274511               37.791300              -122.399051             420   \n",
       "310743               37.802636              -122.436289             420   \n",
       "\n",
       "       end_station_name  end_station_latitude  end_station_longitude  \\\n",
       "228312  SF Test Station                   0.0                    0.0   \n",
       "229051  SF Test Station                   0.0                    0.0   \n",
       "229203  SF Test Station                   0.0                    0.0   \n",
       "229277  SF Test Station                   0.0                    0.0   \n",
       "229713  SF Test Station                   0.0                    0.0   \n",
       "229792  SF Test Station                   0.0                    0.0   \n",
       "229823  SF Test Station                   0.0                    0.0   \n",
       "230101  SF Test Station                   0.0                    0.0   \n",
       "241904  SF Test Station                   0.0                    0.0   \n",
       "241956  SF Test Station                   0.0                    0.0   \n",
       "242061  SF Test Station                   0.0                    0.0   \n",
       "242062  SF Test Station                   0.0                    0.0   \n",
       "242090  SF Test Station                   0.0                    0.0   \n",
       "242091  SF Test Station                   0.0                    0.0   \n",
       "242108  SF Test Station                   0.0                    0.0   \n",
       "265975  SF Test Station                   0.0                    0.0   \n",
       "274511  SF Test Station                   0.0                    0.0   \n",
       "310743  SF Test Station                   0.0                    0.0   \n",
       "\n",
       "         user_type bike_share_for_all_trip member_gender  member_birth_year  \n",
       "228312  Subscriber                      No        Female               1995  \n",
       "229051  Subscriber                      No        Female               1981  \n",
       "229203  Subscriber                     Yes        Female               1991  \n",
       "229277  Subscriber                      No          Male               1991  \n",
       "229713  Subscriber                      No          Male               1995  \n",
       "229792  Subscriber                      No          Male               1970  \n",
       "229823  Subscriber                      No          Male               1992  \n",
       "230101    Customer                      No          Male               1976  \n",
       "241904    Customer                      No          Male               1981  \n",
       "241956  Subscriber                      No        Female               1981  \n",
       "242061    Customer                      No          Male               1989  \n",
       "242062    Customer                      No          Male               1989  \n",
       "242090  Subscriber                      No          Male               1997  \n",
       "242091  Subscriber                      No          Male               1995  \n",
       "242108  Subscriber                      No          Male               1981  \n",
       "265975  Subscriber                      No        Female               1970  \n",
       "274511  Subscriber                      No          Male               1967  \n",
       "310743  Subscriber                      No          Male               1982  "
      ]
     },
     "execution_count": 129,
     "metadata": {},
     "output_type": "execute_result"
    }
   ],
   "source": [
    "# End station longitude test lower limit\n",
    "df.query('end_station_longitude > -121')"
   ]
  },
  {
   "cell_type": "code",
   "execution_count": 130,
   "metadata": {},
   "outputs": [
    {
     "data": {
      "text/html": [
       "<div>\n",
       "<style scoped>\n",
       "    .dataframe tbody tr th:only-of-type {\n",
       "        vertical-align: middle;\n",
       "    }\n",
       "\n",
       "    .dataframe tbody tr th {\n",
       "        vertical-align: top;\n",
       "    }\n",
       "\n",
       "    .dataframe thead th {\n",
       "        text-align: right;\n",
       "    }\n",
       "</style>\n",
       "<table border=\"1\" class=\"dataframe\">\n",
       "  <thead>\n",
       "    <tr style=\"text-align: right;\">\n",
       "      <th></th>\n",
       "      <th>bike_id</th>\n",
       "      <th>duration_sec</th>\n",
       "      <th>start_time</th>\n",
       "      <th>end_time</th>\n",
       "      <th>start_station_id</th>\n",
       "      <th>start_station_name</th>\n",
       "      <th>start_station_latitude</th>\n",
       "      <th>start_station_longitude</th>\n",
       "      <th>end_station_id</th>\n",
       "      <th>end_station_name</th>\n",
       "      <th>end_station_latitude</th>\n",
       "      <th>end_station_longitude</th>\n",
       "      <th>user_type</th>\n",
       "      <th>bike_share_for_all_trip</th>\n",
       "      <th>member_gender</th>\n",
       "      <th>member_birth_year</th>\n",
       "    </tr>\n",
       "  </thead>\n",
       "  <tbody>\n",
       "  </tbody>\n",
       "</table>\n",
       "</div>"
      ],
      "text/plain": [
       "Empty DataFrame\n",
       "Columns: [bike_id, duration_sec, start_time, end_time, start_station_id, start_station_name, start_station_latitude, start_station_longitude, end_station_id, end_station_name, end_station_latitude, end_station_longitude, user_type, bike_share_for_all_trip, member_gender, member_birth_year]\n",
       "Index: []"
      ]
     },
     "execution_count": 130,
     "metadata": {},
     "output_type": "execute_result"
    }
   ],
   "source": [
    "# End station longitude test lower limit\n",
    "df.query('end_station_longitude < -123')"
   ]
  },
  {
   "cell_type": "code",
   "execution_count": 131,
   "metadata": {},
   "outputs": [],
   "source": [
    "# Drop all rows where start station name is \"SF Test Station\"\n",
    "df = df.query('start_station_name != \"SF Test Station\"')"
   ]
  },
  {
   "cell_type": "code",
   "execution_count": 132,
   "metadata": {},
   "outputs": [],
   "source": [
    "# Drop all rows where end station name is \"SF Test Station\"\n",
    "df = df.query('end_station_name != \"SF Test Station\"')"
   ]
  },
  {
   "cell_type": "markdown",
   "metadata": {},
   "source": [
    "#### Test"
   ]
  },
  {
   "cell_type": "code",
   "execution_count": 133,
   "metadata": {
    "scrolled": true
   },
   "outputs": [
    {
     "data": {
      "text/html": [
       "<div>\n",
       "<style scoped>\n",
       "    .dataframe tbody tr th:only-of-type {\n",
       "        vertical-align: middle;\n",
       "    }\n",
       "\n",
       "    .dataframe tbody tr th {\n",
       "        vertical-align: top;\n",
       "    }\n",
       "\n",
       "    .dataframe thead th {\n",
       "        text-align: right;\n",
       "    }\n",
       "</style>\n",
       "<table border=\"1\" class=\"dataframe\">\n",
       "  <thead>\n",
       "    <tr style=\"text-align: right;\">\n",
       "      <th></th>\n",
       "      <th>bike_id</th>\n",
       "      <th>duration_sec</th>\n",
       "      <th>start_time</th>\n",
       "      <th>end_time</th>\n",
       "      <th>start_station_id</th>\n",
       "      <th>start_station_name</th>\n",
       "      <th>start_station_latitude</th>\n",
       "      <th>start_station_longitude</th>\n",
       "      <th>end_station_id</th>\n",
       "      <th>end_station_name</th>\n",
       "      <th>end_station_latitude</th>\n",
       "      <th>end_station_longitude</th>\n",
       "      <th>user_type</th>\n",
       "      <th>bike_share_for_all_trip</th>\n",
       "      <th>member_gender</th>\n",
       "      <th>member_birth_year</th>\n",
       "    </tr>\n",
       "  </thead>\n",
       "  <tbody>\n",
       "  </tbody>\n",
       "</table>\n",
       "</div>"
      ],
      "text/plain": [
       "Empty DataFrame\n",
       "Columns: [bike_id, duration_sec, start_time, end_time, start_station_id, start_station_name, start_station_latitude, start_station_longitude, end_station_id, end_station_name, end_station_latitude, end_station_longitude, user_type, bike_share_for_all_trip, member_gender, member_birth_year]\n",
       "Index: []"
      ]
     },
     "execution_count": 133,
     "metadata": {},
     "output_type": "execute_result"
    }
   ],
   "source": [
    "# Confirm SF Test Station no longer exists as a start station name\n",
    "df.query('start_station_name == \"SF Test Station\"')"
   ]
  },
  {
   "cell_type": "code",
   "execution_count": 134,
   "metadata": {},
   "outputs": [
    {
     "data": {
      "text/html": [
       "<div>\n",
       "<style scoped>\n",
       "    .dataframe tbody tr th:only-of-type {\n",
       "        vertical-align: middle;\n",
       "    }\n",
       "\n",
       "    .dataframe tbody tr th {\n",
       "        vertical-align: top;\n",
       "    }\n",
       "\n",
       "    .dataframe thead th {\n",
       "        text-align: right;\n",
       "    }\n",
       "</style>\n",
       "<table border=\"1\" class=\"dataframe\">\n",
       "  <thead>\n",
       "    <tr style=\"text-align: right;\">\n",
       "      <th></th>\n",
       "      <th>bike_id</th>\n",
       "      <th>duration_sec</th>\n",
       "      <th>start_time</th>\n",
       "      <th>end_time</th>\n",
       "      <th>start_station_id</th>\n",
       "      <th>start_station_name</th>\n",
       "      <th>start_station_latitude</th>\n",
       "      <th>start_station_longitude</th>\n",
       "      <th>end_station_id</th>\n",
       "      <th>end_station_name</th>\n",
       "      <th>end_station_latitude</th>\n",
       "      <th>end_station_longitude</th>\n",
       "      <th>user_type</th>\n",
       "      <th>bike_share_for_all_trip</th>\n",
       "      <th>member_gender</th>\n",
       "      <th>member_birth_year</th>\n",
       "    </tr>\n",
       "  </thead>\n",
       "  <tbody>\n",
       "  </tbody>\n",
       "</table>\n",
       "</div>"
      ],
      "text/plain": [
       "Empty DataFrame\n",
       "Columns: [bike_id, duration_sec, start_time, end_time, start_station_id, start_station_name, start_station_latitude, start_station_longitude, end_station_id, end_station_name, end_station_latitude, end_station_longitude, user_type, bike_share_for_all_trip, member_gender, member_birth_year]\n",
       "Index: []"
      ]
     },
     "execution_count": 134,
     "metadata": {},
     "output_type": "execute_result"
    }
   ],
   "source": [
    "# Confirm SF Test Station no longer exists as an end station name\n",
    "df.query('end_station_name == \"SF Test Station\"')"
   ]
  },
  {
   "cell_type": "code",
   "execution_count": 135,
   "metadata": {
    "scrolled": true
   },
   "outputs": [
    {
     "data": {
      "text/plain": [
       "3197652"
      ]
     },
     "execution_count": 135,
     "metadata": {},
     "output_type": "execute_result"
    }
   ],
   "source": [
    "# Confirm the length of df\n",
    "len(df)"
   ]
  },
  {
   "cell_type": "code",
   "execution_count": 136,
   "metadata": {},
   "outputs": [],
   "source": [
    "df.to_csv('/Users/mattames/Desktop/ford_gobike/all_bikeshare_datasets/cleaned_datasets/master-dataset-v3.csv', index=False)"
   ]
  },
  {
   "cell_type": "markdown",
   "metadata": {},
   "source": [
    "## Univariate Exploration"
   ]
  },
  {
   "cell_type": "markdown",
   "metadata": {},
   "source": [
    "### Trip Duration"
   ]
  },
  {
   "cell_type": "markdown",
   "metadata": {},
   "source": [
    "#### Histogram of durations"
   ]
  },
  {
   "cell_type": "code",
   "execution_count": 137,
   "metadata": {},
   "outputs": [
    {
     "data": {
      "image/png": "[encoded data removed]",
      "text/plain": [
       "<Figure size 432x288 with 1 Axes>"
      ]
     },
     "metadata": {
      "needs_background": "light"
     },
     "output_type": "display_data"
    }
   ],
   "source": [
    "sns.distplot(df[\"duration_sec\"]);"
   ]
  },
  {
   "cell_type": "markdown",
   "metadata": {},
   "source": [
    "#### Define\n",
    "\n",
    "Clearly the data is massively skewed towards smaller trip durations and these outlying trip durations prevent us from understanding the bulk of the data. Also, viewing in terms of seconds is not intuitive, feature engineer a duration_min column and plot accordingly."
   ]
  },
  {
   "cell_type": "markdown",
   "metadata": {},
   "source": [
    "#### Code"
   ]
  },
  {
   "cell_type": "code",
   "execution_count": 138,
   "metadata": {},
   "outputs": [],
   "source": [
    "df['duration_min'] = df['duration_sec']/60"
   ]
  },
  {
   "cell_type": "markdown",
   "metadata": {},
   "source": [
    "#### Test"
   ]
  },
  {
   "cell_type": "code",
   "execution_count": 139,
   "metadata": {},
   "outputs": [
    {
     "data": {
      "text/html": [
       "<div>\n",
       "<style scoped>\n",
       "    .dataframe tbody tr th:only-of-type {\n",
       "        vertical-align: middle;\n",
       "    }\n",
       "\n",
       "    .dataframe tbody tr th {\n",
       "        vertical-align: top;\n",
       "    }\n",
       "\n",
       "    .dataframe thead th {\n",
       "        text-align: right;\n",
       "    }\n",
       "</style>\n",
       "<table border=\"1\" class=\"dataframe\">\n",
       "  <thead>\n",
       "    <tr style=\"text-align: right;\">\n",
       "      <th></th>\n",
       "      <th>bike_id</th>\n",
       "      <th>duration_sec</th>\n",
       "      <th>start_time</th>\n",
       "      <th>end_time</th>\n",
       "      <th>start_station_id</th>\n",
       "      <th>start_station_name</th>\n",
       "      <th>start_station_latitude</th>\n",
       "      <th>start_station_longitude</th>\n",
       "      <th>end_station_id</th>\n",
       "      <th>end_station_name</th>\n",
       "      <th>end_station_latitude</th>\n",
       "      <th>end_station_longitude</th>\n",
       "      <th>user_type</th>\n",
       "      <th>bike_share_for_all_trip</th>\n",
       "      <th>member_gender</th>\n",
       "      <th>member_birth_year</th>\n",
       "      <th>duration_min</th>\n",
       "    </tr>\n",
       "  </thead>\n",
       "  <tbody>\n",
       "    <tr>\n",
       "      <th>0</th>\n",
       "      <td>1035</td>\n",
       "      <td>598</td>\n",
       "      <td>2018-02-28 23:59:47.097</td>\n",
       "      <td>2018-03-01 00:09:45.187</td>\n",
       "      <td>284</td>\n",
       "      <td>Yerba Buena Center for the Arts (Howard St at ...</td>\n",
       "      <td>37.784872</td>\n",
       "      <td>-122.400876</td>\n",
       "      <td>114</td>\n",
       "      <td>Rhode Island St at 17th St</td>\n",
       "      <td>37.764478</td>\n",
       "      <td>-122.40257</td>\n",
       "      <td>Subscriber</td>\n",
       "      <td>No</td>\n",
       "      <td>Male</td>\n",
       "      <td>1988</td>\n",
       "      <td>9.966667</td>\n",
       "    </tr>\n",
       "  </tbody>\n",
       "</table>\n",
       "</div>"
      ],
      "text/plain": [
       "   bike_id  duration_sec              start_time                end_time  \\\n",
       "0     1035           598 2018-02-28 23:59:47.097 2018-03-01 00:09:45.187   \n",
       "\n",
       "   start_station_id                                 start_station_name  \\\n",
       "0               284  Yerba Buena Center for the Arts (Howard St at ...   \n",
       "\n",
       "   start_station_latitude  start_station_longitude  end_station_id  \\\n",
       "0               37.784872              -122.400876             114   \n",
       "\n",
       "             end_station_name  end_station_latitude  end_station_longitude  \\\n",
       "0  Rhode Island St at 17th St             37.764478             -122.40257   \n",
       "\n",
       "    user_type bike_share_for_all_trip member_gender  member_birth_year  \\\n",
       "0  Subscriber                      No          Male               1988   \n",
       "\n",
       "   duration_min  \n",
       "0      9.966667  "
      ]
     },
     "execution_count": 139,
     "metadata": {},
     "output_type": "execute_result"
    }
   ],
   "source": [
    "# Confirm accurate calculation\n",
    "df.head(1)"
   ]
  },
  {
   "cell_type": "code",
   "execution_count": 140,
   "metadata": {},
   "outputs": [
    {
     "data": {
      "image/png": "[encoded data removed]",
      "text/plain": [
       "<Figure size 432x288 with 1 Axes>"
      ]
     },
     "metadata": {
      "needs_background": "light"
     },
     "output_type": "display_data"
    }
   ],
   "source": [
    "# Re-plot histogram, it should look the same as above but with different x-axis units\n",
    "sns.distplot(df[\"duration_min\"]);"
   ]
  },
  {
   "cell_type": "markdown",
   "metadata": {},
   "source": [
    "Considering that bike rentals for customers are priced according to a 30 min limit and subscribers at a 45 min limit, we will focus on a 2 hour trip duration max. This is a reasonable range based on the pricing system and the bulk of trip durations from the above chart."
   ]
  },
  {
   "cell_type": "markdown",
   "metadata": {},
   "source": [
    "#### Histogram of durations with focus on bulk of data"
   ]
  },
  {
   "cell_type": "code",
   "execution_count": 141,
   "metadata": {
    "scrolled": true
   },
   "outputs": [
    {
     "data": {
      "image/png": "[encoded data removed]",
      "text/plain": [
       "<Figure size 432x288 with 1 Axes>"
      ]
     },
     "metadata": {
      "needs_background": "light"
     },
     "output_type": "display_data"
    }
   ],
   "source": [
    "bin_edges = np.arange(0, df['duration_min'].max()+1, 1)\n",
    "sns.distplot(df['duration_min'], bins = bin_edges, kde = False,\n",
    "            hist_kws = {'alpha' : 1})\n",
    "plt.xlim((0,120));"
   ]
  },
  {
   "cell_type": "markdown",
   "metadata": {},
   "source": [
    "#### Insight:\n",
    " - The vast majority of bike rides fall between 2 and 20 minutes. Does a 2 minute ride make sense? We should include the 1-3 minute bike rides for now because we don't know the distribution of stations yet. It is possible someone rented a bike and rode it to the next nearest station (for example, a quick 3 block trip down a large hill would be much more convenient than walking it), we will keep these trips in our analysis until we have addition information and can confidently exclude them.\n",
    " - The peak of our distribution is around 6 minutes. Due to this being much lower than anticipated, I am included to believe 2-4 minute trips are certainly possible and should not be removed."
   ]
  },
  {
   "cell_type": "markdown",
   "metadata": {},
   "source": [
    "### Birth Year"
   ]
  },
  {
   "cell_type": "markdown",
   "metadata": {},
   "source": [
    "#### Histogram of birth years"
   ]
  },
  {
   "cell_type": "code",
   "execution_count": 142,
   "metadata": {
    "scrolled": true
   },
   "outputs": [
    {
     "data": {
      "image/png": "[encoded data removed]",
      "text/plain": [
       "<Figure size 432x288 with 1 Axes>"
      ]
     },
     "metadata": {
      "needs_background": "light"
     },
     "output_type": "display_data"
    }
   ],
   "source": [
    "sns.distplot(df[\"member_birth_year\"]);"
   ]
  },
  {
   "cell_type": "markdown",
   "metadata": {},
   "source": [
    "#### Define\n",
    "Filter out impossible and unreasonable birth years.\n",
    "\n",
    " - The oldest living Californian is 112, so it is impossible for someone to be born before 1907. Additionally, we will drop riders above the age of 85 from our dataset for the sake of focusing on the most important trips and riders. It is possible that someone 85+ is using the bikes, but highly unlikely. Therefore, this extremely small portion of the data can be assumed unreliable. It is possible that these users are over 85, but also possible that these were input errors."
   ]
  },
  {
   "cell_type": "markdown",
   "metadata": {},
   "source": [
    "#### Code"
   ]
  },
  {
   "cell_type": "code",
   "execution_count": 143,
   "metadata": {
    "scrolled": true
   },
   "outputs": [],
   "source": [
    "df = df.query('member_birth_year > 1906')"
   ]
  },
  {
   "cell_type": "markdown",
   "metadata": {},
   "source": [
    "#### Test"
   ]
  },
  {
   "cell_type": "code",
   "execution_count": 144,
   "metadata": {},
   "outputs": [
    {
     "data": {
      "text/plain": [
       "count    3.195979e+06\n",
       "mean     1.983232e+03\n",
       "std      1.026731e+01\n",
       "min      1.907000e+03\n",
       "25%      1.978000e+03\n",
       "50%      1.986000e+03\n",
       "75%      1.991000e+03\n",
       "max      2.001000e+03\n",
       "Name: member_birth_year, dtype: float64"
      ]
     },
     "execution_count": 144,
     "metadata": {},
     "output_type": "execute_result"
    }
   ],
   "source": [
    "df.member_birth_year.describe()"
   ]
  },
  {
   "cell_type": "code",
   "execution_count": 145,
   "metadata": {},
   "outputs": [
    {
     "data": {
      "text/plain": [
       "3195979"
      ]
     },
     "execution_count": 145,
     "metadata": {},
     "output_type": "execute_result"
    }
   ],
   "source": [
    "len(df)"
   ]
  },
  {
   "cell_type": "markdown",
   "metadata": {},
   "source": [
    "#### Histogram of birth years with filtering"
   ]
  },
  {
   "cell_type": "code",
   "execution_count": 146,
   "metadata": {},
   "outputs": [
    {
     "data": {
      "image/png": "[encoded data removed]",
      "text/plain": [
       "<Figure size 432x288 with 1 Axes>"
      ]
     },
     "metadata": {
      "needs_background": "light"
     },
     "output_type": "display_data"
    }
   ],
   "source": [
    "# re-plot birth year distribution after making adjustments\n",
    "bin_edges = np.arange(0, df['member_birth_year'].max()+1, 1)\n",
    "sns.distplot(df['member_birth_year'], bins = bin_edges, kde = False,\n",
    "            hist_kws = {'alpha' : 1})\n",
    "plt.xlim((1933,2001));"
   ]
  },
  {
   "cell_type": "markdown",
   "metadata": {},
   "source": [
    "#### Define\n",
    "Plotting by birth year doesn't feel quite right, it would be more intuitive to plot by age so that it is more clearly shown that age increases from left to right. This will prevent potential misinterpretations by audiences."
   ]
  },
  {
   "cell_type": "markdown",
   "metadata": {},
   "source": [
    "#### Code"
   ]
  },
  {
   "cell_type": "code",
   "execution_count": 147,
   "metadata": {},
   "outputs": [],
   "source": [
    "df['age'] = 2019-df['member_birth_year']"
   ]
  },
  {
   "cell_type": "markdown",
   "metadata": {},
   "source": [
    "#### Test"
   ]
  },
  {
   "cell_type": "code",
   "execution_count": 148,
   "metadata": {
    "scrolled": true
   },
   "outputs": [
    {
     "data": {
      "text/html": [
       "<div>\n",
       "<style scoped>\n",
       "    .dataframe tbody tr th:only-of-type {\n",
       "        vertical-align: middle;\n",
       "    }\n",
       "\n",
       "    .dataframe tbody tr th {\n",
       "        vertical-align: top;\n",
       "    }\n",
       "\n",
       "    .dataframe thead th {\n",
       "        text-align: right;\n",
       "    }\n",
       "</style>\n",
       "<table border=\"1\" class=\"dataframe\">\n",
       "  <thead>\n",
       "    <tr style=\"text-align: right;\">\n",
       "      <th></th>\n",
       "      <th>bike_id</th>\n",
       "      <th>duration_sec</th>\n",
       "      <th>start_time</th>\n",
       "      <th>end_time</th>\n",
       "      <th>start_station_id</th>\n",
       "      <th>start_station_name</th>\n",
       "      <th>start_station_latitude</th>\n",
       "      <th>start_station_longitude</th>\n",
       "      <th>end_station_id</th>\n",
       "      <th>end_station_name</th>\n",
       "      <th>end_station_latitude</th>\n",
       "      <th>end_station_longitude</th>\n",
       "      <th>user_type</th>\n",
       "      <th>bike_share_for_all_trip</th>\n",
       "      <th>member_gender</th>\n",
       "      <th>member_birth_year</th>\n",
       "      <th>duration_min</th>\n",
       "      <th>age</th>\n",
       "    </tr>\n",
       "  </thead>\n",
       "  <tbody>\n",
       "    <tr>\n",
       "      <th>0</th>\n",
       "      <td>1035</td>\n",
       "      <td>598</td>\n",
       "      <td>2018-02-28 23:59:47.097</td>\n",
       "      <td>2018-03-01 00:09:45.187</td>\n",
       "      <td>284</td>\n",
       "      <td>Yerba Buena Center for the Arts (Howard St at ...</td>\n",
       "      <td>37.784872</td>\n",
       "      <td>-122.400876</td>\n",
       "      <td>114</td>\n",
       "      <td>Rhode Island St at 17th St</td>\n",
       "      <td>37.764478</td>\n",
       "      <td>-122.40257</td>\n",
       "      <td>Subscriber</td>\n",
       "      <td>No</td>\n",
       "      <td>Male</td>\n",
       "      <td>1988</td>\n",
       "      <td>9.966667</td>\n",
       "      <td>31</td>\n",
       "    </tr>\n",
       "  </tbody>\n",
       "</table>\n",
       "</div>"
      ],
      "text/plain": [
       "   bike_id  duration_sec              start_time                end_time  \\\n",
       "0     1035           598 2018-02-28 23:59:47.097 2018-03-01 00:09:45.187   \n",
       "\n",
       "   start_station_id                                 start_station_name  \\\n",
       "0               284  Yerba Buena Center for the Arts (Howard St at ...   \n",
       "\n",
       "   start_station_latitude  start_station_longitude  end_station_id  \\\n",
       "0               37.784872              -122.400876             114   \n",
       "\n",
       "             end_station_name  end_station_latitude  end_station_longitude  \\\n",
       "0  Rhode Island St at 17th St             37.764478             -122.40257   \n",
       "\n",
       "    user_type bike_share_for_all_trip member_gender  member_birth_year  \\\n",
       "0  Subscriber                      No          Male               1988   \n",
       "\n",
       "   duration_min  age  \n",
       "0      9.966667   31  "
      ]
     },
     "execution_count": 148,
     "metadata": {},
     "output_type": "execute_result"
    }
   ],
   "source": [
    "# Confirm accurate calculation\n",
    "df.head(1)"
   ]
  },
  {
   "cell_type": "markdown",
   "metadata": {},
   "source": [
    "#### Histogram of ages with filtering"
   ]
  },
  {
   "cell_type": "code",
   "execution_count": 149,
   "metadata": {
    "scrolled": false
   },
   "outputs": [
    {
     "data": {
      "image/png": "[encoded data removed]",
      "text/plain": [
       "<Figure size 432x288 with 1 Axes>"
      ]
     },
     "metadata": {
      "needs_background": "light"
     },
     "output_type": "display_data"
    }
   ],
   "source": [
    "# Re-plot birth year distribution using age variable\n",
    "bin_edges = np.arange(0, df['age'].max()+1, 1)\n",
    "sns.distplot(df['age'], bins = bin_edges, kde = False,\n",
    "            hist_kws = {'alpha' : 1})\n",
    "plt.xlim((18,85));"
   ]
  },
  {
   "cell_type": "markdown",
   "metadata": {},
   "source": [
    "#### Insight:\n",
    " - Users between the ages of 25 and 45 represent the bulk of trips\n",
    " - Peaks in the early 30s\n",
    " - Despite a general downward trend after the early 30s, there appears to be a slight resurgence in trip count around the mid 50s. This is worth a closer look."
   ]
  },
  {
   "cell_type": "markdown",
   "metadata": {},
   "source": [
    "### Gender"
   ]
  },
  {
   "cell_type": "markdown",
   "metadata": {},
   "source": [
    "#### Count of trips by gender"
   ]
  },
  {
   "cell_type": "code",
   "execution_count": 150,
   "metadata": {
    "scrolled": true
   },
   "outputs": [
    {
     "data": {
      "image/png": "[encoded data removed]",
      "text/plain": [
       "<Figure size 432x288 with 1 Axes>"
      ]
     },
     "metadata": {
      "needs_background": "light"
     },
     "output_type": "display_data"
    }
   ],
   "source": [
    "sns.countplot(data = df, x = 'member_gender');"
   ]
  },
  {
   "cell_type": "code",
   "execution_count": 151,
   "metadata": {},
   "outputs": [
    {
     "data": {
      "text/plain": [
       "0.7419125720162743"
      ]
     },
     "execution_count": 151,
     "metadata": {},
     "output_type": "execute_result"
    }
   ],
   "source": [
    "# Proportion of trips by males\n",
    "len(df.query('member_gender == \"Male\"'))/len(df)"
   ]
  },
  {
   "cell_type": "code",
   "execution_count": 152,
   "metadata": {},
   "outputs": [
    {
     "data": {
      "text/plain": [
       "0.2416592849953019"
      ]
     },
     "execution_count": 152,
     "metadata": {},
     "output_type": "execute_result"
    }
   ],
   "source": [
    "# Proportion of trips by females\n",
    "len(df.query('member_gender == \"Female\"'))/len(df)"
   ]
  },
  {
   "cell_type": "markdown",
   "metadata": {},
   "source": [
    "#### Insight:\n",
    " - 74% of all *trips* are male users, remember this data is the number of trips, not the number of customers. We cannot discover the proportions of customers or subscribers because we do not have rider IDs to track individual riders separate from trips.\n",
    " - According to the US Censuc Bureau SF's gender makeup is 49% female and 51% male. This is very different from our above statistic, so do the gender proportions of our users fit the US Census Bureau's statistics but our male rides use the bikes at a much higher rate? Or do our gender proportions by trip accurately represent out users and therefore women are much less likely to sign up for bike share to begin with? We cannot answer these questions with this dataset, however it is important to take note of this."
   ]
  },
  {
   "cell_type": "markdown",
   "metadata": {},
   "source": [
    "### Month of Year"
   ]
  },
  {
   "cell_type": "markdown",
   "metadata": {},
   "source": [
    "#### Define\n",
    "Feature engineer a new column for month"
   ]
  },
  {
   "cell_type": "markdown",
   "metadata": {},
   "source": [
    "#### Code"
   ]
  },
  {
   "cell_type": "code",
   "execution_count": 153,
   "metadata": {},
   "outputs": [],
   "source": [
    "df['month_of_year'] = df['start_time'].dt.month"
   ]
  },
  {
   "cell_type": "markdown",
   "metadata": {},
   "source": [
    "#### Test"
   ]
  },
  {
   "cell_type": "code",
   "execution_count": 154,
   "metadata": {
    "scrolled": false
   },
   "outputs": [
    {
     "data": {
      "text/html": [
       "<div>\n",
       "<style scoped>\n",
       "    .dataframe tbody tr th:only-of-type {\n",
       "        vertical-align: middle;\n",
       "    }\n",
       "\n",
       "    .dataframe tbody tr th {\n",
       "        vertical-align: top;\n",
       "    }\n",
       "\n",
       "    .dataframe thead th {\n",
       "        text-align: right;\n",
       "    }\n",
       "</style>\n",
       "<table border=\"1\" class=\"dataframe\">\n",
       "  <thead>\n",
       "    <tr style=\"text-align: right;\">\n",
       "      <th></th>\n",
       "      <th>bike_id</th>\n",
       "      <th>duration_sec</th>\n",
       "      <th>start_time</th>\n",
       "      <th>end_time</th>\n",
       "      <th>start_station_id</th>\n",
       "      <th>start_station_name</th>\n",
       "      <th>start_station_latitude</th>\n",
       "      <th>start_station_longitude</th>\n",
       "      <th>end_station_id</th>\n",
       "      <th>end_station_name</th>\n",
       "      <th>end_station_latitude</th>\n",
       "      <th>end_station_longitude</th>\n",
       "      <th>user_type</th>\n",
       "      <th>bike_share_for_all_trip</th>\n",
       "      <th>member_gender</th>\n",
       "      <th>member_birth_year</th>\n",
       "      <th>duration_min</th>\n",
       "      <th>age</th>\n",
       "      <th>month_of_year</th>\n",
       "    </tr>\n",
       "  </thead>\n",
       "  <tbody>\n",
       "    <tr>\n",
       "      <th>2778461</th>\n",
       "      <td>869</td>\n",
       "      <td>364</td>\n",
       "      <td>2018-10-03 18:40:31.627</td>\n",
       "      <td>2018-10-03 18:46:35.940</td>\n",
       "      <td>160</td>\n",
       "      <td>West Oakland BART Station</td>\n",
       "      <td>37.805318</td>\n",
       "      <td>-122.294837</td>\n",
       "      <td>218</td>\n",
       "      <td>DeFremery Park</td>\n",
       "      <td>37.812331</td>\n",
       "      <td>-122.285171</td>\n",
       "      <td>Subscriber</td>\n",
       "      <td>No</td>\n",
       "      <td>Male</td>\n",
       "      <td>1981</td>\n",
       "      <td>6.066667</td>\n",
       "      <td>38</td>\n",
       "      <td>10</td>\n",
       "    </tr>\n",
       "    <tr>\n",
       "      <th>1524670</th>\n",
       "      <td>247</td>\n",
       "      <td>287</td>\n",
       "      <td>2018-05-29 16:37:25.374</td>\n",
       "      <td>2018-05-29 16:42:13.229</td>\n",
       "      <td>16</td>\n",
       "      <td>Steuart St at Market St</td>\n",
       "      <td>37.794130</td>\n",
       "      <td>-122.394430</td>\n",
       "      <td>28</td>\n",
       "      <td>The Embarcadero at Bryant St</td>\n",
       "      <td>37.787168</td>\n",
       "      <td>-122.388098</td>\n",
       "      <td>Subscriber</td>\n",
       "      <td>No</td>\n",
       "      <td>Male</td>\n",
       "      <td>1965</td>\n",
       "      <td>4.783333</td>\n",
       "      <td>54</td>\n",
       "      <td>5</td>\n",
       "    </tr>\n",
       "    <tr>\n",
       "      <th>2207559</th>\n",
       "      <td>2665</td>\n",
       "      <td>555</td>\n",
       "      <td>2019-01-09 08:19:53.937</td>\n",
       "      <td>2019-01-09 08:29:09.476</td>\n",
       "      <td>16</td>\n",
       "      <td>Steuart St at Market St</td>\n",
       "      <td>37.794130</td>\n",
       "      <td>-122.394430</td>\n",
       "      <td>50</td>\n",
       "      <td>2nd St at Townsend St</td>\n",
       "      <td>37.780526</td>\n",
       "      <td>-122.390288</td>\n",
       "      <td>Subscriber</td>\n",
       "      <td>No</td>\n",
       "      <td>Male</td>\n",
       "      <td>1970</td>\n",
       "      <td>9.250000</td>\n",
       "      <td>49</td>\n",
       "      <td>1</td>\n",
       "    </tr>\n",
       "    <tr>\n",
       "      <th>1254959</th>\n",
       "      <td>3988</td>\n",
       "      <td>618</td>\n",
       "      <td>2018-06-02 16:45:56.100</td>\n",
       "      <td>2018-06-02 16:56:14.846</td>\n",
       "      <td>336</td>\n",
       "      <td>Potrero Ave and Mariposa St</td>\n",
       "      <td>37.763281</td>\n",
       "      <td>-122.407377</td>\n",
       "      <td>119</td>\n",
       "      <td>18th St at Noe St</td>\n",
       "      <td>37.761047</td>\n",
       "      <td>-122.432642</td>\n",
       "      <td>Subscriber</td>\n",
       "      <td>No</td>\n",
       "      <td>Male</td>\n",
       "      <td>1971</td>\n",
       "      <td>10.300000</td>\n",
       "      <td>48</td>\n",
       "      <td>6</td>\n",
       "    </tr>\n",
       "    <tr>\n",
       "      <th>1389081</th>\n",
       "      <td>4608</td>\n",
       "      <td>1038</td>\n",
       "      <td>2019-03-16 18:41:12.642</td>\n",
       "      <td>2019-03-16 18:58:31.199</td>\n",
       "      <td>73</td>\n",
       "      <td>Pierce St at Haight St</td>\n",
       "      <td>37.771793</td>\n",
       "      <td>-122.433708</td>\n",
       "      <td>13</td>\n",
       "      <td>Commercial St at Montgomery St</td>\n",
       "      <td>37.794231</td>\n",
       "      <td>-122.402923</td>\n",
       "      <td>Subscriber</td>\n",
       "      <td>No</td>\n",
       "      <td>Female</td>\n",
       "      <td>1978</td>\n",
       "      <td>17.300000</td>\n",
       "      <td>41</td>\n",
       "      <td>3</td>\n",
       "    </tr>\n",
       "  </tbody>\n",
       "</table>\n",
       "</div>"
      ],
      "text/plain": [
       "         bike_id  duration_sec              start_time  \\\n",
       "2778461      869           364 2018-10-03 18:40:31.627   \n",
       "1524670      247           287 2018-05-29 16:37:25.374   \n",
       "2207559     2665           555 2019-01-09 08:19:53.937   \n",
       "1254959     3988           618 2018-06-02 16:45:56.100   \n",
       "1389081     4608          1038 2019-03-16 18:41:12.642   \n",
       "\n",
       "                       end_time  start_station_id  \\\n",
       "2778461 2018-10-03 18:46:35.940               160   \n",
       "1524670 2018-05-29 16:42:13.229                16   \n",
       "2207559 2019-01-09 08:29:09.476                16   \n",
       "1254959 2018-06-02 16:56:14.846               336   \n",
       "1389081 2019-03-16 18:58:31.199                73   \n",
       "\n",
       "                  start_station_name  start_station_latitude  \\\n",
       "2778461    West Oakland BART Station               37.805318   \n",
       "1524670      Steuart St at Market St               37.794130   \n",
       "2207559      Steuart St at Market St               37.794130   \n",
       "1254959  Potrero Ave and Mariposa St               37.763281   \n",
       "1389081       Pierce St at Haight St               37.771793   \n",
       "\n",
       "         start_station_longitude  end_station_id  \\\n",
       "2778461              -122.294837             218   \n",
       "1524670              -122.394430              28   \n",
       "2207559              -122.394430              50   \n",
       "1254959              -122.407377             119   \n",
       "1389081              -122.433708              13   \n",
       "\n",
       "                       end_station_name  end_station_latitude  \\\n",
       "2778461                  DeFremery Park             37.812331   \n",
       "1524670    The Embarcadero at Bryant St             37.787168   \n",
       "2207559           2nd St at Townsend St             37.780526   \n",
       "1254959               18th St at Noe St             37.761047   \n",
       "1389081  Commercial St at Montgomery St             37.794231   \n",
       "\n",
       "         end_station_longitude   user_type bike_share_for_all_trip  \\\n",
       "2778461            -122.285171  Subscriber                      No   \n",
       "1524670            -122.388098  Subscriber                      No   \n",
       "2207559            -122.390288  Subscriber                      No   \n",
       "1254959            -122.432642  Subscriber                      No   \n",
       "1389081            -122.402923  Subscriber                      No   \n",
       "\n",
       "        member_gender  member_birth_year  duration_min  age  month_of_year  \n",
       "2778461          Male               1981      6.066667   38             10  \n",
       "1524670          Male               1965      4.783333   54              5  \n",
       "2207559          Male               1970      9.250000   49              1  \n",
       "1254959          Male               1971     10.300000   48              6  \n",
       "1389081        Female               1978     17.300000   41              3  "
      ]
     },
     "execution_count": 154,
     "metadata": {},
     "output_type": "execute_result"
    }
   ],
   "source": [
    "df.sample(5)"
   ]
  },
  {
   "cell_type": "markdown",
   "metadata": {},
   "source": [
    "#### Count of trips by month of the year"
   ]
  },
  {
   "cell_type": "code",
   "execution_count": 155,
   "metadata": {
    "scrolled": false
   },
   "outputs": [
    {
     "data": {
      "image/png": "[encoded data removed]",
      "text/plain": [
       "<Figure size 432x288 with 1 Axes>"
      ]
     },
     "metadata": {
      "needs_background": "light"
     },
     "output_type": "display_data"
    }
   ],
   "source": [
    "sns.countplot(data = df, x = 'month_of_year');"
   ]
  },
  {
   "cell_type": "markdown",
   "metadata": {},
   "source": [
    "#### Insight:\n",
    " - This is not what I expected to find, the most popular months for rides are some of the coldest months of the year. There aren't large temperature swings between Summer and Winter in SF, however I would not expect 1) such a large difference between seasons, and 2) despite temperatures being similar it is technically a bit warmer and nicer out during those summer months, so shouldn't they be at least a little bit more popular in terms of number of rides? Instead, June, July and August are the 3 of the 5 least popular months.\n",
    "\n",
    "**What happened here? Check the company website, and check the news for any major changes that took place. Additionally, we collected data for half of 2017, all of 2018, and half of 2019. 2 full years were collected in total, however if data from the first half of each year comes from 2018 and 2019, while the data for the second half of each year from 2017 and 2018, any changes in product offering could and user counts could heavily skew this plot.**\n",
    "\n",
    " - E-bikes were offered starting in April 2018, so I would expect a spike to begin after the e-bikes are released and remain relatively high over the summer due to the existence of e-bikes paired with better weather. However, this plot shows the beginning of the spike in March, which does not fit my above timeline. This could be skewed because in 2017 SF bikeshare was less popular and in 2019 much more popular. As a result, there was technically data collected twice for all months of the year but the existence of new subscription options, e-bikes, and increasing popularity would cause the months who's second set of data comes from 2019 (Jan-May) to skew our data towards those months. So this plot shows ridership being skewed towards those months, when in reality ridership is heavily skewed towards year, aka 2019.\n",
    "\n",
    "Let's plot the above data again, but separate it into separate years. This should help us to still understand seasonal trends despite the spike in ridership due to e-bikes and popularity.\n",
    "\n",
    "Let's remove 2017 and 2019 data to focus on a single, entire year of data collection. We should look for general seasonality trends, while being aware of the new e-bikes being offered starting in April of 2018."
   ]
  },
  {
   "cell_type": "markdown",
   "metadata": {},
   "source": [
    "#### Code"
   ]
  },
  {
   "cell_type": "code",
   "execution_count": 156,
   "metadata": {},
   "outputs": [],
   "source": [
    "# Create new column for year\n",
    "df['year'] = df['start_time'].dt.year"
   ]
  },
  {
   "cell_type": "markdown",
   "metadata": {},
   "source": [
    "#### Test"
   ]
  },
  {
   "cell_type": "code",
   "execution_count": 157,
   "metadata": {
    "scrolled": true
   },
   "outputs": [
    {
     "data": {
      "text/html": [
       "<div>\n",
       "<style scoped>\n",
       "    .dataframe tbody tr th:only-of-type {\n",
       "        vertical-align: middle;\n",
       "    }\n",
       "\n",
       "    .dataframe tbody tr th {\n",
       "        vertical-align: top;\n",
       "    }\n",
       "\n",
       "    .dataframe thead th {\n",
       "        text-align: right;\n",
       "    }\n",
       "</style>\n",
       "<table border=\"1\" class=\"dataframe\">\n",
       "  <thead>\n",
       "    <tr style=\"text-align: right;\">\n",
       "      <th></th>\n",
       "      <th>bike_id</th>\n",
       "      <th>duration_sec</th>\n",
       "      <th>start_time</th>\n",
       "      <th>end_time</th>\n",
       "      <th>start_station_id</th>\n",
       "      <th>start_station_name</th>\n",
       "      <th>start_station_latitude</th>\n",
       "      <th>start_station_longitude</th>\n",
       "      <th>end_station_id</th>\n",
       "      <th>end_station_name</th>\n",
       "      <th>end_station_latitude</th>\n",
       "      <th>end_station_longitude</th>\n",
       "      <th>user_type</th>\n",
       "      <th>bike_share_for_all_trip</th>\n",
       "      <th>member_gender</th>\n",
       "      <th>member_birth_year</th>\n",
       "      <th>duration_min</th>\n",
       "      <th>age</th>\n",
       "      <th>month_of_year</th>\n",
       "      <th>year</th>\n",
       "    </tr>\n",
       "  </thead>\n",
       "  <tbody>\n",
       "    <tr>\n",
       "      <th>1836899</th>\n",
       "      <td>2116</td>\n",
       "      <td>651</td>\n",
       "      <td>2018-01-22 06:53:21.113</td>\n",
       "      <td>2018-01-22 07:04:12.709</td>\n",
       "      <td>24</td>\n",
       "      <td>Spear St at Folsom St</td>\n",
       "      <td>37.789677</td>\n",
       "      <td>-122.390428</td>\n",
       "      <td>30</td>\n",
       "      <td>San Francisco Caltrain (Townsend St at 4th St)</td>\n",
       "      <td>37.776598</td>\n",
       "      <td>-122.395282</td>\n",
       "      <td>Subscriber</td>\n",
       "      <td>No</td>\n",
       "      <td>Male</td>\n",
       "      <td>1990</td>\n",
       "      <td>10.850000</td>\n",
       "      <td>29</td>\n",
       "      <td>1</td>\n",
       "      <td>2018</td>\n",
       "    </tr>\n",
       "    <tr>\n",
       "      <th>2158630</th>\n",
       "      <td>4940</td>\n",
       "      <td>310</td>\n",
       "      <td>2019-01-18 10:43:05.744</td>\n",
       "      <td>2019-01-18 10:48:15.914</td>\n",
       "      <td>112</td>\n",
       "      <td>Harrison St at 17th St</td>\n",
       "      <td>37.763847</td>\n",
       "      <td>-122.413004</td>\n",
       "      <td>144</td>\n",
       "      <td>Precita Park</td>\n",
       "      <td>37.747300</td>\n",
       "      <td>-122.411403</td>\n",
       "      <td>Subscriber</td>\n",
       "      <td>No</td>\n",
       "      <td>Male</td>\n",
       "      <td>1993</td>\n",
       "      <td>5.166667</td>\n",
       "      <td>26</td>\n",
       "      <td>1</td>\n",
       "      <td>2019</td>\n",
       "    </tr>\n",
       "    <tr>\n",
       "      <th>3109561</th>\n",
       "      <td>5194</td>\n",
       "      <td>202</td>\n",
       "      <td>2019-02-16 10:18:17.612</td>\n",
       "      <td>2019-02-16 10:21:40.386</td>\n",
       "      <td>200</td>\n",
       "      <td>2nd Ave at E 18th St</td>\n",
       "      <td>37.800214</td>\n",
       "      <td>-122.253810</td>\n",
       "      <td>197</td>\n",
       "      <td>El Embarcadero at Grand Ave</td>\n",
       "      <td>37.808848</td>\n",
       "      <td>-122.249680</td>\n",
       "      <td>Subscriber</td>\n",
       "      <td>Yes</td>\n",
       "      <td>Male</td>\n",
       "      <td>1979</td>\n",
       "      <td>3.366667</td>\n",
       "      <td>40</td>\n",
       "      <td>2</td>\n",
       "      <td>2019</td>\n",
       "    </tr>\n",
       "    <tr>\n",
       "      <th>1509207</th>\n",
       "      <td>123</td>\n",
       "      <td>2017</td>\n",
       "      <td>2018-05-31 20:12:37.581</td>\n",
       "      <td>2018-05-31 20:46:14.763</td>\n",
       "      <td>301</td>\n",
       "      <td>Willow St at Vine St</td>\n",
       "      <td>37.318450</td>\n",
       "      <td>-121.883172</td>\n",
       "      <td>301</td>\n",
       "      <td>Willow St at Vine St</td>\n",
       "      <td>37.318450</td>\n",
       "      <td>-121.883172</td>\n",
       "      <td>Customer</td>\n",
       "      <td>No</td>\n",
       "      <td>Male</td>\n",
       "      <td>1983</td>\n",
       "      <td>33.616667</td>\n",
       "      <td>36</td>\n",
       "      <td>5</td>\n",
       "      <td>2018</td>\n",
       "    </tr>\n",
       "    <tr>\n",
       "      <th>1564434</th>\n",
       "      <td>388</td>\n",
       "      <td>785</td>\n",
       "      <td>2018-05-21 17:18:32.569</td>\n",
       "      <td>2018-05-21 17:31:37.607</td>\n",
       "      <td>350</td>\n",
       "      <td>8th St at Brannan St</td>\n",
       "      <td>37.771431</td>\n",
       "      <td>-122.405787</td>\n",
       "      <td>58</td>\n",
       "      <td>Market St at 10th St</td>\n",
       "      <td>37.776619</td>\n",
       "      <td>-122.417385</td>\n",
       "      <td>Subscriber</td>\n",
       "      <td>No</td>\n",
       "      <td>Female</td>\n",
       "      <td>1997</td>\n",
       "      <td>13.083333</td>\n",
       "      <td>22</td>\n",
       "      <td>5</td>\n",
       "      <td>2018</td>\n",
       "    </tr>\n",
       "  </tbody>\n",
       "</table>\n",
       "</div>"
      ],
      "text/plain": [
       "         bike_id  duration_sec              start_time  \\\n",
       "1836899     2116           651 2018-01-22 06:53:21.113   \n",
       "2158630     4940           310 2019-01-18 10:43:05.744   \n",
       "3109561     5194           202 2019-02-16 10:18:17.612   \n",
       "1509207      123          2017 2018-05-31 20:12:37.581   \n",
       "1564434      388           785 2018-05-21 17:18:32.569   \n",
       "\n",
       "                       end_time  start_station_id      start_station_name  \\\n",
       "1836899 2018-01-22 07:04:12.709                24   Spear St at Folsom St   \n",
       "2158630 2019-01-18 10:48:15.914               112  Harrison St at 17th St   \n",
       "3109561 2019-02-16 10:21:40.386               200    2nd Ave at E 18th St   \n",
       "1509207 2018-05-31 20:46:14.763               301    Willow St at Vine St   \n",
       "1564434 2018-05-21 17:31:37.607               350    8th St at Brannan St   \n",
       "\n",
       "         start_station_latitude  start_station_longitude  end_station_id  \\\n",
       "1836899               37.789677              -122.390428              30   \n",
       "2158630               37.763847              -122.413004             144   \n",
       "3109561               37.800214              -122.253810             197   \n",
       "1509207               37.318450              -121.883172             301   \n",
       "1564434               37.771431              -122.405787              58   \n",
       "\n",
       "                                       end_station_name  end_station_latitude  \\\n",
       "1836899  San Francisco Caltrain (Townsend St at 4th St)             37.776598   \n",
       "2158630                                    Precita Park             37.747300   \n",
       "3109561                     El Embarcadero at Grand Ave             37.808848   \n",
       "1509207                            Willow St at Vine St             37.318450   \n",
       "1564434                            Market St at 10th St             37.776619   \n",
       "\n",
       "         end_station_longitude   user_type bike_share_for_all_trip  \\\n",
       "1836899            -122.395282  Subscriber                      No   \n",
       "2158630            -122.411403  Subscriber                      No   \n",
       "3109561            -122.249680  Subscriber                     Yes   \n",
       "1509207            -121.883172    Customer                      No   \n",
       "1564434            -122.417385  Subscriber                      No   \n",
       "\n",
       "        member_gender  member_birth_year  duration_min  age  month_of_year  \\\n",
       "1836899          Male               1990     10.850000   29              1   \n",
       "2158630          Male               1993      5.166667   26              1   \n",
       "3109561          Male               1979      3.366667   40              2   \n",
       "1509207          Male               1983     33.616667   36              5   \n",
       "1564434        Female               1997     13.083333   22              5   \n",
       "\n",
       "         year  \n",
       "1836899  2018  \n",
       "2158630  2019  \n",
       "3109561  2019  \n",
       "1509207  2018  \n",
       "1564434  2018  "
      ]
     },
     "execution_count": 157,
     "metadata": {},
     "output_type": "execute_result"
    }
   ],
   "source": [
    "# Confirm accuracy\n",
    "df.sample(5)"
   ]
  },
  {
   "cell_type": "markdown",
   "metadata": {},
   "source": [
    "#### Define\n",
    "Create 3 separate DataFrames using .query(), don't use groupby to plot this because the separate DataFrames may be helful in the future"
   ]
  },
  {
   "cell_type": "markdown",
   "metadata": {},
   "source": [
    "#### Code"
   ]
  },
  {
   "cell_type": "code",
   "execution_count": 158,
   "metadata": {},
   "outputs": [],
   "source": [
    "# Copy df 3 times, one for each year\n",
    "df_2017 = df.copy()\n",
    "df_2018 = df.copy()\n",
    "df_2019 = df.copy()"
   ]
  },
  {
   "cell_type": "code",
   "execution_count": 159,
   "metadata": {},
   "outputs": [],
   "source": [
    "# Query to keep only records pertaining to each year\n",
    "df_2017 = df_2017.query('year == 2017')\n",
    "df_2018 = df_2018.query('year == 2018')\n",
    "df_2019 = df_2019.query('year == 2019')"
   ]
  },
  {
   "cell_type": "markdown",
   "metadata": {},
   "source": [
    "#### Test"
   ]
  },
  {
   "cell_type": "code",
   "execution_count": 162,
   "metadata": {
    "scrolled": false
   },
   "outputs": [
    {
     "name": "stdout",
     "output_type": "stream",
     "text": [
      "2017    452794\n",
      "Name: year, dtype: int64\n",
      "2018    1740680\n",
      "Name: year, dtype: int64\n",
      "2019    1002505\n",
      "Name: year, dtype: int64\n",
      "3195979\n"
     ]
    }
   ],
   "source": [
    "# Confirm success\n",
    "print(df_2017.year.value_counts())\n",
    "print(df_2018.year.value_counts())\n",
    "print(df_2019.year.value_counts())\n",
    "print(len(df))"
   ]
  },
  {
   "cell_type": "markdown",
   "metadata": {},
   "source": [
    "#### 2017 count of trips by month of the year"
   ]
  },
  {
   "cell_type": "code",
   "execution_count": 175,
   "metadata": {
    "scrolled": true
   },
   "outputs": [
    {
     "data": {
      "image/png": "[encoded data removed]",
      "text/plain": [
       "<Figure size 432x288 with 1 Axes>"
      ]
     },
     "metadata": {
      "needs_background": "light"
     },
     "output_type": "display_data"
    }
   ],
   "source": [
    "sns.countplot(data = df_2017, x = 'month_of_year');\n",
    "plt.title('2017')\n",
    "plt.ylim(0, 250000);"
   ]
  },
  {
   "cell_type": "markdown",
   "metadata": {},
   "source": [
    "#### Insight:\n",
    " - We see a slight seasonal trend from Oct to Dec, however this is not a reliable plot to gather insights as it includes the very first years of the program. The Ford GoBike program was launched in Jun 2017, therefore what wee see here is simply customers learning about the service and signing up to join."
   ]
  },
  {
   "cell_type": "markdown",
   "metadata": {},
   "source": [
    "#### 2018 count of trips by month of the year"
   ]
  },
  {
   "cell_type": "code",
   "execution_count": 176,
   "metadata": {
    "scrolled": true
   },
   "outputs": [
    {
     "data": {
      "image/png": "[encoded data removed]",
      "text/plain": [
       "<Figure size 432x288 with 1 Axes>"
      ]
     },
     "metadata": {
      "needs_background": "light"
     },
     "output_type": "display_data"
    }
   ],
   "source": [
    "sns.countplot(data = df_2018, x = 'month_of_year');\n",
    "plt.title('2018')\n",
    "plt.ylim(0, 250000);"
   ]
  },
  {
   "cell_type": "markdown",
   "metadata": {},
   "source": [
    "#### Insight:\n",
    "\n",
    "If we break down this plot using what we know from the above analysis regarding the initial plot, we can see multiple insights.\n",
    "\n",
    " - E-bikes were released in Apr 2018. We can't directly determine the amount of increase in rides from seasonality vs. e-bike availability from Apr to May, however I believe that the relatively small decrease from Oct to Nov shows us the impact of e-bikes on number of rides. This is because I would expect a much larger decrease between these months due to seasonal changes than what occured.\n",
    "\n",
    " - Despite the apparent spike in rides due to e-bikes (as well as a transition from Winter to Spring), we still see an expected seasonal trend. From Nov-Mar SF has very similary weather and if seasonality didn't play a role in the total number of rides, we would not see rides drop heavily as the weather begins to cool down in Noveber."
   ]
  },
  {
   "cell_type": "markdown",
   "metadata": {},
   "source": [
    "#### 2019 count of trips by month of the year"
   ]
  },
  {
   "cell_type": "code",
   "execution_count": 177,
   "metadata": {},
   "outputs": [
    {
     "data": {
      "image/png": "[encoded data removed]",
      "text/plain": [
       "<Figure size 432x288 with 1 Axes>"
      ]
     },
     "metadata": {
      "needs_background": "light"
     },
     "output_type": "display_data"
    }
   ],
   "source": [
    "sns.countplot(data = df_2019, x = 'month_of_year');\n",
    "plt.title('2019')\n",
    "plt.ylim(0, 250000);"
   ]
  },
  {
   "cell_type": "markdown",
   "metadata": {},
   "source": [
    "#### Insight:\n",
    "\n",
    "Why is there such a large decrease in ridership from Apr to May? There should be an increase due to seasonality like what we saw in 2018.\n",
    "\n",
    " - In Apr 2019, Ford GoBike was forced to take all e-bikes off the streets due to safety issues. Riders were frequently flipping over off of their bikes and getting injured when attempting to break. This explains the drop in total rides from Apr to May."
   ]
  },
  {
   "cell_type": "markdown",
   "metadata": {},
   "source": [
    "### User Type"
   ]
  },
  {
   "cell_type": "markdown",
   "metadata": {},
   "source": [
    "2 types:\n",
    " - Subscribers: members paying a monthly or annual fee\n",
    " - Customers: single-ride users"
   ]
  },
  {
   "cell_type": "markdown",
   "metadata": {},
   "source": [
    "#### Count of trips by user type"
   ]
  },
  {
   "cell_type": "code",
   "execution_count": 180,
   "metadata": {
    "scrolled": true
   },
   "outputs": [
    {
     "data": {
      "image/png": "[encoded data removed]",
      "text/plain": [
       "<Figure size 432x288 with 1 Axes>"
      ]
     },
     "metadata": {
      "needs_background": "light"
     },
     "output_type": "display_data"
    }
   ],
   "source": [
    "sns.countplot(data = df, x = 'user_type');"
   ]
  },
  {
   "cell_type": "code",
   "execution_count": 192,
   "metadata": {},
   "outputs": [
    {
     "data": {
      "text/plain": [
       "0.8866341111753238"
      ]
     },
     "execution_count": 192,
     "metadata": {},
     "output_type": "execute_result"
    }
   ],
   "source": [
    "# Proportion of trips by subscribers\n",
    "len(df.query('user_type == \"Subscriber\"'))/len(df)"
   ]
  },
  {
   "cell_type": "code",
   "execution_count": 193,
   "metadata": {},
   "outputs": [
    {
     "data": {
      "text/plain": [
       "0.11336588882467626"
      ]
     },
     "execution_count": 193,
     "metadata": {},
     "output_type": "execute_result"
    }
   ],
   "source": [
    "# Proportion of trips by customers\n",
    "len(df.query('user_type == \"Customer\"'))/len(df)"
   ]
  },
  {
   "cell_type": "markdown",
   "metadata": {},
   "source": [
    "#### Insight:\n",
    " - Subscribers make up the vast majority of rides, as expected (over 88% to be exact)"
   ]
  },
  {
   "cell_type": "markdown",
   "metadata": {},
   "source": [
    "## Save progress to csv file"
   ]
  },
  {
   "cell_type": "markdown",
   "metadata": {},
   "source": [
    "#### Save final version of the master dataset"
   ]
  },
  {
   "cell_type": "code",
   "execution_count": 194,
   "metadata": {},
   "outputs": [],
   "source": [
    "df.to_csv('/Users/mattames/Desktop/ford_gobike/all_bikeshare_datasets/cleaned_datasets/master-dataset-v4.csv', index=False)"
   ]
  },
  {
   "cell_type": "markdown",
   "metadata": {},
   "source": [
    "#### Save the filtered version of the master dataset separately, apply the filters decided upon from the above insights\n",
    " - Duration: Drop all rows with duration over 120 min\n",
    " - Age: Drop all rows with age greater than 85"
   ]
  },
  {
   "cell_type": "code",
   "execution_count": 196,
   "metadata": {},
   "outputs": [],
   "source": [
    "# Copy master dataset\n",
    "df_filtered = df.copy()"
   ]
  },
  {
   "cell_type": "code",
   "execution_count": 206,
   "metadata": {},
   "outputs": [],
   "source": [
    "# Filter for duration\n",
    "df_filtered = df_filtered.query('duration_min < 120.01')"
   ]
  },
  {
   "cell_type": "code",
   "execution_count": 209,
   "metadata": {},
   "outputs": [
    {
     "data": {
      "text/plain": [
       "count    3.181657e+06\n",
       "mean     1.132922e+01\n",
       "std      9.547962e+00\n",
       "min      1.016667e+00\n",
       "25%      5.733333e+00\n",
       "50%      9.016667e+00\n",
       "75%      1.386667e+01\n",
       "max      1.200000e+02\n",
       "Name: duration_min, dtype: float64"
      ]
     },
     "execution_count": 209,
     "metadata": {},
     "output_type": "execute_result"
    }
   ],
   "source": [
    "# Confirm duration filter\n",
    "df_filtered.duration_min.describe()"
   ]
  },
  {
   "cell_type": "code",
   "execution_count": 211,
   "metadata": {},
   "outputs": [],
   "source": [
    "# Filter for age\n",
    "df_filtered = df_filtered.query('age < 86')"
   ]
  },
  {
   "cell_type": "code",
   "execution_count": 212,
   "metadata": {},
   "outputs": [
    {
     "data": {
      "text/plain": [
       "85"
      ]
     },
     "execution_count": 212,
     "metadata": {},
     "output_type": "execute_result"
    }
   ],
   "source": [
    "# Confirm filter\n",
    "df_filtered.age.max()"
   ]
  },
  {
   "cell_type": "code",
   "execution_count": 214,
   "metadata": {},
   "outputs": [],
   "source": [
    "# Save to csv file\n",
    "df_filtered.to_csv('/Users/mattames/Desktop/ford_gobike/all_bikeshare_datasets/cleaned_datasets/filtered-dataset-v1.csv', index=False)"
   ]
  },
  {
   "cell_type": "code",
   "execution_count": null,
   "metadata": {},
   "outputs": [],
   "source": []
  },
  {
   "cell_type": "code",
   "execution_count": null,
   "metadata": {},
   "outputs": [],
   "source": []
  },
  {
   "cell_type": "code",
   "execution_count": null,
   "metadata": {},
   "outputs": [],
   "source": []
  },
  {
   "cell_type": "code",
   "execution_count": null,
   "metadata": {},
   "outputs": [],
   "source": []
  },
  {
   "cell_type": "code",
   "execution_count": null,
   "metadata": {},
   "outputs": [],
   "source": []
  },
  {
   "cell_type": "code",
   "execution_count": null,
   "metadata": {},
   "outputs": [],
   "source": []
  },
  {
   "cell_type": "code",
   "execution_count": null,
   "metadata": {},
   "outputs": [],
   "source": []
  },
  {
   "cell_type": "markdown",
   "metadata": {},
   "source": [
    "### Average trip duration by user type"
   ]
  },
  {
   "cell_type": "markdown",
   "metadata": {},
   "source": [
    "There is clearly a much larger number of of trips from subscribers than customers. What are the average trip durations of each of these 2 user types? If there is a much larger count of trips, does this mean there are more frequent short trips or simply the same durations for trips as customers but more trips in general?"
   ]
  },
  {
   "cell_type": "code",
   "execution_count": 37,
   "metadata": {},
   "outputs": [
    {
     "data": {
      "image/png": "[encoded data removed]",
      "text/plain": [
       "<Figure size 432x288 with 1 Axes>"
      ]
     },
     "metadata": {
      "needs_background": "light"
     },
     "output_type": "display_data"
    }
   ],
   "source": [
    "df.groupby(\"user_type\")['duration_min'].mean().plot(kind='bar');"
   ]
  },
  {
   "cell_type": "markdown",
   "metadata": {},
   "source": [
    "Customers appear to have a much higher average trip duration than subscribers.\n",
    "\n",
    "My initial thoughts after seeing the above 2 plots are that subscribers use Ford GoBike for practical, consistent use, such a daily commutes, while customers are using bikes for leisurely activity and to explore the city (maybe visitors from out of town).\n",
    "\n",
    "Let's see if the distributions of ride durations for subscribers and customers support this.\n",
    "\n",
    "Later in the analysis, we will also look into day of the week. I would expect leisurely rides F-Su and practical rides M-Th.\n",
    "\n",
    "#### Define\n",
    "Create subsets of the master dataset to help with subscriber and customer specific analysis."
   ]
  },
  {
   "cell_type": "markdown",
   "metadata": {},
   "source": [
    "#### Code"
   ]
  },
  {
   "cell_type": "code",
   "execution_count": 38,
   "metadata": {},
   "outputs": [],
   "source": [
    "df_subscriber = df.query('user_type == \"Subscriber\"')\n",
    "df_customer = df.query('user_type == \"Customer\"')"
   ]
  },
  {
   "cell_type": "markdown",
   "metadata": {},
   "source": [
    "#### Test"
   ]
  },
  {
   "cell_type": "code",
   "execution_count": 39,
   "metadata": {},
   "outputs": [
    {
     "data": {
      "text/plain": [
       "2833664"
      ]
     },
     "execution_count": 39,
     "metadata": {},
     "output_type": "execute_result"
    }
   ],
   "source": [
    "# Confirm subscriber df is proper length, over 2500000\n",
    "len(df_subscriber)"
   ]
  },
  {
   "cell_type": "code",
   "execution_count": 40,
   "metadata": {
    "scrolled": true
   },
   "outputs": [
    {
     "data": {
      "text/plain": [
       "362315"
      ]
     },
     "execution_count": 40,
     "metadata": {},
     "output_type": "execute_result"
    }
   ],
   "source": [
    "# Confirm customer df is proper length, over 350000\n",
    "len(df_customer)"
   ]
  },
  {
   "cell_type": "markdown",
   "metadata": {},
   "source": [
    "### Subscriber durations"
   ]
  },
  {
   "cell_type": "code",
   "execution_count": 41,
   "metadata": {
    "scrolled": true
   },
   "outputs": [
    {
     "data": {
      "image/png": "[encoded data removed]",
      "text/plain": [
       "<Figure size 432x288 with 1 Axes>"
      ]
     },
     "metadata": {
      "needs_background": "light"
     },
     "output_type": "display_data"
    }
   ],
   "source": [
    "bin_edges = np.arange(0, df['duration_min'].max()+1, 1)\n",
    "sns.distplot(df_subscriber['duration_min'], bins = bin_edges, kde = False,\n",
    "            hist_kws = {'alpha' : 1})\n",
    "plt.xlim((0,120));\n",
    "plt.ylim((0,250000));"
   ]
  },
  {
   "cell_type": "markdown",
   "metadata": {},
   "source": [
    "### Customer durations"
   ]
  },
  {
   "cell_type": "code",
   "execution_count": 42,
   "metadata": {},
   "outputs": [
    {
     "data": {
      "image/png": "[encoded data removed]",
      "text/plain": [
       "<Figure size 432x288 with 1 Axes>"
      ]
     },
     "metadata": {
      "needs_background": "light"
     },
     "output_type": "display_data"
    }
   ],
   "source": [
    "bin_edges = np.arange(0, df['duration_min'].max()+1, 1)\n",
    "sns.distplot(df_customer['duration_min'], bins = bin_edges, kde = False,\n",
    "            hist_kws = {'alpha' : 1})\n",
    "plt.xlim((0,120));\n",
    "plt.ylim((0,250000));"
   ]
  },
  {
   "cell_type": "markdown",
   "metadata": {},
   "source": [
    "### Plot these next to each other to better compare"
   ]
  },
  {
   "cell_type": "code",
   "execution_count": 43,
   "metadata": {},
   "outputs": [
    {
     "data": {
      "image/png": "[encoded data removed]",
      "text/plain": [
       "<Figure size 1080x360 with 2 Axes>"
      ]
     },
     "metadata": {
      "needs_background": "light"
     },
     "output_type": "display_data"
    }
   ],
   "source": [
    "plt.figure(figsize = [15, 5]) # larger figure size for subplots\n",
    "\n",
    "# Subscriber plot\n",
    "plt.subplot(1, 2, 1) # 1 row, 2 cols, subplot 1\n",
    "bin_edges = np.arange(0, df['duration_min'].max()+1, 1)\n",
    "sns.distplot(df_subscriber['duration_min'], bins = bin_edges, kde = False,\n",
    "            hist_kws = {'alpha' : 1})\n",
    "plt.title('Subscribers')\n",
    "plt.xlim((0,120));\n",
    "plt.ylim((0,250000));\n",
    "\n",
    "# Customer plot\n",
    "plt.subplot(1, 2, 2) # 1 row, 2 cols, subplot 2\n",
    "bin_edges = np.arange(0, df['duration_min'].max()+1, 1)\n",
    "sns.distplot(df_customer['duration_min'], bins = bin_edges, kde = False,\n",
    "            hist_kws = {'alpha' : 1})\n",
    "plt.title('Customers')\n",
    "plt.xlim((0,120));\n",
    "plt.ylim((0,250000));"
   ]
  },
  {
   "cell_type": "markdown",
   "metadata": {},
   "source": [
    "We can see that the two user types have relatively similar skews (skewed towards smaller values) and the more extreme peak for Subscribers could explain why their average is shorter, however this alone doesn't explain such a large difference. There also appear to be a much slower decrease in count for Customers as time increases. This could also explain the difference in average trip. It seems as though the height to width ratio of the distributions could mean the customer distribution has a much longer tail with a higher percentage of trips on the longer end. What if we drill down to analyze the tails of the distributions? I want to check the distributions for durations 50 min or longer."
   ]
  },
  {
   "cell_type": "markdown",
   "metadata": {},
   "source": [
    "### Zoom-in on tail of each distribution"
   ]
  },
  {
   "cell_type": "code",
   "execution_count": 44,
   "metadata": {
    "scrolled": true
   },
   "outputs": [
    {
     "data": {
      "image/png": "[encoded data removed]",
      "text/plain": [
       "<Figure size 1080x360 with 2 Axes>"
      ]
     },
     "metadata": {
      "needs_background": "light"
     },
     "output_type": "display_data"
    }
   ],
   "source": [
    "plt.figure(figsize = [15, 5]) # larger figure size for subplots\n",
    "\n",
    "# Subscriber plot\n",
    "plt.subplot(1, 2, 1) # 1 row, 2 cols, subplot 1\n",
    "bin_edges = np.arange(0, df['duration_min'].max()+1, 1)\n",
    "sns.distplot(df_subscriber['duration_min'], bins = bin_edges, kde = False,\n",
    "            hist_kws = {'alpha' : 1})\n",
    "plt.title('Subscribers')\n",
    "plt.xlim((50,120));\n",
    "plt.ylim((0,2000));\n",
    "\n",
    "# Customer plot\n",
    "plt.subplot(1, 2, 2) # 1 row, 2 cols, subplot 2\n",
    "bin_edges = np.arange(0, df['duration_min'].max()+1, 1)\n",
    "sns.distplot(df_customer['duration_min'], bins = bin_edges, kde = False,\n",
    "            hist_kws = {'alpha' : 1})\n",
    "plt.title('Customers')\n",
    "plt.xlim((50,120));\n",
    "plt.ylim((0,2000));"
   ]
  },
  {
   "cell_type": "markdown",
   "metadata": {},
   "source": [
    "The above plot makes it clear that the distribution of customer trip durations has a much longer and more gradual tail. This, paired with the higher peak for Subscribers and explains the large difference in average durations between Subscribers and Customers. The values shown in this plot also further support my claim that single-use customers are using the service for long distance city exploration, or are simply traveling at lower speeds due to the leisurely pace that someone would explore the city at.\n",
    "\n",
    "Now that we have looked into trip duration by user type, it is now time to look into the relationship between age and user type."
   ]
  },
  {
   "cell_type": "markdown",
   "metadata": {},
   "source": [
    "### Comparing age by user type"
   ]
  },
  {
   "cell_type": "code",
   "execution_count": 45,
   "metadata": {},
   "outputs": [
    {
     "data": {
      "image/png": "[encoded data removed]",
      "text/plain": [
       "<Figure size 432x288 with 1 Axes>"
      ]
     },
     "metadata": {
      "needs_background": "light"
     },
     "output_type": "display_data"
    }
   ],
   "source": [
    "df.groupby(\"user_type\")['age'].mean().plot(kind='bar');"
   ]
  },
  {
   "cell_type": "markdown",
   "metadata": {},
   "source": [
    "We can see that subscribers are a bit older on average than customers, however this appears to be a very small difference. No more than 3 years.\n",
    "\n",
    "Let's take a look at the distributions of ages for each user type to see if we can learn more."
   ]
  },
  {
   "cell_type": "markdown",
   "metadata": {},
   "source": [
    "### Distribution of ages by user type"
   ]
  },
  {
   "cell_type": "code",
   "execution_count": 46,
   "metadata": {},
   "outputs": [
    {
     "data": {
      "image/png": "[encoded data removed]",
      "text/plain": [
       "<Figure size 1080x360 with 2 Axes>"
      ]
     },
     "metadata": {
      "needs_background": "light"
     },
     "output_type": "display_data"
    }
   ],
   "source": [
    "plt.figure(figsize = [15, 5]) # larger figure size for subplots\n",
    "\n",
    "# Subscriber plot\n",
    "plt.subplot(1, 2, 1) # 1 row, 2 cols, subplot 1\n",
    "bin_edges = np.arange(0, df['age'].max()+1, 1)\n",
    "sns.distplot(df_subscriber['age'], bins = bin_edges, kde = False,\n",
    "            hist_kws = {'alpha' : 1})\n",
    "plt.title('Subscribers')\n",
    "plt.xlim((18,85));\n",
    "plt.ylim((0,160000));\n",
    "\n",
    "# Customer plot\n",
    "plt.subplot(1, 2, 2) # 1 row, 2 cols, subplot 2\n",
    "bin_edges = np.arange(0, df['age'].max()+1, 1)\n",
    "sns.distplot(df_customer['age'], bins = bin_edges, kde = False,\n",
    "            hist_kws = {'alpha' : 1})\n",
    "plt.title('Customers')\n",
    "plt.xlim((18,85));\n",
    "plt.ylim((0,160000));"
   ]
  },
  {
   "cell_type": "markdown",
   "metadata": {},
   "source": [
    "The above shows us that both customers and subscribers have very similar distributions with the majoirty around age 30 and customers have a very slight resurgence of rides for users around 50 years old."
   ]
  },
  {
   "cell_type": "markdown",
   "metadata": {},
   "source": [
    "### What is the total number of trips by month of the year for each user type during 2018?"
   ]
  },
  {
   "cell_type": "markdown",
   "metadata": {},
   "source": [
    "#### Define\n",
    "First, add month and year columns to the subscriber and customer datasets. Then remove all non-2018 rows."
   ]
  },
  {
   "cell_type": "markdown",
   "metadata": {},
   "source": [
    "#### Test"
   ]
  },
  {
   "cell_type": "code",
   "execution_count": 56,
   "metadata": {
    "scrolled": true
   },
   "outputs": [
    {
     "name": "stderr",
     "output_type": "stream",
     "text": [
      "/Users/mattames/anaconda3/lib/python3.7/site-packages/ipykernel_launcher.py:2: SettingWithCopyWarning: \n",
      "A value is trying to be set on a copy of a slice from a DataFrame.\n",
      "Try using .loc[row_indexer,col_indexer] = value instead\n",
      "\n",
      "See the caveats in the documentation: http://pandas.pydata.org/pandas-docs/stable/indexing.html#indexing-view-versus-copy\n",
      "  \n",
      "/Users/mattames/anaconda3/lib/python3.7/site-packages/ipykernel_launcher.py:3: SettingWithCopyWarning: \n",
      "A value is trying to be set on a copy of a slice from a DataFrame.\n",
      "Try using .loc[row_indexer,col_indexer] = value instead\n",
      "\n",
      "See the caveats in the documentation: http://pandas.pydata.org/pandas-docs/stable/indexing.html#indexing-view-versus-copy\n",
      "  This is separate from the ipykernel package so we can avoid doing imports until\n"
     ]
    }
   ],
   "source": [
    "# Add month column\n",
    "df_subscriber['month_of_year'] = df['start_time'].dt.month\n",
    "df_customer['month_of_year'] = df['start_time'].dt.month"
   ]
  },
  {
   "cell_type": "code",
   "execution_count": 57,
   "metadata": {
    "scrolled": true
   },
   "outputs": [
    {
     "name": "stderr",
     "output_type": "stream",
     "text": [
      "/Users/mattames/anaconda3/lib/python3.7/site-packages/ipykernel_launcher.py:2: SettingWithCopyWarning: \n",
      "A value is trying to be set on a copy of a slice from a DataFrame.\n",
      "Try using .loc[row_indexer,col_indexer] = value instead\n",
      "\n",
      "See the caveats in the documentation: http://pandas.pydata.org/pandas-docs/stable/indexing.html#indexing-view-versus-copy\n",
      "  \n",
      "/Users/mattames/anaconda3/lib/python3.7/site-packages/ipykernel_launcher.py:3: SettingWithCopyWarning: \n",
      "A value is trying to be set on a copy of a slice from a DataFrame.\n",
      "Try using .loc[row_indexer,col_indexer] = value instead\n",
      "\n",
      "See the caveats in the documentation: http://pandas.pydata.org/pandas-docs/stable/indexing.html#indexing-view-versus-copy\n",
      "  This is separate from the ipykernel package so we can avoid doing imports until\n"
     ]
    }
   ],
   "source": [
    "# Add year column\n",
    "df_subscriber['year'] = df_subscriber['start_time'].dt.year\n",
    "df_customer['year'] = df_customer['start_time'].dt.year"
   ]
  },
  {
   "cell_type": "code",
   "execution_count": 58,
   "metadata": {},
   "outputs": [],
   "source": [
    "# Select only 2018 data\n",
    "df_subscriber_2018 = df_subscriber.query('year == 2018')\n",
    "df_customer_2018 = df_customer.query('year == 2018')"
   ]
  },
  {
   "cell_type": "code",
   "execution_count": 59,
   "metadata": {},
   "outputs": [
    {
     "data": {
      "text/plain": [
       "1541624"
      ]
     },
     "execution_count": 59,
     "metadata": {},
     "output_type": "execute_result"
    }
   ],
   "source": [
    "len(df_subscriber_2018)"
   ]
  },
  {
   "cell_type": "code",
   "execution_count": 60,
   "metadata": {
    "scrolled": true
   },
   "outputs": [
    {
     "data": {
      "text/plain": [
       "199056"
      ]
     },
     "execution_count": 60,
     "metadata": {},
     "output_type": "execute_result"
    }
   ],
   "source": [
    "len(df_customer_2018)"
   ]
  },
  {
   "cell_type": "markdown",
   "metadata": {},
   "source": [
    "### Number of trips by month of the year for each user type in 2018"
   ]
  },
  {
   "cell_type": "code",
   "execution_count": 62,
   "metadata": {},
   "outputs": [
    {
     "data": {
      "image/png": "[encoded data removed]",
      "text/plain": [
       "<Figure size 1080x360 with 2 Axes>"
      ]
     },
     "metadata": {
      "needs_background": "light"
     },
     "output_type": "display_data"
    }
   ],
   "source": [
    "plt.figure(figsize = [15, 5]) # larger figure size for subplots\n",
    "\n",
    "# Subscriber plot\n",
    "plt.subplot(1, 2, 1) # 1 row, 2 cols, subplot 1\n",
    "sns.countplot(data = df_subscriber_2018, x ='month_of_year');\n",
    "plt.title('Subscribers 2018');\n",
    "\n",
    "# Customer plot\n",
    "plt.subplot(1, 2, 2) # 1 row, 2 cols, subplot 2\n",
    "sns.countplot(data = df_customer_2018, x ='month_of_year');\n",
    "plt.title('Customers 2018');"
   ]
  },
  {
   "cell_type": "markdown",
   "metadata": {},
   "source": [
    "As expected, I would think rides fluctuate the most due to weather conditions.\n",
    "\n",
    "The plot on the left for subscribers shows that there are indeed more rides during the fair and warm weather months, however the percentage decrease from summer to winter is much less, which could be an illustration of my belief that subscribers use the bikes for practicality.\n",
    "\n",
    "When looking at all customers all together regardless of subscription type, I attributed the smaller percent decrease from summer to winter versus the larger percent increase from winter to summer to the e-bikes. However when we separate the ...\n",
    "\n",
    "The plot on the right shows that there are also more rides in the summer, but a larger percent decrease in the winter. This not only lines up with warmer weather in the summer when people are more likely to take leisurely rides, but it also supports the belief that many single-use customers are visitors from out of town because the most popular months for travel in the US are indeed the summer months.\n",
    "\n",
    "Additionally, the trend for total trip counts regardless of user type more accurately reflect the subscribers trend because of how many more subscribers there are (note the axis labels, subscribers y-axis extends to over 160000 while the customers y-axis extends to only 25000)."
   ]
  },
  {
   "cell_type": "markdown",
   "metadata": {},
   "source": [
    "# BECAUSE WE ALREADY KNOW THAT SUBSCRIBERS HAVE A TON MORE RIDES THAN CUSTOMERS AND WE WANT TO KNOW THE TRENDS WITHIN EACH GROUP, PLOT THIS DATA BASED ON PERCENT OF TOTAL. THIS WILL PROVIDE A MORE CLEAR IDEA OF HOW EACH GROUPS RIDE HABITS CHANGE OVER THE COURSE OF A YEAR. USING TOTALS LIKE I DID ABOVE PLACES THE PLOTS ON VERY DIFFERENT Y-AXIS LIMITS WHICH COULD LEAVE TO ME REACHING A FALSE CONCLUSION."
   ]
  },
  {
   "cell_type": "markdown",
   "metadata": {},
   "source": [
    "## Save all datasets so the final presentation can be completed in a separate Jupyter Notebook"
   ]
  },
  {
   "cell_type": "code",
   "execution_count": null,
   "metadata": {},
   "outputs": [],
   "source": [
    "df.to_csv('df.csv', index=False)\n",
    "df_subscriber.to_csv('df_subscriber.csv', index=False)\n",
    "df_customer.to_csv('df_customer.csv', index=False)\n",
    "df_2018.to_csv('df_2018.csv', index=False)\n",
    "df_subscriber_2018.to_csv('df_subscriber_2018.csv', index=False)\n",
    "df_customer_2018.to_csv('df_customer_2018.csv', index=False)"
   ]
  }
 ],
 "metadata": {
  "kernelspec": {
   "display_name": "Python 3",
   "language": "python",
   "name": "python3"
  },
  "language_info": {
   "codemirror_mode": {
    "name": "ipython",
    "version": 3
   },
   "file_extension": ".py",
   "mimetype": "text/x-python",
   "name": "python",
   "nbconvert_exporter": "python",
   "pygments_lexer": "ipython3",
   "version": "3.7.1"
  }
 },
 "nbformat": 4,
 "nbformat_minor": 2
}
